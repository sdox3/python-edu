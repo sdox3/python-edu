{
 "cells": [
  {
   "cell_type": "markdown",
   "metadata": {},
   "source": [
    "### for문\n",
    "\n",
    "1. 기본구조\n",
    "\n",
    ">for 변수 in [list/tuple/string] :<br>\n",
    "    수행할 문장1..<br>\n",
    "    수행할 문장2..<br>\n",
    "\n",
    "<img src='./images/09.제어문_for_01.PNG' hight = '500' width ='500'>\n",
    "<img src='./images/09.제어문_for_02.PNG' hight = '500' width ='500'>"
   ]
  },
  {
   "cell_type": "markdown",
   "metadata": {},
   "source": [
    "#### for문과 range() 함수\n",
    "\n",
    "<code>range()</code> 함수는 숫자리스트를 자동으로 만들어주는 함수이다.\n",
    "\n",
    "* range(stop) : 0~stop까지의 숫자를 가진 list를 생성\n",
    "* range(start, stop) : start부터 stop까지 숫자\n",
    "* range(start, stop, step) : 스텝수 만큼 숫자를 늘림\n",
    "* step default = 1"
   ]
  },
  {
   "cell_type": "code",
   "execution_count": 22,
   "metadata": {},
   "outputs": [
    {
     "name": "stdout",
     "output_type": "stream",
     "text": [
      "0,1,2,3,4,5,6,7,8,9,\n",
      "1,2,3,4,5,6,7,8,9,10,\n",
      "1,3,5,7,9,\n",
      "166834\n"
     ]
    }
   ],
   "source": [
    "for i in range(10):\n",
    "    print(i, end =',') \n",
    "print()\n",
    "for i in range(1,11):\n",
    "    print(i, end =',')\n",
    "print()\n",
    "for i in range(1,11,2):\n",
    "    print(i, end =',')\n",
    "print()\n",
    "\n",
    "sum = 0\n",
    "for i in range(0,1001,3) :\n",
    "    if i == 0 :\n",
    "        sum += 1\n",
    "    else :\n",
    "        sum += i\n",
    "print(sum)\n"
   ]
  },
  {
   "cell_type": "code",
   "execution_count": 6,
   "metadata": {},
   "outputs": [
    {
     "name": "stdout",
     "output_type": "stream",
     "text": [
      "55\n",
      "166833\n"
     ]
    }
   ],
   "source": [
    "# 1. for()\n",
    "# 1~10 까지 합\n",
    "\n",
    "sum =1+2+3+4+5+6+7+8+9+10\n",
    "print(sum)\n",
    "\n",
    "# 1~1000까지 3의 배수 합\n",
    "\n",
    "sum = 0\n",
    "for i in range(0,1001,3) :\n",
    "        sum += i\n",
    "print(sum)\n"
   ]
  },
  {
   "cell_type": "code",
   "execution_count": 9,
   "metadata": {},
   "outputs": [
    {
     "name": "stdout",
     "output_type": "stream",
     "text": [
      "숫자를 입력하세요10\n",
      "<class 'str'>\n",
      "<class 'int'>\n"
     ]
    }
   ],
   "source": [
    "# input()함수 : 외부(키보드)에서 값을 입력받은 후 입력값을 리턴하는 함수\n",
    "# input()함수는 오직 문자열만 리턴해준다. 숫자로 입력해도 문자열로 간주한다.\n",
    "# 리턴된 값을 숫자로 사용하려면 숫자로 변환해 주는 함수 int()를 사용한다.\n",
    "value = input('숫자를 입력하세요')\n",
    "print(type(value))\n",
    "value = int(value)\n",
    "print(type(value))"
   ]
  },
  {
   "cell_type": "code",
   "execution_count": 11,
   "metadata": {},
   "outputs": [
    {
     "name": "stdout",
     "output_type": "stream",
     "text": [
      "숫자를 입력하세요1000\n",
      "1부터 1000까지의 5의 배수의 합은 100500 입니다\n"
     ]
    }
   ],
   "source": [
    "# 실습문제\n",
    "# 1000을 입력받아서 1~1000까지 5의 배수의 합계를 구하시오\n",
    "\n",
    "value = int(input('숫자를 입력하세요'))\n",
    "sum = 0\n",
    "for i in range(0,value+1,5) :\n",
    "        sum += i    \n",
    "\n",
    "print('1부터 %d까지의 5의 배수의 합은 %d 입니다'%(value, sum))"
   ]
  },
  {
   "cell_type": "code",
   "execution_count": 33,
   "metadata": {},
   "outputs": [
    {
     "name": "stdout",
     "output_type": "stream",
     "text": [
      "java\n",
      "javascript\n",
      "windows\n",
      "javascript의 길이는 10입니다\n",
      "windows의 길이는 7입니다\n",
      "['javascript', 'windows']\n"
     ]
    }
   ],
   "source": [
    "# for문 인덱싱, 슬라이싱\n",
    "\n",
    "words = ['java','javascript','windows']\n",
    "for word in words :\n",
    "    print(word)\n",
    "\n",
    "# 단어의 길이가 6자리 이상인 단어만 출력하세요! \n",
    "for word in words[:3] : \n",
    "    if len(word) >= 6 :\n",
    "        print(word + '의 길이는 %d입니다'%len(word))\n",
    "a = []\n",
    "i = 0\n",
    "# 6자리 단어로 리스트를 생성\n",
    "for word in words : \n",
    "    if len(word) >= 6 :\n",
    "        a.append(word)\n",
    "print(a)"
   ]
  },
  {
   "cell_type": "code",
   "execution_count": 34,
   "metadata": {},
   "outputs": [
    {
     "name": "stdout",
     "output_type": "stream",
     "text": [
      "0 javascript\n",
      "1 windows\n"
     ]
    }
   ],
   "source": [
    "# len()과 range() 같이 사용\n",
    "words = ['java','javascript','windows']\n",
    "for  i in range(len(a)) :\n",
    "    print(i,a[i])\n",
    "    "
   ]
  },
  {
   "cell_type": "code",
   "execution_count": 41,
   "metadata": {},
   "outputs": [
    {
     "name": "stdout",
     "output_type": "stream",
     "text": [
      "0 안\n",
      "1 녕\n",
      "2 하\n",
      "3 세\n",
      "4 요\n",
      "8  \n",
      "9 파\n",
      "10 이\n",
      "11 썬\n",
      "[3, 6, 9]\n"
     ]
    }
   ],
   "source": [
    "x = '안녕하세요!!! 파이썬!!!'\n",
    "for i in range(len(x)):\n",
    "    if x[i] != '!' :\n",
    "        print(i,x[i])\n",
    "        \n",
    "# range() 함수는 임시 list 자료를 생성할 떄 종종 사용된다.\n",
    "\n",
    "print(list(range(3,10,3)))"
   ]
  },
  {
   "cell_type": "code",
   "execution_count": 44,
   "metadata": {},
   "outputs": [
    {
     "name": "stdout",
     "output_type": "stream",
     "text": [
      "몇 단을 출력할 지 입력해주세요 : 8\n",
      "8 * 1 =  8\n",
      "8 * 2 = 16\n",
      "8 * 3 = 24\n",
      "8 * 4 = 32\n",
      "8 * 5 = 40\n",
      "8 * 6 = 48\n",
      "8 * 7 = 56\n",
      "8 * 8 = 64\n",
      "8 * 9 = 72\n"
     ]
    }
   ],
   "source": [
    "# 실습문제\n",
    "# for문을 이용한 구구담 만들기\n",
    "# 사용자가 구구단의 특정의 단을 입력 받아서 해당 되는 단을 출력\n",
    "a = int(input('몇 단을 출력할 지 입력해주세요 : '))\n",
    "\n",
    "\n",
    "for j in range(1,10):\n",
    "    print('%d * %d = %2d'%(a,j,a*j))\n",
    "        "
   ]
  },
  {
   "cell_type": "code",
   "execution_count": 61,
   "metadata": {},
   "outputs": [
    {
     "name": "stdout",
     "output_type": "stream",
     "text": [
      "#  2단  ##  3단  ##  4단  ##  5단  ##  6단  ##  7단  ##  8단  ##  9단  #\n",
      "==========================================================================\n",
      "2*1 =  2 3*1 =  3 4*1 =  4 5*1 =  5 6*1 =  6 7*1 =  7 8*1 =  8 9*1 =  9 \n",
      "2*2 =  4 3*2 =  6 4*2 =  8 5*2 = 10 6*2 = 12 7*2 = 14 8*2 = 16 9*2 = 18 \n",
      "2*3 =  6 3*3 =  9 4*3 = 12 5*3 = 15 6*3 = 18 7*3 = 21 8*3 = 24 9*3 = 27 \n",
      "2*4 =  8 3*4 = 12 4*4 = 16 5*4 = 20 6*4 = 24 7*4 = 28 8*4 = 32 9*4 = 36 \n",
      "2*5 = 10 3*5 = 15 4*5 = 20 5*5 = 25 6*5 = 30 7*5 = 35 8*5 = 40 9*5 = 45 \n",
      "2*6 = 12 3*6 = 18 4*6 = 24 5*6 = 30 6*6 = 36 7*6 = 42 8*6 = 48 9*6 = 54 \n",
      "2*7 = 14 3*7 = 21 4*7 = 28 5*7 = 35 6*7 = 42 7*7 = 49 8*7 = 56 9*7 = 63 \n",
      "2*8 = 16 3*8 = 24 4*8 = 32 5*8 = 40 6*8 = 48 7*8 = 56 8*8 = 64 9*8 = 72 \n",
      "2*9 = 18 3*9 = 27 4*9 = 36 5*9 = 45 6*9 = 54 7*9 = 63 8*9 = 72 9*9 = 81 \n"
     ]
    }
   ],
   "source": [
    "# 중첩for문\n",
    "for i in range(2,10) :\n",
    "    print('#  %d단  #'%i, end = '')\n",
    "    if i == 9 :\n",
    "        print()\n",
    "print('==========================================================================')\n",
    "for i in range(1,10) :\n",
    "    for j in range(2,10) :\n",
    "        print('%d*%d = %2d '%(j,i,i*j), end ='')\n",
    "    print()\n",
    "\n",
    "# 선생님이 한거\n",
    "# gugudan = '' 하고 gugudan에 문자열을 붙여나감"
   ]
  },
  {
   "cell_type": "markdown",
   "metadata": {},
   "source": [
    "### List안에 for문\n",
    "\n",
    "1. list안에 한개의 for문이 있는 경우\n",
    "> [표현식 for 변수 in 반복자/리스트/튜플 if 조건]\n",
    "\n",
    "2. list안에 여러개의 for문이 있는 경우\n",
    "> [<br>표현식 for 변수 in 반복자/리스트/튜플 if 조건1<br>for 변수 in 반복자/리스트/튜플 if 조건2<br>....<br>for 변수 in 반복자/리스트/튜플 if 조건n<br>]"
   ]
  },
  {
   "cell_type": "code",
   "execution_count": 71,
   "metadata": {},
   "outputs": [
    {
     "name": "stdout",
     "output_type": "stream",
     "text": [
      "[1, 2, 3, 4, 5, 1, 2, 3, 4, 5, 1, 2, 3, 4, 5]\n",
      "[3, 6, 9, 12, 15]\n",
      "[3, 6, 9, 12, 15]\n",
      "[6, 12]\n"
     ]
    }
   ],
   "source": [
    "# 1. 리스트 안에 1개의 for문\n",
    "nums = [1,2,3,4,5]\n",
    "# nums의 각 요소에 3을 곱하고 싶음\n",
    "print(nums*3) # [3,6,9,12,15] 를 원함\n",
    "for i in range(len(nums)) :\n",
    "    nums[i] = nums[i]*3\n",
    "print(nums)\n",
    "\n",
    "# 1-1) list안에 조건문이 없는 for문\n",
    "nums = [1,2,3,4,5]\n",
    "result = [i*3 for i in nums] \n",
    "print(result)\n",
    "\n",
    "# 1-2) list안에 조건문이 있는 for문 : 짝수만 생성\n",
    "result = [i*3 for i in nums if i%2 == 0] \n",
    "print(result)\n"
   ]
  },
  {
   "cell_type": "code",
   "execution_count": 82,
   "metadata": {},
   "outputs": [
    {
     "name": "stdout",
     "output_type": "stream",
     "text": [
      "[2, 4, 6, 8, 10, 12, 14, 16, 18, 3, 6, 9, 12, 15, 18, 21, 24, 27, 4, 8, 12, 16, 20, 24, 28, 32, 36, 5, 10, 15, 20, 25, 30, 35, 40, 45, 6, 12, 18, 24, 30, 36, 42, 48, 54, 7, 14, 21, 28, 35, 42, 49, 56, 63, 8, 16, 24, 32, 40, 48, 56, 64, 72, 9, 18, 27, 36, 45, 54, 63, 72, 81]\n",
      "\n",
      "[4, 8, 12, 16, 8, 16, 24, 32, 12, 24, 36, 48, 16, 32, 48, 64]\n"
     ]
    }
   ],
   "source": [
    "# 2. 리스트 안에 다수의 for문 (중첩for문)\n",
    "# 구구단의 결과를 한개의 list에 저장하기\n",
    "result = [i*j for i in range(2, 10) \n",
    "              for j in range(1, 10)]\n",
    "print(result)\n",
    "print()\n",
    "\n",
    "# 구구단의 결과를 한개의 list에 저장하기 if\n",
    "result = [i*j for i in range(2, 10) if i%2 == 0\n",
    "              for j in range(1, 10) if j%2 == 0]\n",
    "print(result)"
   ]
  },
  {
   "cell_type": "markdown",
   "metadata": {},
   "source": [
    "### 연습문제"
   ]
  },
  {
   "cell_type": "code",
   "execution_count": 83,
   "metadata": {},
   "outputs": [
    {
     "name": "stdout",
     "output_type": "stream",
     "text": [
      "1 2 3 4 5 6 7 8 9 10 11 12 13 14 15 16 17 18 19 20 21 22 23 24 25 26 27 28 29 30 31 32 33 34 35 36 37 38 39 40 41 42 43 44 45 46 47 48 49 50 51 52 53 54 55 56 57 58 59 60 61 62 63 64 65 66 67 68 69 70 71 72 73 74 75 76 77 78 79 80 81 82 83 84 85 86 87 88 89 90 91 92 93 94 95 96 97 98 99 100 "
     ]
    }
   ],
   "source": [
    "# 문제1. 1~100까지의 숫자를 for문을 이용해 출력\n",
    "for i in range(1,101) : print('%d '%i, end ='')\n",
    "    \n"
   ]
  },
  {
   "cell_type": "code",
   "execution_count": 100,
   "metadata": {},
   "outputs": [
    {
     "name": "stdout",
     "output_type": "stream",
     "text": [
      "학급의 평균 = 79\n"
     ]
    }
   ],
   "source": [
    "# 문제 3. 학급의 평균점수 구하기\n",
    "a = [70,60,55,75,95,90,80,80,85,100]\n",
    "sum =0\n",
    "for i in range(len(a)) :\n",
    "    sum += a[i]\n",
    "\n",
    "print('학급의 평균 = %d'%(sum/len(a)))"
   ]
  },
  {
   "cell_type": "code",
   "execution_count": 132,
   "metadata": {},
   "outputs": [
    {
     "name": "stdout",
     "output_type": "stream",
     "text": [
      "{'A': 3, 'B': 3, 'O': 3, 'AB': 3}\n",
      "{'A': 3, 'B': 3, 'O': 3, 'AB': 3}\n"
     ]
    }
   ],
   "source": [
    "# 문제4. 혈액형별 학생수의 합계\n",
    "# ['A', 'B', 'A', 'O', 'AB', 'AB', 'O', 'A', 'B', 'O', 'B', 'AB']\n",
    "# 결과\n",
    "# {'A':3, 'B':3,'O':3, 'AB':3 }\n",
    "ad = ['A', 'B', 'A', 'O', 'AB', 'AB', 'O', 'A', 'B', 'O', 'B', 'AB']\n",
    "az = {'A':0,'B':0,'O':0,'AB':0}\n",
    "\n",
    "for i in range(len(ad)) :\n",
    "    if ad[i] == 'A' :\n",
    "        az['A'] +=1\n",
    "    elif ad[i] == 'B' :\n",
    "        az['B'] +=1\n",
    "    elif ad[i] == 'O' :\n",
    "        az['O'] +=1\n",
    "    else :\n",
    "        az['AB'] += 1\n",
    "\n",
    "print(az)\n",
    "\n",
    "ad = ['A', 'B', 'A', 'O', 'AB', 'AB', 'O', 'A', 'B', 'O', 'B', 'AB']\n",
    "az = {}\n",
    "\n",
    "for i in ad :\n",
    "    if i in az : # 조건문에서 in 문자열에 특정 문자가 있는지 비교하는 문자가 된다.\n",
    "        az[i] +=1\n",
    "    else :\n",
    "        az[i] = 1\n",
    "print(az)"
   ]
  },
  {
   "cell_type": "code",
   "execution_count": 105,
   "metadata": {},
   "outputs": [
    {
     "name": "stdout",
     "output_type": "stream",
     "text": [
      "[2, 6, 10]\n",
      "[2, 6, 10]\n"
     ]
    }
   ],
   "source": [
    "# 문제5. 주어진 코드를 리스트내포for문으로 변환하기\n",
    "numbers = [1, 2, 3, 4, 5]\n",
    "result = []\n",
    "for n in numbers:\n",
    "    if n % 2 == 1:\n",
    "        result.append(n*2)\n",
    "print(result)\n",
    "\n",
    "result = []\n",
    "result = [n*2 for n in numbers if n % 2 == 1]\n",
    "print(result)"
   ]
  },
  {
   "cell_type": "code",
   "execution_count": 123,
   "metadata": {},
   "outputs": [
    {
     "name": "stdout",
     "output_type": "stream",
     "text": [
      "Lf s t shrt, y nd pythn\n"
     ]
    }
   ],
   "source": [
    "# 문제6. 아래문장에서 모음('aeiou')을 제거 \n",
    "# Life is too short, you need python\n",
    "# 결과\n",
    "# Lf s t shrt, y nd pythn\n",
    "a ='Life is too short, you need python'\n",
    "b = ['a','e','i','o','u']\n",
    "for i in b :\n",
    "    a = a.replace(i,'')\n",
    "print(a)\n",
    "\n",
    "vowels = 'aeiou'\n",
    "sentense = 'Life is too short, you need python'\n",
    "\n",
    "''.join([a for a in sentense if a not in vowels])\n",
    "# .join = 리스트를 문자열로 변환하는 함수"
   ]
  },
  {
   "cell_type": "code",
   "execution_count": 120,
   "metadata": {},
   "outputs": [
    {
     "name": "stdout",
     "output_type": "stream",
     "text": [
      "1\n"
     ]
    }
   ],
   "source": []
  },
  {
   "cell_type": "code",
   "execution_count": null,
   "metadata": {},
   "outputs": [],
   "source": []
  }
 ],
 "metadata": {
  "kernelspec": {
   "display_name": "Python 3",
   "language": "python",
   "name": "python3"
  },
  "language_info": {
   "codemirror_mode": {
    "name": "ipython",
    "version": 3
   },
   "file_extension": ".py",
   "mimetype": "text/x-python",
   "name": "python",
   "nbconvert_exporter": "python",
   "pygments_lexer": "ipython3",
   "version": "3.7.4"
  }
 },
 "nbformat": 4,
 "nbformat_minor": 2
}
