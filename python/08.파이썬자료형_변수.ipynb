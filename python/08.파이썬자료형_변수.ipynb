{
 "cells": [
  {
   "cell_type": "markdown",
   "metadata": {},
   "source": [
    "### 변수\n",
    "\n",
    "변수란? 자료형의 값을 저장하는 메모리 공간을 말한다. 변수를 만드는 방법은 <code>변수명 = 값</code> 즉, 대입연산자(assigment)<code>=</code>을 사용한다. C나 Java처럼 변수의 자료형을 함께 사용한 필요는 없다. 파이썬에서는 변수에 저장된 값을 가지고 스스로 판단해서 자료형을 알아 낸다.\n",
    "\n",
    "파이썬에서 사용하는 변수는 <code>객체(Object)</code>를 가리키는 것이다. 즉, 파이썬의 모든 자료형은 모두 객체이다. 파이썬에서 숫자 3은 일반적으로 상수값이지만 파이썬에서 3은 정수형객체 이다.  예를 들어 print(type(3))의 결과는 <class 'int'>이다. 즉, 3은 int클래스 객체임을 알 수 있다."
   ]
  },
  {
   "cell_type": "code",
   "execution_count": 6,
   "metadata": {},
   "outputs": [
    {
     "name": "stdout",
     "output_type": "stream",
     "text": [
      "<class 'int'> <class 'str'> <class 'builtin_function_or_method'>\n",
      "프린트 함수\n",
      "<built-in function print>\n"
     ]
    }
   ],
   "source": [
    "# 1. 일반적인 방법\n",
    "\n",
    "a = 100\n",
    "b = \"문자열\"\n",
    "c = print\n",
    "print(type(a),type(b),type(c))\n",
    "c(\"프린트 함수\") # c라는 변수는 print함수로 저장되어 있음\n"
   ]
  },
  {
   "cell_type": "code",
   "execution_count": 15,
   "metadata": {},
   "outputs": [
    {
     "name": "stdout",
     "output_type": "stream",
     "text": [
      "1 2\n",
      "x y z\n",
      "x y z\n"
     ]
    }
   ],
   "source": [
    "# 2. 튜플로 변수를 만드는 방법\n",
    "\n",
    "a,b = (1,2) # 튜플로 변수의 값을 대입, 조건은 변수의 갯수와 값의 갯수가 동일\n",
    "# c,d =()  ValueError: not enough values to unpack (expected 2, got 0) \n",
    "print(a,b)\n",
    "(x,y,z) = ('x','y','z')\n",
    "print(x,y,z)\n",
    "l,d,r = ('x','y','z')\n",
    "print(l,d,r)"
   ]
  },
  {
   "cell_type": "code",
   "execution_count": 11,
   "metadata": {},
   "outputs": [
    {
     "name": "stdout",
     "output_type": "stream",
     "text": [
      "1 2\n"
     ]
    }
   ],
   "source": [
    "# 3. 리스트로 변수를 만드는 방법\n",
    "a,b = [1,2]\n",
    "# c,d = [] ValueError: not enough values to unpack (expected 2, got 0)\n",
    "print(a,b)"
   ]
  },
  {
   "cell_type": "code",
   "execution_count": 16,
   "metadata": {},
   "outputs": [
    {
     "name": "stdout",
     "output_type": "stream",
     "text": [
      "1 1 1 1\n"
     ]
    }
   ],
   "source": [
    "# 4. 한번에 여러개의 변수에 동일 값을 대입하는 방법\n",
    "a=b=c=d=1\n",
    "\n",
    "print(a,b,c,d)\n"
   ]
  },
  {
   "cell_type": "code",
   "execution_count": 19,
   "metadata": {},
   "outputs": [
    {
     "name": "stdout",
     "output_type": "stream",
     "text": [
      "10 20\n"
     ]
    }
   ],
   "source": [
    "# 5. 두개의 변수값을 swapping하는 방법\n",
    "a=20\n",
    "b= 10\n",
    "\n",
    "# a와 b 값을 변경\n",
    "a, b = b, a\n",
    "\n",
    "print(a,b)"
   ]
  },
  {
   "cell_type": "code",
   "execution_count": 28,
   "metadata": {},
   "outputs": [
    {
     "name": "stdout",
     "output_type": "stream",
     "text": [
      "[1, 2, 3] [1, 2, 3]\n",
      "2019788592904 2019788592904\n",
      "[4, 2, 3] [4, 2, 3]\n",
      "[1, 2, 3] [1, 2, 3]\n",
      "2019788592776 2019788970952\n",
      "[3, 2, 3] [1, 2, 3]\n",
      "[3, 2, 3] [3, 2, 3]\n",
      "2019788592776 2019788594312\n"
     ]
    }
   ],
   "source": [
    "# 6. 얕은 복사, 깊은 복사\n",
    "\n",
    "# 6-1) 얕은 복사 : 주소값만 복사하는 경우\n",
    "l1 = [1,2,3]\n",
    "l2 = l1\n",
    "print(l1,l2)\n",
    "print(id(l1),id(l2))\n",
    "l1[0] =4\n",
    "print(l1,l2)\n",
    "# 6-2) 깊은 복사 : 값을 복사하는 경우\n",
    "# a. 슬라이싱을 통해서 복사\n",
    "\n",
    "a = [1,2,3]\n",
    "b = a[:]\n",
    "print(a,b)\n",
    "print(id(a),id(b))\n",
    "a[0] =3\n",
    "print(a,b)\n",
    "\n",
    "# b. copy 모듈을 통해서 복사\n",
    "import copy\n",
    "\n",
    "c = copy.deepcopy(a)\n",
    "print(a,c)\n",
    "print(id(a),id(c))\n"
   ]
  },
  {
   "cell_type": "code",
   "execution_count": null,
   "metadata": {},
   "outputs": [],
   "source": []
  }
 ],
 "metadata": {
  "kernelspec": {
   "display_name": "Python 3",
   "language": "python",
   "name": "python3"
  },
  "language_info": {
   "codemirror_mode": {
    "name": "ipython",
    "version": 3
   },
   "file_extension": ".py",
   "mimetype": "text/x-python",
   "name": "python",
   "nbconvert_exporter": "python",
   "pygments_lexer": "ipython3",
   "version": "3.7.4"
  }
 },
 "nbformat": 4,
 "nbformat_minor": 2
}
