{
 "cells": [
  {
   "cell_type": "markdown",
   "metadata": {},
   "source": [
    "#### SQLite\n",
    "\n",
    "* 파일기반 소용량의 데이터베이스 시스템\n",
    "\n",
    "* 1. 공식사이트 : https://www.sqlite.org\n",
    " 2. 오프라인에서 작동해야하기 때문에 별도의 DB서버가 없어도 구동\n",
    " - EMbeded SQL DB엔진\n",
    " - 각 스마트폰 기기 내부에 저장된 DB를 사용\n",
    " - 표준 sql를 사용\n",
    " \n",
    " 3. 지원하지 않는 기능\n",
    " - https://www.sqlite.org/omitted.html\n",
    " - left join만 완벽히 지원, 뷰x, 트리거x\n",
    " - alter table 완벽지원 x\n",
    " - 권한의 지정, 해제 불가\n",
    " 4. SQLLite 클라이언트 Tool\n",
    " - SQLLite Expert Personal 64bit 버전 \n",
    " > sqllite3 모듈을 파이썬의 표준라이브러리이기 때문에 별도의 설치없이 사용가능"
   ]
  },
  {
   "cell_type": "code",
   "execution_count": null,
   "metadata": {},
   "outputs": [],
   "source": [
    "# 실습\n",
    "import sqlite3\n",
    "\n",
    "# 모듈버전 확인\n",
    "print(sqlite3.version)\n",
    "# DB버전 확인\n",
    "print(sqlite3.sqlite_version)"
   ]
  },
  {
   "cell_type": "markdown",
   "metadata": {},
   "source": [
    "#### 1. 테이블 생성"
   ]
  },
  {
   "cell_type": "code",
   "execution_count": 6,
   "metadata": {},
   "outputs": [],
   "source": [
    "def create_table():\n",
    "    # 1. dbconnection\n",
    "    # 해당폴더에 db가 없으면 커넥션할 때 자동으로 생성\n",
    "    \n",
    "    # sqlite의 경로는 전체경로를 전부 지정해줘야 한다.\n",
    "    conn = sqlite3.connect('D:/kim_seunghyek/data/db/my_book.db')\n",
    "    cursor = conn.cursor() # cursor : sql를 실행하는 객체\n",
    "    \n",
    "    # 테이블 생성\n",
    "    # 제목, 출판일, 출판사, 페이지수, 추천여부\n",
    "    cursor.execute('''\n",
    "    create table if not exists books(\n",
    "        title text,\n",
    "        published_date text,\n",
    "        publisher text,\n",
    "        pages integer,\n",
    "        recommand integer\n",
    "    )\n",
    "    \n",
    "    ''')\n",
    "    conn.commit()\n",
    "    conn.close()\n",
    "    \n",
    "create_table()"
   ]
  },
  {
   "cell_type": "markdown",
   "metadata": {},
   "source": [
    "#### 2. 데이터 입력"
   ]
  },
  {
   "cell_type": "code",
   "execution_count": 8,
   "metadata": {},
   "outputs": [],
   "source": [
    "# 1. 한건 입력\n",
    "def insert_table():\n",
    "    conn = sqlite3.connect('D:/kim_seunghyek/data/db/my_book.db')\n",
    "    cursor = conn.cursor()\n",
    "    \n",
    "    cursor.execute('insert into books values(\"JAVA\",\"2020-01-01\",\"한빛미디어\",584,10)')\n",
    "    conn.commit()\n",
    "    conn.close()\n",
    "\n",
    "insert_table()"
   ]
  },
  {
   "cell_type": "code",
   "execution_count": null,
   "metadata": {},
   "outputs": [],
   "source": [
    "# 2 .튜플로 입력\n",
    "# 2-1. 한건 입력\n",
    "\n",
    "def insert_table_01():\n",
    "    conn = sqlite3.connect('D:/kim_seunghyek/data/db/my_book.db')\n",
    "    cursor = conn.cursor()\n",
    "    \n",
    "    sql = 'insert into books values(?,?,?,?,?)'\n",
    "    cursor.execute(sql,('Python','2019-12-01','위키북스',500,20))\n",
    "    \n",
    "    conn.commit()\n",
    "    conn.close()\n",
    "    \n",
    "insert_table_01()"
   ]
  },
  {
   "cell_type": "code",
   "execution_count": 10,
   "metadata": {},
   "outputs": [],
   "source": [
    "# 2-2. 여러건 입력\n",
    "def insert_table_02():\n",
    "    conn = sqlite3.connect('D:/kim_seunghyek/data/db/my_book.db')\n",
    "    cursor = conn.cursor()\n",
    "    \n",
    "    # 입력 sql\n",
    "    sql = 'insert into books values(?,?,?,?,?)'\n",
    "  \n",
    "    # 입력할 튜플 리스트를 생성\n",
    "    books = [('BigData','2018-01-25','더조은',290,30),\n",
    "             ('Mont','2016-03-21','더한빛',490,40),\n",
    "             ('HD','2014-09-17','아마존',350,50),\n",
    "             ('R','2017-02-11','쿠팡',300,60)]\n",
    "    \n",
    "    # 3. 여러건 입력 : executemany()\n",
    "    cursor.executemany(sql,books)\n",
    "    conn.commit()\n",
    "    conn.close()\n",
    "    \n",
    "insert_table_02()"
   ]
  },
  {
   "cell_type": "markdown",
   "metadata": {},
   "source": [
    "#### 3. 자료조회"
   ]
  },
  {
   "cell_type": "code",
   "execution_count": 11,
   "metadata": {},
   "outputs": [
    {
     "name": "stdout",
     "output_type": "stream",
     "text": [
      "('JAVA', '2020-01-01', '한빛미디어', 584, 10)\n",
      "('Python', '2019-12-01', '위키북스', 500, 20)\n",
      "('BigData', '2018-01-25', '더조은', 290, 30)\n",
      "('Mont', '2016-03-21', '더한빛', 490, 40)\n",
      "('HD', '2014-09-17', '아마존', 350, 50)\n",
      "('R', '2017-02-11', '쿠팡', 300, 60)\n"
     ]
    }
   ],
   "source": [
    "# 1. 전체자료조회\n",
    "\n",
    "def all_books():\n",
    "    conn = sqlite3.connect('D:/kim_seunghyek/data/db/my_book.db')\n",
    "    cursor = conn.cursor()\n",
    "    \n",
    "    # 데이터 조회\n",
    "    cursor.execute('select * from books')\n",
    "   \n",
    "    # 데이터를 execute한 뒤 변수에 담아야함, java와 같은 형식으로 생각됨\n",
    "    # fetchall() : 모든 자료를 튜플로 리턴\n",
    "    books = cursor.fetchall()\n",
    "    for book in books :\n",
    "        print(book)\n",
    "    \n",
    "    conn.close()\n",
    "    \n",
    "all_books()"
   ]
  },
  {
   "cell_type": "code",
   "execution_count": 14,
   "metadata": {},
   "outputs": [
    {
     "name": "stdout",
     "output_type": "stream",
     "text": [
      "데이터 일부 출력하기\n",
      "================================================================================\n",
      "('JAVA', '2020-01-01', '한빛미디어', 584, 10)\n",
      "('Python', '2019-12-01', '위키북스', 500, 20)\n",
      "('BigData', '2018-01-25', '더조은', 290, 30)\n",
      "\n",
      "데이터 일부 출력하기\n",
      "================================================================================\n",
      "('JAVA', '2020-01-01', '한빛미디어', 584, 10)\n",
      "('Python', '2019-12-01', '위키북스', 500, 20)\n"
     ]
    }
   ],
   "source": [
    "# 2. 일부자료조회\n",
    "\n",
    "def some_books(number):\n",
    "    conn = sqlite3.connect('D:/kim_seunghyek/data/db/my_book.db')\n",
    "    cursor = conn.cursor()\n",
    "    \n",
    "    # 데이터 조회\n",
    "    cursor.execute('select * from books')\n",
    "    print('데이터 일부 출력하기')\n",
    "    print('='*80)\n",
    "    \n",
    "    # 일부자료 불러오기\n",
    "    # fetchmany() : 일부 자료를 튜플로 리턴\n",
    "    # defualt = 1\n",
    "    books = cursor.fetchmany(number)\n",
    "    for book in books :\n",
    "        print(book)\n",
    "    \n",
    "    conn.close()\n",
    "    \n",
    "some_books(3)\n",
    "print()\n",
    "some_books(2)"
   ]
  },
  {
   "cell_type": "code",
   "execution_count": null,
   "metadata": {},
   "outputs": [],
   "source": [
    "# 3. 한개자료조회\n",
    "\n",
    "def one_books():\n",
    "    conn = sqlite3.connect('D:/kim_seunghyek/data/db/my_book.db')\n",
    "    cursor = conn.cursor()\n",
    "    \n",
    "    # 데이터 조회\n",
    "    cursor.execute('select * from books')\n",
    "    print('데이터 일부 출력하기')\n",
    "    print('='*80)\n",
    "\n",
    "    # 조회자료 불러오기\n",
    "    # 한건의 자료 불러오기  \n",
    "    # fetchone() : 한개의 자료를 튜플로 불러옴\n",
    "    # 한건의 경우에는 열로 저장이됨\n",
    "    # list저장 x\n",
    "\n",
    "    \n",
    "    a = cursor.fetchone()\n",
    "    \n",
    "    print(a)\n",
    "    \n",
    "    conn.close()\n",
    "    \n",
    "one_books()"
   ]
  },
  {
   "cell_type": "code",
   "execution_count": 17,
   "metadata": {},
   "outputs": [
    {
     "name": "stdout",
     "output_type": "stream",
     "text": [
      "데이터 일부 출력하기\n",
      "================================================================================\n",
      "('JAVA', '2020-01-01', '한빛미디어', 584, 10)\n"
     ]
    }
   ],
   "source": []
  },
  {
   "cell_type": "code",
   "execution_count": null,
   "metadata": {},
   "outputs": [],
   "source": [
    "# 4. 조건별 자료조회"
   ]
  },
  {
   "cell_type": "code",
   "execution_count": 19,
   "metadata": {},
   "outputs": [
    {
     "name": "stdout",
     "output_type": "stream",
     "text": [
      "400페이지 이상의 책을 출력하기\n",
      "================================================================================\n",
      "[('JAVA', '2020-01-01', '한빛미디어', 584, 10), ('Python', '2019-12-01', '위키북스', 500, 20), ('Mont', '2016-03-21', '더한빛', 490, 40)]\n"
     ]
    }
   ],
   "source": [
    "def con_books(pages):\n",
    "    conn = sqlite3.connect('D:/kim_seunghyek/data/db/my_book.db')\n",
    "    cursor = conn.cursor()\n",
    "    \n",
    "    # 데이터 조회\n",
    "    cursor.execute('select * from books where pages >=' + str(pages))\n",
    "    print( str(pages) + '페이지 이상의 책을 출력하기')\n",
    "    print('='*80)\n",
    "\n",
    "    # 조회자료 불러오기\n",
    "    # 한건의 자료 불러오기  \n",
    "    # fetchone() : 한개의 자료를 튜플로 불러옴\n",
    "    # 한건의 경우에는 열로 저장이됨\n",
    "\n",
    "    \n",
    "    a = cursor.fetchall()\n",
    "    \n",
    "    print(a)\n",
    "    \n",
    "    conn.close()\n",
    "    \n",
    "con_books(400)"
   ]
  },
  {
   "cell_type": "markdown",
   "metadata": {},
   "source": [
    "#### 4. 자료수정"
   ]
  },
  {
   "cell_type": "code",
   "execution_count": 21,
   "metadata": {},
   "outputs": [],
   "source": [
    "# 1. 자료수정 : java라는 책의 추천수를 100으로 수정하기\n",
    "\n",
    "def update_book():\n",
    "    conn = sqlite3.connect('D:/kim_seunghyek/data/db/my_book.db')\n",
    "    cursor = conn.cursor()\n",
    "    \n",
    "    # 데이터 업데이트\n",
    "    sql = 'update books set recommand=? where title = ?'\n",
    "    cursor.execute(sql,(100,'JAVA'))\n",
    "\n",
    "\n",
    "    \n",
    "    conn.commit()\n",
    "    conn.close()\n",
    "\n",
    "update_book()"
   ]
  },
  {
   "cell_type": "markdown",
   "metadata": {},
   "source": [
    "#### 5. 자료 삭제"
   ]
  },
  {
   "cell_type": "code",
   "execution_count": 22,
   "metadata": {},
   "outputs": [],
   "source": [
    "# 더조은 출판사 삭제\n",
    "\n",
    "def delete_book():\n",
    "    conn = sqlite3.connect('D:/kim_seunghyek/data/db/my_book.db')\n",
    "    cursor = conn.cursor()\n",
    "    \n",
    "    # 데이터 업데이트\n",
    "    sql = 'delete from books where publisher = ?'\n",
    "    # 주의사항\n",
    "    # 값이 한개일 때는 ['더조은']\n",
    "    # 값이 여러개일 때 ('더조은','한빛미디어',...)\n",
    "    # 단순히 문자열을 넣으면 에러가 발생한다.\n",
    "    \n",
    "    cursor.execute(sql,['더조은'])\n",
    "\n",
    "\n",
    "    \n",
    "    conn.commit()\n",
    "    conn.close()\n",
    "\n",
    "delete_book()"
   ]
  },
  {
   "cell_type": "markdown",
   "metadata": {},
   "source": [
    "#### 연습문제 : 판매관리 DB\n",
    "\n",
    "> 판매관리 DB생성\n",
    "1. D:/kim_seunghyek/data/db/my_slaes.db\n",
    "\n",
    "2. salse 테이블 생성\n",
    " * customer vachar(20),\n",
    " product vachar(20),\n",
    " price float,\n",
    " date date\n",
    " \n",
    "3. 테이블 조회 : show_table(\n",
    "\n",
    "4. 데이터 추가\n",
    "5. 데이터 조회"
   ]
  },
  {
   "cell_type": "code",
   "execution_count": null,
   "metadata": {},
   "outputs": [],
   "source": [
    "# 실습\n",
    "def create_sale_table():\n",
    "    conn = sqlite3.connect('D:/kim_seunghyek/data/db/my_slaes.db')\n",
    "    cursor = conn.cursor()\n",
    "    \n",
    "    sql ='''\n",
    "     create table sales (\n",
    "     customer vachar(20),\n",
    "     product vachar(20),\n",
    "     price float(30),\n",
    "     date date\n",
    "     )\n",
    "    \n",
    "    '''\n",
    "    \n",
    "    cursor.execute(sql)\n",
    "\n",
    "\n",
    "    \n",
    "    conn.commit()\n",
    "    conn.close()\n",
    "\n",
    "create_sale_table()"
   ]
  },
  {
   "cell_type": "code",
   "execution_count": 38,
   "metadata": {},
   "outputs": [
    {
     "name": "stdout",
     "output_type": "stream",
     "text": [
      "[('table', 'salse', 'salse', 2, 'CREATE TABLE salse (\\n     customer vachar(20),\\n     product vachar(20),\\n     price float(30),\\n     date date\\n     )'), ('table', 'sales', 'sales', 3, 'CREATE TABLE sales (\\n     customer vachar(20),\\n     product vachar(20),\\n     price float(30),\\n     date date\\n     )')]\n",
      "('table', 'salse', 'salse', 2, 'CREATE TABLE salse (\\n     customer vachar(20),\\n     product vachar(20),\\n     price float(30),\\n     date date\\n     )')\n",
      "('table', 'sales', 'sales', 3, 'CREATE TABLE sales (\\n     customer vachar(20),\\n     product vachar(20),\\n     price float(30),\\n     date date\\n     )')\n"
     ]
    }
   ],
   "source": [
    "def all_table():\n",
    "    conn = sqlite3.connect('D:/kim_seunghyek/data/db/my_slaes.db')\n",
    "    cursor = conn.cursor()\n",
    "    \n",
    "    # 데이터 조회\n",
    "    cursor.execute('SELECT * FROM sqlite_master WHERE type=\"table\"')\n",
    "   \n",
    "    # 데이터를 execute한 뒤 변수에 담아야함, java와 같은 형식으로 생각됨\n",
    "    # fetchall() : 모든 자료를 튜플로 리턴\n",
    "    a = cursor.fetchall()\n",
    "    print(a)\n",
    "    \n",
    "    for i in a:\n",
    "        print(i)\n",
    "    conn.close()\n",
    "    \n",
    "all_table()"
   ]
  },
  {
   "cell_type": "code",
   "execution_count": 31,
   "metadata": {},
   "outputs": [],
   "source": [
    "def insert_sale_table():\n",
    "    conn = sqlite3.connect('D:/kim_seunghyek/data/db/my_slaes.db')\n",
    "    cursor = conn.cursor()\n",
    "    \n",
    "    sql =''' insert into sales values (?,?,?,?)\n",
    "    '''\n",
    "    \n",
    "    \n",
    "    sale = [('홍길동','사과','2000','2019-03-25'),\n",
    "             ('홍길자','바나나','3000','2016-03-21'),\n",
    "             ('홍길순','밤','1000','2014-09-17'),\n",
    "             ('홍길녀','귤','2000','2017-02-11')]\n",
    "    \n",
    "    cursor.executemany(sql,sale)\n",
    "\n",
    "    \n",
    "    conn.commit()\n",
    "    conn.close()\n",
    "\n",
    "insert_sale_table()"
   ]
  },
  {
   "cell_type": "code",
   "execution_count": 39,
   "metadata": {},
   "outputs": [
    {
     "name": "stdout",
     "output_type": "stream",
     "text": [
      "('홍길동', '사과', 2000.0, '2019-03-25')\n",
      "('홍길자', '바나나', 3000.0, '2016-03-21')\n",
      "('홍길순', '밤', 1000.0, '2014-09-17')\n",
      "('홍길녀', '귤', 2000.0, '2017-02-11')\n"
     ]
    }
   ],
   "source": [
    "# 1. 전체자료조회\n",
    "\n",
    "def all_sales():\n",
    "    conn = sqlite3.connect('D:/kim_seunghyek/data/db/my_slaes.db')\n",
    "    cursor = conn.cursor()\n",
    "    \n",
    "    cursor.execute('select * from sales')\n",
    "   \n",
    "\n",
    "    a = cursor.fetchall()\n",
    "    \n",
    "    for i in a:\n",
    "        print(i)\n",
    "\n",
    "    \n",
    "    \n",
    "    \n",
    "    conn.close()\n",
    "    \n",
    "all_sales()"
   ]
  },
  {
   "cell_type": "markdown",
   "metadata": {},
   "source": [
    "#### SQLite를 RAM메모리에 직접생하고 사용\n",
    "\n",
    "sqlite에서 메모리(`:memory:`)에 직접 생성해 사용하는 방법이다.\n",
    "장점은 RAM에서 실행되기 때문에 속도가 빠르다.\n",
    "단점은 휘발성이기 때문에 저장되지 않는다."
   ]
  },
  {
   "cell_type": "code",
   "execution_count": 43,
   "metadata": {},
   "outputs": [
    {
     "name": "stdout",
     "output_type": "stream",
     "text": [
      "('홍길동', '사과', 2000.0, '2019-03-25')\n",
      "('홍길자', '바나나', 3000.0, '2016-03-21')\n",
      "('홍길순', '밤', 1000.0, '2014-09-17')\n",
      "('홍길녀', '귤', 2000.0, '2017-02-11')\n",
      "row : 4\n"
     ]
    }
   ],
   "source": [
    "import sqlite3\n",
    "\n",
    "conn = sqlite3.connect(':memory:')\n",
    "sql = '''\n",
    "     create table sales (\n",
    "     customer vachar(20),\n",
    "     product vachar(20),\n",
    "     price float(30),\n",
    "     date date)\n",
    "\n",
    "'''\n",
    "conn.execute(sql)\n",
    "\n",
    "data = [('홍길동','사과','2000','2019-03-25'),\n",
    "             ('홍길자','바나나','3000','2016-03-21'),\n",
    "             ('홍길순','밤','1000','2014-09-17'),\n",
    "             ('홍길녀','귤','2000','2017-02-11')]\n",
    "\n",
    "sql = 'insert into sales values(?,?,?,?)'\n",
    "conn.executemany(sql,data)\n",
    "\n",
    "conn.commit()\n",
    "\n",
    "cursor = conn.execute('select * from sales')\n",
    "rows = cursor.fetchall()\n",
    "\n",
    "count = 0\n",
    "for row in rows :\n",
    "    print(row)\n",
    "    count +=1\n",
    "print('row : {}'.format(count))\n",
    "\n",
    "conn.close()\n",
    "\n",
    "\n",
    "\n"
   ]
  },
  {
   "cell_type": "code",
   "execution_count": null,
   "metadata": {},
   "outputs": [],
   "source": []
  }
 ],
 "metadata": {
  "kernelspec": {
   "display_name": "Python 3",
   "language": "python",
   "name": "python3"
  },
  "language_info": {
   "codemirror_mode": {
    "name": "ipython",
    "version": 3
   },
   "file_extension": ".py",
   "mimetype": "text/x-python",
   "name": "python",
   "nbconvert_exporter": "python",
   "pygments_lexer": "ipython3",
   "version": "3.7.6"
  }
 },
 "nbformat": 4,
 "nbformat_minor": 4
}
