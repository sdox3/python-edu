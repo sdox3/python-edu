{
 "cells": [
  {
   "cell_type": "markdown",
   "metadata": {},
   "source": [
    "### 기술통계와 모델링\n",
    "\n",
    "##### 1. Data Mining\n",
    "\n",
    "* 데이터 마이닝은 큰 데이터 집합에서 동작 가능한 정부를 찾는 프로세스이며 이를 위해 수학적 분석을 사용하여 데이터에 있는 패턴, 추세등의 정보를 찾는다. 일반적으로 관계가 너무 복잡하거나 너무 많아서 분석하지 못했던 데이터를 분석할 수 있게 만들어 준다.\n",
    "\n",
    "- 예측 : 서버부하 또는 서버가동중지 시간을 예측하는 추천\n",
    "- 위험 및 확률 : 타켓 메일링을 위한 최적합 고객의 선택, 위험 시나리오를 위한 예산손익에 대한 결정, 진단 및 기타결과에 확률을 할당\n",
    "- 추천 : 함께 판매될 가능성이 높은 제품을 결정, 추천제품 구성\n",
    "- 연계성찾기 : 장바구니의 고객선택 분석, 적절한 다음 이벤트 예측\n",
    "- 그룹화 : 고객 또는 이벤트를 관련된 항목의 클러스터로 분리, 선호도 분석 및 예측\n",
    "\n",
    "* 참고 사이트 : https://docs.microsoft.com/ko-kr/analysis-services/data-mining/data-mining-concepts?view=asallproducts-allversions&viewFallbackFrom=sql-server-ver15\n",
    "\n",
    "1. CRISP-DM(Cross Industry Standard Processing for Data Mining)\n",
    "- 데이터마이닝을 위한 업계 표준 프로세스 : 데이터마이닝을 위한 검증된 방법론\n",
    "\n",
    " 1) 비지니스에 대한 이해\n",
    " \n",
    "     각종 참고자료와 현업 책임자와 의사소통을 통해 해당 비즈니스를 이해 하는 단계\n",
    "     반드시 그 분야의 전문가아 함께 참여해서 진행된다.\n",
    "     \n",
    " 2) 데이터의 이해\n",
    " \n",
    "     초기 데이터를 수집, 데이터에 대한 이해, 데이터 품질검증, 자료건수, 속성, 자료의 품질등\n",
    "     현업에서 보유 및 관리하고 잇는 데이터를 이해하는 단계\n",
    " \n",
    " 3) 데이터준비\n",
    " \n",
    "     모델링에 필요한 데이터 변환, 정제등의 작업 -> 데이터의 정제, 새로운 데이터를 생성,\n",
    "     데이터의 업데이트\n",
    "     \n",
    " 4) 모델링\n",
    " \n",
    "     데이터 분석을 위한 모델링 기법을 선택하고 모델을 생성하는 단계\n",
    " \n",
    " 5) 평가\n",
    " \n",
    "     분석 결과에 대한 분석 및 평가, 모델의 해석가능여부, 새로운 자료에도 잘 적용(예측)이 \n",
    "     되는지 여부를 검토하는 단계. 필요할 경우 모델을 재구축\n",
    " \n",
    " 6) 배포\n",
    "\n",
    "     최종 보고서 작성 및 배포단계, 각 관리자에게 전달하여 필요한 조치를 취하는 등 검토가\n",
    "     완료된 모델을 실제 현업에 적용하는 단계\n",
    "    \n",
    "* 참고사이트https://www.ibm.com/support/knowledgecenter/ko/SS3RA7_18.0.0/modeler_crispdm_ddita/clementine/crisp_help/crisp_overview.html\n",
    "\n",
    "2. 머신러닝(인공지능) / 데이터마이닝의 다양한 기법\n",
    "\n",
    "    1) 분류모형(Classfication Method)\n",
    "        \n",
    "        지도 학습, 데이터의 정답, 오답이 정해저 있음, 이를 기준으로 분석대상을 2개 혹은\n",
    "        3개 이상의 집단으로 분류하는 예측모형(부도, 기상예측, 채권등급예측 등)\n",
    "        \n",
    "        a. 지도학습 : 미리 답을 지정하는 학습(신규고객의 대출시 연체여부) \n",
    "        b. 비지도학습 : 답이 없이 데이터를 분석해 결과를 도출 \n",
    "        c. 알고리즘\n",
    "            ... 다중판별분석(MDA, Mutiple Discriminant Analysis)\n",
    "            ... 로지스틱 회귀분석(LOGIT, logistic Regression)\n",
    "            ... 인공신경망(ANN, artificial neural network) -> 딥러닝으로 증가, RNN\n",
    "            ... 사례기반추론(CBR, Case-based Reasoning)\n",
    "            ... 의사결정나무(DT, Decision Trees)\n",
    "            ... SVM(Support Vector Machines)\n",
    "        \n",
    "    2) 최적화기법(Optimization Method)\n",
    "        \n",
    "        주어진 제약조건하에서 특정 목적함수를 최대, 최소화하는 변수들의 최적의 값을 도출\n",
    "        하는 기법이다. 예를 들어 공장의 생산량이 최대화의 문제, 비용을 최소화하는\n",
    "        유통경로등\n",
    "    \n",
    "        a. 알고리즘\n",
    "            ... 선형계획법(LP, Linear Programing)\n",
    "            ... 유전자 알고리즘(GA, Genetic Algorithms)\n",
    "            \n",
    "    3) 가치평가법(Valuation method)\n",
    "        \n",
    "        정성적 측정대상에 대한 가치를 비교, 평가하는 기법(차세대전투기선정등)\n",
    "    \n",
    "        a. 알고리즘\n",
    "        ... 분석적 계층프로세스(AHP, Analytic Hieract process)\n",
    "        ... 분석적 네트워크 프로세스(AMP, Anlytic Network Process)\n",
    "        ... 로포락분석(DEA, Data Envelopment Analysis)\n",
    "        \n",
    "    4) 군집화(Clustering Method)\n",
    "    \n",
    "        사전에 정해진 기준없이 동질의 데이터들을 같은 그룹으로 묶어주는 기법(고객세분화)\n",
    "        \n",
    "        a. 알고리즘\n",
    "        \n",
    "        k-means 분류기법\n",
    "        \n",
    "        각 중심점을 정한 뒤 중심점과의 최적의 거리를 가지는 요소로 묶은 뒤 클러스터의 중심\n",
    "        을 구하고 그 중심점을 기준으로 다시 k-means 분석을 실행, 이를 최적의 클러스터를\n",
    "        구할때 까지 반복한다.\n",
    "    \n",
    "    5) 전처리기법(Preprocessing Method)\n",
    "    \n",
    "        예측모형의 성과를 향상시키기 위해 입력데이터에 대한 사전처리를 수행하는 기법\n",
    "        \n",
    "        a. 알고리즘\n",
    "            ... 주성분분석(PCA, Principal Component Analysis)\n",
    "            ... 퍼지이론(Fuzzy Theory)\n",
    "\n",
    "##### 2. 데이터 전처리\n",
    "\n",
    "1. 결측값(Missing Value)의 처리 \n",
    "    \n",
    "    항목이나 레코드 등의 자료가 너무 많이 비어있는 경우 이를 삭제하거나 일정한 값으로\n",
    "    대체하는 처리를 하는 것\n",
    "    - 평균값, 중앙값, 최빈값\n",
    "    \n",
    "    \n",
    "2. 정성데이터를 정량데이터로 변환\n",
    "\n",
    "    각 속성은 단인변수(automic value)를 갖도록 수정하는 것을 말한다. 정성적인 변수의 경우\n",
    "    0과 1의 binary code로 변환해야 추후 해석이 가능하다.\n",
    "\n",
    "3. 이상치(Outlier) 제거\n",
    "\n",
    "    상식적으로 말이 않되거나 잘못 입력된 것으로 추정되는 변수값을 조정하는 것으로\n",
    "    일괄적으로 상위 10%, 하위 10%에 해당하는 값들을 단일값으로 부여하는 경우도 있다.\n",
    "    \n",
    "\n",
    "4. 새로운 파생변수의 개발\n",
    "\n",
    "    기존의 변수를 조합하여 새로운 변수를 개발하는 것을 말한다. 본래는 비율변수인 값을\n",
    "    의미가 있는 정보로 구간화하여 새로운 명목변수로 만드는 것등이 있다.\n",
    "\n",
    "5. 정규화 - z, maxmin\n",
    "    \n",
    "    모든 입력변수의 값이 최소 0에서 1사이의 값을 갖도록 조정하거나 평균을 0으로 갖는 표준\n",
    "    정규분포로 정규화 하는 방법등이 있다.\n",
    "    \n",
    "    minmax =  (x-min)/(max-min)\n",
    "    z = (x-x')/s\n",
    "    \n",
    "6. 자료의 구분\n",
    "\n",
    "    1) 과적합이 발생 가능성\n",
    "       \n",
    "       다음날이ㅡ 주가지수를 예측하는 모형이 A, B가 있다면\n",
    "       A모델은 구축한 날까지의 주가는 100퍼 맞추지만 다음날의 데이터는\n",
    "       10퍼도 못맞출 수 있다.\n",
    "       \n",
    "    2) 과적합화의 예방방법\n",
    "     \n",
    "        70/30 으로 훈련/테스트 데이터로 만듬,\n",
    "        5등분하여 4개로 훈련 1개로 테스트 이를 5번 반복\n",
    "        \n",
    "        hold-out-data(검증) : 모델이 일반성을 갖는지 확인하기 위해 남녀두는 unknown data\n",
    "        통계모형을 구축할 때 전체데이터가 100이라면 학습용데이터와 검증용데이터를 나누어서\n",
    "        8/2. 7/3정도로 나누어 사용\n",
    "        \n",
    "        예측모델을 만들 경우 정답과 오답의 비율이 1:1의 비중이 되어야 한다.\n",
    "\n",
    "7. 모형에 들어갈 후보 입력값의 선정\n",
    "    \n",
    "    1) 카이제곱검증(Chi-squar test) : 성별(이산형), 구매여부(이산형)\n",
    "     각 변수마다 예측결과에 영향을 미치는 r^2값을 구하여 각 변수가 의미있는 변수인지파악\n",
    "     가장 낮은 영향을 주는 변수를 삭제하고 다시 검사 이를 반복\n",
    "    \n",
    "    2) 독립표본 t검정(t-test) : 이산형, 연속성(체중) 둘다 사용\n",
    "\n",
    "##### 3. 4가지 종류의 척도\n",
    "\n",
    "   명목척도, 서열척도 -> 이산형변수\n",
    "   등간척도, 비율척도 -> 연속형변수\n",
    "   \n",
    "   1) 명목척도(Nominal Scales) : 단순히 번호만 부여한 척도\n",
    "   \n",
    "      (1) 정의 : 대상의 특성을 분류하거나 확인할 목적으로 사용하는 척도\n",
    "      (2) 예시 : 축구선수 등번호, 입시에 사용되는 출신학교 코드\n",
    "   \n",
    "   2) 서열척도(Ordinal Scales) : \n",
    "   \n",
    "      (1) 정의 : 대상의 특성이 순서를 밝히기 위해 사용하는 척도(양적비교불가)\n",
    "      (2) 예시 : 수학시험석차, 선호도 우선순위\n",
    "      \n",
    "   3) 등간척도(Interval Scales)\n",
    "   \n",
    "      (1) 정의 : 부여된 순위 사이의 간격이 동일한 척도\n",
    "      (2) 예시 : 온도\n",
    "      \n",
    "   4) 비율척도(Ration Scales)\n",
    "   \n",
    "      (1) 정의 : 순위 사이의 간격이 동일하고 비율계산이 가능한 척도\n",
    "      (2) 예시 : 무게, 투표율\n",
    "\n",
    "##### 4. 통계학의 개요\n",
    "\n",
    "   1) 통계 및 통계분석\n",
    "   \n",
    "      (1) 통계학(Statistics)이란?\n",
    "          현황을 가능한 정확히 알아내고 미래에 대한 적절한 예측을 하기 위해\n",
    "          자료를 효율적으로 수집정리하고 분석하는 학문 분야\n",
    "          \n",
    "      (2) 통게분석의 목적\n",
    "          현황을 제대로 파악하기 위해\n",
    "          미래를 예측하기 위해\n",
    "          \n",
    "      (3) 통계학이 적용되는 대표적인 예들\n",
    "          공학자 : 현재 생산되는 제품의 품질이 어떤 상태에 있는가?\n",
    "          경영자 : 제품에 대한 소비자의 선호도가 어떻게 나타나고 있는가?\n",
    "          사회과학자 : 정치에 대한 국민들의 의견은 어떻게 나타나고 있는가?\n",
    "          \n",
    "   2) 모집단과 표본\n",
    "      국회의원들이 소유하고 있는 모든 주택의 평균가격은 얼마인가?\n",
    "      \n",
    "      (1) 모집단(population)\n",
    "          관심의 대상이 되는 집단 전체(예:국회의원소유주택수)\n",
    "          모수(parameter) : 모집단이 가지고 있는 특징을 나타내는 수치(예:평균가)\n",
    "          전수조사(census) : 모집단의 모든 개체를 전부 조사하는 방법, 모수의 값\n",
    "             을 가장 정확하게 알아내는 방법. 단점은 시간과 비용문제가 있다.\n",
    "      \n",
    "      (2) 표본(Sample)\n",
    "          모수의 값을 알아내기 위해 추출된 모집단의 일부분\n",
    "          일반적인 통계분석에서는 모집단의 일부만 조사하여 모집단의 모수를 추측\n",
    "          100% 정확하지는 않지만, 거의 근접한 값을 제공해 줄 수 있다.\n",
    "          대신 시간과 비용을 크게 절약할 수 있는 방법\n",
    "          \n",
    "          \n",
    "      (3) 표본추출\n",
    "          표본이 모집단을 대표할 수 있도록 추출하는 것이 중요\n",
    "          표본추출이 잘못되어 발생한 사례\n",
    "             --> 1936년 미국대선 : 민주당 Franklin Roosevelt vs 공화당 Alf London\n",
    "                 전화조사 결과 공화당 승리예상. 실제로는 민주당 승리\n",
    "                 당시에는 전화보급율이 매우 낮았음\n",
    "          \n",
    "   3) 통계학의 2가지 분야\n",
    "   \n",
    "      (1) 기술통계학 : 수집된 자료들이 가지고 있는 정보를 쉽게 파악할 수 있도록\n",
    "          표현하는 방법에 대한 내용을 다루는 학문분야로 주어진 자료의 특성을 \n",
    "          그대로 기술하는 것(예: 매출액, 사원수, 연령별인두등.._\n",
    "          \n",
    "          예 : 다차원척도법, 컨조인트분석, 군집분석, 요인분석이 기술통계학에 해당\n",
    "               (다컷군요!!로 암기)\n",
    "          \n",
    "      (2) 추리통계학 : 수집된 자료들을 분석해 볼 때 알아내고자 했던 모집단의 모수\n",
    "          는 얼마로 추정되는지, 미래예측치는 얼마로 예상되는지 등의 결론을 도출\n",
    "          하는 학문 분야. 수집된 자료를 통하여 원래 알아보고자 했던 문제에 대한 \n",
    "          결혼을 도출, 통계학의 대부부 내용들이 여기에 해당한다.\n",
    "          \n",
    "          표본의 특성으로 부터 모집단의 특성을 추정하는 것\n",
    "          \n",
    "          예) 기술통계학 이외의 분석방법이 추리통계학 분햐\n",
    "          \n",
    "   4) 통계분석의 절차\n",
    "   \n",
    "      (1) 문제의 올바른 파악 : 대상이 되는 모집단에 대해 정확하게 설정하고\n",
    "          알아내려는 사항이 무엇인지 제대로 파악\n",
    "          \n",
    "      (2) 표본의 추출과 자료의 수집 : 비표본오차(nonsampling error)가 발생하지\n",
    "          않도록 설계\n",
    "          표본오차 : 모집단을 표본으포 추정하는데서 방생되는 오차(회피불가)\n",
    "          비표본오차 : 표본추출을 잘못한 경우 발생되는 오차(회피가능)\n",
    "          \n",
    "          자료수집 2가지 방법\n",
    "          ... 실험(experiment) : 자연과학분야\n",
    "          ... 설문(survey) : 사회과학분야\n",
    "      \n",
    "      (3) 수집된 자료의 적절한 정리(전처리) : 기술통계학\n",
    "      (4) 모집단에 대한 추론 : 추리통계학\n",
    "\n",
    "##### 5. 기술통계량\n",
    "\n",
    "   응답자의 평균소득은? 응답자나이 평균은?\n",
    "   특정상품 선호도에 대한 관측치들은 평균을 중심으로 얼마나 퍼져있는가?\n",
    "     --> 분산, 표준편차를 통해 확인\n",
    "     --> 정규분포도가 평균근처에 몰려 있을 경우 : 분산, 표준편차가 적음\n",
    "         정규분포도가 평균으로 부터 떨어져 넓게 있을 경우 : 분산, 표준편차가 큼\n",
    "   \n",
    "   왜도(Skewness) : 분포의 편중(치우침)을 나타내는 지표       \n",
    "   첨도(Kurtosis) : 분포의 뾰죽한 정도를 나태내는 지표\n",
    "  \n",
    "   1) 카이제곱검정(교차분석)\n",
    "   \n",
    "     ...https://m.blog.naver.com/leerider/100189714605\n",
    "     ... Pearson카이제곱검증이라고도 한다. 이 검증은 그룹간에 차이여부(=그룹끼리 독립여부)에 대해\n",
    "         카이제곱분포를 사용해 가설검증하는 방법이다.\n",
    "         그룹간 차이여부의 의미는 그룹간에 비율(proportion)차이가 있는지의 여부를 의미한다.\n",
    "         (참고)Pearsondms 19세기후반~20세기 초반의 인물인데 두 연속변수끼리 얼마나 관계가 있는지를 측정하는 \n",
    "         피어슨상관계수(Pearson correlation coefficient)를 개발한 Karl Pearson입니다.\n",
    "             \n",
    "      (1) 이산형 변수로 구성된 2개의 변수가 서로 독립여부를 확인하고자 할 때 사용\n",
    "      (2) 즉, 두 이산형 변수가 서로 상관관계가 유무를 통계적으로 검증할 때 기법\n",
    "      (3) 이산형(discrete)변수 : 비계량적인 변수로서, 관측대상을 범주로 나누어\n",
    "          분류한 후, 그에 따라 기호나 숫자를 부여한 변수, 여기서 평균의미가 없다.\n",
    "          예) 성별, 선호정당, 출신국가, 직업구분, 주택보유여부 등\n",
    "      (4) 연속형(continuous)변수 : 계량덕인 변수로서 일반적인 수치적 방법에 의해\n",
    "          즉정 가능한 변수. 여기서는 평균이 의니가 있다.\n",
    "          예) 금액, 거리, 무게, 시간등\n",
    "      (5) 카이제곰검정의 해석\n",
    "          접근 유의확률(p-value라고 함)을 토대로 평가한다.\n",
    "          \"95% 신뢰수준하에서\"로 해석하고 싶으면 유의확률 < 0.05인지 확인\n",
    "          \"90% 신뢰수준하에서\"로 해석하고 싶으면 유의확률 < 0.1인지 확인\n",
    "          (즉, 유의확률은 작으면 작을 수록 좋다.)\n",
    "          \n",
    "   2) 가설 검증의 기초\n",
    "      (1) 과학분야에서의 증명 : 반증법에 의거해 증명\n",
    "          \"모든 사람은 정직하다\"라는 명제가 잇을 때 이 명제가 참인지 거짓인지를\n",
    "          확인하는 접근법에는 2가지가 존재\n",
    "          a. 모든 사람을 일일히 조사해서 정직한지 확인하는 방법\n",
    "          b. 정직하지 못한 사람(사례)을 하나 찾아내 명제가 거짓임을 입증하는 방법\n",
    "          \n",
    "          위 2가지 방법 중 어느 것이 효율적일까?(현실적으로 가능한 방법일까?)\n",
    "          1000명이 정작함을 확인했을 때, 1001명이 정직하다 확언할 수 있을까?\n",
    "       \n",
    "      (2) 귀무가설(HO)과 대립가설(Ha)\n",
    "          우리가 알고 싶은 명제(A와 B는 다르다, A와 B는 차이가 있다등)는 대립가설\n",
    "          로 두고, 그 반대인 귀무가설(주로 A와 B는 같다. A와 B는 차이가 없다)이\n",
    "          기각됨을 보임으로서 내가 입증해 보이고 싶은 명제를 증명\n",
    "          \n",
    "   3) 독립표본 t-검정\n",
    "   \n",
    "      서로 독림된 두 집단간의 평균차이가 통계적으로 유의미한지 비교하고자 할 때\n",
    "      사용 즉, 서로 독립된 두 집단에 대해 각 집단별 특정 연속형 변수 평균값이 서\n",
    "      로 차이가 있는지 없는지를 통계적으로 검정할 때 사용되는 기법\n",
    "          \n",
    "      예) 전체 응답자 중 남자와 여자 사이의 연령은 차이가 있는가?\n",
    "\n",
    "   4) 대응표본 t-검정(Paired-samples t-test)\n",
    "    \n",
    "      서로 동일한 모집단에서 추출된 두 표본에 대해 특정 연속형 변수 평균값이 서로\n",
    "      차이가 있는지, 없는지를 통계적으로 검정할 때 사용되는 기법\n",
    "      \n",
    "      예) 한회사에서 자사가 개발한 한 달간의 식이요법 프로그램이 효과여부 분석하\n",
    "      고자 사원을 A, B그룹을 나누어 검증하는 방법\n",
    "\n",
    "   5) 일원배치 분산분석(One-way ANOVA)\n",
    "      ... https://m.blog.naver.com/leerider/100202443131\n",
    "    \n",
    "      세개이상의 집단간의 평균차이가 통계적으로 유의미한지 비교하고자 할 때 사용\n",
    "      예) 학력수준에 따라 직무만족도의 수준은 차이가 있는가?\n",
    "      \n",
    "   6) 가설검정의 정리\n",
    "      분석대상이 되는 두 변수의 특징에 따라, 다음과 같이 다른 검정기법을 적용\n",
    "      \n",
    "      기법             대상변수A   대상변수B  적용예\n",
    "      ========================================================================\n",
    "      카이제곱검정     이산형      이산형     성별과 구매여부사이에 유의한 관계\n",
    "                                              가 있는가?\n",
    "      \n",
    "      독립표본 t검정   이산형      연속형     체중과 구매여부아시에 유의한 관계\n",
    "                       (2그룹)                가 있는가?(구매자와 비구매자의 평균\n",
    "                                              체중이 크게 다른가?)\n",
    "                                              \n",
    "      대응표본 t검정   이산형      연속형     보충수업후 성적향상이 있는가?\n",
    "                      (2그룹/Pair)\n",
    "\n",
    "\n",
    "      일원배치         이산형      연속형     체중과 고객등급 사이에 유의한 관계\n",
    "      분산분석        (3그룹이상)             가 있는가?(고객등급에 따라 평균체\n",
    "                                              중이 크게 다른가?"
   ]
  },
  {
   "cell_type": "markdown",
   "metadata": {},
   "source": [
    "## 실습\n",
    "\n",
    "1. 카이제곱검정"
   ]
  },
  {
   "cell_type": "code",
   "execution_count": 10,
   "metadata": {},
   "outputs": [],
   "source": [
    "import pandas as pd\n",
    "import numpy as np\n",
    "from numpy import mean\n",
    "from scipy import stats # 과학기술 통계분석함수 모음\n",
    "#!pip show scipy api참조\n",
    "\n",
    "import warnings\n",
    "warnings.filterwarnings('ignore')\n",
    "\n",
    "plt.rcParams['font.family'] = 'NanumGothicCoding'\n",
    "plt.rcParams['axes.unicode_minus'] = False\n"
   ]
  },
  {
   "cell_type": "code",
   "execution_count": 9,
   "metadata": {},
   "outputs": [
    {
     "data": {
      "text/plain": [
       "Power_divergenceResult(statistic=14.200000000000001, pvalue=0.014387678176921308)"
      ]
     },
     "execution_count": 9,
     "metadata": {},
     "output_type": "execute_result"
    }
   ],
   "source": [
    "data1 = [4,6,17,16,8,9] # 관측데이터 \n",
    "data2 = [10,10,10,10,10,10] # 기대치\n",
    "\n",
    "# data1과 data2가 유의한 관계가 있는가?\n",
    "\n",
    "# 귀무가설  : 1,2는 차이가 없다.\n",
    "# 귀무가설(H0) 또는 영가설은 통계학에서 처음부터 버릴 것을 예상하는 가설이다.\n",
    "# 기존의 가설과 반대되는 가정을 통계적 방식으로 검증, 증명하려는 가설\n",
    "\n",
    "\n",
    "# 대립가설 : 1,2는 차이가 있다.\n",
    "# ... 가설점정이론에서 대립가설 또는 연구가설(H1),유지가설이라고도 한다.\n",
    "\n",
    "# 카이제곱\n",
    "stats.chisquare(data1, data2) # p : 0.014 \n",
    "# p는 기준마다 다르지만 0.05는 넘어야 어느정도 의미가 있다 . 신뢰도 95%\n",
    "# 이제 r^2값을 계산해야함\n",
    "# statistic = 검정통계랑\n",
    "# pvalue = 피어슨값(상관계수)"
   ]
  },
  {
   "cell_type": "markdown",
   "metadata": {},
   "source": [
    "#### 2. 단일표본 t검정"
   ]
  },
  {
   "cell_type": "code",
   "execution_count": 17,
   "metadata": {},
   "outputs": [
    {
     "name": "stdout",
     "output_type": "stream",
     "text": [
      "검정통계량: 3.435, p-value : 0.003\n"
     ]
    }
   ],
   "source": [
    "# 전체학생들 중 20명의 학생들을 선택하여 전체학생들의 평균키가 175cm인지 여부를 검정\n",
    "# 귀무: 평균 175이 이다.\n",
    "# 대립: 아니다\n",
    "\n",
    "np.random.seed(1)\n",
    "# np.random.normal(0, 5) # 평균이 0 표준편차가 5인 난수를 발생\n",
    "h = [180+np.random.normal(0, 5) for i in range(20)] \n",
    "\n",
    "result = stats.ttest_1samp(h,175) # 데이터, 예측값\n",
    "result # 0.0027\n",
    "\n",
    "print('검정통계량: %.3f, p-value : %.3f'%result)\n",
    "# p-value가 0.01보다 작음으로 99% 신뢰구간을 가지며\n",
    "# 학생들의 평균은 175가 아니다.\n"
   ]
  },
  {
   "cell_type": "markdown",
   "metadata": {},
   "source": [
    "#### 3. 독립표본 t검정"
   ]
  },
  {
   "cell_type": "code",
   "execution_count": 18,
   "metadata": {},
   "outputs": [],
   "source": [
    "# 그룹1, 2에서 20명씩 차출 그룹1과 그룹2의 평균키\n",
    "# 귀무 : 같다\n",
    "# 대립 :다르다\n",
    "np.random.seed(2)\n",
    "h1 = [170+np.random.normal(0,5) for i in range(20)]\n",
    "h2 = [175+np.random.normal(0,10) for i in range(20)]\n",
    "\n"
   ]
  },
  {
   "cell_type": "code",
   "execution_count": 24,
   "metadata": {},
   "outputs": [
    {
     "name": "stdout",
     "output_type": "stream",
     "text": [
      "BartlettResult(statistic=6.109936115483365, pvalue=0.013442398749517866)\n",
      "검정통계량: -1.540, p-value : 0.134\n",
      "검정통계량: -1.540, p-value : 0.132\n"
     ]
    }
   ],
   "source": [
    "# 등분산 계산\n",
    "print(stats.bartlett(h1, h2))\n",
    "\n",
    "# 대립가설을 기각, equel_var = 등분산인지 여부, default = True\n",
    "result1 =stats.ttest_ind(h1,h2, equal_var=False)\n",
    "result2 = stats.ttest_ind(h1,h2, equal_var=True)\n",
    "print('검정통계량: %.3f, p-value : %.3f'%result1)\n",
    "print('검정통계량: %.3f, p-value : %.3f'%result2)\n",
    "\n",
    "# 두 그룹의 학생들의 평균키는 통계적으로 무의미한 차이를 보인다.\n",
    "# 따라서 귀무가설을 유지한다."
   ]
  },
  {
   "cell_type": "markdown",
   "metadata": {},
   "source": [
    "#### 4. 대응표본 t검사\n",
    "\n",
    "> 독립표본 t검정은 두개의 검정대상이 별개의 그룹이였다면 대응표본 t검사는 동일그룹에서\n",
    "> 특정 변수값이 추가되었을 경우 집단의 변화가 유의미한지를 파악하는 방법이다.\n",
    "> ex) 다이어트 약 효과여부, 정책적용에 따른 변화의 유의미성"
   ]
  },
  {
   "cell_type": "code",
   "execution_count": 29,
   "metadata": {},
   "outputs": [
    {
     "name": "stdout",
     "output_type": "stream",
     "text": [
      "[57.916210762972646, 59.71866586386835, 49.31901952165773, 68.20135404202495, 51.03282207402569, 55.79126317171898, 62.51440708579021, 53.77355956696384, 54.71023890568831, 55.45496192536575, 62.757270222732124, 71.46104006407478, 60.20769696499202, 54.41037277443242, 62.69529160290394, 57.01920150096767, 59.90434751739424, 65.87500609750145, 56.26064525353069, 60.045126254866624]\n",
      "[56.94377292083745, 58.731794547276046, 48.3238881126177, 67.23112962300034, 50.049598513346275, 54.805986852336034, 61.5371601860399, 52.807311812691545, 53.74866325023439, 54.46803182927929, 61.77265136193645, 70.42641272829705, 59.26639231652244, 53.418118244336085, 61.69788271217068, 56.00200882371421, 58.90431037325862, 64.90189037157805, 55.270645058301255, 59.04427920342364]\n",
      "검정통계량: 219.077, p-value : 0.000\n"
     ]
    }
   ],
   "source": [
    "# 복용전 60kg, 편차5   복용후 = 복용전*0.99, 표준편차 0.02\n",
    "np.random.seed(2)\n",
    "w1 = [60+np.random.normal(0,5) for i in range(20)]\n",
    "w2 = [w-np.random.normal(0.99,0.02) for w in w1]\n",
    "\n",
    "print(w1)\n",
    "print(w2)\n",
    "\n",
    "# 대응표본 t검정\n",
    "result = stats.ttest_rel(w1, w2)\n",
    "print('검정통계량: %.3f, p-value : %.3f'%result)\n",
    "\n",
    "# 체중의 변화는 통계적으로 유의한 변화가 있음으로 귀무가설을 기각하고 대립을 채택한다."
   ]
  },
  {
   "cell_type": "markdown",
   "metadata": {},
   "source": [
    "#### 5. anova분석\n",
    "\n",
    "3개 이상의 집단에서의 차이가 있는지를 파악"
   ]
  },
  {
   "cell_type": "code",
   "execution_count": 42,
   "metadata": {},
   "outputs": [],
   "source": [
    "%matplotlib inline\n",
    "import matplotlib.pyplot as plt\n",
    "\n",
    "# 1. 한달간 교육결과 - 무의한 샘플데이터\n",
    "a = [66,74,82,75,73,97,87,78]\n",
    "b = [76,73,81,79,72,91,83,79]\n",
    "c = [69,72,81,78,72,91,89,71]\n",
    "d = [61,72,83,74,75,96,87,79]"
   ]
  },
  {
   "cell_type": "code",
   "execution_count": 43,
   "metadata": {},
   "outputs": [
    {
     "data": {
      "image/png": "[encoded data removed]",
      "text/plain": [
       "<Figure size 432x288 with 1 Axes>"
      ]
     },
     "metadata": {
      "needs_background": "light"
     },
     "output_type": "display_data"
    },
    {
     "data": {
      "text/plain": [
       "F_onewayResult(statistic=0.039561614541566426, pvalue=0.9892664153150867)"
      ]
     },
     "execution_count": 43,
     "metadata": {},
     "output_type": "execute_result"
    }
   ],
   "source": [
    "plot_data = [a,b,c,d]\n",
    "ax = plt.boxplot(plot_data)\n",
    "plt.show(ax)\n",
    "\n",
    "# 일원배치 분산분석(아노바)\n",
    "\n",
    "stats.f_oneway(a,b,c,d)"
   ]
  },
  {
   "cell_type": "code",
   "execution_count": 44,
   "metadata": {},
   "outputs": [],
   "source": [
    "# 2. 한달간 교육결과 - 유의한 샘플데이터\n",
    "a = [66,74,82,75,73,97,87,78]\n",
    "b = [72,51,39,62,74,64,78,63]\n",
    "c = [61,60,57,60,81,55,70,71]\n",
    "d = [63,61,76,84,58,65,69,80]\n",
    "   "
   ]
  },
  {
   "cell_type": "code",
   "execution_count": 45,
   "metadata": {},
   "outputs": [
    {
     "data": {
      "image/png": "[encoded data removed]",
      "text/plain": [
       "<Figure size 432x288 with 1 Axes>"
      ]
     },
     "metadata": {
      "needs_background": "light"
     },
     "output_type": "display_data"
    },
    {
     "data": {
      "text/plain": [
       "F_onewayResult(statistic=4.005224572343474, pvalue=0.017186874491089327)"
      ]
     },
     "execution_count": 45,
     "metadata": {},
     "output_type": "execute_result"
    }
   ],
   "source": [
    "# 귀무가설 : 교육방법의 차이가 없다.\n",
    "# 대립가설 : 교육방법에 차이가 있음\n",
    "\n",
    "plot_data = [a,b,c,d]\n",
    "ax = plt.boxplot(plot_data)\n",
    "plt.show(ax)\n",
    "\n",
    "stats.f_oneway(a,b,c,d)"
   ]
  },
  {
   "cell_type": "markdown",
   "metadata": {},
   "source": [
    "### 머신러닝에 사용할 package\n",
    "\n",
    "##### 1. statsmodels\n",
    "\n",
    ">* 검정 및 추정(test and estimation)\n",
    "* 회귀분석(regression analysis)\n",
    "* 시계열(time-series analysis)\n",
    "\n",
    " 회귀분석의 경우 R-style모형기술을 가능하게 하는 pasty패키지를 포함하고 있어 기존에 R에서만\n",
    " 가능했던 회귀분석과 시계열 분석방법론을 그대로 파이썬에서 이용할 수 있게 되었다.\n",
    " \n",
    " statsmodels 패키지를 사용할 때는 아래와 같이 `api`서브패키지를 import해서 사용한다.\n",
    " \n",
    "> import statsmodels.api as am\n",
    "\n",
    "###### statsmodels에서 데이터셋\n",
    "statsmodels패키지의 개발목표 중 하나는 기존에 R을 사용하여 통계분석 및 시계열 분석을 하던 사용자가 파이썬에서도 동일한 분석을 할 수 있도록 하는 것이다. 따라서 R에서 제공하던 명령어 뿐만 아니라 데이터셋도 동일하게 제공하기 위해 `Rdatasets`이라는 프로젝트를 통해서 R에서 사용했던 1000개 이상의 데이터 셋을 사용할 수 있도록 지원한다.\n",
    "\n",
    " https://github.com/vincentarelbundock/Rdatasets\n",
    " \n",
    " `get_rdatasets()`\n",
    " \n",
    " ###### get_rdataset 함수\n",
    " statsmodels의 datasets서브패키지에 있는 `get_rdataset()`함수를 사용하면 표준데이터셋을 가져올 수 있다. `get_rdataset(item,[package='datasets'])`\n",
    "패키지 이름 datasets는 생략이 가능하며 인터넷을 통해 다운 받음으로 인터넷이 가능해야한다.\n",
    "이렇게 받은 데이터는 아래와 같은 속성을 가지고 있다.\n",
    "\n",
    ">* package : 데이터를 제공하는 R패키지 이름\n",
    "* title : 데이터를 받고 있는 데이터프레임\n",
    "\n",
    "`__doc__`은 데이터에 대한 설명 문자열로서 이 설명은 R패키지의 내용을 그대로 가져온 것이므로 예제코드가 R로 되어있어서 파이썬에서는 사용할 수 없다."
   ]
  },
  {
   "cell_type": "code",
   "execution_count": 54,
   "metadata": {},
   "outputs": [
    {
     "data": {
      "text/plain": [
       "pandas.core.frame.DataFrame"
      ]
     },
     "metadata": {},
     "output_type": "display_data"
    },
    {
     "data": {
      "text/html": [
       "<div>\n",
       "<style scoped>\n",
       "    .dataframe tbody tr th:only-of-type {\n",
       "        vertical-align: middle;\n",
       "    }\n",
       "\n",
       "    .dataframe tbody tr th {\n",
       "        vertical-align: top;\n",
       "    }\n",
       "\n",
       "    .dataframe thead th {\n",
       "        text-align: right;\n",
       "    }\n",
       "</style>\n",
       "<table border=\"1\" class=\"dataframe\">\n",
       "  <thead>\n",
       "    <tr style=\"text-align: right;\">\n",
       "      <th></th>\n",
       "      <th>Class</th>\n",
       "      <th>Sex</th>\n",
       "      <th>Age</th>\n",
       "      <th>Survived</th>\n",
       "      <th>Freq</th>\n",
       "    </tr>\n",
       "  </thead>\n",
       "  <tbody>\n",
       "    <tr>\n",
       "      <th>0</th>\n",
       "      <td>1st</td>\n",
       "      <td>Male</td>\n",
       "      <td>Child</td>\n",
       "      <td>No</td>\n",
       "      <td>0</td>\n",
       "    </tr>\n",
       "    <tr>\n",
       "      <th>1</th>\n",
       "      <td>2nd</td>\n",
       "      <td>Male</td>\n",
       "      <td>Child</td>\n",
       "      <td>No</td>\n",
       "      <td>0</td>\n",
       "    </tr>\n",
       "    <tr>\n",
       "      <th>2</th>\n",
       "      <td>3rd</td>\n",
       "      <td>Male</td>\n",
       "      <td>Child</td>\n",
       "      <td>No</td>\n",
       "      <td>35</td>\n",
       "    </tr>\n",
       "    <tr>\n",
       "      <th>3</th>\n",
       "      <td>Crew</td>\n",
       "      <td>Male</td>\n",
       "      <td>Child</td>\n",
       "      <td>No</td>\n",
       "      <td>0</td>\n",
       "    </tr>\n",
       "    <tr>\n",
       "      <th>4</th>\n",
       "      <td>1st</td>\n",
       "      <td>Female</td>\n",
       "      <td>Child</td>\n",
       "      <td>No</td>\n",
       "      <td>0</td>\n",
       "    </tr>\n",
       "    <tr>\n",
       "      <th>5</th>\n",
       "      <td>2nd</td>\n",
       "      <td>Female</td>\n",
       "      <td>Child</td>\n",
       "      <td>No</td>\n",
       "      <td>0</td>\n",
       "    </tr>\n",
       "    <tr>\n",
       "      <th>6</th>\n",
       "      <td>3rd</td>\n",
       "      <td>Female</td>\n",
       "      <td>Child</td>\n",
       "      <td>No</td>\n",
       "      <td>17</td>\n",
       "    </tr>\n",
       "    <tr>\n",
       "      <th>7</th>\n",
       "      <td>Crew</td>\n",
       "      <td>Female</td>\n",
       "      <td>Child</td>\n",
       "      <td>No</td>\n",
       "      <td>0</td>\n",
       "    </tr>\n",
       "    <tr>\n",
       "      <th>8</th>\n",
       "      <td>1st</td>\n",
       "      <td>Male</td>\n",
       "      <td>Adult</td>\n",
       "      <td>No</td>\n",
       "      <td>118</td>\n",
       "    </tr>\n",
       "    <tr>\n",
       "      <th>9</th>\n",
       "      <td>2nd</td>\n",
       "      <td>Male</td>\n",
       "      <td>Adult</td>\n",
       "      <td>No</td>\n",
       "      <td>154</td>\n",
       "    </tr>\n",
       "    <tr>\n",
       "      <th>10</th>\n",
       "      <td>3rd</td>\n",
       "      <td>Male</td>\n",
       "      <td>Adult</td>\n",
       "      <td>No</td>\n",
       "      <td>387</td>\n",
       "    </tr>\n",
       "    <tr>\n",
       "      <th>11</th>\n",
       "      <td>Crew</td>\n",
       "      <td>Male</td>\n",
       "      <td>Adult</td>\n",
       "      <td>No</td>\n",
       "      <td>670</td>\n",
       "    </tr>\n",
       "    <tr>\n",
       "      <th>12</th>\n",
       "      <td>1st</td>\n",
       "      <td>Female</td>\n",
       "      <td>Adult</td>\n",
       "      <td>No</td>\n",
       "      <td>4</td>\n",
       "    </tr>\n",
       "    <tr>\n",
       "      <th>13</th>\n",
       "      <td>2nd</td>\n",
       "      <td>Female</td>\n",
       "      <td>Adult</td>\n",
       "      <td>No</td>\n",
       "      <td>13</td>\n",
       "    </tr>\n",
       "    <tr>\n",
       "      <th>14</th>\n",
       "      <td>3rd</td>\n",
       "      <td>Female</td>\n",
       "      <td>Adult</td>\n",
       "      <td>No</td>\n",
       "      <td>89</td>\n",
       "    </tr>\n",
       "    <tr>\n",
       "      <th>15</th>\n",
       "      <td>Crew</td>\n",
       "      <td>Female</td>\n",
       "      <td>Adult</td>\n",
       "      <td>No</td>\n",
       "      <td>3</td>\n",
       "    </tr>\n",
       "    <tr>\n",
       "      <th>16</th>\n",
       "      <td>1st</td>\n",
       "      <td>Male</td>\n",
       "      <td>Child</td>\n",
       "      <td>Yes</td>\n",
       "      <td>5</td>\n",
       "    </tr>\n",
       "    <tr>\n",
       "      <th>17</th>\n",
       "      <td>2nd</td>\n",
       "      <td>Male</td>\n",
       "      <td>Child</td>\n",
       "      <td>Yes</td>\n",
       "      <td>11</td>\n",
       "    </tr>\n",
       "    <tr>\n",
       "      <th>18</th>\n",
       "      <td>3rd</td>\n",
       "      <td>Male</td>\n",
       "      <td>Child</td>\n",
       "      <td>Yes</td>\n",
       "      <td>13</td>\n",
       "    </tr>\n",
       "    <tr>\n",
       "      <th>19</th>\n",
       "      <td>Crew</td>\n",
       "      <td>Male</td>\n",
       "      <td>Child</td>\n",
       "      <td>Yes</td>\n",
       "      <td>0</td>\n",
       "    </tr>\n",
       "    <tr>\n",
       "      <th>20</th>\n",
       "      <td>1st</td>\n",
       "      <td>Female</td>\n",
       "      <td>Child</td>\n",
       "      <td>Yes</td>\n",
       "      <td>1</td>\n",
       "    </tr>\n",
       "    <tr>\n",
       "      <th>21</th>\n",
       "      <td>2nd</td>\n",
       "      <td>Female</td>\n",
       "      <td>Child</td>\n",
       "      <td>Yes</td>\n",
       "      <td>13</td>\n",
       "    </tr>\n",
       "    <tr>\n",
       "      <th>22</th>\n",
       "      <td>3rd</td>\n",
       "      <td>Female</td>\n",
       "      <td>Child</td>\n",
       "      <td>Yes</td>\n",
       "      <td>14</td>\n",
       "    </tr>\n",
       "    <tr>\n",
       "      <th>23</th>\n",
       "      <td>Crew</td>\n",
       "      <td>Female</td>\n",
       "      <td>Child</td>\n",
       "      <td>Yes</td>\n",
       "      <td>0</td>\n",
       "    </tr>\n",
       "    <tr>\n",
       "      <th>24</th>\n",
       "      <td>1st</td>\n",
       "      <td>Male</td>\n",
       "      <td>Adult</td>\n",
       "      <td>Yes</td>\n",
       "      <td>57</td>\n",
       "    </tr>\n",
       "    <tr>\n",
       "      <th>25</th>\n",
       "      <td>2nd</td>\n",
       "      <td>Male</td>\n",
       "      <td>Adult</td>\n",
       "      <td>Yes</td>\n",
       "      <td>14</td>\n",
       "    </tr>\n",
       "    <tr>\n",
       "      <th>26</th>\n",
       "      <td>3rd</td>\n",
       "      <td>Male</td>\n",
       "      <td>Adult</td>\n",
       "      <td>Yes</td>\n",
       "      <td>75</td>\n",
       "    </tr>\n",
       "    <tr>\n",
       "      <th>27</th>\n",
       "      <td>Crew</td>\n",
       "      <td>Male</td>\n",
       "      <td>Adult</td>\n",
       "      <td>Yes</td>\n",
       "      <td>192</td>\n",
       "    </tr>\n",
       "    <tr>\n",
       "      <th>28</th>\n",
       "      <td>1st</td>\n",
       "      <td>Female</td>\n",
       "      <td>Adult</td>\n",
       "      <td>Yes</td>\n",
       "      <td>140</td>\n",
       "    </tr>\n",
       "    <tr>\n",
       "      <th>29</th>\n",
       "      <td>2nd</td>\n",
       "      <td>Female</td>\n",
       "      <td>Adult</td>\n",
       "      <td>Yes</td>\n",
       "      <td>80</td>\n",
       "    </tr>\n",
       "    <tr>\n",
       "      <th>30</th>\n",
       "      <td>3rd</td>\n",
       "      <td>Female</td>\n",
       "      <td>Adult</td>\n",
       "      <td>Yes</td>\n",
       "      <td>76</td>\n",
       "    </tr>\n",
       "    <tr>\n",
       "      <th>31</th>\n",
       "      <td>Crew</td>\n",
       "      <td>Female</td>\n",
       "      <td>Adult</td>\n",
       "      <td>Yes</td>\n",
       "      <td>20</td>\n",
       "    </tr>\n",
       "  </tbody>\n",
       "</table>\n",
       "</div>"
      ],
      "text/plain": [
       "   Class     Sex    Age Survived  Freq\n",
       "0    1st    Male  Child       No     0\n",
       "1    2nd    Male  Child       No     0\n",
       "2    3rd    Male  Child       No    35\n",
       "3   Crew    Male  Child       No     0\n",
       "4    1st  Female  Child       No     0\n",
       "5    2nd  Female  Child       No     0\n",
       "6    3rd  Female  Child       No    17\n",
       "7   Crew  Female  Child       No     0\n",
       "8    1st    Male  Adult       No   118\n",
       "9    2nd    Male  Adult       No   154\n",
       "10   3rd    Male  Adult       No   387\n",
       "11  Crew    Male  Adult       No   670\n",
       "12   1st  Female  Adult       No     4\n",
       "13   2nd  Female  Adult       No    13\n",
       "14   3rd  Female  Adult       No    89\n",
       "15  Crew  Female  Adult       No     3\n",
       "16   1st    Male  Child      Yes     5\n",
       "17   2nd    Male  Child      Yes    11\n",
       "18   3rd    Male  Child      Yes    13\n",
       "19  Crew    Male  Child      Yes     0\n",
       "20   1st  Female  Child      Yes     1\n",
       "21   2nd  Female  Child      Yes    13\n",
       "22   3rd  Female  Child      Yes    14\n",
       "23  Crew  Female  Child      Yes     0\n",
       "24   1st    Male  Adult      Yes    57\n",
       "25   2nd    Male  Adult      Yes    14\n",
       "26   3rd    Male  Adult      Yes    75\n",
       "27  Crew    Male  Adult      Yes   192\n",
       "28   1st  Female  Adult      Yes   140\n",
       "29   2nd  Female  Adult      Yes    80\n",
       "30   3rd  Female  Adult      Yes    76\n",
       "31  Crew  Female  Adult      Yes    20"
      ]
     },
     "metadata": {},
     "output_type": "display_data"
    }
   ],
   "source": [
    "import statsmodels.api as sm\n",
    "# 1. 타이타닉 탑승객\n",
    "\n",
    "data = sm.datasets.get_rdataset('Titanic', package='datasets')\n",
    "df = data.data\n",
    "display(type(df))\n",
    "display(df)"
   ]
  },
  {
   "cell_type": "code",
   "execution_count": 55,
   "metadata": {},
   "outputs": [
    {
     "data": {
      "text/html": [
       "<div>\n",
       "<style scoped>\n",
       "    .dataframe tbody tr th:only-of-type {\n",
       "        vertical-align: middle;\n",
       "    }\n",
       "\n",
       "    .dataframe tbody tr th {\n",
       "        vertical-align: top;\n",
       "    }\n",
       "\n",
       "    .dataframe thead th {\n",
       "        text-align: right;\n",
       "    }\n",
       "</style>\n",
       "<table border=\"1\" class=\"dataframe\">\n",
       "  <thead>\n",
       "    <tr style=\"text-align: right;\">\n",
       "      <th></th>\n",
       "      <th>Class</th>\n",
       "      <th>Sex</th>\n",
       "      <th>Age</th>\n",
       "      <th>Survived</th>\n",
       "      <th>Freq</th>\n",
       "    </tr>\n",
       "  </thead>\n",
       "  <tbody>\n",
       "    <tr>\n",
       "      <th>4</th>\n",
       "      <td>1st</td>\n",
       "      <td>Female</td>\n",
       "      <td>Child</td>\n",
       "      <td>No</td>\n",
       "      <td>0</td>\n",
       "    </tr>\n",
       "    <tr>\n",
       "      <th>5</th>\n",
       "      <td>2nd</td>\n",
       "      <td>Female</td>\n",
       "      <td>Child</td>\n",
       "      <td>No</td>\n",
       "      <td>0</td>\n",
       "    </tr>\n",
       "    <tr>\n",
       "      <th>6</th>\n",
       "      <td>3rd</td>\n",
       "      <td>Female</td>\n",
       "      <td>Child</td>\n",
       "      <td>No</td>\n",
       "      <td>17</td>\n",
       "    </tr>\n",
       "    <tr>\n",
       "      <th>7</th>\n",
       "      <td>Crew</td>\n",
       "      <td>Female</td>\n",
       "      <td>Child</td>\n",
       "      <td>No</td>\n",
       "      <td>0</td>\n",
       "    </tr>\n",
       "    <tr>\n",
       "      <th>12</th>\n",
       "      <td>1st</td>\n",
       "      <td>Female</td>\n",
       "      <td>Adult</td>\n",
       "      <td>No</td>\n",
       "      <td>4</td>\n",
       "    </tr>\n",
       "    <tr>\n",
       "      <th>13</th>\n",
       "      <td>2nd</td>\n",
       "      <td>Female</td>\n",
       "      <td>Adult</td>\n",
       "      <td>No</td>\n",
       "      <td>13</td>\n",
       "    </tr>\n",
       "    <tr>\n",
       "      <th>14</th>\n",
       "      <td>3rd</td>\n",
       "      <td>Female</td>\n",
       "      <td>Adult</td>\n",
       "      <td>No</td>\n",
       "      <td>89</td>\n",
       "    </tr>\n",
       "    <tr>\n",
       "      <th>15</th>\n",
       "      <td>Crew</td>\n",
       "      <td>Female</td>\n",
       "      <td>Adult</td>\n",
       "      <td>No</td>\n",
       "      <td>3</td>\n",
       "    </tr>\n",
       "    <tr>\n",
       "      <th>20</th>\n",
       "      <td>1st</td>\n",
       "      <td>Female</td>\n",
       "      <td>Child</td>\n",
       "      <td>Yes</td>\n",
       "      <td>1</td>\n",
       "    </tr>\n",
       "    <tr>\n",
       "      <th>21</th>\n",
       "      <td>2nd</td>\n",
       "      <td>Female</td>\n",
       "      <td>Child</td>\n",
       "      <td>Yes</td>\n",
       "      <td>13</td>\n",
       "    </tr>\n",
       "    <tr>\n",
       "      <th>22</th>\n",
       "      <td>3rd</td>\n",
       "      <td>Female</td>\n",
       "      <td>Child</td>\n",
       "      <td>Yes</td>\n",
       "      <td>14</td>\n",
       "    </tr>\n",
       "    <tr>\n",
       "      <th>23</th>\n",
       "      <td>Crew</td>\n",
       "      <td>Female</td>\n",
       "      <td>Child</td>\n",
       "      <td>Yes</td>\n",
       "      <td>0</td>\n",
       "    </tr>\n",
       "    <tr>\n",
       "      <th>28</th>\n",
       "      <td>1st</td>\n",
       "      <td>Female</td>\n",
       "      <td>Adult</td>\n",
       "      <td>Yes</td>\n",
       "      <td>140</td>\n",
       "    </tr>\n",
       "    <tr>\n",
       "      <th>29</th>\n",
       "      <td>2nd</td>\n",
       "      <td>Female</td>\n",
       "      <td>Adult</td>\n",
       "      <td>Yes</td>\n",
       "      <td>80</td>\n",
       "    </tr>\n",
       "    <tr>\n",
       "      <th>30</th>\n",
       "      <td>3rd</td>\n",
       "      <td>Female</td>\n",
       "      <td>Adult</td>\n",
       "      <td>Yes</td>\n",
       "      <td>76</td>\n",
       "    </tr>\n",
       "    <tr>\n",
       "      <th>31</th>\n",
       "      <td>Crew</td>\n",
       "      <td>Female</td>\n",
       "      <td>Adult</td>\n",
       "      <td>Yes</td>\n",
       "      <td>20</td>\n",
       "    </tr>\n",
       "  </tbody>\n",
       "</table>\n",
       "</div>"
      ],
      "text/plain": [
       "   Class     Sex    Age Survived  Freq\n",
       "4    1st  Female  Child       No     0\n",
       "5    2nd  Female  Child       No     0\n",
       "6    3rd  Female  Child       No    17\n",
       "7   Crew  Female  Child       No     0\n",
       "12   1st  Female  Adult       No     4\n",
       "13   2nd  Female  Adult       No    13\n",
       "14   3rd  Female  Adult       No    89\n",
       "15  Crew  Female  Adult       No     3\n",
       "20   1st  Female  Child      Yes     1\n",
       "21   2nd  Female  Child      Yes    13\n",
       "22   3rd  Female  Child      Yes    14\n",
       "23  Crew  Female  Child      Yes     0\n",
       "28   1st  Female  Adult      Yes   140\n",
       "29   2nd  Female  Adult      Yes    80\n",
       "30   3rd  Female  Adult      Yes    76\n",
       "31  Crew  Female  Adult      Yes    20"
      ]
     },
     "execution_count": 55,
     "metadata": {},
     "output_type": "execute_result"
    }
   ],
   "source": [
    "df[df['Sex']=='Female']"
   ]
  },
  {
   "cell_type": "code",
   "execution_count": 57,
   "metadata": {},
   "outputs": [
    {
     "name": "stdout",
     "output_type": "stream",
     "text": [
      "     dat\n",
      "0   67.0\n",
      "1   54.7\n",
      "2    7.0\n",
      "3   48.5\n",
      "4   14.0\n",
      "..   ...\n",
      "65  17.4\n",
      "66  40.8\n",
      "67  29.1\n",
      "68  14.6\n",
      "69  59.2\n",
      "\n",
      "[70 rows x 1 columns]\n"
     ]
    },
    {
     "data": {
      "text/plain": [
       "Text(0.5, 1.0, 'Annual Precipitation in US Cities')"
      ]
     },
     "execution_count": 57,
     "metadata": {},
     "output_type": "execute_result"
    },
    {
     "data": {
      "image/png": "[encoded data removed]",
      "text/plain": [
       "<Figure size 432x288 with 1 Axes>"
      ]
     },
     "metadata": {
      "needs_background": "light"
     },
     "output_type": "display_data"
    }
   ],
   "source": [
    "# 2. 미국 강수량\n",
    "data = sm.datasets.get_rdataset('precip')\n",
    "print(data.data)\n",
    "data.data.plot()\n",
    "plt.title(data.title)"
   ]
  },
  {
   "cell_type": "code",
   "execution_count": null,
   "metadata": {},
   "outputs": [],
   "source": [
    "# 3. 황체형성 호르몬 수치 시계열 분석\n",
    "# datasets, lh데이터는 황체형성성호르몬(Luteinizing Hormone)의 수치를 나타내는 시계열데이터\n",
    "# 시계열분석이란? 어떤 특정한 대상의 시간적 변동을 계속 관측하여 얻어진 자료에 의거\n",
    "# 그 변동의 원인 해명 및 미래를 예측하는 분석\n",
    "\n",
    "data = sm.datasets.get_rdataset('lh')\n",
    "df = data.data\n",
    "df"
   ]
  },
  {
   "cell_type": "code",
   "execution_count": 59,
   "metadata": {},
   "outputs": [
    {
     "data": {
      "image/png": "[encoded data removed]",
      "text/plain": [
       "<Figure size 432x288 with 1 Axes>"
      ]
     },
     "metadata": {
      "needs_background": "light"
     },
     "output_type": "display_data"
    }
   ],
   "source": [
    "df.plot(x = 'time', y='value')\n",
    "plt.title(data.title)\n",
    "plt.show()"
   ]
  },
  {
   "cell_type": "code",
   "execution_count": null,
   "metadata": {},
   "outputs": [],
   "source": [
    "# 4. 호흡기 질환 사망자 수\n",
    "# MASS패키지의 deaths데이터\n",
    "# time은 1년이 1, 1개월을 1/12로 만드는 값으로 인코딩되어 있따.\n",
    "# 이 값을 파이썬의 datatime포맷으로 바꾸기 위해서 아래와 같은 함수를 적용한다.\n",
    "def yearfraction2datetime(yearfraction, startyear =0):\n",
    "    import datetime\n",
    "    import dateutil\n",
    "    year = int(yearfraction) + startyear\n",
    "    month = int(round(12*(yearfraction - year)))\n",
    "    delta = dateutil.relativedelta.relativedelta(months = month)\n",
    "    date = datetime.datetime(year,1,1) + delta\n",
    "    return date\n",
    "\n",
    "\n",
    "data = sm.datasets.get_rdataset('deaths', package='MASS')\n",
    "df = data.data\n",
    "df['datetime'] =df.time.map(yearfraction2datetime)"
   ]
  },
  {
   "cell_type": "code",
   "execution_count": 70,
   "metadata": {},
   "outputs": [
    {
     "data": {
      "image/png": "[encoded data removed]",
      "text/plain": [
       "<Figure size 432x288 with 1 Axes>"
      ]
     },
     "metadata": {
      "needs_background": "light"
     },
     "output_type": "display_data"
    }
   ],
   "source": [
    "df.plot(x='datetime', y='value')\n",
    "plt.title(data.title)\n",
    "plt.show()\n",
    "\n",
    "# 이 데이터는 계절에 따른 패턴 즉, 계절성를 보이는 시계열 데이터이다"
   ]
  },
  {
   "cell_type": "code",
   "execution_count": null,
   "metadata": {},
   "outputs": [],
   "source": [
    "# 5. 항공운송인원\n",
    "data = sm.datasets.get_rdataset('AirPassengers')\n",
    "df = data.data\n",
    "df['datetime'] = df.time.map(yearfraction2datetime) \n",
    "df"
   ]
  },
  {
   "cell_type": "code",
   "execution_count": 73,
   "metadata": {},
   "outputs": [
    {
     "data": {
      "image/png": "[encoded data removed]",
      "text/plain": [
       "<Figure size 432x288 with 1 Axes>"
      ]
     },
     "metadata": {
      "needs_background": "light"
     },
     "output_type": "display_data"
    }
   ],
   "source": [
    "df.plot(x='datetime', y='value')\n",
    "plt.title(data.title)\n",
    "plt.show()"
   ]
  },
  {
   "cell_type": "markdown",
   "metadata": {},
   "source": [
    "##### 2. scikit-learn\n",
    "\n",
    "머신러닝교육을 위한 파이썬 패키지로 아래와 같은 내용을 포함한다.\n",
    "\n",
    ">* 벤치마크용 데이터셋 예제\n",
    "* 데이터전처리(preprocessing)\n",
    "* 지도학습(supervised learning)\n",
    "* 비지도학습(unsupervised learning)\n",
    "* 모델의 평가 및 선택(Evaluation and Selection)\n",
    "\n",
    "`scikit-learn` 패키지의 장점은 다양한 머신러닝의 모형 즉, 알고리즘을 하나의 패키지에서 모두 제공하고 있다는 점이다. 아래는 scikit-learn에서 제공하는 머신러닝모형의 목록이다. 이 목록은 대표적인 것만 나열한 것이고 지속적으로 모델이 추가되고 있다.\n",
    "\n",
    "scikit-learn패키지의 임포트 이름은 `sklearn`이다.\n",
    "\n",
    "##### 1) scikit-learn에서 제공하는 데이터셋\n",
    "`sklearn.datasets`서브패키지는 다양한 예제 데이터셋을 제공한다. 데이터를 불러오는 명령들은\n",
    "크게 아래와 같이 세가지 계열의 명령으로 나눌 수 있다.\n",
    "\n",
    ">* load 계열 : scikit-learn설치 패키지에 같이 포함된 소량의 데이터\n",
    "* fetch 계열 : 인터넷에서 다운로드할 수 있는 대량의 데이터\n",
    "* make 계열 : 확률분포를 사용하여 가상의 데이터\n",
    "\n",
    "##### 2) load계열명령\n",
    "\n",
    "load 계열의 데이터는 설치된 패키지에 처음부터 내장되어 있어서 별도로 다운로드 받지 않아도 \n",
    "바로 사용할 수 있는 데이터를 제공한다.\n",
    "\n",
    "* load_boston : 회귀분석용 보스턴 집값 데이터\n",
    "* load_diadetes : 회귀분석용 당뇨병 데이터\n",
    "* load_linnerud : 회귀분석용 linnuerud자료 \n",
    "* load_iris(): classification용 iris 자료\n",
    "* load_digits(): classification용 숫자 필기 이미지 자료\n",
    "* load_wine(): classification용 포도주 등급 자료\n",
    "* load_breast_cancer(): classification용 유방암 진단 자료\n",
    "\n",
    "##### 3) fetch계열명령\n",
    "fetch 계열의 명령들은 데이터의 크기가 커서 패키지에 처음부터 저장되어 있지 않고 인터넷에서 다운로드 받아 홈 디렉토리 아래의 `scikit_learn_data` 라는 서브 디렉토리에 저장한 후 추후 불러들이는 데이터들이다. 따라서 최초 사용시에 인터넷에 연결되어 있지 않으면 사용할 수 없다.\n",
    "* fetch_covtype() : 회귀분석용 토지 조사 자료\n",
    "* fetch_20newsgroups() : 뉴스 그룹 텍스트 자료\n",
    "* fetch_olivetti_faces() : 얼굴 이미지 자료\n",
    "* fetch_lfw_people() : 얼굴 이미지 자료\n",
    "* fetch_lfw_pairs() : 얼굴 이미지 자료\n",
    "* fetch_rcv1() : 로이터 뉴스 corpus\n",
    "* fetch_mldata() : ML 웹사이트에서 다운로드\n",
    "\n",
    "##### 4) make계열명령\n",
    "경우에 따라서는 모형을 시험하기 위해 원하는 특성을 가진 가상의 데이터가 필요할 수 있다. make 계열 명령은 이러한 가상 데이터를 생성하는 역할을 한다.\n",
    "* make_regression(): 회귀 분석용 가상 데이터 생성\n",
    "* make_classification(): 분류용 가상 데이터 생성\n",
    "* make_blobs(): 클러스터링용 가상 데이터 생성\n",
    "\n",
    "##### 5) 데이터 set형식\n",
    "\n",
    "* data: (필수) 독립 변수 ndarray 배열\n",
    "* target: (필수) 종속 변수 ndarray 배열\n",
    "* feature_names: (옵션) 독립 변수 이름 리스트\n",
    "* target_names: (옵션) 종속 변수 이름 리스트\n",
    "* DESCR: (옵션) 자료에 대한 설명\n",
    "\n",
    "http://scikit-learn.org"
   ]
  },
  {
   "cell_type": "code",
   "execution_count": 1,
   "metadata": {},
   "outputs": [
    {
     "data": {
      "text/plain": [
       "<Figure size 432x288 with 0 Axes>"
      ]
     },
     "metadata": {},
     "output_type": "display_data"
    },
    {
     "data": {
      "image/png": "[encoded data removed]",
      "text/plain": [
       "<Figure size 288x288 with 1 Axes>"
      ]
     },
     "metadata": {
      "needs_background": "light"
     },
     "output_type": "display_data"
    },
    {
     "data": {
      "image/png": "[encoded data removed]",
      "text/plain": [
       "<Figure size 288x288 with 1 Axes>"
      ]
     },
     "metadata": {
      "needs_background": "light"
     },
     "output_type": "display_data"
    },
    {
     "data": {
      "image/png": "[encoded data removed]",
      "text/plain": [
       "<Figure size 288x288 with 1 Axes>"
      ]
     },
     "metadata": {
      "needs_background": "light"
     },
     "output_type": "display_data"
    },
    {
     "data": {
      "image/png": "[encoded data removed]",
      "text/plain": [
       "<Figure size 288x288 with 1 Axes>"
      ]
     },
     "metadata": {
      "needs_background": "light"
     },
     "output_type": "display_data"
    },
    {
     "data": {
      "image/png": "[encoded data removed]",
      "text/plain": [
       "<Figure size 288x288 with 1 Axes>"
      ]
     },
     "metadata": {
      "needs_background": "light"
     },
     "output_type": "display_data"
    },
    {
     "data": {
      "image/png": "[encoded data removed]",
      "text/plain": [
       "<Figure size 288x288 with 1 Axes>"
      ]
     },
     "metadata": {
      "needs_background": "light"
     },
     "output_type": "display_data"
    },
    {
     "data": {
      "image/png": "[encoded data removed]",
      "text/plain": [
       "<Figure size 288x288 with 1 Axes>"
      ]
     },
     "metadata": {
      "needs_background": "light"
     },
     "output_type": "display_data"
    },
    {
     "data": {
      "image/png": "[encoded data removed]",
      "text/plain": [
       "<Figure size 288x288 with 1 Axes>"
      ]
     },
     "metadata": {
      "needs_background": "light"
     },
     "output_type": "display_data"
    },
    {
     "data": {
      "image/png": "[encoded data removed]",
      "text/plain": [
       "<Figure size 288x288 with 1 Axes>"
      ]
     },
     "metadata": {
      "needs_background": "light"
     },
     "output_type": "display_data"
    },
    {
     "data": {
      "image/png": "[encoded data removed]",
      "text/plain": [
       "<Figure size 288x288 with 1 Axes>"
      ]
     },
     "metadata": {
      "needs_background": "light"
     },
     "output_type": "display_data"
    }
   ],
   "source": [
    "from sklearn.datasets import load_digits\n",
    "import seaborn as sns\n",
    "\n",
    "# 숫자이미지 데이터를 로드\n",
    "digits = load_digits()\n",
    "digits.images[0]\n",
    "\n",
    "# !pip show scikit-learn\n",
    "\n",
    "import matplotlib.pyplot as plt \n",
    "plt.gray() \n",
    "for i in range(10):\n",
    "    plt.matshow(digits.images[i]) \n",
    "plt.show() "
   ]
  },
  {
   "cell_type": "code",
   "execution_count": 3,
   "metadata": {},
   "outputs": [
    {
     "data": {
      "image/png": "[encoded data removed]",
      "text/plain": [
       "<Figure size 432x288 with 2 Axes>"
      ]
     },
     "metadata": {
      "needs_background": "light"
     },
     "output_type": "display_data"
    }
   ],
   "source": [
    "sns.heatmap(digits.images[0], annot = True, fmt='2.0f', cbar=True, xticklabels= False,\n",
    "           yticklabels= False)\n",
    "plt.title('MNIST Digit Image Sample')\n",
    "plt.show()\n",
    "\n",
    "# MNIST이미지는 8*8 행렬에 명도를 나타내는 숫자로 저장된다.\n",
    "# 0은 검은색이고 명도가 높을수록 15에 가까워진다"
   ]
  },
  {
   "cell_type": "code",
   "execution_count": 13,
   "metadata": {},
   "outputs": [
    {
     "data": {
      "image/png": "[encoded data removed]",
      "text/plain": [
       "<Figure size 432x288 with 8 Axes>"
      ]
     },
     "metadata": {},
     "output_type": "display_data"
    }
   ],
   "source": [
    "# 이 이미지를 데이터를 64길이의 숫자 벡터로 변환하여 예측모형에 입력된다.\n",
    "digits.images[0].flatten()\n",
    "\n",
    "# 벡터화된 이미지 그리기\n",
    "# 기존 8*8의 이미지 리스트를 -> 64*1로 변경(1차원 데이터)\n",
    "v = []\n",
    "for i in range(8):\n",
    "    v.append(d[i].reshape(64,1))\n",
    "    \n",
    "# aspect = alpha와 비슷한 옵션, 투명도\n",
    "for i in range(8):\n",
    "    plt.subplot(1,8,i+1)\n",
    "    plt.imshow(v[i],aspect =0.4,interpolation='nearest', cmap=plt.cm.bone_r)\n",
    "    plt.grid(False)\n",
    "    plt.xticks([])\n",
    "    plt.yticks([])\n",
    "    plt.title('벡터{}'.format(i+1))\n",
    "    \n",
    "plt.suptitle('벡터화된 이미지')\n",
    "plt.tight_layout()\n",
    "plt.show()    "
   ]
  },
  {
   "cell_type": "code",
   "execution_count": null,
   "metadata": {},
   "outputs": [],
   "source": []
  },
  {
   "cell_type": "code",
   "execution_count": 11,
   "metadata": {
    "scrolled": true
   },
   "outputs": [
    {
     "data": {
      "image/png": "[encoded data removed]",
      "text/plain": [
       "<Figure size 576x144 with 8 Axes>"
      ]
     },
     "metadata": {},
     "output_type": "display_data"
    }
   ],
   "source": [
    "# samples = [0,10,20,30,1,11,21,31] \n",
    "samples = [0,10,20,30,1,11,21,31]\n",
    "d = []\n",
    "for i in range(8):\n",
    "    d.append(digits.images[samples[i]])\n",
    "\n",
    "plt.figure(figsize = (8,2))\n",
    "for i in range(8):\n",
    "    plt.subplot(1,8,i+1)\n",
    "    plt.imshow(d[i],interpolation='nearest', cmap=plt.cm.bone_r)\n",
    "    plt.grid(False)\n",
    "    plt.xticks([])\n",
    "    plt.yticks([])\n",
    "    plt.title('image{}'.format(i+1))\n",
    "    \n",
    "plt.suptitle('숫자 0과 1의 이미지')\n",
    "plt.tight_layout()\n",
    "plt.show()"
   ]
  },
  {
   "cell_type": "markdown",
   "metadata": {},
   "source": [
    "##### 3. scipy\n",
    "\n",
    "\n",
    "###### 과학분석알고리즘 SciPy\n",
    "\n",
    "`SciPy`는 파이썬을 기반으로 하여 과학, 분석, 그리고 엔지니어링을 위한 과학(계산)적 컴퓨팅영역의 여러 기본적인 작업을 위한 라이브러리(패키지모음)이다. `SciPy`는 기본적으로 Numpy, Pandas, Matplotlib, Sympy등과 함께 동작을 한다. SciPy는 수치적분루틴과 미분방정식해석기, 방정식의 근을 구하는 알고리즘, 표준 연산/이산 확률분포와 다양한 통계관련 도구등을 제공한다. Numpy와 SciPy를 함께 사용하면 확장에드온을 포함한 `MATLAB(공학용S/W)`를 완벽하게 대체한다.\n",
    "\n",
    "* Homepage : http://www.scipy.org\n",
    "\n",
    "#### scipy기능\n",
    ">* scipy.integrate : 수치적분루틴과 미분방정식 해석기\n",
    "* scipy.linalg: numpy.linalg에서 제공하는 것보다 더 확장된 선형대수루틴과 매트릭스 분해\n",
    "* scipy.optimize : 함수 최적화와 방적식의 근을 구하는 알고리즘\n",
    "* scipy.signal : 시그널 프로세싱 도구\n",
    "* scipy.sparse : 희소행렬과 희소 선형 시스템에 대한 풀이법등을 제공\n",
    "* scipy.special : 감마함수처럼 흔히 사용되는 수학함수를 구현\n",
    "* scipy.stats : 표준 연속/이산확률분포(집적도함수, 샘플러, 연속분포함수)와 다양한 통계테스트, 그리고 좀 더 기술적인 통계 도구 \n",
    "\n",
    "* scipy.weave : 배열계산을 빠르게 하기 위한 인라인 c++코드를 사용하는 도구\n",
    "\n",
    "##### scipy를 사용한 기초적인 검증\n",
    "\n",
    "scipy파이썬 패키지는 아래와 같이 다양한 검증명령등을 제공한다.\n",
    "\n",
    "##### 3. scipy\n",
    "\n",
    "###### 과학분석알고리즘 SciPy\n",
    "\n",
    "`SciPy`는 파이썬을 기반으로 하여 과학, 분석, 그리고 엔지니어링을 위한 과학(계산)적 컴퓨팅영역의 여러 기본적인 작업을 위한 라이브러리(패키지모음)이다. `SciPy`는 기본적으로 Numpy, Pandas, Matplotlib, Sympy등과 함께 동작을 한다. SciPy는 수치적분루틴과 미분방정식해석기, 방정식의 근을 구하는 알고리즘, 표준 연산/이산 확률분포와 다양한 통계관련 도구등을 제공한다. Numpy와 SciPy를 함께 사용하면 확장에드온을 포함한 `MATLAB(공학용S/W)`를 완벽하게 대체한다.\n",
    "\n",
    "* Homepage : http://www.scipy.org\n",
    "* 설치 : pip install scipy\n",
    "\n",
    "###### scipy 기능\n",
    ">* scipy.integrate : 수치적분루틴과 미분방정식 해석기\n",
    "* scipy.linalg: numpy.linalg에서 제공하는 것보다 더 확장된 선형대수루틴과 매트릭스 분해\n",
    "* scipy.optimize : 함수 최적화와 방정식의 근을 구하는 알고리즘\n",
    "* scipy.signal : 시그널 프로세싱 도구\n",
    "* scipy.sparse : 희소행렬과 희소 선형 시스템에 대한 풀이법등을 제공\n",
    "* scipy.special : 감마함수처럼 흔히 사용되는 수학함수를 구현한 포트란라이브러리인 SPECFUN확장\n",
    "* scipy.stats : 표준 연속/이산확률분포(집적도함수, 샘플러, 연속분포함수)와 다양한 통계테스트, 그리고 좀 더 기술적인 통계 도구\n",
    "* scipy.weave : 배열계산을 빠르게 하기 위한 인라인 C++코드를 사용하는 도구\n",
    "\n",
    "###### scipy를 사용한 기초적인 검등\n",
    "\n",
    "SciPy파이썬 패키지는 아래와 같이 다양한 검증명령들을 제공한다.\n",
    "\n",
    ">* 이항검정(Binimial Test)\n",
    "* 카이제곱검정(Chi-Square Test)\n",
    "* 단일표본 z-검정(One-sample z-Test)\n",
    "* 단일표본 t-검정(One-sample t-Test)\n",
    "* 독립표본 t-검정(Independetn-two-sample t-Test)\n",
    "* 대응표본 t-검정(Paired-two-sample t-Test)\n",
    "* 분산검정"
   ]
  },
  {
   "cell_type": "code",
   "execution_count": null,
   "metadata": {},
   "outputs": [],
   "source": []
  },
  {
   "cell_type": "code",
   "execution_count": null,
   "metadata": {},
   "outputs": [],
   "source": []
  },
  {
   "cell_type": "code",
   "execution_count": null,
   "metadata": {},
   "outputs": [],
   "source": []
  },
  {
   "cell_type": "code",
   "execution_count": null,
   "metadata": {},
   "outputs": [],
   "source": []
  },
  {
   "cell_type": "code",
   "execution_count": null,
   "metadata": {},
   "outputs": [],
   "source": []
  },
  {
   "cell_type": "code",
   "execution_count": null,
   "metadata": {},
   "outputs": [],
   "source": []
  },
  {
   "cell_type": "code",
   "execution_count": null,
   "metadata": {},
   "outputs": [],
   "source": []
  },
  {
   "cell_type": "code",
   "execution_count": null,
   "metadata": {},
   "outputs": [],
   "source": []
  },
  {
   "cell_type": "code",
   "execution_count": null,
   "metadata": {},
   "outputs": [],
   "source": []
  },
  {
   "cell_type": "code",
   "execution_count": null,
   "metadata": {},
   "outputs": [],
   "source": []
  },
  {
   "cell_type": "code",
   "execution_count": null,
   "metadata": {},
   "outputs": [],
   "source": []
  },
  {
   "cell_type": "code",
   "execution_count": null,
   "metadata": {},
   "outputs": [],
   "source": []
  },
  {
   "cell_type": "code",
   "execution_count": null,
   "metadata": {},
   "outputs": [],
   "source": []
  },
  {
   "cell_type": "code",
   "execution_count": null,
   "metadata": {},
   "outputs": [],
   "source": []
  },
  {
   "cell_type": "code",
   "execution_count": null,
   "metadata": {},
   "outputs": [],
   "source": []
  },
  {
   "cell_type": "code",
   "execution_count": null,
   "metadata": {},
   "outputs": [],
   "source": []
  },
  {
   "cell_type": "code",
   "execution_count": null,
   "metadata": {},
   "outputs": [],
   "source": []
  },
  {
   "cell_type": "code",
   "execution_count": null,
   "metadata": {},
   "outputs": [],
   "source": []
  },
  {
   "cell_type": "code",
   "execution_count": null,
   "metadata": {},
   "outputs": [],
   "source": []
  },
  {
   "cell_type": "code",
   "execution_count": null,
   "metadata": {},
   "outputs": [],
   "source": []
  },
  {
   "cell_type": "code",
   "execution_count": null,
   "metadata": {},
   "outputs": [],
   "source": []
  },
  {
   "cell_type": "code",
   "execution_count": null,
   "metadata": {},
   "outputs": [],
   "source": []
  }
 ],
 "metadata": {
  "kernelspec": {
   "display_name": "Python 3",
   "language": "python",
   "name": "python3"
  },
  "language_info": {
   "codemirror_mode": {
    "name": "ipython",
    "version": 3
   },
   "file_extension": ".py",
   "mimetype": "text/x-python",
   "name": "python",
   "nbconvert_exporter": "python",
   "pygments_lexer": "ipython3",
   "version": "3.7.6"
  }
 },
 "nbformat": 4,
 "nbformat_minor": 4
}
