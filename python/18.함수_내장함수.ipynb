{
 "cells": [
  {
   "cell_type": "markdown",
   "metadata": {},
   "source": [
    "### 내장함수\n",
    "\n",
    "* https://docs.python.org/3/library/functions.html"
   ]
  },
  {
   "cell_type": "code",
   "execution_count": 2,
   "metadata": {},
   "outputs": [
    {
     "name": "stdout",
     "output_type": "stream",
     "text": [
      "1\n",
      "1\n"
     ]
    }
   ],
   "source": [
    "# 1. abs()\n",
    "print(abs(-1))\n",
    "print(abs(1))"
   ]
  },
  {
   "cell_type": "code",
   "execution_count": 3,
   "metadata": {},
   "outputs": [
    {
     "name": "stdout",
     "output_type": "stream",
     "text": [
      "True\n",
      "False\n",
      "True\n",
      "True\n"
     ]
    }
   ],
   "source": [
    "# 2. all(iterable)\n",
    "# 인수로 iterable자료를 전달 받아서 iterable의 값이 모두 참이면 True\n",
    "# 거짓이 하나라도 있다면 False를 리턴\n",
    "print(all([1,2,3,4]))  # True\n",
    "print(all([1,2,3,0]))  # False\n",
    "print(all([]))         # True\n",
    "print(all(['a', 'b', 'c'])) # True"
   ]
  },
  {
   "cell_type": "code",
   "execution_count": 5,
   "metadata": {},
   "outputs": [
    {
     "name": "stdout",
     "output_type": "stream",
     "text": [
      "True\n",
      "True\n",
      "False\n",
      "True\n"
     ]
    }
   ],
   "source": [
    "# 3. any(iterable)\n",
    "# 인수로 iterable자료를 전달 받아서 iterable의 값이 하나라도 참이면 True\n",
    "# 모두 거짓일 때 False를 리턴\n",
    "print(any([1,2,3,4]))  # True\n",
    "print(any([1,2,3,0]))  # True\n",
    "print(any([]))         # False\n",
    "print(any(['a', 'b', 'c'])) # True"
   ]
  },
  {
   "cell_type": "code",
   "execution_count": 17,
   "metadata": {},
   "outputs": [
    {
     "name": "stdout",
     "output_type": "stream",
     "text": [
      "A\n",
      "a\n",
      "0\n",
      "ABCDEFGHIJKLMNOPQRSTUVWXYZ\n",
      "abcdefghijklmnopqrstuvwxyz\n",
      "0123456789\n",
      "ߐߑߒߓߔߕߖߗߘߙߚߛߜߝߞߟߠߡߢߣߤߥߦߧߨߩߪ߲߫߬߭߮߯߰߱߳ߴߵ߶߷߸߹ߺ߻߼߽߾߿ࠀࠁ"
     ]
    }
   ],
   "source": [
    "# 4. chr(ascii)\n",
    "# ascii코드 값을 전달받아서 그 코드에 해당하는 문자를 리턴\n",
    "print(chr(65)) # A\n",
    "print(chr(97)) # a\n",
    "print(chr(48)) # 0\n",
    "\n",
    "# 대문자알파벳\n",
    "for i in range(26):\n",
    "    print(chr(i+65), end=\"\")\n",
    "print()\n",
    "\n",
    "# 소문자알파벳\n",
    "for i in range(26):\n",
    "    print(chr(i+97), end=\"\")\n",
    "print()\n",
    "\n",
    "# 숫자\n",
    "for i in range(10):\n",
    "    print(chr(i+48), end=\"\")\n",
    "print()\n",
    "\n",
    "# 특수문자\n",
    "for i in range(50):\n",
    "    print(chr(i+2000), end=\"\")"
   ]
  },
  {
   "cell_type": "code",
   "execution_count": 20,
   "metadata": {},
   "outputs": [
    {
     "name": "stdout",
     "output_type": "stream",
     "text": [
      "['__add__', '__class__', '__contains__', '__delattr__', '__delitem__', '__dir__', '__doc__', '__eq__', '__format__', '__ge__', '__getattribute__', '__getitem__', '__gt__', '__hash__', '__iadd__', '__imul__', '__init__', '__init_subclass__', '__iter__', '__le__', '__len__', '__lt__', '__mul__', '__ne__', '__new__', '__reduce__', '__reduce_ex__', '__repr__', '__reversed__', '__rmul__', '__setattr__', '__setitem__', '__sizeof__', '__str__', '__subclasshook__', 'append', 'clear', 'copy', 'count', 'extend', 'index', 'insert', 'pop', 'remove', 'reverse', 'sort']\n",
      "\n",
      "['__add__', '__class__', '__contains__', '__delattr__', '__dir__', '__doc__', '__eq__', '__format__', '__ge__', '__getattribute__', '__getitem__', '__getnewargs__', '__gt__', '__hash__', '__init__', '__init_subclass__', '__iter__', '__le__', '__len__', '__lt__', '__mul__', '__ne__', '__new__', '__reduce__', '__reduce_ex__', '__repr__', '__rmul__', '__setattr__', '__sizeof__', '__str__', '__subclasshook__', 'count', 'index']\n",
      "\n",
      "['__class__', '__contains__', '__delattr__', '__delitem__', '__dir__', '__doc__', '__eq__', '__format__', '__ge__', '__getattribute__', '__getitem__', '__gt__', '__hash__', '__init__', '__init_subclass__', '__iter__', '__le__', '__len__', '__lt__', '__ne__', '__new__', '__reduce__', '__reduce_ex__', '__repr__', '__setattr__', '__setitem__', '__sizeof__', '__str__', '__subclasshook__', 'clear', 'copy', 'fromkeys', 'get', 'items', 'keys', 'pop', 'popitem', 'setdefault', 'update', 'values']\n",
      "\n",
      "['__add__', '__class__', '__contains__', '__delattr__', '__dir__', '__doc__', '__eq__', '__format__', '__ge__', '__getattribute__', '__getitem__', '__getnewargs__', '__gt__', '__hash__', '__init__', '__init_subclass__', '__iter__', '__le__', '__len__', '__lt__', '__mod__', '__mul__', '__ne__', '__new__', '__reduce__', '__reduce_ex__', '__repr__', '__rmod__', '__rmul__', '__setattr__', '__sizeof__', '__str__', '__subclasshook__', 'capitalize', 'casefold', 'center', 'count', 'encode', 'endswith', 'expandtabs', 'find', 'format', 'format_map', 'index', 'isalnum', 'isalpha', 'isascii', 'isdecimal', 'isdigit', 'isidentifier', 'islower', 'isnumeric', 'isprintable', 'isspace', 'istitle', 'isupper', 'join', 'ljust', 'lower', 'lstrip', 'maketrans', 'partition', 'replace', 'rfind', 'rindex', 'rjust', 'rpartition', 'rsplit', 'rstrip', 'split', 'splitlines', 'startswith', 'strip', 'swapcase', 'title', 'translate', 'upper', 'zfill']\n",
      "\n"
     ]
    }
   ],
   "source": [
    "# 5. dir()\n",
    "# 객체가 가지고 있는 변수와 함수를 출력\n",
    "print(dir([]))\n",
    "print()\n",
    "\n",
    "print(dir(()))\n",
    "print()\n",
    "\n",
    "print(dir({}))\n",
    "print()\n",
    "\n",
    "print(dir((\"\")))\n",
    "print()"
   ]
  },
  {
   "cell_type": "code",
   "execution_count": 22,
   "metadata": {},
   "outputs": [
    {
     "name": "stdout",
     "output_type": "stream",
     "text": [
      "(2, 1)\n",
      "(6.0, 0.09999999999999998)\n"
     ]
    }
   ],
   "source": [
    "# 6. divmod(a,b)\n",
    "# 2개의 인수를 받어서 a/b의 몫과 나머지를 tuple로 리턴\n",
    "print(divmod(7,3))\n",
    "print(divmod(1.3, 0.2)) # 실수는 정밀도의 문제가 있다."
   ]
  },
  {
   "cell_type": "code",
   "execution_count": 26,
   "metadata": {},
   "outputs": [
    {
     "name": "stdout",
     "output_type": "stream",
     "text": [
      "100 홍길동\n",
      "101 소향\n",
      "102 홍길녀\n"
     ]
    }
   ],
   "source": [
    "# 7. enumerate(iterable)\n",
    "# \"열거하다\"라는 의미처럼 순서가 있는 자료형 전달받아서\n",
    "# 인덱스값을 포함하는 enumerate라는 객체로 리턴\n",
    "# enumerate객체는 보통 for문과 함께 사용된다.\n",
    "for i, name in enumerate(['홍길동', '소향', '홍길녀'], 100):\n",
    "    print(i, name)\n",
    "    # print(type(i), type(name))\n",
    "    \n",
    "?enumerate"
   ]
  },
  {
   "cell_type": "code",
   "execution_count": 34,
   "metadata": {},
   "outputs": [
    {
     "name": "stdout",
     "output_type": "stream",
     "text": [
      "2\n",
      "HiPython\n",
      "(2, 1)\n"
     ]
    },
    {
     "ename": "NameError",
     "evalue": "name 'divmodxxx' is not defined",
     "output_type": "error",
     "traceback": [
      "\u001b[1;31m---------------------------------------------------------------------------\u001b[0m",
      "\u001b[1;31mNameError\u001b[0m                                 Traceback (most recent call last)",
      "\u001b[1;32m<ipython-input-34-d177bb903c25>\u001b[0m in \u001b[0;36m<module>\u001b[1;34m\u001b[0m\n\u001b[0;32m      6\u001b[0m \u001b[0mprint\u001b[0m\u001b[1;33m(\u001b[0m\u001b[0meval\u001b[0m\u001b[1;33m(\u001b[0m\u001b[1;34m'\"Hi\" + \"Python\"'\u001b[0m\u001b[1;33m)\u001b[0m\u001b[1;33m)\u001b[0m\u001b[1;33m\u001b[0m\u001b[1;33m\u001b[0m\u001b[0m\n\u001b[0;32m      7\u001b[0m \u001b[0mprint\u001b[0m\u001b[1;33m(\u001b[0m\u001b[0meval\u001b[0m\u001b[1;33m(\u001b[0m\u001b[1;34m\"divmod(7,3)\"\u001b[0m\u001b[1;33m)\u001b[0m\u001b[1;33m)\u001b[0m\u001b[1;33m\u001b[0m\u001b[1;33m\u001b[0m\u001b[0m\n\u001b[1;32m----> 8\u001b[1;33m \u001b[0mprint\u001b[0m\u001b[1;33m(\u001b[0m\u001b[0meval\u001b[0m\u001b[1;33m(\u001b[0m\u001b[1;34m\"divmodxxx(7,3)\"\u001b[0m\u001b[1;33m)\u001b[0m\u001b[1;33m)\u001b[0m\u001b[1;33m\u001b[0m\u001b[1;33m\u001b[0m\u001b[0m\n\u001b[0m",
      "\u001b[1;32m<string>\u001b[0m in \u001b[0;36m<module>\u001b[1;34m\u001b[0m\n",
      "\u001b[1;31mNameError\u001b[0m: name 'divmodxxx' is not defined"
     ]
    }
   ],
   "source": [
    "# 8. eval(expression)\n",
    "# 파이썬의 표현식을 문자열로 전달받아서 해당 파이썬의 표현식을\n",
    "# 실행해주는 함수이다.\n",
    "# eval?\n",
    "print(eval('1+1'))\n",
    "print(eval('\"Hi\" + \"Python\"'))\n",
    "print(eval(\"divmod(7,3)\"))\n",
    "print(eval(\"divmodxxx(7,3)\"))"
   ]
  },
  {
   "cell_type": "code",
   "execution_count": 38,
   "metadata": {},
   "outputs": [
    {
     "name": "stdout",
     "output_type": "stream",
     "text": [
      "[3, 2]\n",
      "[3, 2]\n",
      "[3, 2]\n"
     ]
    }
   ],
   "source": [
    "# 9. filter(func명, iterable)\n",
    "# 첫번째 인수로 함수명을, 두번째 인수로 iterable자료를 전달 받아서\n",
    "# 그 중에 조건에 맞는 값만 리턴하는 함수이다.\n",
    "\n",
    "# 1) 사용자함수이용\n",
    "def positive(x):\n",
    "    result = []\n",
    "    for i in x:\n",
    "        if i > 0: result.append(i)\n",
    "    return result\n",
    "\n",
    "print(positive([-1, 3, 0, -4, -6, 2]))\n",
    "\n",
    "# 2) filter함수를 사용\n",
    "def positive1(x):\n",
    "    return x > 0\n",
    "# print(positive1([-1, 3, 0, -4, -6, 2])) # 에러\n",
    "print(list(filter(positive1, [-1, 3, 0, -4, -6, 2])))\n",
    "\n",
    "# 3) lambda식\n",
    "print(list(filter(lambda x: x>0, [-1, 3, 0, -4, -6, 2])))"
   ]
  },
  {
   "cell_type": "code",
   "execution_count": 40,
   "metadata": {},
   "outputs": [
    {
     "name": "stdout",
     "output_type": "stream",
     "text": [
      "0x1\n",
      "0xa\n",
      "0x10\n",
      "0xea\n"
     ]
    }
   ],
   "source": [
    "# 10. hex(10진수)\n",
    "# 10진수를 전달받아서 16진수로 리턴\n",
    "print(hex(1))\n",
    "print(hex(10))\n",
    "print(hex(16))\n",
    "print(hex(234))"
   ]
  },
  {
   "cell_type": "code",
   "execution_count": 45,
   "metadata": {},
   "outputs": [
    {
     "name": "stdout",
     "output_type": "stream",
     "text": [
      "2092062659568\n",
      "2092062659856\n",
      "2092062659568\n",
      "\n",
      "140708973421008\n",
      "140708973421008\n",
      "\n"
     ]
    }
   ],
   "source": [
    "# 11. id(객체)\n",
    "# 객체(object)를 전달받아서 객체의 고유한 주소값(메모리주소, reference)를 리턴\n",
    "name = \"소향\"\n",
    "print(id(name))\n",
    "print(id(\"소향\"))\n",
    "y = name\n",
    "print(id(y))\n",
    "print()\n",
    "\n",
    "x = 3\n",
    "print(id(x))\n",
    "print(id(3))\n",
    "print()"
   ]
  },
  {
   "cell_type": "code",
   "execution_count": 47,
   "metadata": {},
   "outputs": [
    {
     "name": "stdout",
     "output_type": "stream",
     "text": [
      "자료를 입력하세요! : Hello Python!!\n",
      "Hello Python!!\n"
     ]
    }
   ],
   "source": [
    "# 12. input()\n",
    "# 사용자입력값을 문자열로 리턴\n",
    "a = input(\"자료를 입력하세요! : \")\n",
    "print(a)"
   ]
  },
  {
   "cell_type": "code",
   "execution_count": 53,
   "metadata": {},
   "outputs": [
    {
     "name": "stdout",
     "output_type": "stream",
     "text": [
      "3\n",
      "3\n",
      "11\n",
      "3\n",
      "9\n",
      "17\n",
      "26\n"
     ]
    }
   ],
   "source": [
    "# 13. int(), int(string), int(x, radix)\n",
    "# 문자열형태의 숫자값(정수, 실수)를 정수로 리턴\n",
    "print(int(3.4))\n",
    "print(int(\"3\"))\n",
    "\n",
    "# int(x, radix) radix = 진법\n",
    "print(int('11'))\n",
    "print(int('11', 2))\n",
    "print(int('11', 8))\n",
    "print(int('11', 16))\n",
    "# print(int('1A'))\n",
    "print(int('1A', 16))"
   ]
  },
  {
   "cell_type": "code",
   "execution_count": 58,
   "metadata": {},
   "outputs": [
    {
     "name": "stdout",
     "output_type": "stream",
     "text": [
      "True\n",
      "False\n",
      "True\n",
      "True\n"
     ]
    },
    {
     "ename": "TypeError",
     "evalue": "isinstance() arg 2 must be a type or tuple of types",
     "output_type": "error",
     "traceback": [
      "\u001b[1;31m---------------------------------------------------------------------------\u001b[0m",
      "\u001b[1;31mTypeError\u001b[0m                                 Traceback (most recent call last)",
      "\u001b[1;32m<ipython-input-58-9d7153dfe439>\u001b[0m in \u001b[0;36m<module>\u001b[1;34m\u001b[0m\n\u001b[0;32m     14\u001b[0m \u001b[0mprint\u001b[0m\u001b[1;33m(\u001b[0m\u001b[0misinstance\u001b[0m\u001b[1;33m(\u001b[0m\u001b[0mb\u001b[0m\u001b[1;33m,\u001b[0m \u001b[0mPerson\u001b[0m\u001b[1;33m)\u001b[0m\u001b[1;33m)\u001b[0m     \u001b[1;31m# True (상속)\u001b[0m\u001b[1;33m\u001b[0m\u001b[1;33m\u001b[0m\u001b[0m\n\u001b[0;32m     15\u001b[0m \u001b[0mprint\u001b[0m\u001b[1;33m(\u001b[0m\u001b[0misinstance\u001b[0m\u001b[1;33m(\u001b[0m\u001b[0mb\u001b[0m\u001b[1;33m,\u001b[0m \u001b[0mAdam\u001b[0m\u001b[1;33m)\u001b[0m\u001b[1;33m)\u001b[0m       \u001b[1;31m# True\u001b[0m\u001b[1;33m\u001b[0m\u001b[1;33m\u001b[0m\u001b[0m\n\u001b[1;32m---> 16\u001b[1;33m \u001b[0mprint\u001b[0m\u001b[1;33m(\u001b[0m\u001b[0misinstance\u001b[0m\u001b[1;33m(\u001b[0m\u001b[0mb\u001b[0m\u001b[1;33m,\u001b[0m \u001b[0mc\u001b[0m\u001b[1;33m)\u001b[0m\u001b[1;33m)\u001b[0m       \u001b[1;31m# True\u001b[0m\u001b[1;33m\u001b[0m\u001b[1;33m\u001b[0m\u001b[0m\n\u001b[0m",
      "\u001b[1;31mTypeError\u001b[0m: isinstance() arg 2 must be a type or tuple of types"
     ]
    }
   ],
   "source": [
    "# 14. isinstance(객체, class)\n",
    "# 첫번째인수로 객체, 두번쨰 인수로 클래스명을 전달 받아서\n",
    "# 해당하는 객체(인스턴스)가 클래스의 객체인지 여부를 True or False로 리턴\n",
    "class Person: pass\n",
    "class Adam(Person): pass\n",
    "class Calculator(): pass\n",
    "\n",
    "a = Person()\n",
    "b = Adam()\n",
    "c = Calculator()\n",
    "\n",
    "print(isinstance(a, Person))     # True\n",
    "print(isinstance(a, Calculator)) # False\n",
    "print(isinstance(b, Person))     # True (상속)\n",
    "print(isinstance(b, Adam))       # True \n",
    "# print(isinstance(b, c))        # c는 클래스가 아니라 객체이기 때문에 에러 "
   ]
  },
  {
   "cell_type": "code",
   "execution_count": 59,
   "metadata": {},
   "outputs": [
    {
     "name": "stdout",
     "output_type": "stream",
     "text": [
      "['문', '자', '열']\n",
      "[1, 2, 3]\n"
     ]
    }
   ],
   "source": [
    "# 15. list(iterable)\n",
    "# iterable자료형을 list형으로 변환\n",
    "print(list(\"문자열\"))\n",
    "print(list((1,2,3)))"
   ]
  },
  {
   "cell_type": "code",
   "execution_count": 64,
   "metadata": {},
   "outputs": [
    {
     "name": "stdout",
     "output_type": "stream",
     "text": [
      "[2, 4, 6, 8]\n",
      "<map object at 0x000001E7186B8B08>\n",
      "[2, 4, 6, 8]\n",
      "[2, 4, 6, 8]\n"
     ]
    }
   ],
   "source": [
    "# 16. map(function, iterable)\n",
    "# 함수와 iterable자료형을 전달받아서 각 요소가 함수에 수행된 \n",
    "# 결과를 리턴한다.\n",
    "\n",
    "# 1) 사용자함수이용\n",
    "def two_times(nums):\n",
    "    result = []\n",
    "    for num in nums:\n",
    "        result.append(num*2)\n",
    "    return result\n",
    "result = two_times([1,2,3,4])\n",
    "print(result)\n",
    "\n",
    "# 2) map함수이용\n",
    "def two_times1(x): return x * 2\n",
    "print(map(two_times1, [1,2,3,4]))\n",
    "print(list(map(two_times1, [1,2,3,4])))\n",
    "\n",
    "# 3) lambda식이용\n",
    "print(list(map(two_times1, [1,2,3,4])))"
   ]
  },
  {
   "cell_type": "code",
   "execution_count": 65,
   "metadata": {},
   "outputs": [
    {
     "name": "stdout",
     "output_type": "stream",
     "text": [
      "2\n",
      "8\n"
     ]
    }
   ],
   "source": [
    "# 17. min(), max()\n",
    "print(min([2, 4, 6, 8]))\n",
    "print(max([2, 4, 6, 8]))"
   ]
  },
  {
   "cell_type": "code",
   "execution_count": 66,
   "metadata": {},
   "outputs": [
    {
     "name": "stdout",
     "output_type": "stream",
     "text": [
      "0o10\n",
      "0o12\n",
      "0o23\n"
     ]
    }
   ],
   "source": [
    "# 18. oct(십진수)\n",
    "print(oct(8))\n",
    "print(oct(10))\n",
    "print(oct(19))"
   ]
  },
  {
   "cell_type": "code",
   "execution_count": null,
   "metadata": {},
   "outputs": [],
   "source": [
    "# 19. open() : 13.파일입출력_fileIO 참조"
   ]
  },
  {
   "cell_type": "code",
   "execution_count": 74,
   "metadata": {},
   "outputs": [
    {
     "name": "stdout",
     "output_type": "stream",
     "text": [
      "65\n",
      "97\n",
      "48\n",
      "44032\n",
      "44032, 45208, 45796, "
     ]
    }
   ],
   "source": [
    "# 20. ord(문자)\n",
    "# 문자를 ascii코드값으로 변환\n",
    "print(ord('A'))\n",
    "print(ord('a'))\n",
    "# print(ord(0)) # 에러\n",
    "print(ord('0'))\n",
    "print(ord('가'))\n",
    "\n",
    "chars = ['가', '나', '다']\n",
    "for c in chars:\n",
    "    print(ord(c), end=\", \")"
   ]
  },
  {
   "cell_type": "code",
   "execution_count": null,
   "metadata": {},
   "outputs": [],
   "source": [
    "# 21. pow(x, y) : x ** y"
   ]
  },
  {
   "cell_type": "code",
   "execution_count": 77,
   "metadata": {},
   "outputs": [
    {
     "name": "stdout",
     "output_type": "stream",
     "text": [
      "[0, 1, 2, 3, 4]\n",
      "[5, 6, 7, 8, 9]\n",
      "[5, 3, 1, -1, -3, -5, -7, -9]\n"
     ]
    }
   ],
   "source": [
    "# 22. range([start], stop, [step])\n",
    "print(list(range(5)))\n",
    "print(list(range(5, 10)))\n",
    "print(list(range(5, -10, -2)))"
   ]
  },
  {
   "cell_type": "code",
   "execution_count": 82,
   "metadata": {},
   "outputs": [
    {
     "name": "stdout",
     "output_type": "stream",
     "text": [
      "[1, 2, 3, 4]\n",
      "['x', 'y', 'z']\n",
      "['h', 'n', 'o', 'p', 't', 'y']\n",
      "[' ', '?', '가', '나', '녕', '다', '라', '마', '바', '사', '세', '안', '요', '하']\n"
     ]
    }
   ],
   "source": [
    "# 23. sorted(iterable)\n",
    "# iterable갑을 전달 받아서 정렬한 후 리스트로 리턴\n",
    "# sorted?\n",
    "print(sorted([3,4,1,2]))\n",
    "print(sorted(['z', 'x', 'y']))\n",
    "print(sorted(\"python\"))\n",
    "print(sorted(\"안녕하세요? 가나다라마바사\"))"
   ]
  },
  {
   "cell_type": "code",
   "execution_count": 86,
   "metadata": {},
   "outputs": [
    {
     "name": "stdout",
     "output_type": "stream",
     "text": [
      "3\n",
      "<class 'str'>\n"
     ]
    }
   ],
   "source": [
    "# 24. str(객체)\n",
    "print(str(3))\n",
    "print(type(str(3)))"
   ]
  },
  {
   "cell_type": "code",
   "execution_count": 88,
   "metadata": {},
   "outputs": [
    {
     "name": "stdout",
     "output_type": "stream",
     "text": [
      "('a', 'b', 'c')\n",
      "(1, 2, 3)\n"
     ]
    }
   ],
   "source": [
    "# 25. tuple()\n",
    "print(tuple('abc'))\n",
    "print(tuple([1,2,3]))"
   ]
  },
  {
   "cell_type": "code",
   "execution_count": 90,
   "metadata": {},
   "outputs": [
    {
     "name": "stdout",
     "output_type": "stream",
     "text": [
      "<class 'int'>\n",
      "<class 'str'>\n",
      "<class 'dict'>\n",
      "<class 'list'>\n",
      "<class 'dict'>\n"
     ]
    }
   ],
   "source": [
    "# 26. type()\n",
    "# 객체의 자료형을 리턴\n",
    "print(type(3))\n",
    "print(type(\"a\"))\n",
    "print(type({}))\n",
    "print(type([]))\n",
    "print(type({}))"
   ]
  },
  {
   "cell_type": "code",
   "execution_count": 98,
   "metadata": {},
   "outputs": [
    {
     "name": "stdout",
     "output_type": "stream",
     "text": [
      "[(1, 4), (2, 5), (3, 6)]\n",
      "[(1, 4)]\n",
      "[(4, 1)]\n",
      "[(1, 4), (2, 5), (3, 6)]\n",
      "[('a', 4), ('b', 5), ('c', 6)]\n",
      "[('a', 4)]\n",
      "[('a', 4), ('b', 5), ('c', 6)]\n",
      "[('a', 'x'), ('b', 'y'), ('c', 'z')]\n",
      "[('a', 'x'), ('b', 'y'), ('c', 'z')]\n"
     ]
    }
   ],
   "source": [
    "# 27. zip(iterable)\n",
    "# 동일한 갯수의 자료형을 묶어서 tuple로 리턴\n",
    "\n",
    "# 1) 2개의 겍체의 갯수가 동일할 경우\n",
    "a = [1,2,3]\n",
    "b = [4,5,6]\n",
    "print(list(zip(a,b)))\n",
    "\n",
    "# 2) 2개의 겍체의 갯수가 동일하지 경우\n",
    "print(list(zip([1], [4,5,6])))\n",
    "print(list(zip([4,5,6], [1])))\n",
    "\n",
    "# 3) 자료형이 틀릴 경우\n",
    "print(list(zip((1,2,3), [4,5,6])))\n",
    "print(list(zip('abc', [4,5,6])))\n",
    "print(list(zip('a', [4,5,6])))\n",
    "print(list(zip('abcd', [4,5,6])))\n",
    "print(list(zip('abc', 'xyz')))\n",
    "print(list(zip('abc', ['x', 'y', 'z'])))"
   ]
  }
 ],
 "metadata": {
  "kernelspec": {
   "display_name": "Python 3",
   "language": "python",
   "name": "python3"
  },
  "language_info": {
   "codemirror_mode": {
    "name": "ipython",
    "version": 3
   },
   "file_extension": ".py",
   "mimetype": "text/x-python",
   "name": "python",
   "nbconvert_exporter": "python",
   "pygments_lexer": "ipython3",
   "version": "3.7.6"
  }
 },
 "nbformat": 4,
 "nbformat_minor": 4
}
