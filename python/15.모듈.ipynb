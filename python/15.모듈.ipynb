{
 "cells": [
  {
   "cell_type": "markdown",
   "metadata": {},
   "source": [
    "### 모듈(Module)\n",
    "#### 1. 모듈의 정의\n",
    "\n",
    "* 함수 : 파일내에서 일정한 작업을 수행하는 코드 블럭을 말한다..\n",
    "* 모듈 : 함수나 변수 or 클래스들을 모아 놓은 파일(확장자 `.py`)이다. \n",
    " - 유사하거나 연관된 일을 하는 함수나 변수들을 모아서 하나의 파일에 저장한 후 \n",
    " - 추후에 재사용하기 위해서 정의한다.\n",
    " - 모듈의 이름을 확장자를 제외한 것이 파일의 이름이다.\n",
    "* 패키지 : 여러개의 모듈을 모아 놓은 디렉토리이다.\n",
    " - 패키지(디렉토리) > 모듈(파일) > 클래스(변수, 메서드) > 함수\n",
    "\n",
    "#### 2. 모듈을 사용하는 목적\n",
    "\n",
    "* 코드의 재사용 : 모듈이 없다면 자주 사용되는 함수를 매번 작성해야 하기 때문에 개발 및 유지보수가 어렵다.\n",
    "* 프로그램 개발시에 전체 코드를 여러 모듈단위로 분리하여 설계함으로써 작업의 효율을 향상시킬 수가 있다.\n",
    "* 별도의 이름공간(namespace)을 제공함으로써 동일 이름의 변수나 함수들이 각각의 모듈마다 독립적으로 정의해서 사용할 수 있다.\n",
    "\n",
    "#### 3. 모듈의 종류\n",
    "\n",
    "* 표준모듈 : 파이썬안에서 패키지 안에 기본적으로 포함되어서 제공되는 모듈을 말한다. 대표적인 모듈은 `math, string, sys`등이 있다.\n",
    "* 사용자정의모듈 : 파이썬유저가 직접 코드를 작성한 것\n",
    "* 써드파티모듈 : 다른 업체나 개인이 만들어서 배포하는 모듈 `numpy, pandas, matplotlib`\n",
    "\n",
    "#### 4. 모듈의 선언\n",
    "\n",
    "1. 모듈전체에 참조\n",
    "\n",
    "    a. import 모듈명\n",
    "    b. import 모듈명 as 별칭 : 해당 모듈의 별칭을 지정해 편의성, 충돌방지 등을 한다.\n",
    "    c. from 모듈명 import [변수, 함수] : 모듈내에 특정 변수, 함수만 호출\n",
    "    d. from 모듈명 import * : __ 로 시작하는 모듈을 제외한 모든 이름을 호출\n",
    "    e. from 모듈명 import [변수, 함수] as 별칭\n",
    "\n",
    "2. 모듈내에서 함수를 호출하는 방법\n",
    "> 모둘명, 함수()\n",
    "\n",
    "3. 모듈을 참조할 수 있는 디렉토리 확인\n",
    "* 기볹거으로 현재 디렉토리에 있는 파일이나 파이썬 라이브러리가 정지된 디렉토리에 있는 모듈만 불러올 수 있따. sys모듈에을 import 후에 `sys.path()`함수로 확인할 수 있다.\n",
    "* 디렉토리를 현제 세션에 추가하거나 삭제할 경우에는 `sys.path.append()`,`sys.path.remove()`를 하면된다. "
   ]
  },
  {
   "cell_type": "code",
   "execution_count": 3,
   "metadata": {},
   "outputs": [
    {
     "name": "stderr",
     "output_type": "stream",
     "text": [
      "하위 디렉터리 또는 파일 D:\\kim_seunghyek\\python\\source이(가) 이미 있습니다.\n",
      "'D:\\kim_seunghyek\\python'은(는) 내부 또는 외부 명령, 실행할 수 있는 프로그램, 또는\n",
      "배치 파일이 아닙니다.\n"
     ]
    }
   ],
   "source": [
    "# 디렉토리생성하는 window명령 : mkdir\n",
    "!mkdir D:\\kim_seunghyek\\python\\source\n"
   ]
  },
  {
   "cell_type": "markdown",
   "metadata": {},
   "source": [
    "#### 모듈/패키지 실습환경 설정\n",
    "1. cmd창\n",
    "2. D:\\kim_seunghyek\\python\\source>python.exe\n",
    "3. python IDLE창\n",
    "4. D:\\kim_seunghyek\\python\\source\\greeting_en.py\n",
    "   D:\\kim_seunghyek\\python\\source\\greeting_kor.py\n"
   ]
  },
  {
   "cell_type": "code",
   "execution_count": 4,
   "metadata": {},
   "outputs": [],
   "source": [
    "# D:\\kim_seunghyek\\python\\source\\greeting_en.py\n",
    "def welcom():\n",
    "    print('hello python')"
   ]
  },
  {
   "cell_type": "code",
   "execution_count": 5,
   "metadata": {},
   "outputs": [],
   "source": [
    "# D:\\kim_seunghyek\\python\\source\\greeting_kor.py\n",
    "def welcom():\n",
    "    print('파이썬')"
   ]
  },
  {
   "cell_type": "code",
   "execution_count": 8,
   "metadata": {},
   "outputs": [
    {
     "name": "stdout",
     "output_type": "stream",
     "text": [
      "['__doc__', '__loader__', '__name__', '__package__', '__spec__', 'acos', 'acosh', 'asin', 'asinh', 'atan', 'atan2', 'atanh', 'ceil', 'copysign', 'cos', 'cosh', 'degrees', 'e', 'erf', 'erfc', 'exp', 'expm1', 'fabs', 'factorial', 'floor', 'fmod', 'frexp', 'fsum', 'gamma', 'gcd', 'hypot', 'inf', 'isclose', 'isfinite', 'isinf', 'isnan', 'ldexp', 'lgamma', 'log', 'log10', 'log1p', 'log2', 'modf', 'nan', 'pi', 'pow', 'radians', 'remainder', 'sin', 'sinh', 'sqrt', 'tan', 'tanh', 'tau', 'trunc']\n"
     ]
    }
   ],
   "source": [
    "# 1 .파이썬 내장 모듈 불러오기\n",
    "import math\n",
    "# help(math)\n",
    "# math?\n",
    "print(dir(math))"
   ]
  },
  {
   "cell_type": "code",
   "execution_count": 16,
   "metadata": {},
   "outputs": [
    {
     "name": "stdout",
     "output_type": "stream",
     "text": [
      "welcom\t \n"
     ]
    }
   ],
   "source": [
    "%who\n",
    "del math\n",
    "%reset -f "
   ]
  },
  {
   "cell_type": "code",
   "execution_count": 17,
   "metadata": {},
   "outputs": [
    {
     "name": "stdout",
     "output_type": "stream",
     "text": [
      "3.141592653589793\n",
      "81.0\n"
     ]
    }
   ],
   "source": [
    "# 2. 모듈에서 필요한 변수 또는 함수만 불러오기\n",
    "\n",
    "from math import pi as x, pow as y\n",
    "print(x)\n",
    "print(y(3,4))"
   ]
  },
  {
   "cell_type": "code",
   "execution_count": 19,
   "metadata": {},
   "outputs": [],
   "source": [
    "def add(a,b):\n",
    "    return a+b\n",
    "def safe_add(a,b):\n",
    "    if type(a) != type(b):\n",
    "        print('자료형이 다르게 때문에 연산을 할 수 없습니다.')\n",
    "        \n",
    "    else :\n",
    "        return add(a,b)"
   ]
  },
  {
   "cell_type": "code",
   "execution_count": 33,
   "metadata": {},
   "outputs": [
    {
     "name": "stdout",
     "output_type": "stream",
     "text": [
      "30\n",
      "30\n",
      "자료형이 다르게 때문에 연산을 할 수 없습니다.\n",
      "None\n"
     ]
    }
   ],
   "source": [
    "import mod1 # 패스에 없어서 찾을 수 없음\n",
    "print(mod1.add(10,20))\n",
    "print(mod1.safe_add(10,20))\n",
    "\n",
    "# print(mod1.add(10,'a'))\n",
    "print(mod1.safe_add(10,'a'))"
   ]
  },
  {
   "cell_type": "code",
   "execution_count": 30,
   "metadata": {},
   "outputs": [
    {
     "name": "stdout",
     "output_type": "stream",
     "text": [
      "['D:\\\\kim_seunghyek\\\\python', 'C:\\\\Anaconda3\\\\python37.zip', 'C:\\\\Anaconda3\\\\DLLs', 'C:\\\\Anaconda3\\\\lib', 'C:\\\\Anaconda3', '', 'C:\\\\Anaconda3\\\\lib\\\\site-packages', 'C:\\\\Anaconda3\\\\lib\\\\site-packages\\\\win32', 'C:\\\\Anaconda3\\\\lib\\\\site-packages\\\\win32\\\\lib', 'C:\\\\Anaconda3\\\\lib\\\\site-packages\\\\Pythonwin', 'C:\\\\Anaconda3\\\\lib\\\\site-packages\\\\IPython\\\\extensions', 'C:\\\\Users\\\\TJOEUN-JR\\\\.ipython', 'D:/kim_seunghyek/python/source', 'D:/kim_seunghyek/python/source']\n",
      "\n",
      "['D:\\\\kim_seunghyek\\\\python', 'C:\\\\Anaconda3\\\\python37.zip', 'C:\\\\Anaconda3\\\\DLLs', 'C:\\\\Anaconda3\\\\lib', 'C:\\\\Anaconda3', '', 'C:\\\\Anaconda3\\\\lib\\\\site-packages', 'C:\\\\Anaconda3\\\\lib\\\\site-packages\\\\win32', 'C:\\\\Anaconda3\\\\lib\\\\site-packages\\\\win32\\\\lib', 'C:\\\\Anaconda3\\\\lib\\\\site-packages\\\\Pythonwin', 'C:\\\\Anaconda3\\\\lib\\\\site-packages\\\\IPython\\\\extensions', 'C:\\\\Users\\\\TJOEUN-JR\\\\.ipython', 'D:/kim_seunghyek/python/source']\n",
      "\n"
     ]
    }
   ],
   "source": [
    "# 현재경로확인\n",
    "import sys\n",
    "print(sys.path)\n",
    "print()\n",
    "\n",
    "# 현재 path에 사용자 디렉토리를 path추가하기\n",
    "# sys.path.append('D:/kim_seunghyek/python/source')\n",
    "# / = \\\\와 같다.\n",
    "# sys.path.remove('D:/kim_seunghyek/python/source')\n",
    "print(sys.path)\n",
    "print()\n",
    "\n",
    "# path 추가 시 주의할점\n",
    "# path.append시 동일 path()가 이더라도 중복해서 추가가 가능하다"
   ]
  },
  {
   "cell_type": "code",
   "execution_count": 35,
   "metadata": {},
   "outputs": [
    {
     "name": "stdout",
     "output_type": "stream",
     "text": [
      "['D:\\\\kim_seunghyek\\\\python', 'C:\\\\Anaconda3\\\\python37.zip', 'C:\\\\Anaconda3\\\\DLLs', 'C:\\\\Anaconda3\\\\lib', 'C:\\\\Anaconda3', '', 'C:\\\\Anaconda3\\\\lib\\\\site-packages', 'C:\\\\Anaconda3\\\\lib\\\\site-packages\\\\win32', 'C:\\\\Anaconda3\\\\lib\\\\site-packages\\\\win32\\\\lib', 'C:\\\\Anaconda3\\\\lib\\\\site-packages\\\\Pythonwin', 'C:\\\\Anaconda3\\\\lib\\\\site-packages\\\\IPython\\\\extensions', 'C:\\\\Users\\\\TJOEUN-JR\\\\.ipython']\n"
     ]
    }
   ],
   "source": [
    "# 사용자 path삭제\n",
    "# 삭제할 path가 없으면 예외처리가 발생한다.\n",
    "# sys.path.remove('D:/kim_seunghyek/python/source')\n",
    "print(sys.path)"
   ]
  },
  {
   "cell_type": "code",
   "execution_count": 36,
   "metadata": {},
   "outputs": [],
   "source": [
    "import source.mod1 as m\n"
   ]
  },
  {
   "cell_type": "markdown",
   "metadata": {},
   "source": [
    "#### \\__main__ 와 \\__name__\n",
    "<img src ='./images/15.모듈_Module_01.png' width = 400 height = 400>"
   ]
  },
  {
   "cell_type": "code",
   "execution_count": 37,
   "metadata": {},
   "outputs": [
    {
     "name": "stdout",
     "output_type": "stream",
     "text": [
      "__main__\n",
      "30\n",
      "10\n",
      "자료형이 다르기 때문에 연산을 할 수가 없습니다\n",
      "None\n"
     ]
    }
   ],
   "source": [
    "# d:\\gilbaek\\python\\source\\mod2.py 생성\n",
    "def add(a, b):\n",
    "    return a + b\n",
    "\n",
    "def safe_add(a, b):\n",
    "    if type(a) != type(b):\n",
    "        print(\"자료형이 다르기 때문에 연산을 할 수가 없습니다\")\n",
    "        return\n",
    "    else:\n",
    "        result = add(a, b)\n",
    "        return result\n",
    "\n",
    "def sub(a, b):\n",
    "    return a - b\n",
    "\n",
    "# 파이썬의 __name__변수는 파이썬이 내부적으로 사용하는 특별한 변수이다.\n",
    "# 만약에 'python mod2.py'처럼 직접 실행할 경우에는 mod2.py의 __name__변수에는 '__main__'\n",
    "# 값이 자동으로 저장된다.\n",
    "# 하지만, 파이썬 쉘이나 다른 파이썬모듈에서 import할 경우에는 __name__ 변수에는 자기\n",
    "# 자신의 이름이 자동으로 자장되다. 즉, mod2라는 모듈이름이 __name__ 변수에 저장된다.\n",
    "\n",
    "if __name__ == \"__main__\":\n",
    "    print(__name__)\n",
    "    print(add(20, 10))\n",
    "    print(sub(20, 10))\n",
    "    print(safe_add(\"20\", 10))"
   ]
  },
  {
   "cell_type": "code",
   "execution_count": 40,
   "metadata": {},
   "outputs": [
    {
     "name": "stdout",
     "output_type": "stream",
     "text": [
      "source.mod2\n",
      "{'__name__': 'source.mod2', '__doc__': None, '__package__': 'source', '__loader__': <_frozen_importlib_external.SourceFileLoader object at 0x00000194552336C8>, '__spec__': ModuleSpec(name='source.mod2', loader=<_frozen_importlib_external.SourceFileLoader object at 0x00000194552336C8>, origin='D:\\\\kim_seunghyek\\\\python\\\\source\\\\mod2.py'), '__file__': 'D:\\\\kim_seunghyek\\\\python\\\\source\\\\mod2.py', '__cached__': 'D:\\\\kim_seunghyek\\\\python\\\\source\\\\__pycache__\\\\mod2.cpython-37.pyc', '__builtins__': {'__name__': 'builtins', '__doc__': \"Built-in functions, exceptions, and other objects.\\n\\nNoteworthy: None is the `nil' object; Ellipsis represents `...' in slices.\", '__package__': '', '__loader__': <class '_frozen_importlib.BuiltinImporter'>, '__spec__': ModuleSpec(name='builtins', loader=<class '_frozen_importlib.BuiltinImporter'>), '__build_class__': <built-in function __build_class__>, '__import__': <built-in function __import__>, 'abs': <built-in function abs>, 'all': <built-in function all>, 'any': <built-in function any>, 'ascii': <built-in function ascii>, 'bin': <built-in function bin>, 'breakpoint': <built-in function breakpoint>, 'callable': <built-in function callable>, 'chr': <built-in function chr>, 'compile': <built-in function compile>, 'delattr': <built-in function delattr>, 'dir': <built-in function dir>, 'divmod': <built-in function divmod>, 'eval': <built-in function eval>, 'exec': <built-in function exec>, 'format': <built-in function format>, 'getattr': <built-in function getattr>, 'globals': <built-in function globals>, 'hasattr': <built-in function hasattr>, 'hash': <built-in function hash>, 'hex': <built-in function hex>, 'id': <built-in function id>, 'input': <bound method Kernel.raw_input of <ipykernel.ipkernel.IPythonKernel object at 0x00000194551D4748>>, 'isinstance': <built-in function isinstance>, 'issubclass': <built-in function issubclass>, 'iter': <built-in function iter>, 'len': <built-in function len>, 'locals': <built-in function locals>, 'max': <built-in function max>, 'min': <built-in function min>, 'next': <built-in function next>, 'oct': <built-in function oct>, 'ord': <built-in function ord>, 'pow': <built-in function pow>, 'print': <built-in function print>, 'repr': <built-in function repr>, 'round': <built-in function round>, 'setattr': <built-in function setattr>, 'sorted': <built-in function sorted>, 'sum': <built-in function sum>, 'vars': <built-in function vars>, 'None': None, 'Ellipsis': Ellipsis, 'NotImplemented': NotImplemented, 'False': False, 'True': True, 'bool': <class 'bool'>, 'memoryview': <class 'memoryview'>, 'bytearray': <class 'bytearray'>, 'bytes': <class 'bytes'>, 'classmethod': <class 'classmethod'>, 'complex': <class 'complex'>, 'dict': <class 'dict'>, 'enumerate': <class 'enumerate'>, 'filter': <class 'filter'>, 'float': <class 'float'>, 'frozenset': <class 'frozenset'>, 'property': <class 'property'>, 'int': <class 'int'>, 'list': <class 'list'>, 'map': <class 'map'>, 'object': <class 'object'>, 'range': <class 'range'>, 'reversed': <class 'reversed'>, 'set': <class 'set'>, 'slice': <class 'slice'>, 'staticmethod': <class 'staticmethod'>, 'str': <class 'str'>, 'super': <class 'super'>, 'tuple': <class 'tuple'>, 'type': <class 'type'>, 'zip': <class 'zip'>, '__debug__': True, 'BaseException': <class 'BaseException'>, 'Exception': <class 'Exception'>, 'TypeError': <class 'TypeError'>, 'StopAsyncIteration': <class 'StopAsyncIteration'>, 'StopIteration': <class 'StopIteration'>, 'GeneratorExit': <class 'GeneratorExit'>, 'SystemExit': <class 'SystemExit'>, 'KeyboardInterrupt': <class 'KeyboardInterrupt'>, 'ImportError': <class 'ImportError'>, 'ModuleNotFoundError': <class 'ModuleNotFoundError'>, 'OSError': <class 'OSError'>, 'EnvironmentError': <class 'OSError'>, 'IOError': <class 'OSError'>, 'WindowsError': <class 'OSError'>, 'EOFError': <class 'EOFError'>, 'RuntimeError': <class 'RuntimeError'>, 'RecursionError': <class 'RecursionError'>, 'NotImplementedError': <class 'NotImplementedError'>, 'NameError': <class 'NameError'>, 'UnboundLocalError': <class 'UnboundLocalError'>, 'AttributeError': <class 'AttributeError'>, 'SyntaxError': <class 'SyntaxError'>, 'IndentationError': <class 'IndentationError'>, 'TabError': <class 'TabError'>, 'LookupError': <class 'LookupError'>, 'IndexError': <class 'IndexError'>, 'KeyError': <class 'KeyError'>, 'ValueError': <class 'ValueError'>, 'UnicodeError': <class 'UnicodeError'>, 'UnicodeEncodeError': <class 'UnicodeEncodeError'>, 'UnicodeDecodeError': <class 'UnicodeDecodeError'>, 'UnicodeTranslateError': <class 'UnicodeTranslateError'>, 'AssertionError': <class 'AssertionError'>, 'ArithmeticError': <class 'ArithmeticError'>, 'FloatingPointError': <class 'FloatingPointError'>, 'OverflowError': <class 'OverflowError'>, 'ZeroDivisionError': <class 'ZeroDivisionError'>, 'SystemError': <class 'SystemError'>, 'ReferenceError': <class 'ReferenceError'>, 'MemoryError': <class 'MemoryError'>, 'BufferError': <class 'BufferError'>, 'Warning': <class 'Warning'>, 'UserWarning': <class 'UserWarning'>, 'DeprecationWarning': <class 'DeprecationWarning'>, 'PendingDeprecationWarning': <class 'PendingDeprecationWarning'>, 'SyntaxWarning': <class 'SyntaxWarning'>, 'RuntimeWarning': <class 'RuntimeWarning'>, 'FutureWarning': <class 'FutureWarning'>, 'ImportWarning': <class 'ImportWarning'>, 'UnicodeWarning': <class 'UnicodeWarning'>, 'BytesWarning': <class 'BytesWarning'>, 'ResourceWarning': <class 'ResourceWarning'>, 'ConnectionError': <class 'ConnectionError'>, 'BlockingIOError': <class 'BlockingIOError'>, 'BrokenPipeError': <class 'BrokenPipeError'>, 'ChildProcessError': <class 'ChildProcessError'>, 'ConnectionAbortedError': <class 'ConnectionAbortedError'>, 'ConnectionRefusedError': <class 'ConnectionRefusedError'>, 'ConnectionResetError': <class 'ConnectionResetError'>, 'FileExistsError': <class 'FileExistsError'>, 'FileNotFoundError': <class 'FileNotFoundError'>, 'IsADirectoryError': <class 'IsADirectoryError'>, 'NotADirectoryError': <class 'NotADirectoryError'>, 'InterruptedError': <class 'InterruptedError'>, 'PermissionError': <class 'PermissionError'>, 'ProcessLookupError': <class 'ProcessLookupError'>, 'TimeoutError': <class 'TimeoutError'>, 'open': <built-in function open>, 'copyright': Copyright (c) 2001-2019 Python Software Foundation.\n",
      "All Rights Reserved.\n",
      "\n",
      "Copyright (c) 2000 BeOpen.com.\n",
      "All Rights Reserved.\n",
      "\n",
      "Copyright (c) 1995-2001 Corporation for National Research Initiatives.\n",
      "All Rights Reserved.\n",
      "\n",
      "Copyright (c) 1991-1995 Stichting Mathematisch Centrum, Amsterdam.\n",
      "All Rights Reserved., 'credits':     Thanks to CWI, CNRI, BeOpen.com, Zope Corporation and a cast of thousands\n",
      "    for supporting Python development.  See www.python.org for more information., 'license': See https://www.python.org/psf/license/, 'help': Type help() for interactive help, or help(object) for help about object., '__IPYTHON__': True, 'display': <function display at 0x0000019453432948>, 'get_ipython': <bound method InteractiveShell.get_ipython of <ipykernel.zmqshell.ZMQInteractiveShell object at 0x00000194551D4988>>}, 'add': <function add at 0x0000019455310678>, 'safe_add': <function safe_add at 0x00000194553105E8>, 'sub': <function sub at 0x0000019455310558>}\n"
     ]
    }
   ],
   "source": [
    "import source.mod2 as m\n",
    "# __name__에 들어가는 문자열은 모듈이름이 오는 것인데 IDLE는 기본 모듈이름이 __main__인듯\n",
    "print(m.__name__)\n",
    "print(m.__dict__)\n"
   ]
  },
  {
   "cell_type": "markdown",
   "metadata": {},
   "source": [
    "파이썬은 왜 프로그램의 시작점이 정해져 있지 않는가?\n",
    "\n",
    "파이썬이 처음 개발될 당시에는 리눅스/유닉스에서 사용하는 스크립트언어 기반이었기 때문에 프로그램의 시작점이 따로 정해져 있지 않았다. 보통 리눅스/유닉스의 스크립트파일은 파일 한개로 이루어진 경우가 많은데, 이 스크립트파일 자체가 하나의 프로그램이다 보니 시작점이 필요하지 않았다. 하지만, `c`나 `java`같은 언어는 처음 만들어질 때 부터 소스파일을 여러개 사용했기  때문에 여러소스 파일의 메서드들 중에서도 시작함수 `main()`를 따로 정해 놓았다"
   ]
  },
  {
   "cell_type": "code",
   "execution_count": null,
   "metadata": {},
   "outputs": [],
   "source": []
  }
 ],
 "metadata": {
  "kernelspec": {
   "display_name": "Python 3",
   "language": "python",
   "name": "python3"
  },
  "language_info": {
   "codemirror_mode": {
    "name": "ipython",
    "version": 3
   },
   "file_extension": ".py",
   "mimetype": "text/x-python",
   "name": "python",
   "nbconvert_exporter": "python",
   "pygments_lexer": "ipython3",
   "version": "3.7.6"
  }
 },
 "nbformat": 4,
 "nbformat_minor": 4
}
