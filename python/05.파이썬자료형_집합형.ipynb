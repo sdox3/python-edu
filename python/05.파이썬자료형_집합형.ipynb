{
 "cells": [
  {
   "cell_type": "markdown",
   "metadata": {},
   "source": [
    "### 집합형(set)\n",
    "\n",
    "집합자료형(set)은 파이썬 v2.3부터 지원하기 시작한 자료형이다. 이 자료형은 집합과 관련된 작업들을 보다 쉽게 처리할 수 있도록 만들어진 자료형이다.\n",
    "\n",
    "#### 집합자료형의 특징\n",
    "1. 중복을 허용하지 않고 집합안에서 unique한 값을 가진다.\n",
    "2. 순서가 없다.\n",
    "3. set의 선언 <code>{}</code>를 사용하는 것은 dictionary와 유사하지만 key는 없고 value만 존재한다.\n",
    "4. set(집합) 내부원소는 다양한 값을 함께 가질 수 있지만 mutable한 값은 가질 수 없다.\n",
    "\n",
    "리스트나 튜플은 순서가 있기 때문에 인덱싱을 통해 자료의 값을 가져올 수 있지만 set자료형은 순서가 없기 때문에 인뎅싱으로 자료를 가져올 수 없다. 따라서 set자료형의 저장된 값을 가져오기 위해서는 리스트나 튜플로 변환한 후에 인덱싱을 통해 가져와야 한다.\n",
    "\n",
    "set 자료형의 특징은 집합관련 연산이나 특히, 중복을 제거하기 위한 필터역할로 종종 사용된다.\n",
    "set 자료형은 <code>{}</code>만으로 선언할 수 없다.  선언하기 위해서는 <code>{}</code>안에 값을 가진 객체로 선언하거나 <code>set()</code>이라는 생성자로 선언한다.\n",
    "\n",
    "생성자 set()에 iterable한 객체를 전달하면 자동으로 set자료형으로 변환해준다."
   ]
  },
  {
   "cell_type": "markdown",
   "metadata": {},
   "source": [
    "#### 1. set자료형 선언"
   ]
  },
  {
   "cell_type": "code",
   "execution_count": 6,
   "metadata": {},
   "outputs": [
    {
     "name": "stdout",
     "output_type": "stream",
     "text": [
      "<class 'set'> <class 'set'>\n",
      "set()\n",
      "{1, 2, 3, 4, 5, 6, 7}\n",
      "{1, 2, 3, 4, 5, 6, 7}\n"
     ]
    }
   ],
   "source": [
    "# 1. 선언(1) : 중괄호 내부에 값을 가진 객체로 선언\n",
    "s ={1}\n",
    "\n",
    "# 2. 선언(2) : set() 생성자로 선언\n",
    "a = set()\n",
    "print(type(s),type(a))\n",
    "print(a)\n",
    "\n",
    "# 3. 선언(3) : interable를 이용한선언\n",
    "s2 = set([1,2,3,4,5,6,7])\n",
    "print(s2)\n",
    "\n",
    "# 4. 선언(4) : 중복된 값이 있을 경우, 자동으로 중복된 값이 제거됨\n",
    "# set자료형은 순서가 없기 때문에 어떤 값이 나올지 모름\n",
    "\n",
    "s = {1,2,3,4,5,1,6,7}\n",
    "print(s)"
   ]
  },
  {
   "cell_type": "markdown",
   "metadata": {},
   "source": [
    "#### 2. set자료형 사용하기\n",
    "교집합/합집합/차집합을 구할 경우 많이 사용된다. set 자료형의 요소에는 직접 접근할 수 없기 때문에 집합형을 리스트나 튜플로 변환해서 접근해야한다."
   ]
  },
  {
   "cell_type": "code",
   "execution_count": null,
   "metadata": {},
   "outputs": [],
   "source": [
    "s = {1,2,3,4,5,6,7}\n",
    "l =list(s)\n",
    "t = tuple(s)\n",
    "print(l[3])\n",
    "print(s , type(s))\n",
    "print(l, type(l))\n",
    "print(t, type(t))"
   ]
  },
  {
   "cell_type": "code",
   "execution_count": 17,
   "metadata": {},
   "outputs": [
    {
     "data": {
      "text/plain": [
       "['__and__',\n",
       " '__class__',\n",
       " '__contains__',\n",
       " '__delattr__',\n",
       " '__dir__',\n",
       " '__doc__',\n",
       " '__eq__',\n",
       " '__format__',\n",
       " '__ge__',\n",
       " '__getattribute__',\n",
       " '__gt__',\n",
       " '__hash__',\n",
       " '__iand__',\n",
       " '__init__',\n",
       " '__init_subclass__',\n",
       " '__ior__',\n",
       " '__isub__',\n",
       " '__iter__',\n",
       " '__ixor__',\n",
       " '__le__',\n",
       " '__len__',\n",
       " '__lt__',\n",
       " '__ne__',\n",
       " '__new__',\n",
       " '__or__',\n",
       " '__rand__',\n",
       " '__reduce__',\n",
       " '__reduce_ex__',\n",
       " '__repr__',\n",
       " '__ror__',\n",
       " '__rsub__',\n",
       " '__rxor__',\n",
       " '__setattr__',\n",
       " '__sizeof__',\n",
       " '__str__',\n",
       " '__sub__',\n",
       " '__subclasshook__',\n",
       " '__xor__',\n",
       " 'add',\n",
       " 'clear',\n",
       " 'copy',\n",
       " 'difference',\n",
       " 'difference_update',\n",
       " 'discard',\n",
       " 'intersection',\n",
       " 'intersection_update',\n",
       " 'isdisjoint',\n",
       " 'issubset',\n",
       " 'issuperset',\n",
       " 'pop',\n",
       " 'remove',\n",
       " 'symmetric_difference',\n",
       " 'symmetric_difference_update',\n",
       " 'union',\n",
       " 'update']"
      ]
     },
     "execution_count": 17,
     "metadata": {},
     "output_type": "execute_result"
    }
   ],
   "source": [
    "s1 = set([1,2,3,4,5,6])\n",
    "s2 = set([4,5,6,7,8,9])\n",
    "dir(s1)"
   ]
  },
  {
   "cell_type": "code",
   "execution_count": 16,
   "metadata": {},
   "outputs": [
    {
     "name": "stdout",
     "output_type": "stream",
     "text": [
      "{4, 5, 6}\n",
      "{4, 5, 6}\n"
     ]
    }
   ],
   "source": [
    "# 1. 교집합 (& or intersection())\n",
    "print(s1 & s2)\n",
    "print(s1.intersection(s2))"
   ]
  },
  {
   "cell_type": "code",
   "execution_count": 18,
   "metadata": {},
   "outputs": [
    {
     "name": "stdout",
     "output_type": "stream",
     "text": [
      "{1, 2, 3, 4, 5, 6, 7, 8, 9} {1, 2, 3, 4, 5, 6, 7, 8, 9}\n"
     ]
    }
   ],
   "source": [
    "# 2. 합집합 (| or union())\n",
    "u1 = s1 | s2\n",
    "u2 = s1.union(s2)\n",
    "print(u1, u2)"
   ]
  },
  {
   "cell_type": "code",
   "execution_count": 19,
   "metadata": {},
   "outputs": [
    {
     "name": "stdout",
     "output_type": "stream",
     "text": [
      "{1, 2, 3} {1, 2, 3}\n"
     ]
    }
   ],
   "source": [
    "# 3. 차집합 (- or difference())\n",
    "u1 = s1 - s2\n",
    "u2 = s1.difference(s2)\n",
    "print(u1, u2)"
   ]
  },
  {
   "cell_type": "markdown",
   "metadata": {},
   "source": [
    "#### 3. set자료형 관련 함수\n",
    "\n",
    "* add() : 1개의 값을 추가\n",
    "* update() : 다수의 값을 추가\n",
    "* remove() : 특정 값을 삭제\n",
    "* copy() : 복사\n"
   ]
  },
  {
   "cell_type": "code",
   "execution_count": 22,
   "metadata": {},
   "outputs": [
    {
     "name": "stdout",
     "output_type": "stream",
     "text": [
      "{1, 2, 3, 4, 5, 6, 'x'}\n"
     ]
    }
   ],
   "source": [
    "# 1. add()\n",
    "\n",
    "s = set([1,2,3,4,5,6])\n",
    "s.add('x')\n",
    "print(s)"
   ]
  },
  {
   "cell_type": "code",
   "execution_count": 24,
   "metadata": {},
   "outputs": [
    {
     "name": "stdout",
     "output_type": "stream",
     "text": [
      "{1, 2, 3, 4, 5, 6, 'm', 'y', 'l', 'z', 'x'}\n"
     ]
    }
   ],
   "source": [
    "# 2. update()\n",
    "s.update(['y','z'])\n",
    "s.update(('m','l'))\n",
    "print(s)"
   ]
  },
  {
   "cell_type": "code",
   "execution_count": 28,
   "metadata": {},
   "outputs": [
    {
     "ename": "TypeError",
     "evalue": "remove() takes exactly one argument (3 given)",
     "output_type": "error",
     "traceback": [
      "\u001b[1;31m---------------------------------------------------------------------------\u001b[0m",
      "\u001b[1;31mTypeError\u001b[0m                                 Traceback (most recent call last)",
      "\u001b[1;32m<ipython-input-28-499fb63760d0>\u001b[0m in \u001b[0;36m<module>\u001b[1;34m\u001b[0m\n\u001b[0;32m      1\u001b[0m \u001b[1;31m# 3. remove()\u001b[0m\u001b[1;33m\u001b[0m\u001b[1;33m\u001b[0m\u001b[1;33m\u001b[0m\u001b[0m\n\u001b[1;32m----> 2\u001b[1;33m \u001b[0ms\u001b[0m\u001b[1;33m.\u001b[0m\u001b[0mremove\u001b[0m\u001b[1;33m(\u001b[0m\u001b[1;36m1\u001b[0m\u001b[1;33m,\u001b[0m\u001b[1;36m2\u001b[0m\u001b[1;33m,\u001b[0m\u001b[1;36m3\u001b[0m\u001b[1;33m)\u001b[0m\u001b[1;33m\u001b[0m\u001b[1;33m\u001b[0m\u001b[0m\n\u001b[0m\u001b[0;32m      3\u001b[0m \u001b[0mprint\u001b[0m\u001b[1;33m(\u001b[0m\u001b[0ms\u001b[0m\u001b[1;33m)\u001b[0m \u001b[1;31m#값이 없을 경우 key error 발생\u001b[0m\u001b[1;33m\u001b[0m\u001b[1;33m\u001b[0m\u001b[0m\n",
      "\u001b[1;31mTypeError\u001b[0m: remove() takes exactly one argument (3 given)"
     ]
    }
   ],
   "source": [
    "# 3. remove()\n",
    "s.remove(('m'))\n",
    "print(s) #값이 없을 경우 key error 발생"
   ]
  },
  {
   "cell_type": "code",
   "execution_count": 30,
   "metadata": {},
   "outputs": [
    {
     "name": "stdout",
     "output_type": "stream",
     "text": [
      "{1, 2, 3, 4, 5, 6, 'y', 'l', 'z', 'x'}\n"
     ]
    }
   ],
   "source": [
    "# 4. copy() set의 copy()는 얕은 복사\n",
    "t = s.copy()\n",
    "print(t)"
   ]
  },
  {
   "cell_type": "code",
   "execution_count": 34,
   "metadata": {},
   "outputs": [
    {
     "name": "stdout",
     "output_type": "stream",
     "text": [
      "False\n",
      "False\n",
      "False\n"
     ]
    }
   ],
   "source": [
    "# issubset() : 부분집합 여부 확인\n",
    "a = {1,2,3,4,5}\n",
    "b = {1,2,3}\n",
    "\n",
    "print(a.issubset(b))\n",
    "print(b.issuperset(a))\n",
    "print(b.isdisjoint(a))\n",
    "\n",
    "\n",
    "# issuperset() : issubset과 반대 \n",
    "# isdijoint() : 교집합이 없으면 True"
   ]
  },
  {
   "cell_type": "code",
   "execution_count": null,
   "metadata": {},
   "outputs": [],
   "source": []
  }
 ],
 "metadata": {
  "kernelspec": {
   "display_name": "Python 3",
   "language": "python",
   "name": "python3"
  },
  "language_info": {
   "codemirror_mode": {
    "name": "ipython",
    "version": 3
   },
   "file_extension": ".py",
   "mimetype": "text/x-python",
   "name": "python",
   "nbconvert_exporter": "python",
   "pygments_lexer": "ipython3",
   "version": "3.7.4"
  }
 },
 "nbformat": 4,
 "nbformat_minor": 2
}
