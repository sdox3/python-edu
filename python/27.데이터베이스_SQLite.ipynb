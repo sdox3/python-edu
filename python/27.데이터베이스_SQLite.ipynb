{
 "cells": [
  {
   "cell_type": "markdown",
   "metadata": {},
   "source": [
    "### SQLite\n",
    "\n",
    "파일기반 소용량의 데이터베이스시스템\n",
    "\n",
    "1. 공식사이트 : http://sqlite.com\n",
    "2. 개발자\n",
    " - 리차드 힙(Richard Hipp)이 2008.08월에 발표, C언어로 제작\n",
    " - 최신버전 : 3.31.1\n",
    "3. 개요\n",
    " - 파일기반의 DBMS, 저메모리, 빠른 처리 속도\n",
    " - 오픈 소스\n",
    " - 별도의 DB서버가 없어도 쉽고 빠르게 사용할 수 있는 Embeded SQL DB엔진\n",
    " - 안드로이드, 아이폰등의 스마트기기에 내장된 DB\n",
    " - 표준 SQL문법을 지원\n",
    "4. SQLite에서 지원하지 않는 기능(https://www.sqlite.com/omitted.html) \n",
    " - Right and Full outer join은 지원불가 : left outer join은 가능\n",
    " - Complete Alter Table 지원불가\n",
    " - Complete Trigger 지원불가\n",
    " - Writing to Views 지원불가 : 읽기 전용 View만 가능\n",
    " - Grant and Revoke 지원불가\n",
    "5. SQLite 클라이언트 Tool\n",
    " - http://www.sqliteexpert.com\n",
    " - Personal 64bit 버전 download and install\n",
    " \n",
    ">sqlite3모듈을 파이썬의 표준라이브러리이기 때문에 별도 설치 없이 사용할 수 있다."
   ]
  },
  {
   "cell_type": "code",
   "execution_count": 1,
   "metadata": {},
   "outputs": [
    {
     "name": "stdout",
     "output_type": "stream",
     "text": [
      "모듈버전:  2.6.0\n",
      "DB버전:  3.31.1\n"
     ]
    }
   ],
   "source": [
    "import sqlite3\n",
    "# 모듈버전확인\n",
    "print('모듈버전: ', sqlite3.version)\n",
    "# DB버전확인\n",
    "print('DB버전: ', sqlite3.sqlite_version)"
   ]
  },
  {
   "cell_type": "markdown",
   "metadata": {},
   "source": [
    "###### 1. table생성"
   ]
  },
  {
   "cell_type": "code",
   "execution_count": 2,
   "metadata": {},
   "outputs": [],
   "source": [
    "def create_table():\n",
    "    # 1. dbconnection\n",
    "    # 해당폴더에 DB가 없으면 커넥션할 때 자동으로 생성\n",
    "    # 주의할 점 : 폴더이름은 전체이름으로 설정할 것\n",
    "    conn = sqlite3.connect('d:/gilbaek/data/db/my_book.db')\n",
    "    cursor = conn.cursor() # cursor(sql을 실행하는 객체)를 생성\n",
    "    \n",
    "    # 테이블 생성\n",
    "    # 제목, 출판일, 출판사, 페이지수, 추천여부\n",
    "    cursor.execute('''\n",
    "        create table if not exists books(\n",
    "            title text,\n",
    "            published_date text,\n",
    "            publisher text,\n",
    "            pages integer,\n",
    "            recommand integer\n",
    "        )\n",
    "    ''')\n",
    "    conn.commit()\n",
    "    conn.close()\n",
    "    \n",
    "create_table()"
   ]
  },
  {
   "cell_type": "markdown",
   "metadata": {},
   "source": [
    "###### 2. 데이터입력"
   ]
  },
  {
   "cell_type": "code",
   "execution_count": 3,
   "metadata": {},
   "outputs": [],
   "source": [
    "# 1. 한건입력\n",
    "def insert_table():\n",
    "    conn = sqlite3.connect('d:/gilbaek/data/db/my_book.db')\n",
    "    cursor = conn.cursor() \n",
    "    \n",
    "    # 데이터입력 SQL\n",
    "    cursor.execute('''\n",
    "        insert into books values('JAVA', '2020-01-01', '한빛미디어', 584, 10)\n",
    "    ''')\n",
    "    \n",
    "    conn.commit()\n",
    "    conn.close()\n",
    "    \n",
    "insert_table()"
   ]
  },
  {
   "cell_type": "code",
   "execution_count": 4,
   "metadata": {},
   "outputs": [],
   "source": [
    "# 2. 한건입력 : tuple을 이용한 1건 입력\n",
    "def insert_table_01():\n",
    "    conn = sqlite3.connect('d:/gilbaek/data/db/my_book.db')\n",
    "    cursor = conn.cursor() \n",
    "    \n",
    "    # 데이터입력 SQL\n",
    "    sql = 'insert into books values(?,?,?,?,?)'\n",
    "    cursor.execute(sql, ('Python', '2019-12-01', '위키북스', 500, 20))\n",
    "    \n",
    "    conn.commit()\n",
    "    conn.close()\n",
    "    \n",
    "insert_table_01()"
   ]
  },
  {
   "cell_type": "code",
   "execution_count": 5,
   "metadata": {},
   "outputs": [],
   "source": [
    "# 3. 여러건입력 : tuple을 이용한 여러건 입력\n",
    "def insert_table_02():\n",
    "    conn = sqlite3.connect('d:/gilbaek/data/db/my_book.db')\n",
    "    cursor = conn.cursor() \n",
    "    \n",
    "    # 1. 데이터입력 SQL\n",
    "    sql = 'insert into books values(?,?,?,?,?)'\n",
    "    \n",
    "    # 2. 튜플을 이용한 복수개의 데이터를 입력\n",
    "    # 책의 정보를 담고 있는 튜플 리스트\n",
    "    books = [\n",
    "        ('BigData', '2018-01-01', '더조은', 296, 2),\n",
    "        ('안드로이드', '2018-02-01', '한빛', 596, 11),\n",
    "        ('R까기', '2018-03-01', '길벗', 300, 3),\n",
    "        ('SQLite', '2018-04-01', '교학사', 350, 6)\n",
    "    ]\n",
    "    \n",
    "    # 3. 여러건 입력 : executemany()\n",
    "    cursor.executemany(sql, books)\n",
    "    \n",
    "    conn.commit()\n",
    "    conn.close()\n",
    "    \n",
    "insert_table_02()"
   ]
  },
  {
   "cell_type": "markdown",
   "metadata": {},
   "source": [
    "###### 3. 자료조회"
   ]
  },
  {
   "cell_type": "code",
   "execution_count": 6,
   "metadata": {},
   "outputs": [
    {
     "name": "stdout",
     "output_type": "stream",
     "text": [
      "('JAVA', '2020-01-01', '한빛미디어', 584, 10)\n",
      "('Python', '2019-12-01', '위키북스', 500, 20)\n",
      "('BigData', '2018-01-01', '더조은', 296, 2)\n",
      "('안드로이드', '2018-02-01', '한빛', 596, 11)\n",
      "('R까기', '2018-03-01', '길벗', 300, 3)\n",
      "('SQLite', '2018-04-01', '교학사', 350, 6)\n",
      "('JAVA', '2020-01-01', '한빛미디어', 584, 10)\n",
      "('Python', '2019-12-01', '위키북스', 500, 20)\n",
      "('BigData', '2018-01-01', '더조은', 296, 2)\n",
      "('안드로이드', '2018-02-01', '한빛', 596, 11)\n",
      "('R까기', '2018-03-01', '길벗', 300, 3)\n",
      "('SQLite', '2018-04-01', '교학사', 350, 6)\n"
     ]
    }
   ],
   "source": [
    "# 1. 전체자료조회\n",
    "def all_books():\n",
    "    conn = sqlite3.connect('d:/gilbaek/data/db/my_book.db')\n",
    "    cursor = conn.cursor() \n",
    "    \n",
    "    # 데이터조회\n",
    "    cursor.execute('select * from books')\n",
    "    \n",
    "    # 조회자료 불러오기 : fetchall() : 모든 자료를 튜플로 리턴\n",
    "    books = cursor.fetchall()\n",
    "    \n",
    "    for book in books:\n",
    "        print(book)\n",
    "    \n",
    "    conn.close()\n",
    "    \n",
    "all_books()"
   ]
  },
  {
   "cell_type": "code",
   "execution_count": 7,
   "metadata": {},
   "outputs": [
    {
     "name": "stdout",
     "output_type": "stream",
     "text": [
      "데이터 일부 출력하기\n",
      "================================================================================\n",
      "('JAVA', '2020-01-01', '한빛미디어', 584, 10) <class 'tuple'>\n",
      "('Python', '2019-12-01', '위키북스', 500, 20) <class 'tuple'>\n",
      "('BigData', '2018-01-01', '더조은', 296, 2) <class 'tuple'>\n",
      "\n",
      "데이터 일부 출력하기\n",
      "================================================================================\n",
      "('JAVA', '2020-01-01', '한빛미디어', 584, 10) <class 'tuple'>\n",
      "('Python', '2019-12-01', '위키북스', 500, 20) <class 'tuple'>\n"
     ]
    }
   ],
   "source": [
    "# 2. 일부자료조회\n",
    "def some_books(number):\n",
    "    conn = sqlite3.connect('d:/gilbaek/data/db/my_book.db')\n",
    "    cursor = conn.cursor() \n",
    "    \n",
    "    # 데이터조회\n",
    "    cursor.execute('select * from books')\n",
    "    print('데이터 일부 출력하기')\n",
    "    print(\"=\"*80)\n",
    "    \n",
    "    # 조회자료 불러오기 : \n",
    "    # 1. 일부자료 불러오기 fetchmany() : 일부 자료를 튜플로 리턴\n",
    "    books = cursor.fetchmany(number)\n",
    "    \n",
    "    for book in books:\n",
    "        print(book, type(book))\n",
    "    \n",
    "    conn.close()\n",
    "    \n",
    "some_books(3)\n",
    "print()\n",
    "some_books(2)"
   ]
  },
  {
   "cell_type": "code",
   "execution_count": 8,
   "metadata": {},
   "outputs": [
    {
     "name": "stdout",
     "output_type": "stream",
     "text": [
      "데이터 일부 출력하기\n",
      "================================================================================\n",
      "JAVA\n",
      "2020-01-01\n",
      "한빛미디어\n",
      "584\n",
      "10\n",
      "('Python', '2019-12-01', '위키북스', 500, 20)\n"
     ]
    }
   ],
   "source": [
    "# 3. 한개자료조회\n",
    "def one_book():\n",
    "    conn = sqlite3.connect('d:/gilbaek/data/db/my_book.db')\n",
    "    cursor = conn.cursor() \n",
    "    \n",
    "    # 데이터조회\n",
    "    cursor.execute('select * from books')\n",
    "    print('데이터 일부 출력하기')\n",
    "    print(\"=\"*80)\n",
    "    \n",
    "    # 조회자료 불러오기\n",
    "    # 한건의 자료 불러오기 : fetchone() : 한개의 자료를 튜플로 리턴\n",
    "    books = cursor.fetchone()\n",
    "    \n",
    "    # fetchone() : 열별로 출력\n",
    "    for book in books:\n",
    "        print(book)\n",
    "\n",
    "    print(cursor.fetchone())\n",
    "    \n",
    "    conn.close()\n",
    "    \n",
    "one_book()"
   ]
  },
  {
   "cell_type": "code",
   "execution_count": 9,
   "metadata": {},
   "outputs": [
    {
     "name": "stdout",
     "output_type": "stream",
     "text": [
      "500 페이지 이상인 책을 출력하기\n",
      "================================================================================\n",
      "('JAVA', '2020-01-01', '한빛미디어', 584, 10)\n",
      "('Python', '2019-12-01', '위키북스', 500, 20)\n",
      "('안드로이드', '2018-02-01', '한빛', 596, 11)\n",
      "('JAVA', '2020-01-01', '한빛미디어', 584, 10)\n",
      "('Python', '2019-12-01', '위키북스', 500, 20)\n",
      "('안드로이드', '2018-02-01', '한빛', 596, 11)\n"
     ]
    }
   ],
   "source": [
    "# 4. 조건별 자료조회\n",
    "def condition_books(pages):\n",
    "    conn = sqlite3.connect('d:/gilbaek/data/db/my_book.db')\n",
    "    cursor = conn.cursor() \n",
    "    \n",
    "    # 데이터조회\n",
    "    cursor.execute('select * from books where pages >=' + str(pages))\n",
    "    print(str(pages), '페이지 이상인 책을 출력하기')\n",
    "    print(\"=\"*80)\n",
    "    \n",
    "    # 조회자료 불러오기\n",
    "    books = cursor.fetchall()\n",
    "    \n",
    "    for book in books:\n",
    "        print(book)\n",
    "    \n",
    "    conn.close()\n",
    "    \n",
    "condition_books(500)"
   ]
  },
  {
   "cell_type": "markdown",
   "metadata": {},
   "source": [
    "###### 4. 자료수정"
   ]
  },
  {
   "cell_type": "code",
   "execution_count": 10,
   "metadata": {},
   "outputs": [],
   "source": [
    "# 1. 자료수정 : JAVA라는 책의 추천수를 100으로 수정하기\n",
    "def update_books():\n",
    "    conn = sqlite3.connect('d:/gilbaek/data/db/my_book.db')\n",
    "    cursor = conn.cursor() \n",
    "    \n",
    "    sql = 'update books set recommand=? where title=?'\n",
    "    cursor.execute(sql, (100, 'JAVA'))\n",
    "    \n",
    "    conn.commit()\n",
    "    conn.close()\n",
    "       \n",
    "update_books()    "
   ]
  },
  {
   "cell_type": "markdown",
   "metadata": {},
   "source": [
    "###### 5. 자료삭제"
   ]
  },
  {
   "cell_type": "code",
   "execution_count": 12,
   "metadata": {},
   "outputs": [],
   "source": [
    "# 더조은이라는 출판사 자료 삭제하기\n",
    "def delete_books():\n",
    "    conn = sqlite3.connect('d:/gilbaek/data/db/my_book.db')\n",
    "    cursor = conn.cursor() \n",
    "    \n",
    "    sql = 'delete from books where publisher = ?'\n",
    "    # 주의사항\n",
    "    # 값이 한개일때 값이 여러개 일때는 리스트, 튜플형으로 설정해야 한다.\n",
    "    # 즉 한개일 때 ['더조은'], 여러개일 때는 ('더조은',)으로 해야 한다.\n",
    "    # 만약, 단순히 '더조은'이라고 하면 에러가 발생된다.\n",
    "    cursor.execute(sql, ('더조은',))\n",
    "    \n",
    "    conn.commit()\n",
    "    conn.close()    \n",
    "\n",
    "delete_books()"
   ]
  },
  {
   "cell_type": "markdown",
   "metadata": {},
   "source": [
    "###### 연습문제 : 판매관리DB\n",
    "\n",
    "1. db생성 : '../data/db/my_sales.db'\n",
    "2. sales 테이블 생성하기\n",
    "   customer varchar(20)\n",
    "   product varchar(20)\n",
    "   price float\n",
    "   date date\n",
    "   함수이름 : create_table_sales()\n",
    "   \n",
    "3. 테이블조회 : show_tables()\n",
    "   1) sqlite_master 시스템테이블\n",
    "   2) type = 'table'\n",
    "   3) for table in tables:\n",
    "\n",
    "4. 데이터추가 : insert_sales()\n",
    "   1) 자료추가 : 리스트 = 테이블, 튜플 = 레코드\n",
    "   2) 4건정도 추가\n",
    "\n",
    "5. 데이터조회 : select_sales()\n",
    "   1) 추가한 데이터 조회   "
   ]
  },
  {
   "cell_type": "code",
   "execution_count": 13,
   "metadata": {},
   "outputs": [],
   "source": [
    "import sqlite3\n",
    "\n",
    "def create_table_sales():\n",
    "    conn = sqlite3.connect('d:/gilbaek/data/db/my_sales.db')\n",
    "    \n",
    "    sql = '''\n",
    "        create table if not exists sales(\n",
    "            customer varchar(20),\n",
    "            product varchar(20),\n",
    "            price float,\n",
    "            date date\n",
    "        )\n",
    "    '''\n",
    "    \n",
    "    conn.execute(sql)\n",
    "    \n",
    "    conn.commit()\n",
    "    conn.close()\n",
    "    \n",
    "create_table_sales()"
   ]
  },
  {
   "cell_type": "code",
   "execution_count": 14,
   "metadata": {},
   "outputs": [
    {
     "name": "stdout",
     "output_type": "stream",
     "text": [
      "('table', 'sales', 'sales', 2, 'CREATE TABLE sales(\\n            customer varchar(20),\\n            product varchar(20),\\n            price float,\\n            date date\\n        )')\n"
     ]
    }
   ],
   "source": [
    "def show_tables():\n",
    "    conn = sqlite3.connect('d:/gilbaek/data/db/my_sales.db') \n",
    "    cursor = conn.cursor() \n",
    "    \n",
    "    \n",
    "    cursor.execute('select * from sqlite_master where type ='\n",
    "                   + '\"table\"')\n",
    "\n",
    "    tables = cursor.fetchall()\n",
    "    \n",
    "    for table in tables:\n",
    "        print(table)       \n",
    "    \n",
    "    conn.close() \n",
    "\n",
    "show_tables()"
   ]
  },
  {
   "cell_type": "code",
   "execution_count": 15,
   "metadata": {},
   "outputs": [],
   "source": [
    "# 데이터추가 : insert\n",
    "def insert_sales():\n",
    "    conn = sqlite3.connect('d:/gilbaek/data/db/my_sales.db')\n",
    "    \n",
    "    #자료추가 : 리스트=테이블, 튜플=레코드\n",
    "    data = [\n",
    "        ('소향', '배', 1000, '2018-01-01'),\n",
    "        ('손흥민', '사과', 1500, '2018-02-01'),\n",
    "        ('박지성', '포도', 2000, '2018-03-01'),\n",
    "        ('류현진', '귤', 1100, '2018-04-01'),\n",
    "    ]\n",
    "    \n",
    "    sql = 'insert into sales values(?,?,?,?)'\n",
    "    conn.executemany(sql, data)\n",
    "    \n",
    "    conn.commit()\n",
    "    conn.close()\n",
    "    \n",
    "insert_sales()"
   ]
  },
  {
   "cell_type": "code",
   "execution_count": 16,
   "metadata": {},
   "outputs": [
    {
     "name": "stdout",
     "output_type": "stream",
     "text": [
      "('소향', '배', 1000.0, '2018-01-01')\n",
      "('손흥민', '사과', 1500.0, '2018-02-01')\n",
      "('박지성', '포도', 2000.0, '2018-03-01')\n",
      "('류현진', '귤', 1100.0, '2018-04-01')\n",
      "row: 4\n"
     ]
    }
   ],
   "source": [
    "# 데이터조회\n",
    "def select_sales():\n",
    "    conn = sqlite3.connect('d:/gilbaek/data/db/my_sales.db')\n",
    "\n",
    "    # select 실행\n",
    "    cursor = conn.execute('select * from sales')\n",
    "    rows = cursor.fetchall()\n",
    "    \n",
    "    count = 0\n",
    "    for row in rows:\n",
    "        print(row)\n",
    "        count += 1\n",
    "        \n",
    "    print('row: {}'.format(count))\n",
    "    \n",
    "    conn.close()\n",
    "    \n",
    "select_sales()"
   ]
  },
  {
   "cell_type": "markdown",
   "metadata": {},
   "source": [
    "###### SQLite를 RAM메모리에 직접생성하고 사용하는 방법\n",
    "\n",
    "* sqlite에서 RAM메모리(`:memory:`)에 직접 생성해 사용하는 방법이다.\n",
    "* 장점은 RAM에서 실행되기 때문에 속도가 빠르다.\n",
    "* 단점은 휘발성이기 때문에 저장이 되지 않는다."
   ]
  },
  {
   "cell_type": "code",
   "execution_count": 20,
   "metadata": {},
   "outputs": [
    {
     "name": "stdout",
     "output_type": "stream",
     "text": [
      "('소향', '배', 1000.0, '2018-01-01')\n",
      "('손흥민', '사과', 1500.0, '2018-02-01')\n",
      "('박지성', '포도', 2000.0, '2018-03-01')\n",
      "('류현진', '귤', 1100.0, '2018-04-01')\n",
      "rows: 4\n"
     ]
    }
   ],
   "source": [
    "import sqlite3\n",
    "\n",
    "conn = sqlite3.connect(':memory:')\n",
    "sql = '''\n",
    "    create table if not exists sales(\n",
    "        customer varchar(20),\n",
    "        product varchar(20),\n",
    "        price float,\n",
    "        date date\n",
    "    )\n",
    "'''\n",
    "\n",
    "conn.execute(sql)\n",
    "\n",
    "data = [\n",
    "    ('소향', '배', 1000, '2018-01-01'),\n",
    "    ('손흥민', '사과', 1500, '2018-02-01'),\n",
    "    ('박지성', '포도', 2000, '2018-03-01'),\n",
    "    ('류현진', '귤', 1100, '2018-04-01'),    \n",
    "]\n",
    "\n",
    "sql = 'insert into sales values(?,?,?,?)'\n",
    "conn.executemany(sql, data)\n",
    "conn.commit()\n",
    "\n",
    "cursor = conn.execute('select * from sales')\n",
    "rows = cursor.fetchall()\n",
    "\n",
    "count = 0\n",
    "for row in rows:\n",
    "    print(row)\n",
    "    count += 1\n",
    "    \n",
    "print('rows: {}'.format(count))\n",
    "\n",
    "conn.close()"
   ]
  }
 ],
 "metadata": {
  "kernelspec": {
   "display_name": "Python 3",
   "language": "python",
   "name": "python3"
  },
  "language_info": {
   "codemirror_mode": {
    "name": "ipython",
    "version": 3
   },
   "file_extension": ".py",
   "mimetype": "text/x-python",
   "name": "python",
   "nbconvert_exporter": "python",
   "pygments_lexer": "ipython3",
   "version": "3.7.6"
  }
 },
 "nbformat": 4,
 "nbformat_minor": 4
}
