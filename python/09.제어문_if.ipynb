{
 "cells": [
  {
   "cell_type": "markdown",
   "metadata": {},
   "source": [
    "### if문\n",
    "\n",
    "#### 1. 단순 if문\n",
    "\n",
    "<img src='./images/08.제어문_if_01_단순if문.PNG' hight = '500' width ='500'>\n",
    "\n",
    "#### 2. if~else문\n",
    "\n",
    "<img src='./images/08.제어문_if_02_단순if_else문.PNG' hight = '500' width ='500'>\n",
    "\n",
    "#### 3. if~elif ~else"
   ]
  },
  {
   "cell_type": "code",
   "execution_count": 3,
   "metadata": {},
   "outputs": [
    {
     "name": "stdout",
     "output_type": "stream",
     "text": [
      "x =  10\n"
     ]
    }
   ],
   "source": [
    "# 1. 단순 if문\n",
    "x = 10\n",
    "if x == 10 :\n",
    "    print('x = ',x)\n",
    "    "
   ]
  },
  {
   "cell_type": "code",
   "execution_count": 10,
   "metadata": {},
   "outputs": [
    {
     "name": "stdout",
     "output_type": "stream",
     "text": [
      "x = 10이 아님\n"
     ]
    }
   ],
   "source": [
    "# 2. if~else문\n",
    "x = 0\n",
    "if x :\n",
    "    print('x =', x)\n",
    "else :\n",
    "    print('x = 10이 아님')"
   ]
  },
  {
   "cell_type": "code",
   "execution_count": 9,
   "metadata": {},
   "outputs": [
    {
     "name": "stdout",
     "output_type": "stream",
     "text": [
      "10\n"
     ]
    }
   ],
   "source": [
    "# 3. if-elif-else\n",
    "x = 10\n",
    "if x == 10 :\n",
    "    print(x)\n",
    "elif x == 12 :\n",
    "    print('dd')\n",
    "else :\n",
    "    print('other')"
   ]
  },
  {
   "cell_type": "markdown",
   "metadata": {},
   "source": [
    "#### 4. 중접 if문"
   ]
  },
  {
   "cell_type": "code",
   "execution_count": 17,
   "metadata": {},
   "outputs": [
    {
     "name": "stdout",
     "output_type": "stream",
     "text": [
      "버스\n"
     ]
    }
   ],
   "source": [
    "poket = ['panciel','paper']\n",
    "card = 1\n",
    "\n",
    "if 'money' in poket:\n",
    "    print('택시')\n",
    "else :\n",
    "    if card == 1 :\n",
    "        print('버스')\n",
    "    else :\n",
    "        print('걸어감')"
   ]
  },
  {
   "cell_type": "code",
   "execution_count": null,
   "metadata": {},
   "outputs": [],
   "source": [
    "# 5. if 문에서 실행할 문장이 하나도 없을 경우에는 pass 키워드를 사용\n",
    "if 1 : \n",
    "    pass"
   ]
  },
  {
   "cell_type": "code",
   "execution_count": 22,
   "metadata": {},
   "outputs": [
    {
     "name": "stdout",
     "output_type": "stream",
     "text": [
      "1이 있습니다\n",
      "True\n",
      "False\n",
      "True\n",
      "True\n"
     ]
    }
   ],
   "source": [
    "# 6. 파이썬에서 if문이 다른 언어와 다른 점은 in, not in을 사용해서 list,\n",
    "# tuple, string을 비교할 수 있는 조건문을 사용할 수 있다는 점이다.\n",
    "# x in [list/tuple/string], x not in [list/tuple/string]\n",
    "\n",
    "if 1 in [1,2,3] :\n",
    "    print('1이 있습니다')\n",
    "else :\n",
    "    print('1이 없습니다.')\n",
    "print(1 in [1,2,3])\n",
    "print(1 not in [1,2,3])\n",
    "print('a' in ['a','b','c'])\n",
    "print('a' in 'pythona') # 문자열안에 단어가 있는지 확인 가능"
   ]
  },
  {
   "cell_type": "markdown",
   "metadata": {},
   "source": [
    "#### 삼항연산자\n",
    "\n",
    ">True일 경우 수행문 if (조건문) else \"False일 경우 수행문\""
   ]
  },
  {
   "cell_type": "code",
   "execution_count": null,
   "metadata": {},
   "outputs": [],
   "source": [
    "score = 60\n",
    "result =''\n",
    "if score >=60 :\n",
    "    result =\"합격\"\n",
    "else :\n",
    "    result ='불합격'\n",
    "print(result)"
   ]
  },
  {
   "cell_type": "code",
   "execution_count": 27,
   "metadata": {},
   "outputs": [
    {
     "name": "stdout",
     "output_type": "stream",
     "text": [
      "불합격\n"
     ]
    }
   ],
   "source": [
    "score =50\n",
    "result = '합격입니다' if (score>=60) else '불합격'\n",
    "print(result)\n"
   ]
  },
  {
   "cell_type": "markdown",
   "metadata": {},
   "source": [
    "#### 관계연산자\n",
    "\n",
    "##### 1. 비교연산자\n",
    "|비교연산자|설명|\n",
    "|-------------|---------------|\n",
    "|x<y| x가 y보다 작다|\n",
    "|x>y| x가 y보다 크다|\n",
    "|x==y| x와 y가 같다|\n",
    "|x!=y| x와 y가 같지 않다|\n",
    "|x>=y| x가 y보다 크거나 같다|\n",
    "|x<=y| x가 y보다 작거나 같다|\n",
    "\n",
    "##### 2. and, or, not\n",
    "|연산자|설명|\n",
    "|-------------|---------------|\n",
    "|x or y| x와 y 둘중에 하나만 참이면 True|\n",
    "|x and y| x와 y가 모두 참이어야 True|\n",
    "|not x| x가 거짓이면 True|\n",
    "\n",
    "##### 3. x in s, x not in s\n",
    "|in | not in |\n",
    "|-------------|---------------|\n",
    "| x in list | x not in list|\n",
    "| x in tuple | x not in tuple|\n",
    "|x in 문자열 | x not in 문자열|"
   ]
  },
  {
   "cell_type": "markdown",
   "metadata": {},
   "source": [
    "#### 실습문제"
   ]
  },
  {
   "cell_type": "code",
   "execution_count": 32,
   "metadata": {},
   "outputs": [
    {
     "name": "stdout",
     "output_type": "stream",
     "text": [
      "정수를 입력하세요 =>3\n",
      "홀수입니다.\n"
     ]
    }
   ],
   "source": [
    "# input() 함수로 숫자를 입력받아서 짝수인지 홀수인지 구분\n",
    "# input은 숫자로 받아도 문자열로 저장된다.\n",
    "x = int(input('정수를 입력하세요 =>'))\n",
    "\n",
    "if x%2 == 0 :\n",
    "    print('짝수입니다')\n",
    "else :\n",
    "    print('홀수입니다.')\n",
    "    "
   ]
  },
  {
   "cell_type": "code",
   "execution_count": null,
   "metadata": {},
   "outputs": [],
   "source": []
  }
 ],
 "metadata": {
  "kernelspec": {
   "display_name": "Python 3",
   "language": "python",
   "name": "python3"
  },
  "language_info": {
   "codemirror_mode": {
    "name": "ipython",
    "version": 3
   },
   "file_extension": ".py",
   "mimetype": "text/x-python",
   "name": "python",
   "nbconvert_exporter": "python",
   "pygments_lexer": "ipython3",
   "version": "3.7.4"
  }
 },
 "nbformat": 4,
 "nbformat_minor": 2
}
