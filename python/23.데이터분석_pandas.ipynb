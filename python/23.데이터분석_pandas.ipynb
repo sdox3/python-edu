{
 "cells": [
  {
   "cell_type": "markdown",
   "metadata": {},
   "source": [
    "### Pandas(Python Data Analysis Library)\n",
    "\n",
    "pandas는 파이썬에서 사용하는 데아터 분석 라이브러리로 행과 열로 이루어진 데이터 객체를 다룰\n",
    "수 있게 되며 보다 안정적으로 대용량의 데이터를 처리하는데 유용하다.\n",
    "pandas에서는 기본적으로 정의되어 있는 1차원 배열인 `series`와 2차원 배열인 `DataFrame`을\n",
    "사용한다.\n",
    "\n",
    "pandas의 자료구조들은 빅데이터 분석에 있어 높은 수준의 성능을 보여준다.]\n",
    "\n",
    "##### 참고site\n",
    "\n",
    "* pandas문서 : http://pandas.pydata.org/pandas-docs/stable/index.html\n",
    "* 자료구조 : http://pandas.pydata.org/pandas-docs/stable/dsintro.html"
   ]
  },
  {
   "cell_type": "code",
   "execution_count": 13,
   "metadata": {},
   "outputs": [],
   "source": [
    "# 데이터분석 주요라이브러리\n",
    "%matplotlib inline\n",
    "import numpy as np\n",
    "import pandas as pd\n",
    "import matplotlib.pyplot as plt\n",
    "\n",
    "\n",
    "# 한글처리\n",
    "from matplotlib import rc, font_manager\n",
    "font_manager = font_manager.FontProperties(fname = 'c:/Windows/Fonts/malgun.ttf').get_name()\n",
    "rc('font', family=font_manager)\n",
    "rc('axes', unicode_minus = False)"
   ]
  },
  {
   "cell_type": "markdown",
   "metadata": {},
   "source": [
    "#### 1. Series "
   ]
  },
  {
   "cell_type": "code",
   "execution_count": null,
   "metadata": {},
   "outputs": [],
   "source": [
    "# 1. Series 자료생성(1) - 기본\n",
    "# 인덱스와 값을 가지는 1차원 배열\n",
    "# 만드는 방법은 값들의 리스트를 전달해서 생성한다. 인덱스는 자동으로\n",
    "# 기본정의 되는 정수인덱스를 사용한다. 단, 인덱스를 정의하지 않으면\n",
    "# 0부터 순번으로 부여된다.\n",
    "\n",
    "ser1 = pd.Series([1,2,3,4,5,6,7])\n",
    "print(ser1)\n",
    "ser1.plot()"
   ]
  },
  {
   "cell_type": "code",
   "execution_count": null,
   "metadata": {},
   "outputs": [],
   "source": [
    "# 2. Series 자료생성(2) - 인덱스 정의\n",
    "# 기본숫자인덱스 vs 문자인덱스\n",
    "ser2 = pd.Series([3,6,9,12])\n",
    "print(ser2)\n",
    "\n",
    "ser3 = pd.Series([3,6,9,12], index = [2016,2017,2018,2019])\n",
    "print(ser3)\n",
    "print(ser3[2017])\n",
    "ser3.plot()\n",
    "plt.show()\n",
    "# plt.show()를 하지 않아도 시스템이 그래프를 보여주긴함\n",
    "# 중복해서 하면 마지막만 호출됨으로 show로 호출해야함\n",
    "ser3.plot(kind = 'bar')\n",
    "plt.show()"
   ]
  },
  {
   "cell_type": "code",
   "execution_count": null,
   "metadata": {},
   "outputs": [],
   "source": [
    "# 3. Series 자료생성(3) - 키(인덱스), 값으로 정의\n",
    "# dictionary자료형으로 생성해야 한다.\n",
    "employee = {'홍길동':5400, '손흥민':9000, '홍길순':6000,'홍길자':4000}\n",
    "ser4 = pd.Series(employee)\n",
    "print(ser4)\n",
    "ser4.plot(kind='bar')\n",
    "plt.show()"
   ]
  },
  {
   "cell_type": "markdown",
   "metadata": {},
   "source": [
    "#### 2. DataFrame"
   ]
  },
  {
   "cell_type": "code",
   "execution_count": null,
   "metadata": {},
   "outputs": [],
   "source": [
    "# 1. DataFrame자료생성(1) - 리스트자료형으로 DF을 생성\n",
    "# 테이블형식의 2차원배열(정확하게는 Matrix)\n",
    "df = pd.DataFrame([[1,2,3],[4,5,6],[7,8,9]])\n",
    "print(df)\n",
    "\n",
    "# l = [[1,2,3],[4,5,6],[7,8,9]]\n",
    "# l.plot() : 리스트형이기 때문에 plot이라는 함수가 없음 -> Series 사용\n",
    "\n"
   ]
  },
  {
   "cell_type": "code",
   "execution_count": null,
   "metadata": {},
   "outputs": [],
   "source": [
    "# 2. DataFrame자료생성(2) - 딕셔너리자료형으로 DF을 생성\n",
    "tbl = pd.DataFrame({\n",
    "    '체중' : [80,70,90,60,50],\n",
    "    '신장' : [180,170,190,160,168],\n",
    "    '성별' :['F','M','F','M','F']    \n",
    "}, index =['소향','손흥민','홍길순','홍길동','홍길자'])\n",
    "\n",
    "tbl"
   ]
  },
  {
   "cell_type": "code",
   "execution_count": null,
   "metadata": {},
   "outputs": [],
   "source": [
    "# 손흥민의 신장?\n",
    "# 접근방법 df[열이름] or df.열이름\n",
    "print(tbl['신장']['손흥민'])\n",
    "print(tbl.신장['손흥민'])\n",
    "print(tbl.신장.손흥민)\n",
    "print(tbl['신장'] == 170)"
   ]
  },
  {
   "cell_type": "code",
   "execution_count": null,
   "metadata": {},
   "outputs": [],
   "source": [
    "# 실습\n",
    "\n",
    "# 1. 성별이 남자인 사람만 출력\n",
    "print(tbl[tbl['성별'] == 'M'])\n",
    "\n",
    "# 2. 신장이 170이상인 사람만 출력\n",
    "print(tbl[tbl.신장 > 170])\n",
    "\n",
    "# 3. tbl을 시각화()\n",
    "\n",
    "tbl.plot()\n",
    "plt.show()\n",
    "tbl.plot(kind = 'bar')\n",
    "plt.show()\n",
    "tbl.plot(kind = 'kde') # 분포도를 그려주는 함수\n",
    "plt.show()\n",
    "tbl.plot(kind = 'barh')# 수평 바그래프\n",
    "plt.show()"
   ]
  },
  {
   "cell_type": "code",
   "execution_count": null,
   "metadata": {},
   "outputs": [],
   "source": [
    "# 3. DataFrame자료생성(3) - numpy배열로 DF을 생성"
   ]
  },
  {
   "cell_type": "code",
   "execution_count": null,
   "metadata": {},
   "outputs": [],
   "source": [
    "# ?pd.date_range(start, end, freq...) 일정기간 날짜 데이터를 만들어주는 함수\n",
    "# a = pd.date_range('20200101','20200331', freq='M')\n",
    "datas = pd.date_range('20200101',periods=6, freq='M')\n",
    "df = pd.DataFrame(np.random.randn(6,4),index =datas,columns=list('ABCD'))\n",
    "df\n",
    "\n",
    "data = {\n",
    "    'names': ['소향','손흥민','홍길순','홍길동','홍길자'],\n",
    "    'year' : [2015,2016,2017,2018,2019],\n",
    "    'points' :[1.5,1.7,2.6,3.6,2.9]\n",
    "}\n",
    "df = pd.DataFrame(data, index = pd.date_range('20191201',periods=5))\n",
    "df"
   ]
  },
  {
   "cell_type": "code",
   "execution_count": null,
   "metadata": {},
   "outputs": [],
   "source": [
    "# describe vs describe()\n",
    "print(df.describe) # 생성된 DF의 속성을 출력\n",
    "print(df.describe())  # 기초수리통계의 수치를 출력"
   ]
  },
  {
   "cell_type": "code",
   "execution_count": null,
   "metadata": {},
   "outputs": [],
   "source": [
    "# df의 값만 출력\n",
    "print(df.values)\n",
    "print(type(df.values))"
   ]
  },
  {
   "cell_type": "code",
   "execution_count": null,
   "metadata": {},
   "outputs": [],
   "source": [
    "# 4. DataFrame자료생성(4) - 직접 인덱스와 컬럼을 지정해서 생성\n",
    "# NaN\n",
    "print(data)\n",
    "df = pd.DataFrame(data,\n",
    "                  columns=['names','year','points','penalty'], # 컬럼명 정의 및 추가\n",
    "                  index=['JAN','FEB','MAR','APR','MAY'])\n",
    "df"
   ]
  },
  {
   "cell_type": "code",
   "execution_count": null,
   "metadata": {},
   "outputs": [],
   "source": [
    "# 인덱스, 컬럼, 값을 출력\n",
    "print(df.index)\n",
    "print(df.columns)\n",
    "print(df.values)\n",
    "\n",
    "# 특정컬럼만 출력\n",
    "print(df.year)\n",
    "print(df['names'])"
   ]
  },
  {
   "cell_type": "code",
   "execution_count": null,
   "metadata": {},
   "outputs": [],
   "source": [
    "# 2개이상의 값을 출력 즉, 년도와 이름만 출력\n",
    "# 컬럼을 다수 출력할 시 [[]]처럼 대괄호를 두개를 사용한다.\n",
    "# [][] or df.col.index는 컬럼을 선택한 뒤 특정 인덱스를 호출하는데 사용한다.\n",
    "df[['names','year']]"
   ]
  },
  {
   "cell_type": "code",
   "execution_count": null,
   "metadata": {},
   "outputs": [],
   "source": [
    "# 특정열의 값을 변경하기\n",
    "# NaN(결측치)인 값을 특정값으로 변경\n",
    "# df['컬럼명'] = value or df.컬럼명 = value\n",
    "df.penalty = 1.7\n",
    "\n",
    "# 이 방식은 원래 column명이 2차원이상일 경우 컬럼을 구분하기 위해서 사용하는 방법이다.,\n",
    "# 이 경우는 컬럼이 1차원이기 때문에 index를 호출하는 거라고 생각됨\n",
    "# 전부 에러는 뜨는데 사용은 가능\n",
    "df.penalty.JAN = 1.8\n",
    "df['penalty']['MAR'] = 1.6\n",
    "\n",
    "df"
   ]
  },
  {
   "cell_type": "code",
   "execution_count": null,
   "metadata": {},
   "outputs": [],
   "source": [
    "# 1. 컬럼추가(1) : 컬럼이 없을 경우에 자동으로 추가하기\n",
    "df['addvalue1'] = 2.7\n",
    "df"
   ]
  },
  {
   "cell_type": "code",
   "execution_count": null,
   "metadata": {},
   "outputs": [],
   "source": [
    "df['age'] = np.arange(10, 15)\n",
    "df"
   ]
  },
  {
   "cell_type": "code",
   "execution_count": null,
   "metadata": {},
   "outputs": [],
   "source": [
    "# 3. 컬럼삭제하기 \n",
    "# df.drop(columns = [col1, col2...],row = [], axis ) \n",
    "df = df.drop(['age'], 1)\n",
    "df"
   ]
  },
  {
   "cell_type": "code",
   "execution_count": null,
   "metadata": {},
   "outputs": [],
   "source": [
    "# 4. 컬럼삭제하기 - del명령어\n",
    "del df['age']\n",
    "df"
   ]
  },
  {
   "cell_type": "code",
   "execution_count": null,
   "metadata": {},
   "outputs": [],
   "source": [
    "# 인덱스변경\n",
    "df = pd.DataFrame(data, index = ['MON','THU','WED','THR','FRI'])\n",
    "df"
   ]
  },
  {
   "cell_type": "code",
   "execution_count": null,
   "metadata": {},
   "outputs": [],
   "source": [
    "# df에서 슬라이싱과 인덱싱\n",
    "# 인덱스명으로도 접근할 수 있고, 숫자인덱스로도 접근이 가능\n",
    "df[0:2]\n",
    "df['MON':'THU']"
   ]
  },
  {
   "cell_type": "markdown",
   "metadata": {},
   "source": [
    "#### 3. Pandas 기본함수\n",
    "* csv파일 load/save\n",
    " - df = pd.read_csv('../data/file.csv')\n",
    " - df.to_csv('../data/file.csv')\n",
    "* DataFrame의 데이터 확인\n",
    " - df.shape()\n",
    " - df.info()\n",
    " - df.columns()\n",
    " - df.dtypes()\n",
    " - df.head(n) : 앞에서 n이 지정이 않되면 5건, 지정되면 지정건수\n",
    " - df.tail(n) : 끝에서 n, defualt 5\n",
    "* null갯수확인\n",
    " - df.isnull().sum()\n",
    "* 특정 컬럼/행을 삭제\n",
    " - df = df.drop([컬럼명], axis = 컬럼, 인덱스 조정) 1 = 열\n",
    " - df = df.drop([인덱스명], axis = 0) 0 = 행\n",
    "* 특정컬럼이름 변경\n",
    " - df = df.rename(columns = {'변경전 컬럼명' :'변경후 컬럼명'}) \n",
    "* 특정컬럼의 값을 새로운 컬럼으로 만들기\n",
    " - df['A'] = df['B'].str[:5] : 왼쪽에서 5개 문자열을 복사\n",
    "* 컬럼의 순서 변경\n",
    " - df = pd.DataFrame(df, columns = ['C','B','A']) - abc -> cba\n",
    "* 데이터프레임 조인\n",
    " - df_result = pd.concat([df1, df2])\n",
    "* 데이터프레임 중복확인, 제거\n",
    " - df.duplicated() : 중복확인\n",
    " - df.drop_duplicates() : 중복제거\n",
    "* df의 행, 열의 위치로 접근\n",
    " - df.loc[]\n",
    " - df.iloc[]"
   ]
  },
  {
   "cell_type": "code",
   "execution_count": null,
   "metadata": {},
   "outputs": [],
   "source": [
    "# 1. head() 앞에서 5행, tail() 뒤에서 5행, 숫자지정되어 있다면 지정 만큼\n",
    "print(df.head(1))\n",
    "print(df.tail(1))"
   ]
  },
  {
   "cell_type": "code",
   "execution_count": null,
   "metadata": {},
   "outputs": [],
   "source": [
    "# 2 .loc() : df에서 열이나 행을 선택하는 함수\n",
    "# 숫자인덱스사용은 불가, 행, 열의 이름으로 접근\n",
    "# 한행만 선택했을 경우에는 text형태로, 2개 이상인 경우 table로 출력\n",
    "# 행열의 이름이 숫자형이면 숫자형으로 입력해야함\n",
    "df = pd.DataFrame(data, index = [1,2,3,4,5])\n",
    "df.loc[2:4] # 인덱스가 1인 것만 출력\n",
    "# df.loc[0] # 숫자인덱스 사용불가\n",
    "\n",
    "# 복잡한 loc\n",
    "# 전체행 중 year, names만 선택\n",
    "\n",
    "df.loc[1:2,['year','names']]"
   ]
  },
  {
   "cell_type": "code",
   "execution_count": null,
   "metadata": {},
   "outputs": [],
   "source": [
    "# 3. iloc() : 숫자인덱스로 접근 가능\n",
    "df.iloc[3]\n",
    "\n",
    "# 행과 열범위을 지정해서 출력\n",
    "df.iloc[1:3,]\n",
    "\n",
    "# 콜론 없이 출력\n",
    "print(df)\n",
    "print()\n",
    "print(df.iloc[0:1,1]) # x,y위치"
   ]
  },
  {
   "cell_type": "code",
   "execution_count": null,
   "metadata": {},
   "outputs": [],
   "source": [
    "# bool인덱스 : 조건이 일치하는 행만 출력하기\n",
    "# 2016보다 큰 자료만 출력\n",
    "# df['year'] - pandas.core.series 인트형\n",
    "df[df['year'] > 2016]\n",
    "df[df.year > 2016]"
   ]
  },
  {
   "cell_type": "code",
   "execution_count": null,
   "metadata": {},
   "outputs": [],
   "source": [
    "# 행삭제\n",
    "# index가 날짜형태로 된 자료를 삭제할 경우에는 날짜형태의 문자를 날짜 자료형으로 변경후\n",
    "# 삭제\n",
    "df = pd.DataFrame(np.random.rand(6,4))\n",
    "df.columns = ['A','B','C','D']\n",
    "df.index = pd.date_range('20200101', periods=6)\n",
    "df"
   ]
  },
  {
   "cell_type": "code",
   "execution_count": null,
   "metadata": {},
   "outputs": [],
   "source": [
    "# 열삭제\n",
    "del df['D']\n",
    "df\n",
    "\n",
    "# 여러컬럼 삭제 "
   ]
  },
  {
   "cell_type": "code",
   "execution_count": null,
   "metadata": {},
   "outputs": [],
   "source": [
    "df = df.drop(['B','C'],1)\n",
    "df"
   ]
  },
  {
   "cell_type": "code",
   "execution_count": null,
   "metadata": {},
   "outputs": [],
   "source": [
    "print(type(df.index)) # DatetimeIndex\n",
    "\n",
    "# pd.to_datetime('20200103') Timestamp\n",
    "# df = df.drop(['20200103','20200105']) # Typeerror\n",
    "df = df.drop([pd.to_datetime('20200103'),pd.to_datetime('20200105')])\n",
    "df"
   ]
  },
  {
   "cell_type": "markdown",
   "metadata": {},
   "source": [
    "#### 4. Pandas의 데이터분석용 함수\n",
    "* sum()\n",
    "* mean()\n",
    "* var()\n",
    "* T : 피벗기능\n",
    "* groupby()\n",
    "* agg()"
   ]
  },
  {
   "cell_type": "code",
   "execution_count": null,
   "metadata": {},
   "outputs": [],
   "source": [
    "df = pd.DataFrame({\n",
    "    'weight':[80.0,70.4,65.5,45.9,51.5],\n",
    "    'height':[170,180,155,143,154]\n",
    "})"
   ]
  },
  {
   "cell_type": "code",
   "execution_count": null,
   "metadata": {},
   "outputs": [],
   "source": [
    "# 1. sum()\n",
    "# 세로방향 : 기본값, axis = 0\n",
    "# 가로방향 : axis = 1\n",
    "print(df.sum(1))\n",
    "print(df.sum())"
   ]
  },
  {
   "cell_type": "code",
   "execution_count": null,
   "metadata": {},
   "outputs": [],
   "source": [
    "# 2. mean()\n",
    "# 세로방향 : 기본값, axis = 0\n",
    "# 가로방향 : axis = 1\n",
    "print(df.mean())\n",
    "print(df.mean(1))\n",
    "print('신장의 평균 = ',df.height.mean())"
   ]
  },
  {
   "cell_type": "code",
   "execution_count": null,
   "metadata": {},
   "outputs": [],
   "source": [
    "# 3. var()\n",
    "a = [10,20,30,40,50]\n",
    "b = [10,30,30,30,50]\n",
    "\n",
    "df_a = pd.DataFrame(a)\n",
    "df_b = pd.DataFrame(b)\n",
    "print(df_a.mean())\n",
    "print(df_b.mean())\n",
    "print(df_a.var())\n",
    "print(df_b.var())\n",
    "\n"
   ]
  },
  {
   "cell_type": "code",
   "execution_count": null,
   "metadata": {},
   "outputs": [],
   "source": [
    "# 4. pivot()"
   ]
  },
  {
   "cell_type": "markdown",
   "metadata": {},
   "source": [
    "#### 5. Pandas를 이용한 데이터 분석(csv파일)\n",
    "\n",
    "* csv파일 load/save\n",
    " - df = pd.read_csv('../data/file.csv')\n",
    " - df.to_csv('../data/file.csv')"
   ]
  },
  {
   "cell_type": "code",
   "execution_count": null,
   "metadata": {},
   "outputs": [],
   "source": [
    "input_file = '../data/input.csv'\n",
    "output_file = '../data/output.csv'\n",
    "print(input_file)"
   ]
  },
  {
   "cell_type": "code",
   "execution_count": null,
   "metadata": {},
   "outputs": [],
   "source": [
    "# 1. csv파일 읽기(1) : 파이썬문법으로만 사용하기\n",
    "# newline='' : 개행문자('\\n')를 무시하고 읽기, \n",
    "# 이 옵션이 없으면 빈라인이 추가된다.\n",
    "with open(input_file, 'r', newline='') as reader:\n",
    "    with open(output_file, 'w', newline='') as writer:\n",
    "        header = reader.readline()\n",
    "        # print(header)\n",
    "        # strip() : 문자열좌우공백, tab, 개행문자를 제거\n",
    "        header = header.strip()\n",
    "        header_list = header.split(',')\n",
    "        #print(header_list)\n",
    "        \n",
    "        # header_list의 각 사이에 쉼표를 삽입, 리스트를 문잔열로 변환\n",
    "        # 개행문자를 끝에 추가\n",
    "        # header_list요소를 스트링으로 변환\n",
    "        # print(map(str, header_list))\n",
    "        # header행을 문자열로 저장\n",
    "        #print(','.join(map(str, header_list)) + '\\n')\n",
    "        \n",
    "        writer.write(','.join(map(str, header_list)) + '\\n')\n",
    "        for row in reader:\n",
    "            row = row.strip()\n",
    "            row_list = row.split(',')\n",
    "            print(row_list)\n",
    "            writer.write(','.join(map(str, row_list)) + '\\n')"
   ]
  },
  {
   "cell_type": "code",
   "execution_count": null,
   "metadata": {},
   "outputs": [],
   "source": [
    "# 2. csv파일 읽기(2) : 파이썬 내장 모듈로 읽기  \n",
    "\n",
    "import sys\n",
    "import csv\n",
    "\n",
    "with open(input_file, 'r', newline='') as csv_in_file:\n",
    "    with open(output_file, 'w', newline='') as csv_out_file:\n",
    "        filereader = csv.reader(csv_in_file, delimiter =',')\n",
    "        filewriter = csv.writer(csv_out_file, delimiter = ',')\n",
    "        for row in filereader:\n",
    "            print(row)\n",
    "            filewriter.writerow(row)"
   ]
  },
  {
   "cell_type": "code",
   "execution_count": null,
   "metadata": {},
   "outputs": [],
   "source": [
    "# 3. csv파일 읽기(3) : pandas\n",
    "output_file = '../data/output2.csv'\n",
    "\n",
    "df = pd.read_csv(input_file)\n",
    "df.to_csv(output_file, index=False)"
   ]
  },
  {
   "cell_type": "code",
   "execution_count": null,
   "metadata": {},
   "outputs": [],
   "source": [
    "import pandas as pd\n",
    "# pandas를 이용한 filtering\n",
    "output_file = '../data/output3.csv'\n",
    "\n",
    "# 필터링 조건 : Supplier Name = 'B', Cost > 600\n",
    "df = pd.read_csv(input_file)\n",
    "\n",
    "\"\"\"\n",
    "데이터프레임에서 cost or $12,333 일 경우에는 문자열을 실수로or실수를 문자열로 변경 해서 \n",
    "특수문자를 제거 후 float으로 변환\n",
    "1. df['Cost'] = df['Cost'].str.strip('$').astype(float)\n",
    "2. df['Supplier Name'].str.contains('Z')\n",
    "\"\"\"\n",
    "\n",
    "\n",
    "\n",
    "# loc['B','Cost'], df[컬럼명].str.contains(), df[가격] >600\n",
    "result = df[(df.loc[:,'Cost'] > 600)|(df.loc[:,'Supplier Name'] =='B')]\n",
    "result = df[(df.loc[:,'Cost'] > 600)|(df.loc[:,'Supplier Name'].str.contains('B'))]\n",
    "df.to_csv(output_file, index=False)"
   ]
  },
  {
   "cell_type": "code",
   "execution_count": null,
   "metadata": {},
   "outputs": [],
   "source": [
    "# 4. pandas를 이용한 filtering(2) - 날짜\n",
    "output_file = '../data/output4.csv'\n",
    "df = pd.read_csv(input_file)\n",
    "\n",
    "# 일자가 2014-01-20~01-30\n",
    "dates = ['2014-01-20','2014-01-30']\n",
    "\n",
    "# isin = 내용물을 비교해서 있으면 True로 리턴해줌\n",
    "print(df['Purchase Date'].isin(dates))\n",
    "\n",
    "result = df.loc[df['Purchase Date'].isin(dates),:]\n",
    "result.to_csv(output_file,index=False)"
   ]
  },
  {
   "cell_type": "markdown",
   "metadata": {},
   "source": [
    "#### 6. DataFrame 고급인덱싱\n",
    "\n",
    "df에서는 특정한 데이터를 추출하는 것을 `인덱싱 indexing`이라고 한다. pandas에서는 numpy행렬과 같이 쉼표를 사용한 `(행인덱스, 열인덱스)`형식의 2차원 인덱싱을 지원하기 위해 아래와 같은 특별한 인덱서(indexer)를 제공한다.\n",
    "\n",
    "* `loc` : 라벨값 기반의 2차원 인덱싱 \n",
    "* `iloc`: 순서를 나타내는 정수기반의 2차원 인덱싱\n",
    "* `at` : 라벨값 기반의 2차원 인덱싱(한개의 scale값만 찾는다)\n",
    "* `lat` : 순서를 나타내는 정수기반의 2차원 인덱싱(한개의 scale값만 찾는다)\n",
    "\n",
    "\n",
    "##### loc, iloc인덱서\n",
    "\n",
    "loc인덱서를 사용할 때는 행/열 인덱스들이 모두 다음중 하나이어야 한다.\n",
    ">* 정수 인덱스가 아닌 라벨값(원래 인덱스 자체가 정수 인덱스인 경우는 예외적으로 허용)\n",
    "* 라벨 값의 리스트나 슬라이싱\n",
    "* 블리언 리스트, 1차원 배열, 시리즈(dataframe은 않된다)\n",
    "* 데이터프레임을 입력으로 받고 값을 리턴하는 함수\n",
    "\n",
    "##### at, iat인덱서\n",
    "at, iat인덱서는 loc, iloc인덱서와 비슷하지만 하나의 스칼라 값을 추출할 때만 사용한다. 빠른 인덱싱 속도가 요구되는 경우에 사용한다."
   ]
  },
  {
   "cell_type": "code",
   "execution_count": null,
   "metadata": {},
   "outputs": [],
   "source": [
    "import numpy as np"
   ]
  },
  {
   "cell_type": "code",
   "execution_count": null,
   "metadata": {},
   "outputs": [],
   "source": [
    "df = pd.DataFrame(np.arange(10, 22).reshape(3,4),\n",
    "                 index=[\"a\", \"b\", \"c\"],\n",
    "                 columns=[\"A\", \"B\", \"C\", \"D\"])\n",
    "df"
   ]
  },
  {
   "cell_type": "code",
   "execution_count": null,
   "metadata": {},
   "outputs": [],
   "source": [
    "# 1. loc 인덱서를 사용하려면 df.loc[행, 열]와 같은 형태로 사용한다. 행 인덱서 라벨값이 'a'\n",
    "# 열인덱서가 'A', 행 a\n",
    "df.loc['a','A']\n",
    "\n",
    "# 라벨만\n",
    "df.loc['a',:]\n",
    "\n",
    "# list - 열, 행 하나씩 선택해서 찾기\n",
    "df.loc[['a','b'],['B','D']]\n",
    "\n",
    "# boolean\n",
    "df.loc[df.A>10,:]\n",
    "\n",
    "# 만약 loc인덱서를 사용하지 않고  한개의 "
   ]
  },
  {
   "cell_type": "code",
   "execution_count": null,
   "metadata": {},
   "outputs": [],
   "source": [
    "# iloc 인덱서\n",
    "# loc인덱서와 반대로 라벨이 아니라 순서를 나타내는 정수인덱스만 사용\n",
    "# 가능하고 나머지 기능은 loc인덱서오 동일하다.\n",
    "\n",
    "# 특정위치의 값\n",
    "df.iloc[0,0] # 10\n",
    "df.iloc[0,1]\n",
    "df.iloc[0,2]\n",
    "\n",
    "# 행과 열\n",
    "df.iloc[:2,2]\n",
    "df.iloc[0, -2:]\n",
    "\n",
    "# 2차원으로 추출\n",
    "df.iloc[2:3, 1:3]"
   ]
  },
  {
   "cell_type": "code",
   "execution_count": null,
   "metadata": {},
   "outputs": [],
   "source": [
    "# at, iat인덱서\n",
    "%timeit df.loc[\"a\", \"A\"]"
   ]
  },
  {
   "cell_type": "code",
   "execution_count": null,
   "metadata": {},
   "outputs": [],
   "source": [
    "'''  \n",
    "문1) score.csv 파일을 읽어와서 다음과 같이 처리하시오.\n",
    "   조건1> tv 칼럼이 0인 관측치 2개 삭제 (for, if문 이용)\n",
    "   조건2> score, academy 칼럼만 추출하여 DataFrame 생성\n",
    "   조건3> score, academy 칼럼의 평균 계산 - <<출력 결과 >> 참고    \n",
    "   \n",
    "<<출력 결과 >>\n",
    "   score  academy\n",
    "1     75        1\n",
    "2     77        1\n",
    "3     83        2\n",
    "4     65        0\n",
    "5     80        3\n",
    "6     83        3\n",
    "7     70        1\n",
    "9     79        2\n",
    "score      76.500\n",
    "academy     1.625   \n",
    "'''\n",
    "\n",
    "df = pd.read_csv('../data/db/score.csv')\n",
    "df = df.loc[df.tv !=0,:]\n",
    "df = df.loc[:,['score','academy']]\n",
    "print(df)\n",
    "print(df.mean())"
   ]
  },
  {
   "cell_type": "code",
   "execution_count": null,
   "metadata": {},
   "outputs": [],
   "source": [
    "# 1. df.read_csv()\n",
    "score = pd.read_csv('../data/db/score.csv')\n",
    "display(score)\n",
    "# 2. df.drop(idx)\n",
    "tvs = score.tv\n",
    "idx = 0\n",
    "for tv in tvs:\n",
    "    if tv == 0:\n",
    "        score = score.drop(idx)\n",
    "    idx += 1\n",
    "display(idx)\n",
    "# 3. df['a','b'] or col = ['score', 'academy']\n",
    "col_name = ['score','academy']\n",
    "df = score[col_name]\n",
    "display(df)\n",
    "\n",
    "# 5. df.mean()\n",
    "display(df.mean())"
   ]
  },
  {
   "cell_type": "code",
   "execution_count": null,
   "metadata": {},
   "outputs": [],
   "source": [
    "''' \n",
    "문2) tips.csv 파일을 읽어와서 다음과 같이 처리하시오.\n",
    "   조건1> 파일 정보 보기 \n",
    "   조건2> header를 포함한 앞부분 5개 관측치 보기 \n",
    "   조건3> header를 포함한 뒷부분 5개 관측치 보기 \n",
    "   조건4> 숫자 칼럼 대상 요약통계량 보기 \n",
    "   조건5> 흡연자(smoker) 유무 빈도수 계산  \n",
    "   조건6> 요일(day) 칼럼의 유일한 값 출력 \n",
    "'''\n",
    "df = pd.read_csv('../data/db/tips.csv')\n",
    "print(df.info())\n",
    "print(df.head())\n",
    "print(df.tail())\n",
    "print(df.describe())\n",
    "\n",
    "# value_counts() : 빈도수 계산\n",
    "smork_count = df['smoker'].value_counts()\n",
    "print(smork_count)\n",
    "\n",
    "# 유일칼럼 - 유니크\n",
    "a= df['day']\n",
    "a.unique()\n",
    "\n"
   ]
  },
  {
   "cell_type": "code",
   "execution_count": null,
   "metadata": {},
   "outputs": [],
   "source": [
    "print(df.info())"
   ]
  },
  {
   "cell_type": "code",
   "execution_count": null,
   "metadata": {},
   "outputs": [],
   "source": [
    "''' \n",
    "문3) 다음 df를 대상으로 iloc() or loc() 속성을 이용하여 행과 열을 선택하시오.\n",
    "   조건1> 1,3행 전체 선택    \n",
    "   조건2> 1~4열 전체 선택 \n",
    "   조건3> 1,3행 1,3,5열 선택\n",
    "'''\n",
    "import pandas as pd\n",
    "import numpy as np\n",
    "\n",
    "data = np.arange(1, 16).reshape(3,5) # 3x5\n",
    "df = pd.DataFrame(data, index = ['one', 'two', 'three'],\n",
    "                  columns = [1,2,3,4,5])\n",
    "print(df)\n",
    "\n",
    "display(df.loc[['one','three']])\n",
    "\n",
    "df = df.loc[['one','three'],[1,3,5]]\n",
    "df"
   ]
  },
  {
   "cell_type": "code",
   "execution_count": null,
   "metadata": {},
   "outputs": [],
   "source": [
    "'''  \n",
    "문4) iris.csv 파일을 읽어와서 다음과 같이 처리하시오.\n",
    "   조건1> 1~4 칼럼 대상 vector(Series) 생성(col1, col2, col3, col4)    \n",
    "   조건2> 각 칼럼 대상 합계, 평균, 표준편차 구하기 \n",
    "   조건3> 1,2 칼럼과 3,4 칼럼을 대상으로 각 df1, df2 데이터프레임 생성\n",
    "   조건4> df1과 df2 칼럼 단위 결합 iris_df 데이터프레임 생성      \n",
    "'''"
   ]
  },
  {
   "cell_type": "code",
   "execution_count": null,
   "metadata": {},
   "outputs": [],
   "source": [
    "df =  pd.read_csv('../data/db/iris.csv')\n",
    "\n",
    "col1 = df.iloc[:,0]\n",
    "col2 = df.iloc[:,1]\n",
    "col3 = df.iloc[:,2]\n",
    "col4 = df.iloc[:,3]\n",
    "\n",
    "print(col1.sum(),col1.mean(),col1.std())\n",
    "print(col2.sum(),col1.mean(),col1.std())\n",
    "print(col3.sum(),col1.mean(),col1.std())\n",
    "print(col4.sum(),col1.mean(),col1.std())\n",
    "\n",
    "df1 = pd.DataFrame({'S.Length':col1,'S.Width':col2})\n",
    "df2 = pd.DataFrame({'S.Length':col3,'S.Width':col4})\n",
    "\n",
    "\n",
    "# 4) iris_df = df1 + df2\n",
    "iris_df = pd.concat([df1, df2],axis =1)\n",
    "display(iris_df)\n",
    "display(iris_df.info())"
   ]
  },
  {
   "cell_type": "markdown",
   "metadata": {},
   "source": [
    "#### 7. SQL문과 비교 실습"
   ]
  },
  {
   "cell_type": "code",
   "execution_count": null,
   "metadata": {},
   "outputs": [],
   "source": [
    "url = 'https://raw.github.com/pandas-dev/pandas/master/pandas/tests/data/tips.csv'\n",
    "tips = pd.read_csv(url)\n",
    "display(tips.head())"
   ]
  },
  {
   "cell_type": "markdown",
   "metadata": {},
   "source": [
    "##### 1. select"
   ]
  },
  {
   "cell_type": "code",
   "execution_count": null,
   "metadata": {},
   "outputs": [],
   "source": [
    "# select total_bill, tip, smoker, time from tips limit 5\n",
    "display(tips[['total_bill','tip','smoker','time']].head())\n",
    "\n",
    "# select * from tips where time = 'Dinner' limit 5\n",
    "\n",
    "tips[tips['time' ]== 'Dinner'].head()\n",
    "\n",
    "\n",
    "# tips >= 5.00 and DInner\n",
    "# select * from tips where tip >= 5 and time = Dinner\n",
    "tips[(tips['tip']>=5)&(tips['time']=='Dinner')]"
   ]
  },
  {
   "cell_type": "code",
   "execution_count": null,
   "metadata": {},
   "outputs": [],
   "source": [
    "# select * from tipes where size>5 or total_bill>45\n",
    "tips[(tips['size']>5)|(tips['total_bill']>45)]"
   ]
  },
  {
   "cell_type": "code",
   "execution_count": null,
   "metadata": {},
   "outputs": [],
   "source": [
    "# null값을 체크 : notna(), isna()\n",
    "fram = pd.DataFrame({\n",
    "    'col1':['A','B',np.NaN,'C','D'],\n",
    "    'col2' : ['E',np.NaN,'G','H','I']\n",
    "})\n",
    "display(fram)\n",
    "\n",
    "# select * from fram where col1 is not null\n",
    "# select * from fram where col2 is null\n",
    "\n",
    "fram[fram.col1.notna()]\n",
    "fram[fram.col2.isna()]"
   ]
  },
  {
   "cell_type": "code",
   "execution_count": null,
   "metadata": {},
   "outputs": [],
   "source": [
    "# goup by\n",
    "# select sex, count(*) from tipes group by sex;\n",
    "# groupby(), size()\n",
    "\n",
    "print(tips.groupby('sex').size())\n",
    "\n",
    "# count\n",
    "print(tips.groupby('sex').count())\n",
    "\n",
    "print(tips.groupby('sex')['total_bill'].count())"
   ]
  },
  {
   "cell_type": "code",
   "execution_count": null,
   "metadata": {},
   "outputs": [],
   "source": [
    "# select dat, avg(tip) ,count(*) from tips goupy by day\n",
    "# agg() -> agg({tip:평균,day:크기})\n",
    "display(tips.groupby('sex').agg({'tip':np.mean,'day':np.size}))"
   ]
  },
  {
   "cell_type": "code",
   "execution_count": null,
   "metadata": {},
   "outputs": [],
   "source": [
    "# select smoker, dat,avg(tip), count(*) from tips\n",
    "# group by smoker, day\n",
    "tips.groupby(['smoker','sex']).agg({'tip':np.mean,'day':np.size})\n",
    "np.min?"
   ]
  },
  {
   "cell_type": "code",
   "execution_count": null,
   "metadata": {},
   "outputs": [],
   "source": [
    "# 3. join\n",
    "df1 = pd.DataFrame({'key':['A','B','C','D'],'value':np.random.randn(4)})\n",
    "df2 = pd.DataFrame({'key':['B','D','D','E'],'value':np.random.randn(4)})\n",
    "display(df1)\n",
    "display(df2)"
   ]
  },
  {
   "cell_type": "code",
   "execution_count": null,
   "metadata": {},
   "outputs": [],
   "source": [
    "# select * from df1 inner join df2 on df1.key = df2.key\n",
    "df3 = df1.merge(df2,on = 'key')\n",
    "display(df3)\n",
    "\n",
    "df2_index = df2.set_index('key')\n",
    "pd.merge(df1, df2_index, left_on='key', right_index=True)"
   ]
  },
  {
   "cell_type": "code",
   "execution_count": null,
   "metadata": {},
   "outputs": [],
   "source": [
    "# select * from df1 left outer join df2 on df1.key = df2.key\n",
    "pd.merge(df1, df2, on='key', how='left')"
   ]
  },
  {
   "cell_type": "code",
   "execution_count": null,
   "metadata": {},
   "outputs": [],
   "source": [
    "# select * from df1 right outer join df2 on df1.key = df2.key\n",
    "pd.merge(df1, df2, on='key', how='right')\n",
    "\n",
    "# select * from df1 full outer join df2 on df1.key = df2.key\n",
    "pd.merge(df1, df2, on='key', how='outer')"
   ]
  },
  {
   "cell_type": "code",
   "execution_count": null,
   "metadata": {},
   "outputs": [],
   "source": [
    "# select city, rank from df1 union all\n",
    "# select city, rank from df2\n",
    "# concat()\n",
    "pd.concat([df1, df2])"
   ]
  },
  {
   "cell_type": "code",
   "execution_count": null,
   "metadata": {},
   "outputs": [],
   "source": [
    "# MySql\n",
    "# select * from tips order by tip desc limit 10 offset 5;\n",
    "# nlargest\n",
    "# tips.nlargest?\n",
    "# n은 나올 값을 설정하는거 같은데???\n",
    "tips.nlargest(10, columns='tip')"
   ]
  },
  {
   "cell_type": "code",
   "execution_count": null,
   "metadata": {},
   "outputs": [],
   "source": [
    "# Oracle\n",
    "# select from (selct t.*,row_number() \n",
    "# over(partition by day order by total_bill desc) as rn\n",
    "# from tips t)\n",
    "# where rn<3\n",
    "# order by day, rn;\n",
    "# assign(), sort_values(), group by(), cumcount(), qury()\n",
    "display(\n",
    "tips.assign(rn =tips.sort_values(['total_bill'],ascending= False)\n",
    "           .groupby(['day'])\n",
    "           .cumcount() + 1)\n",
    "           .query('rn<3')\n",
    "            .sort_values(['day','rn'])\n",
    "           )"
   ]
  },
  {
   "cell_type": "code",
   "execution_count": null,
   "metadata": {},
   "outputs": [],
   "source": [
    "# sql의 rank()함수 적용(1)\n",
    "# df의 rank(method='first')\n",
    "display(\n",
    "    tips.assign(rank=tips.groupby(['day'])['total_bill']\n",
    "                .rank(method='first', ascending=False))\n",
    "        .query('rank < 3')\n",
    "        .sort_values(['day', 'rank'])\n",
    ")"
   ]
  },
  {
   "cell_type": "code",
   "execution_count": null,
   "metadata": {},
   "outputs": [],
   "source": [
    "# sql의 rank()함수 적용(2)\n",
    "# select * from\n",
    "# (\n",
    "#     select t.*\n",
    "#          , rank() over(partition by sex order by tip) as rnk_min\n",
    "#       from tips t\n",
    "#      where tip < 2\n",
    "# )\n",
    "# where rnk_min < 3\n",
    "# order by sex, rnk_min\n",
    "display(\n",
    "\n",
    "tips[tips['tip'] < 2]\n",
    "    .assign(rnk_min=tips.groupby(['sex'])['tip'].rank(method='min'))\n",
    "    .query('rnk_min < 3')\n",
    "    .sort_values(['sex', 'rnk_min'])\n",
    "    \n",
    ")"
   ]
  },
  {
   "cell_type": "markdown",
   "metadata": {},
   "source": [
    "##### 5. update"
   ]
  },
  {
   "cell_type": "code",
   "execution_count": null,
   "metadata": {},
   "outputs": [],
   "source": [
    "# update tips\n",
    "# set tip = tip*2 where tip<2\n",
    "tips.loc[tips['tip']< 2, 'tip']*=2"
   ]
  },
  {
   "cell_type": "markdown",
   "metadata": {},
   "source": [
    "##### 6. delete - 추출하는걸로 해결해라"
   ]
  },
  {
   "cell_type": "code",
   "execution_count": null,
   "metadata": {},
   "outputs": [],
   "source": [
    "# delete from tips where tip >3 ;\n",
    "tips = tips.loc[tips['tip']>3]\n",
    "tips"
   ]
  },
  {
   "cell_type": "markdown",
   "metadata": {},
   "source": [
    "#### 연습문제\n",
    " * https://grouplens.org/datasets/movielens/\n",
    " * ml-latest-small.zip다운 "
   ]
  },
  {
   "cell_type": "code",
   "execution_count": 33,
   "metadata": {},
   "outputs": [],
   "source": [
    "import pandas as pd\n",
    "df_movies = pd.read_csv('../data/movilens/movies.csv',delimiter = ',')\n",
    "df_ratings = pd.read_csv('../data/movilens/ratings.csv',delimiter = ',')"
   ]
  },
  {
   "cell_type": "code",
   "execution_count": 34,
   "metadata": {},
   "outputs": [
    {
     "data": {
      "text/html": [
       "<div>\n",
       "<style scoped>\n",
       "    .dataframe tbody tr th:only-of-type {\n",
       "        vertical-align: middle;\n",
       "    }\n",
       "\n",
       "    .dataframe tbody tr th {\n",
       "        vertical-align: top;\n",
       "    }\n",
       "\n",
       "    .dataframe thead th {\n",
       "        text-align: right;\n",
       "    }\n",
       "</style>\n",
       "<table border=\"1\" class=\"dataframe\">\n",
       "  <thead>\n",
       "    <tr style=\"text-align: right;\">\n",
       "      <th></th>\n",
       "      <th>movieId</th>\n",
       "      <th>title</th>\n",
       "      <th>genres</th>\n",
       "    </tr>\n",
       "  </thead>\n",
       "  <tbody>\n",
       "    <tr>\n",
       "      <th>0</th>\n",
       "      <td>1</td>\n",
       "      <td>Toy Story (1995)</td>\n",
       "      <td>Adventure|Animation|Children|Comedy|Fantasy</td>\n",
       "    </tr>\n",
       "    <tr>\n",
       "      <th>1</th>\n",
       "      <td>2</td>\n",
       "      <td>Jumanji (1995)</td>\n",
       "      <td>Adventure|Children|Fantasy</td>\n",
       "    </tr>\n",
       "    <tr>\n",
       "      <th>2</th>\n",
       "      <td>3</td>\n",
       "      <td>Grumpier Old Men (1995)</td>\n",
       "      <td>Comedy|Romance</td>\n",
       "    </tr>\n",
       "    <tr>\n",
       "      <th>3</th>\n",
       "      <td>4</td>\n",
       "      <td>Waiting to Exhale (1995)</td>\n",
       "      <td>Comedy|Drama|Romance</td>\n",
       "    </tr>\n",
       "    <tr>\n",
       "      <th>4</th>\n",
       "      <td>5</td>\n",
       "      <td>Father of the Bride Part II (1995)</td>\n",
       "      <td>Comedy</td>\n",
       "    </tr>\n",
       "  </tbody>\n",
       "</table>\n",
       "</div>"
      ],
      "text/plain": [
       "   movieId                               title  \\\n",
       "0        1                    Toy Story (1995)   \n",
       "1        2                      Jumanji (1995)   \n",
       "2        3             Grumpier Old Men (1995)   \n",
       "3        4            Waiting to Exhale (1995)   \n",
       "4        5  Father of the Bride Part II (1995)   \n",
       "\n",
       "                                        genres  \n",
       "0  Adventure|Animation|Children|Comedy|Fantasy  \n",
       "1                   Adventure|Children|Fantasy  \n",
       "2                               Comedy|Romance  \n",
       "3                         Comedy|Drama|Romance  \n",
       "4                                       Comedy  "
      ]
     },
     "metadata": {},
     "output_type": "display_data"
    },
    {
     "data": {
      "text/html": [
       "<div>\n",
       "<style scoped>\n",
       "    .dataframe tbody tr th:only-of-type {\n",
       "        vertical-align: middle;\n",
       "    }\n",
       "\n",
       "    .dataframe tbody tr th {\n",
       "        vertical-align: top;\n",
       "    }\n",
       "\n",
       "    .dataframe thead th {\n",
       "        text-align: right;\n",
       "    }\n",
       "</style>\n",
       "<table border=\"1\" class=\"dataframe\">\n",
       "  <thead>\n",
       "    <tr style=\"text-align: right;\">\n",
       "      <th></th>\n",
       "      <th>userId</th>\n",
       "      <th>movieId</th>\n",
       "      <th>rating</th>\n",
       "      <th>timestamp</th>\n",
       "    </tr>\n",
       "  </thead>\n",
       "  <tbody>\n",
       "    <tr>\n",
       "      <th>0</th>\n",
       "      <td>1</td>\n",
       "      <td>1</td>\n",
       "      <td>4.0</td>\n",
       "      <td>964982703</td>\n",
       "    </tr>\n",
       "    <tr>\n",
       "      <th>1</th>\n",
       "      <td>1</td>\n",
       "      <td>3</td>\n",
       "      <td>4.0</td>\n",
       "      <td>964981247</td>\n",
       "    </tr>\n",
       "    <tr>\n",
       "      <th>2</th>\n",
       "      <td>1</td>\n",
       "      <td>6</td>\n",
       "      <td>4.0</td>\n",
       "      <td>964982224</td>\n",
       "    </tr>\n",
       "    <tr>\n",
       "      <th>3</th>\n",
       "      <td>1</td>\n",
       "      <td>47</td>\n",
       "      <td>5.0</td>\n",
       "      <td>964983815</td>\n",
       "    </tr>\n",
       "    <tr>\n",
       "      <th>4</th>\n",
       "      <td>1</td>\n",
       "      <td>50</td>\n",
       "      <td>5.0</td>\n",
       "      <td>964982931</td>\n",
       "    </tr>\n",
       "  </tbody>\n",
       "</table>\n",
       "</div>"
      ],
      "text/plain": [
       "   userId  movieId  rating  timestamp\n",
       "0       1        1     4.0  964982703\n",
       "1       1        3     4.0  964981247\n",
       "2       1        6     4.0  964982224\n",
       "3       1       47     5.0  964983815\n",
       "4       1       50     5.0  964982931"
      ]
     },
     "metadata": {},
     "output_type": "display_data"
    }
   ],
   "source": [
    "display(df_movies.head())\n",
    "display(df_ratings.head())"
   ]
  },
  {
   "cell_type": "code",
   "execution_count": 35,
   "metadata": {},
   "outputs": [
    {
     "name": "stdout",
     "output_type": "stream",
     "text": [
      "3.501556983616962\n"
     ]
    },
    {
     "data": {
      "text/plain": [
       "'평점3.501556983616962'"
      ]
     },
     "metadata": {},
     "output_type": "display_data"
    }
   ],
   "source": [
    "# 1. 사용자가 평가한 모든 영화의 전체 평균평점을 출력\n",
    "print(df_ratings['rating'].mean())\n",
    "display('평점{}'.format(df_ratings['rating'].mean()))"
   ]
  },
  {
   "cell_type": "code",
   "execution_count": 42,
   "metadata": {},
   "outputs": [
    {
     "ename": "SyntaxError",
     "evalue": "invalid syntax (<ipython-input-42-48c8496e9502>, line 2)",
     "output_type": "error",
     "traceback": [
      "\u001b[1;36m  File \u001b[1;32m\"<ipython-input-42-48c8496e9502>\"\u001b[1;36m, line \u001b[1;32m2\u001b[0m\n\u001b[1;33m    import numpy as\u001b[0m\n\u001b[1;37m                    ^\u001b[0m\n\u001b[1;31mSyntaxError\u001b[0m\u001b[1;31m:\u001b[0m invalid syntax\n"
     ]
    }
   ],
   "source": [
    "# 2. 각 사용자별 영화평균평점을 출력\n",
    "import numpy as \n",
    "print(df_ratings.groupby('userId')['rating'].mean())\n",
    "\n",
    "\n",
    "for i in range(1, np.unique(df_ratings['userId']).size+1):\n",
    "#for i in range(1, np.unique(df_ratings['userId']).size-100800):\n",
    "    print(i, end=\" : \")\n",
    "    print(df_ratings.loc[df_ratings['userId'] == i, \"rating\"].mean())"
   ]
  },
  {
   "cell_type": "code",
   "execution_count": 46,
   "metadata": {},
   "outputs": [
    {
     "name": "stdout",
     "output_type": "stream",
     "text": [
      "movieId\n",
      "1         3.920930\n",
      "2         3.431818\n",
      "3         3.259615\n",
      "4         2.357143\n",
      "5         3.071429\n",
      "            ...   \n",
      "193581    4.000000\n",
      "193583    3.500000\n",
      "193585    3.500000\n",
      "193587    3.500000\n",
      "193609    4.000000\n",
      "Name: rating, Length: 9724, dtype: float64\n"
     ]
    },
    {
     "data": {
      "text/plain": [
       "movieId\n",
       "1         3.920930\n",
       "2         3.431818\n",
       "3         3.259615\n",
       "4         2.357143\n",
       "5         3.071429\n",
       "            ...   \n",
       "193581    4.000000\n",
       "193583    3.500000\n",
       "193585    3.500000\n",
       "193587    3.500000\n",
       "193609    4.000000\n",
       "Name: rating, Length: 9724, dtype: float64"
      ]
     },
     "execution_count": 46,
     "metadata": {},
     "output_type": "execute_result"
    }
   ],
   "source": [
    "# 3. 각 영화별 평균병점을 출력\n",
    "print(df_ratings.groupby('movieId')['rating'].mean())\n",
    "result_df = df_ratings.groupby('movieId')['rating'].mean()\n",
    "result_df"
   ]
  },
  {
   "cell_type": "code",
   "execution_count": null,
   "metadata": {},
   "outputs": [],
   "source": [
    "movieId = df_movies[\"movieId\"].unique()\n",
    "len(movieId)\n",
    "result_df = pd.DataFrame(columns=[\"영화별 평균 평점\"])\n",
    "for i in movieId:\n",
    "    movie_mean = df_ratings.loc[df_ratings[\"movieId\"]==i, \"rating\"].mean()\n",
    "    result_df.loc[i] = movie_mean\n",
    "\n",
    "display(result_df.head())  "
   ]
  },
  {
   "cell_type": "code",
   "execution_count": 45,
   "metadata": {},
   "outputs": [
    {
     "data": {
      "text/html": [
       "<div>\n",
       "<style scoped>\n",
       "    .dataframe tbody tr th:only-of-type {\n",
       "        vertical-align: middle;\n",
       "    }\n",
       "\n",
       "    .dataframe tbody tr th {\n",
       "        vertical-align: top;\n",
       "    }\n",
       "\n",
       "    .dataframe thead th {\n",
       "        text-align: right;\n",
       "    }\n",
       "</style>\n",
       "<table border=\"1\" class=\"dataframe\">\n",
       "  <thead>\n",
       "    <tr style=\"text-align: right;\">\n",
       "      <th></th>\n",
       "      <th>movieId</th>\n",
       "      <th>title</th>\n",
       "      <th>genres</th>\n",
       "      <th>영화별 평균 평점</th>\n",
       "    </tr>\n",
       "  </thead>\n",
       "  <tbody>\n",
       "    <tr>\n",
       "      <th>0</th>\n",
       "      <td>1</td>\n",
       "      <td>Toy Story (1995)</td>\n",
       "      <td>Adventure|Animation|Children|Comedy|Fantasy</td>\n",
       "      <td>3.920930</td>\n",
       "    </tr>\n",
       "    <tr>\n",
       "      <th>1</th>\n",
       "      <td>2</td>\n",
       "      <td>Jumanji (1995)</td>\n",
       "      <td>Adventure|Children|Fantasy</td>\n",
       "      <td>3.431818</td>\n",
       "    </tr>\n",
       "    <tr>\n",
       "      <th>2</th>\n",
       "      <td>3</td>\n",
       "      <td>Grumpier Old Men (1995)</td>\n",
       "      <td>Comedy|Romance</td>\n",
       "      <td>3.259615</td>\n",
       "    </tr>\n",
       "    <tr>\n",
       "      <th>3</th>\n",
       "      <td>4</td>\n",
       "      <td>Waiting to Exhale (1995)</td>\n",
       "      <td>Comedy|Drama|Romance</td>\n",
       "      <td>2.357143</td>\n",
       "    </tr>\n",
       "    <tr>\n",
       "      <th>4</th>\n",
       "      <td>5</td>\n",
       "      <td>Father of the Bride Part II (1995)</td>\n",
       "      <td>Comedy</td>\n",
       "      <td>3.071429</td>\n",
       "    </tr>\n",
       "    <tr>\n",
       "      <th>...</th>\n",
       "      <td>...</td>\n",
       "      <td>...</td>\n",
       "      <td>...</td>\n",
       "      <td>...</td>\n",
       "    </tr>\n",
       "    <tr>\n",
       "      <th>9737</th>\n",
       "      <td>193581</td>\n",
       "      <td>Black Butler: Book of the Atlantic (2017)</td>\n",
       "      <td>Action|Animation|Comedy|Fantasy</td>\n",
       "      <td>4.000000</td>\n",
       "    </tr>\n",
       "    <tr>\n",
       "      <th>9738</th>\n",
       "      <td>193583</td>\n",
       "      <td>No Game No Life: Zero (2017)</td>\n",
       "      <td>Animation|Comedy|Fantasy</td>\n",
       "      <td>3.500000</td>\n",
       "    </tr>\n",
       "    <tr>\n",
       "      <th>9739</th>\n",
       "      <td>193585</td>\n",
       "      <td>Flint (2017)</td>\n",
       "      <td>Drama</td>\n",
       "      <td>3.500000</td>\n",
       "    </tr>\n",
       "    <tr>\n",
       "      <th>9740</th>\n",
       "      <td>193587</td>\n",
       "      <td>Bungo Stray Dogs: Dead Apple (2018)</td>\n",
       "      <td>Action|Animation</td>\n",
       "      <td>3.500000</td>\n",
       "    </tr>\n",
       "    <tr>\n",
       "      <th>9741</th>\n",
       "      <td>193609</td>\n",
       "      <td>Andrew Dice Clay: Dice Rules (1991)</td>\n",
       "      <td>Comedy</td>\n",
       "      <td>4.000000</td>\n",
       "    </tr>\n",
       "  </tbody>\n",
       "</table>\n",
       "<p>9742 rows × 4 columns</p>\n",
       "</div>"
      ],
      "text/plain": [
       "      movieId                                      title  \\\n",
       "0           1                           Toy Story (1995)   \n",
       "1           2                             Jumanji (1995)   \n",
       "2           3                    Grumpier Old Men (1995)   \n",
       "3           4                   Waiting to Exhale (1995)   \n",
       "4           5         Father of the Bride Part II (1995)   \n",
       "...       ...                                        ...   \n",
       "9737   193581  Black Butler: Book of the Atlantic (2017)   \n",
       "9738   193583               No Game No Life: Zero (2017)   \n",
       "9739   193585                               Flint (2017)   \n",
       "9740   193587        Bungo Stray Dogs: Dead Apple (2018)   \n",
       "9741   193609        Andrew Dice Clay: Dice Rules (1991)   \n",
       "\n",
       "                                           genres  영화별 평균 평점  \n",
       "0     Adventure|Animation|Children|Comedy|Fantasy   3.920930  \n",
       "1                      Adventure|Children|Fantasy   3.431818  \n",
       "2                                  Comedy|Romance   3.259615  \n",
       "3                            Comedy|Drama|Romance   2.357143  \n",
       "4                                          Comedy   3.071429  \n",
       "...                                           ...        ...  \n",
       "9737              Action|Animation|Comedy|Fantasy   4.000000  \n",
       "9738                     Animation|Comedy|Fantasy   3.500000  \n",
       "9739                                        Drama   3.500000  \n",
       "9740                             Action|Animation   3.500000  \n",
       "9741                                       Comedy   4.000000  \n",
       "\n",
       "[9742 rows x 4 columns]"
      ]
     },
     "execution_count": 45,
     "metadata": {},
     "output_type": "execute_result"
    }
   ],
   "source": []
  },
  {
   "cell_type": "code",
   "execution_count": 49,
   "metadata": {},
   "outputs": [
    {
     "data": {
      "text/html": [
       "<div>\n",
       "<style scoped>\n",
       "    .dataframe tbody tr th:only-of-type {\n",
       "        vertical-align: middle;\n",
       "    }\n",
       "\n",
       "    .dataframe tbody tr th {\n",
       "        vertical-align: top;\n",
       "    }\n",
       "\n",
       "    .dataframe thead th {\n",
       "        text-align: right;\n",
       "    }\n",
       "</style>\n",
       "<table border=\"1\" class=\"dataframe\">\n",
       "  <thead>\n",
       "    <tr style=\"text-align: right;\">\n",
       "      <th></th>\n",
       "      <th>movieId</th>\n",
       "      <th>title</th>\n",
       "      <th>rating</th>\n",
       "    </tr>\n",
       "  </thead>\n",
       "  <tbody>\n",
       "    <tr>\n",
       "      <th>48</th>\n",
       "      <td>53</td>\n",
       "      <td>Lamerica (1994)</td>\n",
       "      <td>5.0</td>\n",
       "    </tr>\n",
       "    <tr>\n",
       "      <th>87</th>\n",
       "      <td>99</td>\n",
       "      <td>Heidi Fleiss: Hollywood Madam (1995)</td>\n",
       "      <td>5.0</td>\n",
       "    </tr>\n",
       "    <tr>\n",
       "      <th>121</th>\n",
       "      <td>148</td>\n",
       "      <td>Awfully Big Adventure, An (1995)</td>\n",
       "      <td>5.0</td>\n",
       "    </tr>\n",
       "    <tr>\n",
       "      <th>405</th>\n",
       "      <td>467</td>\n",
       "      <td>Live Nude Girls (1995)</td>\n",
       "      <td>5.0</td>\n",
       "    </tr>\n",
       "    <tr>\n",
       "      <th>432</th>\n",
       "      <td>495</td>\n",
       "      <td>In the Realm of the Senses (Ai no corrida) (1976)</td>\n",
       "      <td>5.0</td>\n",
       "    </tr>\n",
       "    <tr>\n",
       "      <th>...</th>\n",
       "      <td>...</td>\n",
       "      <td>...</td>\n",
       "      <td>...</td>\n",
       "    </tr>\n",
       "    <tr>\n",
       "      <th>9611</th>\n",
       "      <td>176601</td>\n",
       "      <td>Black Mirror</td>\n",
       "      <td>5.0</td>\n",
       "    </tr>\n",
       "    <tr>\n",
       "      <th>9633</th>\n",
       "      <td>179133</td>\n",
       "      <td>Loving Vincent (2017)</td>\n",
       "      <td>5.0</td>\n",
       "    </tr>\n",
       "    <tr>\n",
       "      <th>9634</th>\n",
       "      <td>179135</td>\n",
       "      <td>Blue Planet II (2017)</td>\n",
       "      <td>5.0</td>\n",
       "    </tr>\n",
       "    <tr>\n",
       "      <th>9688</th>\n",
       "      <td>184245</td>\n",
       "      <td>De platte jungle (1978)</td>\n",
       "      <td>5.0</td>\n",
       "    </tr>\n",
       "    <tr>\n",
       "      <th>9711</th>\n",
       "      <td>187717</td>\n",
       "      <td>Won't You Be My Neighbor? (2018)</td>\n",
       "      <td>5.0</td>\n",
       "    </tr>\n",
       "  </tbody>\n",
       "</table>\n",
       "<p>296 rows × 3 columns</p>\n",
       "</div>"
      ],
      "text/plain": [
       "      movieId                                              title  rating\n",
       "48         53                                    Lamerica (1994)     5.0\n",
       "87         99               Heidi Fleiss: Hollywood Madam (1995)     5.0\n",
       "121       148                   Awfully Big Adventure, An (1995)     5.0\n",
       "405       467                             Live Nude Girls (1995)     5.0\n",
       "432       495  In the Realm of the Senses (Ai no corrida) (1976)     5.0\n",
       "...       ...                                                ...     ...\n",
       "9611   176601                                       Black Mirror     5.0\n",
       "9633   179133                              Loving Vincent (2017)     5.0\n",
       "9634   179135                              Blue Planet II (2017)     5.0\n",
       "9688   184245                            De platte jungle (1978)     5.0\n",
       "9711   187717                   Won't You Be My Neighbor? (2018)     5.0\n",
       "\n",
       "[296 rows x 3 columns]"
      ]
     },
     "execution_count": 49,
     "metadata": {},
     "output_type": "execute_result"
    }
   ],
   "source": [
    "# 4. df = df_movies, result_df를 merge(left_on=\"moviId\", right_index=True)\n",
    "# print(df) -> 3개의 컬럼 : movieId, title, \"영화별 평균 평점\"\n",
    "# 평균평점이 가장 높은 영화의 제목을 출력하세요\n",
    "#(동률이 있을 경우 모두 출력하세요)\n",
    "\n",
    "df = pd.merge(df_movies, result_df, left_on='movieId', right_index=True)\n",
    "df = df[['movieId','title','rating']]\n",
    "df.sort_values(by=['rating'], ascending=False)\n",
    "df[df['rating']==df['rating'].max()]"
   ]
  },
  {
   "cell_type": "code",
   "execution_count": 50,
   "metadata": {
    "scrolled": false
   },
   "outputs": [
    {
     "ename": "KeyError",
     "evalue": "'genres'",
     "output_type": "error",
     "traceback": [
      "\u001b[1;31m---------------------------------------------------------------------------\u001b[0m",
      "\u001b[1;31mKeyError\u001b[0m                                  Traceback (most recent call last)",
      "\u001b[1;32mC:\\Anaconda3\\lib\\site-packages\\pandas\\core\\indexes\\base.py\u001b[0m in \u001b[0;36mget_loc\u001b[1;34m(self, key, method, tolerance)\u001b[0m\n\u001b[0;32m   2645\u001b[0m             \u001b[1;32mtry\u001b[0m\u001b[1;33m:\u001b[0m\u001b[1;33m\u001b[0m\u001b[1;33m\u001b[0m\u001b[0m\n\u001b[1;32m-> 2646\u001b[1;33m                 \u001b[1;32mreturn\u001b[0m \u001b[0mself\u001b[0m\u001b[1;33m.\u001b[0m\u001b[0m_engine\u001b[0m\u001b[1;33m.\u001b[0m\u001b[0mget_loc\u001b[0m\u001b[1;33m(\u001b[0m\u001b[0mkey\u001b[0m\u001b[1;33m)\u001b[0m\u001b[1;33m\u001b[0m\u001b[1;33m\u001b[0m\u001b[0m\n\u001b[0m\u001b[0;32m   2647\u001b[0m             \u001b[1;32mexcept\u001b[0m \u001b[0mKeyError\u001b[0m\u001b[1;33m:\u001b[0m\u001b[1;33m\u001b[0m\u001b[1;33m\u001b[0m\u001b[0m\n",
      "\u001b[1;32mpandas\\_libs\\index.pyx\u001b[0m in \u001b[0;36mpandas._libs.index.IndexEngine.get_loc\u001b[1;34m()\u001b[0m\n",
      "\u001b[1;32mpandas\\_libs\\index.pyx\u001b[0m in \u001b[0;36mpandas._libs.index.IndexEngine.get_loc\u001b[1;34m()\u001b[0m\n",
      "\u001b[1;32mpandas\\_libs\\hashtable_class_helper.pxi\u001b[0m in \u001b[0;36mpandas._libs.hashtable.PyObjectHashTable.get_item\u001b[1;34m()\u001b[0m\n",
      "\u001b[1;32mpandas\\_libs\\hashtable_class_helper.pxi\u001b[0m in \u001b[0;36mpandas._libs.hashtable.PyObjectHashTable.get_item\u001b[1;34m()\u001b[0m\n",
      "\u001b[1;31mKeyError\u001b[0m: 'genres'",
      "\nDuring handling of the above exception, another exception occurred:\n",
      "\u001b[1;31mKeyError\u001b[0m                                  Traceback (most recent call last)",
      "\u001b[1;32m<ipython-input-50-336f7bc8c166>\u001b[0m in \u001b[0;36m<module>\u001b[1;34m\u001b[0m\n\u001b[0;32m      2\u001b[0m \u001b[1;33m\u001b[0m\u001b[0m\n\u001b[0;32m      3\u001b[0m \u001b[0mmin_df\u001b[0m \u001b[1;33m=\u001b[0m \u001b[0mdf\u001b[0m\u001b[1;33m[\u001b[0m\u001b[0mdf\u001b[0m\u001b[1;33m[\u001b[0m\u001b[1;34m'rating'\u001b[0m\u001b[1;33m]\u001b[0m\u001b[1;33m==\u001b[0m\u001b[0mdf\u001b[0m\u001b[1;33m[\u001b[0m\u001b[1;34m'rating'\u001b[0m\u001b[1;33m]\u001b[0m\u001b[1;33m.\u001b[0m\u001b[0mmin\u001b[0m\u001b[1;33m(\u001b[0m\u001b[1;33m)\u001b[0m\u001b[1;33m]\u001b[0m\u001b[1;33m\u001b[0m\u001b[1;33m\u001b[0m\u001b[0m\n\u001b[1;32m----> 4\u001b[1;33m \u001b[0mmin_df\u001b[0m\u001b[1;33m[\u001b[0m\u001b[0mmin_df\u001b[0m\u001b[1;33m[\u001b[0m\u001b[1;34m'genres'\u001b[0m\u001b[1;33m]\u001b[0m\u001b[1;33m.\u001b[0m\u001b[0mstr\u001b[0m\u001b[1;33m.\u001b[0m\u001b[0mcontains\u001b[0m\u001b[1;33m(\u001b[0m\u001b[1;34m'Comedy'\u001b[0m\u001b[1;33m)\u001b[0m\u001b[1;33m]\u001b[0m\u001b[1;33m\u001b[0m\u001b[1;33m\u001b[0m\u001b[0m\n\u001b[0m",
      "\u001b[1;32mC:\\Anaconda3\\lib\\site-packages\\pandas\\core\\frame.py\u001b[0m in \u001b[0;36m__getitem__\u001b[1;34m(self, key)\u001b[0m\n\u001b[0;32m   2798\u001b[0m             \u001b[1;32mif\u001b[0m \u001b[0mself\u001b[0m\u001b[1;33m.\u001b[0m\u001b[0mcolumns\u001b[0m\u001b[1;33m.\u001b[0m\u001b[0mnlevels\u001b[0m \u001b[1;33m>\u001b[0m \u001b[1;36m1\u001b[0m\u001b[1;33m:\u001b[0m\u001b[1;33m\u001b[0m\u001b[1;33m\u001b[0m\u001b[0m\n\u001b[0;32m   2799\u001b[0m                 \u001b[1;32mreturn\u001b[0m \u001b[0mself\u001b[0m\u001b[1;33m.\u001b[0m\u001b[0m_getitem_multilevel\u001b[0m\u001b[1;33m(\u001b[0m\u001b[0mkey\u001b[0m\u001b[1;33m)\u001b[0m\u001b[1;33m\u001b[0m\u001b[1;33m\u001b[0m\u001b[0m\n\u001b[1;32m-> 2800\u001b[1;33m             \u001b[0mindexer\u001b[0m \u001b[1;33m=\u001b[0m \u001b[0mself\u001b[0m\u001b[1;33m.\u001b[0m\u001b[0mcolumns\u001b[0m\u001b[1;33m.\u001b[0m\u001b[0mget_loc\u001b[0m\u001b[1;33m(\u001b[0m\u001b[0mkey\u001b[0m\u001b[1;33m)\u001b[0m\u001b[1;33m\u001b[0m\u001b[1;33m\u001b[0m\u001b[0m\n\u001b[0m\u001b[0;32m   2801\u001b[0m             \u001b[1;32mif\u001b[0m \u001b[0mis_integer\u001b[0m\u001b[1;33m(\u001b[0m\u001b[0mindexer\u001b[0m\u001b[1;33m)\u001b[0m\u001b[1;33m:\u001b[0m\u001b[1;33m\u001b[0m\u001b[1;33m\u001b[0m\u001b[0m\n\u001b[0;32m   2802\u001b[0m                 \u001b[0mindexer\u001b[0m \u001b[1;33m=\u001b[0m \u001b[1;33m[\u001b[0m\u001b[0mindexer\u001b[0m\u001b[1;33m]\u001b[0m\u001b[1;33m\u001b[0m\u001b[1;33m\u001b[0m\u001b[0m\n",
      "\u001b[1;32mC:\\Anaconda3\\lib\\site-packages\\pandas\\core\\indexes\\base.py\u001b[0m in \u001b[0;36mget_loc\u001b[1;34m(self, key, method, tolerance)\u001b[0m\n\u001b[0;32m   2646\u001b[0m                 \u001b[1;32mreturn\u001b[0m \u001b[0mself\u001b[0m\u001b[1;33m.\u001b[0m\u001b[0m_engine\u001b[0m\u001b[1;33m.\u001b[0m\u001b[0mget_loc\u001b[0m\u001b[1;33m(\u001b[0m\u001b[0mkey\u001b[0m\u001b[1;33m)\u001b[0m\u001b[1;33m\u001b[0m\u001b[1;33m\u001b[0m\u001b[0m\n\u001b[0;32m   2647\u001b[0m             \u001b[1;32mexcept\u001b[0m \u001b[0mKeyError\u001b[0m\u001b[1;33m:\u001b[0m\u001b[1;33m\u001b[0m\u001b[1;33m\u001b[0m\u001b[0m\n\u001b[1;32m-> 2648\u001b[1;33m                 \u001b[1;32mreturn\u001b[0m \u001b[0mself\u001b[0m\u001b[1;33m.\u001b[0m\u001b[0m_engine\u001b[0m\u001b[1;33m.\u001b[0m\u001b[0mget_loc\u001b[0m\u001b[1;33m(\u001b[0m\u001b[0mself\u001b[0m\u001b[1;33m.\u001b[0m\u001b[0m_maybe_cast_indexer\u001b[0m\u001b[1;33m(\u001b[0m\u001b[0mkey\u001b[0m\u001b[1;33m)\u001b[0m\u001b[1;33m)\u001b[0m\u001b[1;33m\u001b[0m\u001b[1;33m\u001b[0m\u001b[0m\n\u001b[0m\u001b[0;32m   2649\u001b[0m         \u001b[0mindexer\u001b[0m \u001b[1;33m=\u001b[0m \u001b[0mself\u001b[0m\u001b[1;33m.\u001b[0m\u001b[0mget_indexer\u001b[0m\u001b[1;33m(\u001b[0m\u001b[1;33m[\u001b[0m\u001b[0mkey\u001b[0m\u001b[1;33m]\u001b[0m\u001b[1;33m,\u001b[0m \u001b[0mmethod\u001b[0m\u001b[1;33m=\u001b[0m\u001b[0mmethod\u001b[0m\u001b[1;33m,\u001b[0m \u001b[0mtolerance\u001b[0m\u001b[1;33m=\u001b[0m\u001b[0mtolerance\u001b[0m\u001b[1;33m)\u001b[0m\u001b[1;33m\u001b[0m\u001b[1;33m\u001b[0m\u001b[0m\n\u001b[0;32m   2650\u001b[0m         \u001b[1;32mif\u001b[0m \u001b[0mindexer\u001b[0m\u001b[1;33m.\u001b[0m\u001b[0mndim\u001b[0m \u001b[1;33m>\u001b[0m \u001b[1;36m1\u001b[0m \u001b[1;32mor\u001b[0m \u001b[0mindexer\u001b[0m\u001b[1;33m.\u001b[0m\u001b[0msize\u001b[0m \u001b[1;33m>\u001b[0m \u001b[1;36m1\u001b[0m\u001b[1;33m:\u001b[0m\u001b[1;33m\u001b[0m\u001b[1;33m\u001b[0m\u001b[0m\n",
      "\u001b[1;32mpandas\\_libs\\index.pyx\u001b[0m in \u001b[0;36mpandas._libs.index.IndexEngine.get_loc\u001b[1;34m()\u001b[0m\n",
      "\u001b[1;32mpandas\\_libs\\index.pyx\u001b[0m in \u001b[0;36mpandas._libs.index.IndexEngine.get_loc\u001b[1;34m()\u001b[0m\n",
      "\u001b[1;32mpandas\\_libs\\hashtable_class_helper.pxi\u001b[0m in \u001b[0;36mpandas._libs.hashtable.PyObjectHashTable.get_item\u001b[1;34m()\u001b[0m\n",
      "\u001b[1;32mpandas\\_libs\\hashtable_class_helper.pxi\u001b[0m in \u001b[0;36mpandas._libs.hashtable.PyObjectHashTable.get_item\u001b[1;34m()\u001b[0m\n",
      "\u001b[1;31mKeyError\u001b[0m: 'genres'"
     ]
    }
   ],
   "source": [
    "# 5. Comedy영화중 가장 평점이 낮은 영화제목을 출력\n",
    "\n",
    "min_df = df[df['rating']==df['rating'].min()]\n",
    "min_df[min_df['genres'].str.contains('Comedy')]"
   ]
  },
  {
   "cell_type": "code",
   "execution_count": null,
   "metadata": {},
   "outputs": [],
   "source": [
    "# 6. 2015년에 평가된 모든 Romance 영화의 평균평점\n",
    "import time\n",
    "start = time.mktime(time.strptime(\"2015-01-01 00:00:00\", \"%Y-%m-%d %H:%M:%S\"))\n",
    "end =  time.mktime(time.strptime(\"2016-01-01 00:00:00\", \"%Y-%m-%d %H:%M:%S\"))\n",
    "\n",
    "s_df = df_ratings[(df_ratings['timestamp'] >= start)&(df_ratings['timestamp'] <= end)]\n",
    "mean_df = s_df.groupby('movieId')['rating'].mean()\n",
    "\n",
    "f_df = pd.merge(mean_df, df_movies, left_on='movieId', right_on='movieId', how='inner')\n",
    "re_df = f_df[f_df['genres'].str.contains('Romance')]\n",
    "re_df"
   ]
  },
  {
   "cell_type": "code",
   "execution_count": 53,
   "metadata": {},
   "outputs": [
    {
     "data": {
      "text/plain": [
       "movieId\n",
       "1         3.615385\n",
       "2         3.062500\n",
       "3         0.500000\n",
       "5         2.750000\n",
       "6         3.333333\n",
       "            ...   \n",
       "143525    4.000000\n",
       "144478    4.500000\n",
       "146024    4.000000\n",
       "146028    4.000000\n",
       "148626    4.500000\n",
       "Name: rating, Length: 2404, dtype: float64"
      ]
     },
     "execution_count": 53,
     "metadata": {},
     "output_type": "execute_result"
    }
   ],
   "source": []
  },
  {
   "cell_type": "markdown",
   "metadata": {},
   "source": [
    "#### 6. 항공운항데이터분석\n",
    "\n",
    "* 2006~2008년 항공운항데이터\n",
    "http://stat-computing.org/dataexpo/2009\n",
    "https://dataverse.harvard.edu/dataset.xhtml?persistentId=doi:10.7910/DVN/HG7NV7"
   ]
  },
  {
   "cell_type": "code",
   "execution_count": null,
   "metadata": {},
   "outputs": [],
   "source": [
    "# df_2006 = read_csv('../data/airline/2006.csv',delimiter = ',',encoding='utf-8')\n",
    "# df_2007 = read_csv('../data/airline/2007.csv',delimiter = ',',encoding='utf-8')\n",
    "df_2008 = pd.read_csv('../data/airline/2008.csv',delimiter = ',',encoding='utf-8')\n",
    "\n"
   ]
  },
  {
   "cell_type": "code",
   "execution_count": null,
   "metadata": {},
   "outputs": [],
   "source": [
    "df = pd.DataFrame()\n",
    "#df_2006 = pd.DataFrame\n",
    "#df_2007 = pd.DataFrame\n",
    "\n",
    "#df = df.append(df_2006)\n",
    "#df = df.append(df_2007)\n",
    "df = df.append(df_2008)"
   ]
  },
  {
   "cell_type": "code",
   "execution_count": null,
   "metadata": {},
   "outputs": [],
   "source": [
    "display(df.shape)\n",
    "display(df.head())\n",
    "display(df.columns)\n",
    "display(df.describe)"
   ]
  },
  {
   "cell_type": "code",
   "execution_count": null,
   "metadata": {},
   "outputs": [],
   "source": [
    "# 작업하기 위해 DF 생성\n",
    "display(df.head())\n",
    "df_work = df[['Year','Month','ArrDelay','DepDelay']]\n",
    "df_work.head()"
   ]
  },
  {
   "cell_type": "code",
   "execution_count": null,
   "metadata": {},
   "outputs": [],
   "source": [
    "# 결측치 확인 : isna, value_counts()\n",
    "display(df_work[df_work.ArrDelay.notna()])\n",
    "display(df_work[df_work.DepDelay.notna()])"
   ]
  },
  {
   "cell_type": "code",
   "execution_count": null,
   "metadata": {},
   "outputs": [],
   "source": [
    "# df_work.DepDelay.value_counts()\n",
    "# 결측치를 수치화\n",
    "display(df_work.DepDelay.isna().value_counts())\n",
    "\n",
    "# df_work 결측값 자료만 5건만 출력\n",
    "display(df_work[df_work.DepDelay.isna()].head())\n",
    "display(df_work[df_work.ArrDelay.isna()].head())\n",
    "display(df_work[(df_work.DepDelay.isna())&(df_work.ArrDelay.isna())].head())"
   ]
  },
  {
   "cell_type": "code",
   "execution_count": null,
   "metadata": {},
   "outputs": [],
   "source": [
    "# 결측치 제거\n",
    "# df.dropna(axis= 0, how= 'any'or'all')\n",
    "# how = all : 행의 모든 셀이 na일 경우에 삭제한다.\n",
    "# how = any : 모든 셀 중 한개라도 na가 있다면 그 행을 삭제한다.\n",
    "\n",
    "df_work = df_work.dropna(how='any')\n",
    "df_work.shape\n",
    "display(df_work[(df_work.DepDelay.isna())|(df_work.ArrDelay.isna())].head())"
   ]
  },
  {
   "cell_type": "code",
   "execution_count": null,
   "metadata": {},
   "outputs": [],
   "source": [
    "# goupby()와 agg()\n",
    "df01 = pd.DataFrame({\n",
    "    'city' : ['부산','부산','부산','부산','서울','서울','서울'],\n",
    "    'fruits':['apple','orange','banana','banana','apple','apple','banana'],\n",
    "    'price':[100,200,250,300,150,200,400],\n",
    "    'quantity':[1,2,3,4,5,6,7]\n",
    "})\n",
    "display(df01.head())"
   ]
  },
  {
   "cell_type": "code",
   "execution_count": null,
   "metadata": {},
   "outputs": [],
   "source": [
    "# 1. 도시별로 가격평균구하기\n",
    "display(df01.groupby('city').price.mean())\n",
    "\n",
    "# 도시, 과일 별\n",
    "display(df01.groupby(['city','fruits']).price.mean())\n",
    "\n",
    "# as_index 2차원이상으로 구성된 인덱스를 사용할 것인가?\n",
    "# False일시 모든 조합의 인덱스가 생성된다.\n",
    "display(df01.groupby(['city','fruits'],as_index=False).price.mean())\n",
    "\n",
    "# 그룹안의 데이터를 확인하는 함수\n",
    "# 2. 서울의 데이터를 확인 후 평균을 구함\n",
    "# groupby().get_group()\n",
    "display(df01.groupby('city').get_group('서울').price.mean())\n",
    "display(df01.groupby('city').get_group('서울').price.min())\n",
    "display(df01.groupby('city').get_group('서울').price.max())"
   ]
  },
  {
   "cell_type": "code",
   "execution_count": null,
   "metadata": {},
   "outputs": [],
   "source": [
    "# 3. 그룹별 건수 : groupby와 같이 사용해야함 size()\n",
    "# size는 dataframe을 매개변수로 받아야 하기 때문에 단일 int값을 받을 수 없다\n",
    "# 그래서 groupby.get_group에 사용하면 int 에러가 발생한다.\n",
    "\n",
    "display(df01.groupby('city').size())\n",
    "display(df01.groupby('city').size()['서울'])\n"
   ]
  },
  {
   "cell_type": "code",
   "execution_count": null,
   "metadata": {},
   "outputs": [],
   "source": [
    "# 4. 집계함수 : agg()\n",
    "# df01.agg(func, axis=0, *args, **kwargs)\n",
    "# df.agg(['sum', 'min']) # 모든 컬럼의 sum,min출력\n",
    "# df.agg({'A' : ['sum', 'min'], 'B' : ['min', 'max']}) : 해당컬럼에 지정된 함수\n",
    "# df.agg(\"mean\", axis=\"columns\")\n",
    "display(df01)\n",
    "display(df01.groupby('city').agg({'price':'mean','quantity':np.sum}))\n",
    "\n",
    "def my_mean(s) :\n",
    "    return np.mean(s)\n",
    "    \n",
    "\n"
   ]
  },
  {
   "cell_type": "code",
   "execution_count": null,
   "metadata": {},
   "outputs": [],
   "source": [
    "df = pd.DataFrame()\n",
    "df = df.append(df_2008)"
   ]
  },
  {
   "cell_type": "code",
   "execution_count": null,
   "metadata": {},
   "outputs": [],
   "source": [
    "# 1. 년월별 항공데이터의 건수 출력\n",
    "\n",
    "display(df.groupby(['Year','Month'],as_index=True).size())\n",
    "month_dep = df.groupby(['Year','Month'],as_index=True).size()"
   ]
  },
  {
   "cell_type": "code",
   "execution_count": null,
   "metadata": {},
   "outputs": [],
   "source": [
    "# 2. 결과데이터로 시각화\n",
    "month_dep.plot()"
   ]
  },
  {
   "cell_type": "code",
   "execution_count": null,
   "metadata": {},
   "outputs": [],
   "source": [
    "# 3. 저장\n",
    "# sep == delimiter\n",
    "month_dep.to_csv('../data/airline/airline_depdelay.csv',sep=',',index=True)"
   ]
  },
  {
   "cell_type": "code",
   "execution_count": null,
   "metadata": {},
   "outputs": [],
   "source": [
    "# 4. agg()를 이용해서 년월 (depdelay,arrdelay)를 각각 평균과 건수를 출력\n",
    "def size_a(s):\n",
    "    return np.size(s)/30000\n",
    "sa_df = df.groupby(['Year','Month']).agg({'DepDelay':['mean',size_a], 'ArrDelay':['mean',size_a]})\n",
    "\n",
    "sa_df.plot(kind='bar')\n",
    "sa_df.plot(kind='barh')\n",
    "sa_df.plot(kind='line')\n",
    "sa_df.plot(kind='box')\n",
    "plt.show()"
   ]
  },
  {
   "cell_type": "code",
   "execution_count": null,
   "metadata": {},
   "outputs": [],
   "source": [
    "sa_df.to_csv('../data/airline/airline_depdelay_0.csv',sep=',',index=True)"
   ]
  },
  {
   "cell_type": "code",
   "execution_count": null,
   "metadata": {},
   "outputs": [],
   "source": [
    "# 5. 출발지연건수, 도작지연건수 출력\n",
    "# select year, month, count(depdelay), count(arrdelay), from airline:\n",
    "a = df.groupby(['Year','Month']).agg({'DepDelay':'size','ArrDelay':'size'})\n",
    "\n",
    "# 저장 : airline_delay_1.csv\n",
    "a.to_csv('../data/airline/airline_depdelay_1.csv',sep=',',index=True)"
   ]
  },
  {
   "cell_type": "code",
   "execution_count": null,
   "metadata": {},
   "outputs": [],
   "source": [
    "a"
   ]
  },
  {
   "cell_type": "markdown",
   "metadata": {},
   "source": [
    "#### 9. 엑셀파일다루기\n",
    "\n",
    "##### 1. 엑셀파일 읽기/쓰기"
   ]
  },
  {
   "cell_type": "code",
   "execution_count": null,
   "metadata": {},
   "outputs": [],
   "source": [
    "df = pd.read_excel('../data/excel/학생시험성적.xlsx')\n",
    "display(df)\n",
    "\n",
    "# sheet_name 를 통해서 원하는 데이터시트를 호출할 수 잇다. 0부터 시작\n",
    "# 인덱스, '시트이름'으로 호출 가능\n",
    "\n",
    "# index_col = 0 첫번째 열을 인덱스컬럼으로 사용함\n",
    "# 지정하지 않으면 자동으로 숫자인덱스 컬럼을 생성해줌\n",
    "df = pd.read_excel('../data/excel/학생시험성적.xlsx',\n",
    "                   sheet_name=1\n",
    "                  ,index_col = 0)\n",
    "display(df)"
   ]
  },
  {
   "cell_type": "code",
   "execution_count": null,
   "metadata": {},
   "outputs": [],
   "source": [
    "# 2. 엑셀 쓰기\n",
    "excel_data1 = {\n",
    "    '학생':['A','B','C','D','E','F'],\n",
    "    '국어':[80,70,60,50,80,40],\n",
    "    '수학':[20,60,70,80,40,50],\n",
    "    '영어':[70,90,40,60,50,80]\n",
    "}\n",
    "df1 = pd.DataFrame(excel_data1, columns=['학생', '국어', '영어', '수학'])"
   ]
  },
  {
   "cell_type": "code",
   "execution_count": null,
   "metadata": {},
   "outputs": [],
   "source": [
    "# 1) 엑셀저장 - 기본\n",
    "excel_write=pd.ExcelWriter('../data/excel/학생시험성적1.xlsx',\n",
    "                          engine='xlsxwriter')\n",
    "type(excel_write)\n",
    "df1.to_excel(excel_write, index=False)\n",
    "excel_write.save()\n",
    "\n"
   ]
  },
  {
   "cell_type": "code",
   "execution_count": null,
   "metadata": {},
   "outputs": [],
   "source": [
    "# 2) 엑셀저장 - sheetname\n",
    "excel_write2=pd.ExcelWriter('../data/excel/학생시험성적2.xlsx',\n",
    "                          engine='xlsxwriter')\n",
    "df1.to_excel(excel_write2, index=False, sheet_name = '중간고사')\n",
    "excel_write2.save()"
   ]
  },
  {
   "cell_type": "code",
   "execution_count": null,
   "metadata": {},
   "outputs": [],
   "source": [
    "# 변수에 배열 -> dataframe으로 변경에서 저장\n",
    "df2 = pd.DataFrame(excel_data1, columns=['학생', '국어', '영어', '수학'])\n",
    "df2"
   ]
  },
  {
   "cell_type": "code",
   "execution_count": null,
   "metadata": {},
   "outputs": [],
   "source": [
    "excel_write3=pd.ExcelWriter('../data/excel/학생시험성적3.xlsx',\n",
    "                          engine='xlsxwriter')\n",
    "\n",
    "# 데이터.to_excel(저장서식, index, sheet_name)\n",
    "# 저장서식에서 데이터명이 같으면 같은데이터에 다른 sheet_name으로 들어간다.\n",
    "df1.to_excel(excel_write3, index=False, sheet_name = '중간고사')\n",
    "excel_write3.save()\n",
    "df2.to_excel(excel_write3, index=False, sheet_name = '기말고사')\n",
    "excel_write3.save()\n"
   ]
  },
  {
   "cell_type": "markdown",
   "metadata": {},
   "source": [
    "##### 2. 엑셀파일 통합하기"
   ]
  },
  {
   "cell_type": "code",
   "execution_count": null,
   "metadata": {},
   "outputs": [],
   "source": [
    "excel_data_files = ['../data/excel/담당자별_판매량_Andy사원.xlsx',\n",
    "                   '../data/excel/담당자별_판매량_Becky사원.xlsx',\n",
    "                   '../data/excel/담당자별_판매량_Chris사원.xlsx']\n",
    "total_data = pd.DataFrame()"
   ]
  },
  {
   "cell_type": "code",
   "execution_count": null,
   "metadata": {},
   "outputs": [],
   "source": [
    "# 통합하기(1)\n",
    "for f in excel_data_files:\n",
    "    df = pd.read_excel(f)\n",
    "    total_data=total_data.append(df)\n",
    "total_data"
   ]
  },
  {
   "cell_type": "code",
   "execution_count": null,
   "metadata": {},
   "outputs": [],
   "source": [
    "# 통합하기(2) - 인덱스 무시\n",
    "for f in excel_data_files:\n",
    "    df = pd.read_excel(f)\n",
    "    total_data=total_data.append(df, ignore_index=True)\n",
    "total_data"
   ]
  },
  {
   "cell_type": "code",
   "execution_count": null,
   "metadata": {},
   "outputs": [],
   "source": [
    "# glob 특정패턴의 문자를 가진 파일명을 전부 호출하는 패키지(list)\n",
    "import glob\n",
    "a = glob.glob('../data/excel/담당자별_판매량_*사원.xlsx')\n",
    "\n",
    "# 통합하기(3)\n",
    "total_data = pd.DataFrame()\n",
    "for f in a:\n",
    "    df = pd.read_excel(f)\n",
    "    total_data=total_data.append(df, ignore_index=True)\n",
    "total_data"
   ]
  },
  {
   "cell_type": "code",
   "execution_count": null,
   "metadata": {},
   "outputs": [],
   "source": [
    "# 2. 저장하기\n",
    "excel_file_name = '../data/excel/담당자별_판매량_통합.xlsx'\n",
    "excel_total_file_writer = pd.ExcelWriter(excel_file_name, engine='xlsxwriter')\n",
    "total_data.to_excel(excel_total_file_writer, index= False, sheet_name='담당자별_판매량_통합')\n",
    "excel_total_file_writer.save()\n",
    "glob.glob(excel_file_name)"
   ]
  },
  {
   "cell_type": "markdown",
   "metadata": {},
   "source": [
    "##### 3. 엑셀파일 데이터 다루기"
   ]
  },
  {
   "cell_type": "code",
   "execution_count": null,
   "metadata": {},
   "outputs": [],
   "source": [
    "# 1. 데이터를 추가하고 변경하기\n",
    "df = pd.read_excel('../data/excel/담당자별_판매량_Andy사원.xlsx')"
   ]
  },
  {
   "cell_type": "code",
   "execution_count": null,
   "metadata": {},
   "outputs": [],
   "source": [
    "df.loc[2,'4분기'] = 0\n",
    "df"
   ]
  },
  {
   "cell_type": "code",
   "execution_count": null,
   "metadata": {},
   "outputs": [],
   "source": [
    "# 데이터 추가하기\n",
    "df.loc[3,'제품명'] = '벨트'\n",
    "df.loc[3,'담당자'] = 'A'\n",
    "df.loc[3,'지역'] = '가'\n",
    "df.loc[3,'1분기'] = '150'\n",
    "df.loc[3,'2분기'] = '250'\n",
    "df.loc[3,'3분기'] = '350'\n",
    "df.loc[3,'4분기'] = '250'\n",
    "df"
   ]
  },
  {
   "cell_type": "code",
   "execution_count": null,
   "metadata": {},
   "outputs": [],
   "source": [
    "df['담당자'] = 'Andy'"
   ]
  },
  {
   "cell_type": "code",
   "execution_count": null,
   "metadata": {},
   "outputs": [],
   "source": [
    "excel_file_name = '../data/excel/담당자별_판매량_Andy사원_new.xlsx'\n",
    "new_excel_file = pd.ExcelWriter(excel_file_name,engine='xlsxwriter')\n",
    "df.to_excel(new_excel_file,index=False)\n",
    "new_excel_file.save()\n",
    "glob.glob(excel_file_name)"
   ]
  },
  {
   "cell_type": "code",
   "execution_count": null,
   "metadata": {},
   "outputs": [],
   "source": [
    "# 2. 여러개의 엑셀파일을 추가하고 변경하기\n",
    "\n",
    "import re\n",
    "filename = '../data/excel/담당자별_판매량_Andy사원.xlsx'\n",
    "new_file_name = re.sub('.xlsx','2.xlsx',filename)"
   ]
  },
  {
   "cell_type": "code",
   "execution_count": null,
   "metadata": {},
   "outputs": [],
   "source": [
    "excel_data_files = glob.glob('../data/excel/담당자별_판매량_*사원.xlsx')\n",
    "for f in excel_data_files:\n",
    "    df = pd.read_excel(f)\n",
    "    if(df.loc[1,'담당자'] == 'A') :\n",
    "        df['담당자'] = 'Andy'\n",
    "    elif(df.loc[1,'담당자'] == 'B') :\n",
    "        df['담당자'] = 'Bechy'\n",
    "    elif(df.loc[1,'담당자'] == 'C') :\n",
    "        df['담당자'] = 'Chrise'\n",
    "    else : pass\n",
    "    \n",
    "    # 엑셀파일이름에서 지정된 문자열 패턴을 찾아서 파일명을 변경\n",
    "    f_new = re.sub('.xlsx','2.xlsx',f)\n",
    "    print(f_new)\n",
    "    new_excel_file = pd.ExcelWriter(f_new,engine='xlsxwriter')\n",
    "    df.to_excel(new_excel_file,index=False)\n",
    "    new_excel_file.save()"
   ]
  },
  {
   "cell_type": "code",
   "execution_count": null,
   "metadata": {},
   "outputs": [],
   "source": [
    "glob.glob('../data/excel/담당자별_판매량_*사원2.xlsx')"
   ]
  },
  {
   "cell_type": "code",
   "execution_count": null,
   "metadata": {},
   "outputs": [],
   "source": [
    "# 3. 엑셀의 필터기능 수행\n",
    "df = pd.read_excel('../data/excel/담당자별_판매량_통합.xlsx')\n",
    "handbag = df[df['제품명']=='핸드백']\n",
    "\n",
    "df[(df['제품명']=='핸드백')|(df['제품명']=='구두')]\n",
    "\n",
    "# 조건설정\n",
    "df[df['3분기']>=250]\n",
    "\n",
    "# 원하는 열만 선택\n",
    "display(df[['제품명','1분기','2분기','3분기','4분기']])\n",
    "df.iloc[:,2:]"
   ]
  },
  {
   "cell_type": "code",
   "execution_count": null,
   "metadata": {},
   "outputs": [],
   "source": [
    "# 4. 엑셀데이터 계산하기\n",
    "df = pd.read_excel('../data/excel/담당자별_판매량_통합.xlsx')\n",
    "handbag = df[df['제품명']=='핸드백']\n",
    "handbag\n",
    "a= handbag.sum(axis=1)\n",
    "\n",
    "    \n",
    "handbag_sum = pd.DataFrame(a, columns=['연판매량'])\n",
    "handbag_sum\n",
    "\n",
    "handbag_total = handbag.join(handbag_sum)\n",
    "display(handbag_total)\n",
    "handbag_total.sort_values(by= '연판매량', ascending = True)"
   ]
  },
  {
   "cell_type": "code",
   "execution_count": null,
   "metadata": {},
   "outputs": [],
   "source": [
    "import pandas as pd\n",
    "a =pd.DataFrame(handbag_total.iloc[:,3:].sum(axis=0))\n",
    "\n",
    "df = pd.read_excel('../data/excel/담당자별_판매량_통합.xlsx')\n",
    "handbag= df[df['제품명']=='핸드백']\n",
    "handbag\n",
    "\n",
    "# 행별 합\n",
    "a =pd.DataFrame(handbag_total.iloc[:,3:].sum(axis=0), columns = ['연간판매량'])\n",
    "a\n",
    "hand_sum = pd.DataFrame(handbag.sum(),columns = ['합계'])\n",
    "hand_sum.T\n",
    "# 합계행에 문자열변경\n",
    "total2 = handbag.append(hand_sum.T)\n",
    "total2\n",
    "total2.loc['합계','제품명':'지역'] = ''\n",
    "total2"
   ]
  },
  {
   "cell_type": "markdown",
   "metadata": {},
   "source": [
    "##### 4. 엑셀파일의 시각화"
   ]
  },
  {
   "cell_type": "code",
   "execution_count": 4,
   "metadata": {
    "scrolled": true
   },
   "outputs": [
    {
     "data": {
      "text/html": [
       "<div>\n",
       "<style scoped>\n",
       "    .dataframe tbody tr th:only-of-type {\n",
       "        vertical-align: middle;\n",
       "    }\n",
       "\n",
       "    .dataframe tbody tr th {\n",
       "        vertical-align: top;\n",
       "    }\n",
       "\n",
       "    .dataframe thead th {\n",
       "        text-align: right;\n",
       "    }\n",
       "</style>\n",
       "<table border=\"1\" class=\"dataframe\">\n",
       "  <thead>\n",
       "    <tr style=\"text-align: right;\">\n",
       "      <th></th>\n",
       "      <th>제품1</th>\n",
       "      <th>제품2</th>\n",
       "    </tr>\n",
       "    <tr>\n",
       "      <th>시간</th>\n",
       "      <th></th>\n",
       "      <th></th>\n",
       "    </tr>\n",
       "  </thead>\n",
       "  <tbody>\n",
       "    <tr>\n",
       "      <th>9</th>\n",
       "      <td>10</td>\n",
       "      <td>16</td>\n",
       "    </tr>\n",
       "    <tr>\n",
       "      <th>10</th>\n",
       "      <td>15</td>\n",
       "      <td>17</td>\n",
       "    </tr>\n",
       "    <tr>\n",
       "      <th>11</th>\n",
       "      <td>12</td>\n",
       "      <td>20</td>\n",
       "    </tr>\n",
       "    <tr>\n",
       "      <th>12</th>\n",
       "      <td>13</td>\n",
       "      <td>16</td>\n",
       "    </tr>\n",
       "    <tr>\n",
       "      <th>13</th>\n",
       "      <td>14</td>\n",
       "      <td>30</td>\n",
       "    </tr>\n",
       "    <tr>\n",
       "      <th>14</th>\n",
       "      <td>15</td>\n",
       "      <td>40</td>\n",
       "    </tr>\n",
       "    <tr>\n",
       "      <th>15</th>\n",
       "      <td>12</td>\n",
       "      <td>16</td>\n",
       "    </tr>\n",
       "  </tbody>\n",
       "</table>\n",
       "</div>"
      ],
      "text/plain": [
       "    제품1  제품2\n",
       "시간          \n",
       "9    10   16\n",
       "10   15   17\n",
       "11   12   20\n",
       "12   13   16\n",
       "13   14   30\n",
       "14   15   40\n",
       "15   12   16"
      ]
     },
     "execution_count": 4,
     "metadata": {},
     "output_type": "execute_result"
    }
   ],
   "source": [
    "# 1. 그래프를 엑셀파일에 넣기\n",
    "import pandas as pd\n",
    "sales = {\n",
    "    '시간':[9,10,11,12,13,14,15],\n",
    "    '제품1':[10,15,12,13,14,15,12],\n",
    "    '제품2':[16,17,20,16,30,40,16]\n",
    "    \n",
    "}\n",
    "df = pd.DataFrame(sales, index=sales['시간'], columns=['제품1','제품2'])\n",
    "df.index.name = '시간'\n",
    "df"
   ]
  },
  {
   "cell_type": "code",
   "execution_count": 14,
   "metadata": {},
   "outputs": [
    {
     "data": {
      "image/png": "[encoded data removed]",
      "text/plain": [
       "<Figure size 432x288 with 1 Axes>"
      ]
     },
     "metadata": {
      "needs_background": "light"
     },
     "output_type": "display_data"
    }
   ],
   "source": [
    "# 한글처리\n",
    "import matplotlib\n",
    "matplotlib.rcParams['font.family'] = 'Malgun Gothic'\n",
    "matplotlib.rcParams['axes.unicode_minus'] = False\n",
    "\n",
    "product_plot = df.plot(grid=True, style=['-*', '-o'], \n",
    "                       title='시간대별 판매량')\n",
    "product_plot.set_ylabel('판매량')\n",
    "image_file = '../data/excel/fig_for_excel.png'\n",
    "plt.savefig(image_file, dpi=400) # 그래프를 이미지파일로 저장\n",
    "plt.show()"
   ]
  },
  {
   "cell_type": "code",
   "execution_count": 15,
   "metadata": {},
   "outputs": [],
   "source": [
    "# 2) 엑셀\n",
    "# a. Excelwriter 객체생성\n",
    "excel_file = '../data/excel/data_image_to_excel.xlsx'\n",
    "excel_writer = pd.ExcelWriter(excel_file,engine='xlsxwriter')\n",
    "\n",
    "# b. DF의 데이터를 지정된 엑셀시트에 쓰기\n",
    "df.to_excel(excel_writer, index=True, sheet_name='Sheet1')\n",
    "\n",
    "# c. excelWriter객체에서 워크시트 (worksheet)객체 생성\n",
    "worksheet = excel_writer.sheets['Sheet1']\n",
    "\n",
    "# d. 워크시트에 차트가 들어갈 위치를 지정\n",
    "worksheet.insert_image('D2',image_file,{'x_scale':0.7,'y_scale':0.7})\n",
    "# e. worksheet.insert_image(1,3,image_file,{'x_scale':0.7,'y_scale':0.7})\n",
    "\n",
    "# 엑셀파일에 저장\n",
    "excel_writer.save()"
   ]
  },
  {
   "cell_type": "code",
   "execution_count": 17,
   "metadata": {},
   "outputs": [],
   "source": [
    "# 3) 엑셀 - 차트 넣기\n",
    "\n",
    "# a. Excelwriter 객체생성\n",
    "excel_file = '../data/excel/data_chart_in_excel.xlsx'\n",
    "excel_chart = pd.ExcelWriter(excel_file,engine='xlsxwriter')\n",
    "\n",
    "# b. DF의 데이터를 지정된 엑셀시트에 쓰기\n",
    "df.to_excel(excel_chart, index=True, sheet_name='Sheet1')\n",
    "\n",
    "# c. excelWriter객체에서 workbook과 worksheet객체 생성\n",
    "workbook = excel_chart.book\n",
    "worksheet = excel_chart.sheets['Sheet1']\n",
    "\n",
    "# d. 차트객체를 생성(원하는 차트의 종류를 지정)\n",
    "chart = workbook.add_chart({'type':'line'})\n",
    "\n",
    "# e. 차트생성을 위한 데이터값의 범위 지정\n",
    "chart.add_series({'values':'Sheet1!$B$2:$B$8'})\n",
    "chart.add_series({'values':'Sheet1!$C$2:$C$8'})\n",
    "\n",
    "# f. 차트가 들어갈 위치 지정\n",
    "worksheet.insert_chart('D2',chart)\n",
    "\n",
    "# g. 파일저장\n",
    "excel_chart.save()"
   ]
  },
  {
   "cell_type": "code",
   "execution_count": 20,
   "metadata": {},
   "outputs": [],
   "source": [
    "# a. Excelwriter 객체생성\n",
    "excel_file = '../data/excel/data_chart_in_excel1.xlsx'\n",
    "excel_chart = pd.ExcelWriter(excel_file,engine='xlsxwriter')\n",
    "\n",
    "# b. DF의 데이터를 지정된 엑셀시트에 쓰기\n",
    "df.to_excel(excel_chart, index=True, sheet_name='Sheet1')\n",
    "\n",
    "# c. excelWriter객체에서 workbook과 worksheet객체 생성\n",
    "workbook = excel_chart.book\n",
    "worksheet = excel_chart.sheets['Sheet1']\n",
    "\n",
    "# d. 차트객체를 생성(원하는 차트의 종류를 지정)\n",
    "chart = workbook.add_chart({'type':'line'})\n",
    "\n",
    "\n",
    "# e-1 차트생성을 위한 데이터값의 범위 지정\n",
    "chart.add_series({'values':'Sheet1!$B$2:$B$8','categories':'=Sheet1!$A$2:$A$8','name':'=Sheet1!$B$1'})\n",
    "chart.add_series({'values':'Sheet1!$C$2:$C$8','categories':'=Sheet1!$A$2:$A$8','name':'=Sheet1!$C$1'})\n",
    "\n",
    "# e-2 차트의 x,y축이름\n",
    "chart.set_title({'name':'시간대별 판매량'})\n",
    "chart.set_x_axis({'name':'시간'})\n",
    "chart.set_y_axis({'name':'판매량'})\n",
    "\n",
    "# f. 차트가 들어갈 위치 지정\n",
    "worksheet.insert_chart('D2',chart)\n",
    "\n",
    "# g. 파일저장\n",
    "excel_chart.save()"
   ]
  },
  {
   "cell_type": "markdown",
   "metadata": {},
   "source": [
    "#### 10. html파일 다루기\n"
   ]
  },
  {
   "cell_type": "code",
   "execution_count": 104,
   "metadata": {},
   "outputs": [
    {
     "data": {
      "text/plain": [
       "[            날짜       종가     전일비       시가       고가       저가        거래량\n",
       " 0          NaN      NaN     NaN      NaN      NaN      NaN        NaN\n",
       " 1   2020.04.02  49300.0  1200.0  49100.0  50000.0  48500.0  1066010.0\n",
       " 2   2020.04.01  48100.0   100.0  48250.0  50800.0  47850.0  1298461.0\n",
       " 3   2020.03.31  48200.0   300.0  49100.0  49500.0  47600.0  1106424.0\n",
       " 4   2020.03.30  48500.0   900.0  48400.0  49200.0  47100.0   937027.0\n",
       " 5   2020.03.27  49400.0   400.0  51300.0  51500.0  48000.0  1110394.0\n",
       " 6          NaN      NaN     NaN      NaN      NaN      NaN        NaN\n",
       " 7          NaN      NaN     NaN      NaN      NaN      NaN        NaN\n",
       " 8          NaN      NaN     NaN      NaN      NaN      NaN        NaN\n",
       " 9   2020.03.26  49000.0   500.0  49450.0  51300.0  48600.0  1377158.0\n",
       " 10  2020.03.25  48500.0  4100.0  48400.0  48850.0  46800.0  1506779.0\n",
       " 11  2020.03.24  44400.0  2550.0  42700.0  44450.0  42200.0  1316623.0\n",
       " 12  2020.03.23  41850.0  3250.0  42350.0  42850.0  41600.0  1186795.0\n",
       " 13  2020.03.20  45100.0  1450.0  44600.0  45700.0  43550.0  1539670.0\n",
       " 14         NaN      NaN     NaN      NaN      NaN      NaN        NaN,\n",
       "    0   1   2   3   4   5   6   7   8   9   10  11\n",
       " 0   1   2   3   4   5   6   7   8   9  10  다음  맨뒤]"
      ]
     },
     "execution_count": 104,
     "metadata": {},
     "output_type": "execute_result"
    }
   ],
   "source": [
    "url = 'https://finance.naver.com/item/sise_day.nhn?code=066570'\n",
    "df = pd.read_html(url)"
   ]
  },
  {
   "cell_type": "code",
   "execution_count": 115,
   "metadata": {},
   "outputs": [
    {
     "data": {
      "text/html": [
       "<div>\n",
       "<style scoped>\n",
       "    .dataframe tbody tr th:only-of-type {\n",
       "        vertical-align: middle;\n",
       "    }\n",
       "\n",
       "    .dataframe tbody tr th {\n",
       "        vertical-align: top;\n",
       "    }\n",
       "\n",
       "    .dataframe thead th {\n",
       "        text-align: right;\n",
       "    }\n",
       "</style>\n",
       "<table border=\"1\" class=\"dataframe\">\n",
       "  <thead>\n",
       "    <tr style=\"text-align: right;\">\n",
       "      <th></th>\n",
       "      <th>회사명</th>\n",
       "      <th>종목코드</th>\n",
       "      <th>업종</th>\n",
       "      <th>주요제품</th>\n",
       "      <th>상장일</th>\n",
       "      <th>결산월</th>\n",
       "      <th>대표자명</th>\n",
       "      <th>홈페이지</th>\n",
       "      <th>지역</th>\n",
       "    </tr>\n",
       "  </thead>\n",
       "  <tbody>\n",
       "    <tr>\n",
       "      <th>0</th>\n",
       "      <td>DSR</td>\n",
       "      <td>155660</td>\n",
       "      <td>1차 비철금속 제조업</td>\n",
       "      <td>합섬섬유로프</td>\n",
       "      <td>2013-05-15</td>\n",
       "      <td>12월</td>\n",
       "      <td>홍석빈</td>\n",
       "      <td>http://www.dsr.com</td>\n",
       "      <td>부산광역시</td>\n",
       "    </tr>\n",
       "    <tr>\n",
       "      <th>1</th>\n",
       "      <td>GS</td>\n",
       "      <td>78930</td>\n",
       "      <td>기타 금융업</td>\n",
       "      <td>지주회사/부동산 임대</td>\n",
       "      <td>2004-08-05</td>\n",
       "      <td>12월</td>\n",
       "      <td>허태수, 홍순기 (각자 대표이사)</td>\n",
       "      <td>NaN</td>\n",
       "      <td>서울특별시</td>\n",
       "    </tr>\n",
       "  </tbody>\n",
       "</table>\n",
       "</div>"
      ],
      "text/plain": [
       "   회사명    종목코드           업종         주요제품         상장일  결산월                대표자명  \\\n",
       "0  DSR  155660  1차 비철금속 제조업       합섬섬유로프  2013-05-15  12월                 홍석빈   \n",
       "1   GS   78930       기타 금융업  지주회사/부동산 임대  2004-08-05  12월  허태수, 홍순기 (각자 대표이사)   \n",
       "\n",
       "                 홈페이지     지역  \n",
       "0  http://www.dsr.com  부산광역시  \n",
       "1                 NaN  서울특별시  "
      ]
     },
     "execution_count": 115,
     "metadata": {},
     "output_type": "execute_result"
    }
   ],
   "source": [
    "# read_html 실습 :\n",
    "url = 'https://kind.krx.co.kr/corpgeneral/corpList.do?method=download&searchType=13'\n",
    "code_df = pd.read_html(url, header=0)[0]\n",
    "code_df.head(2)"
   ]
  },
  {
   "cell_type": "code",
   "execution_count": 116,
   "metadata": {},
   "outputs": [
    {
     "data": {
      "text/html": [
       "<div>\n",
       "<style scoped>\n",
       "    .dataframe tbody tr th:only-of-type {\n",
       "        vertical-align: middle;\n",
       "    }\n",
       "\n",
       "    .dataframe tbody tr th {\n",
       "        vertical-align: top;\n",
       "    }\n",
       "\n",
       "    .dataframe thead th {\n",
       "        text-align: right;\n",
       "    }\n",
       "</style>\n",
       "<table border=\"1\" class=\"dataframe\">\n",
       "  <thead>\n",
       "    <tr style=\"text-align: right;\">\n",
       "      <th></th>\n",
       "      <th>name</th>\n",
       "      <th>code</th>\n",
       "    </tr>\n",
       "  </thead>\n",
       "  <tbody>\n",
       "    <tr>\n",
       "      <th>0</th>\n",
       "      <td>DSR</td>\n",
       "      <td>155660</td>\n",
       "    </tr>\n",
       "    <tr>\n",
       "      <th>1</th>\n",
       "      <td>GS</td>\n",
       "      <td>078930</td>\n",
       "    </tr>\n",
       "    <tr>\n",
       "      <th>2</th>\n",
       "      <td>GS글로벌</td>\n",
       "      <td>001250</td>\n",
       "    </tr>\n",
       "    <tr>\n",
       "      <th>3</th>\n",
       "      <td>HDC현대산업개발</td>\n",
       "      <td>294870</td>\n",
       "    </tr>\n",
       "    <tr>\n",
       "      <th>4</th>\n",
       "      <td>LG이노텍</td>\n",
       "      <td>011070</td>\n",
       "    </tr>\n",
       "  </tbody>\n",
       "</table>\n",
       "</div>"
      ],
      "text/plain": [
       "        name    code\n",
       "0        DSR  155660\n",
       "1         GS  078930\n",
       "2      GS글로벌  001250\n",
       "3  HDC현대산업개발  294870\n",
       "4      LG이노텍  011070"
      ]
     },
     "execution_count": 116,
     "metadata": {},
     "output_type": "execute_result"
    }
   ],
   "source": [
    "code_df.종목코드 = code_df.종목코드.map('{:06d}'.format)\n",
    "code_df.head(2)\n",
    "\n",
    "# 회사명, 종목코드 -> 영문으로 변경\n",
    "code_df = code_df[['회사명','종목코드']]\n",
    "code_df = code_df.rename(columns={'회사명':'name', '종목코드':'code'})\n",
    "code_df.head()"
   ]
  },
  {
   "cell_type": "code",
   "execution_count": 117,
   "metadata": {},
   "outputs": [
    {
     "name": "stdout",
     "output_type": "stream",
     "text": [
      "https://finance.naver.com/item/sise_day.nhn?code=215600\n"
     ]
    },
    {
     "data": {
      "text/plain": [
       "'https://finance.naver.com/item/sise_day.nhn?code=215600'"
      ]
     },
     "execution_count": 117,
     "metadata": {},
     "output_type": "execute_result"
    }
   ],
   "source": [
    "# 함수생성 : 종목이름을 넣으면 code return\n",
    "# 네이버금융에서 데이터를 가저오도록함\n",
    "\n",
    "def get_url(item_name, code_df):\n",
    "    # code_df.loc[name,code]를 query문으로 구성한 듯\n",
    "    # code_df[code_df[name] == '회사명'].code.tostring\n",
    "    \n",
    "    # format -> '{}'.format() : 중괄호 안에 들어갈 개체를 지정\n",
    "    # 코드를 문자열로 받는 이유\n",
    "    # name, code로 데이터를 찾을 시 이 데이터는 시리즈 형식을 취하고 있고\n",
    "    # index, code 데이터를 가지고 있음 이를 바로 url에 넣을 시 index값이 들어가\n",
    "    # url+index code 형식의 series 객체가 생성되어 url를 뽑을 수 없게됨\n",
    "    # 이를 to_string으로 변환한 뒤 index=Fasle을 하여 인덱스를 출력하지 않는 str값으로 변환\n",
    "    # index와 거리를 두기위해 생성되는 빈칸을 strip으로 제거해서 url에 붙일 수 있게 정리한것\n",
    "\n",
    "    code = code_df.query(\"name=='{}'\".format(item_name))['code'].to_string(index=False)\n",
    "    code = code.strip()\n",
    "    \n",
    "    # format은 {}안에 문자가 있으면 그 문자를 지정하여 데이터를 넣을 수 있음\n",
    "    url = 'https://finance.naver.com/item/sise_day.nhn?code={code}'.format(code=code)\n",
    "    print('{}'.format(url))\n",
    "    return url\n",
    "\n",
    "# 신라젠의 일자데이터 url가져오기\n",
    "item_name= '신라젠'\n",
    "url = get_url(item_name,code_df)\n",
    "url"
   ]
  },
  {
   "cell_type": "code",
   "execution_count": null,
   "metadata": {},
   "outputs": [],
   "source": [
    "# 1~20 페이지까지의 데이터를 가저옴\n",
    "# 페이지는 데이터 프레임으로 구성되어 있음으로 이를 저장할 빈 데이터프레임을 만듬\n",
    "df = pd.DataFrame()\n",
    "\n",
    "for page in range(1,21):\n",
    "    # url은 위에서 문자열을 넣으면 자동으로 code까지 호출되는 url\n",
    "    # page는 range로 넣음\n",
    "    pg_url = '{url}&page={page}'.format(url=url, page=page)\n",
    "    # print(pg_url)\n",
    "    # header = 0 가져온 table의 첫 행을 DataFrame의 컬럼으로 설정\n",
    "    # [0] 지정한 URL의 첫번째 table을 DataFrame으로 반환\n",
    "    # header 은 헤더값을 지정, [0] 은 리스트를 df로 변환\n",
    "    # [0]이 없으면 append가 안될듯\n",
    "    df = df.append(pd.read_html(pg_url, header=0)[0], ignore_index=True)\n",
    "    \n",
    "# 결측값 행 제거\n",
    "df = df.dropna() # 기본값 how='any'\n",
    "df.tail()"
   ]
  },
  {
   "cell_type": "code",
   "execution_count": 155,
   "metadata": {},
   "outputs": [
    {
     "name": "stdout",
     "output_type": "stream",
     "text": [
      "회사명: 삼성전자\n",
      "https://finance.naver.com/item/sise_day.nhn?code=005930\n"
     ]
    },
    {
     "data": {
      "text/html": [
       "<div>\n",
       "<style scoped>\n",
       "    .dataframe tbody tr th:only-of-type {\n",
       "        vertical-align: middle;\n",
       "    }\n",
       "\n",
       "    .dataframe tbody tr th {\n",
       "        vertical-align: top;\n",
       "    }\n",
       "\n",
       "    .dataframe thead th {\n",
       "        text-align: right;\n",
       "    }\n",
       "</style>\n",
       "<table border=\"1\" class=\"dataframe\">\n",
       "  <thead>\n",
       "    <tr style=\"text-align: right;\">\n",
       "      <th></th>\n",
       "      <th>날짜</th>\n",
       "      <th>종가</th>\n",
       "      <th>전일비</th>\n",
       "      <th>시가</th>\n",
       "      <th>고가</th>\n",
       "      <th>저가</th>\n",
       "      <th>거래량</th>\n",
       "    </tr>\n",
       "  </thead>\n",
       "  <tbody>\n",
       "    <tr>\n",
       "      <th>294</th>\n",
       "      <td>2019.06.20</td>\n",
       "      <td>45500.0</td>\n",
       "      <td>150.0</td>\n",
       "      <td>44850.0</td>\n",
       "      <td>45500.0</td>\n",
       "      <td>44850.0</td>\n",
       "      <td>7147785.0</td>\n",
       "    </tr>\n",
       "    <tr>\n",
       "      <th>295</th>\n",
       "      <td>2019.06.19</td>\n",
       "      <td>45350.0</td>\n",
       "      <td>1000.0</td>\n",
       "      <td>45450.0</td>\n",
       "      <td>45450.0</td>\n",
       "      <td>45000.0</td>\n",
       "      <td>10417690.0</td>\n",
       "    </tr>\n",
       "    <tr>\n",
       "      <th>296</th>\n",
       "      <td>2019.06.18</td>\n",
       "      <td>44350.0</td>\n",
       "      <td>450.0</td>\n",
       "      <td>43750.0</td>\n",
       "      <td>44500.0</td>\n",
       "      <td>43650.0</td>\n",
       "      <td>7994928.0</td>\n",
       "    </tr>\n",
       "    <tr>\n",
       "      <th>297</th>\n",
       "      <td>2019.06.17</td>\n",
       "      <td>43900.0</td>\n",
       "      <td>100.0</td>\n",
       "      <td>43750.0</td>\n",
       "      <td>44050.0</td>\n",
       "      <td>43400.0</td>\n",
       "      <td>11890424.0</td>\n",
       "    </tr>\n",
       "    <tr>\n",
       "      <th>298</th>\n",
       "      <td>2019.06.14</td>\n",
       "      <td>44000.0</td>\n",
       "      <td>250.0</td>\n",
       "      <td>43750.0</td>\n",
       "      <td>44150.0</td>\n",
       "      <td>43300.0</td>\n",
       "      <td>9322873.0</td>\n",
       "    </tr>\n",
       "  </tbody>\n",
       "</table>\n",
       "</div>"
      ],
      "text/plain": [
       "             날짜       종가     전일비       시가       고가       저가         거래량\n",
       "294  2019.06.20  45500.0   150.0  44850.0  45500.0  44850.0   7147785.0\n",
       "295  2019.06.19  45350.0  1000.0  45450.0  45450.0  45000.0  10417690.0\n",
       "296  2019.06.18  44350.0   450.0  43750.0  44500.0  43650.0   7994928.0\n",
       "297  2019.06.17  43900.0   100.0  43750.0  44050.0  43400.0  11890424.0\n",
       "298  2019.06.14  44000.0   250.0  43750.0  44150.0  43300.0   9322873.0"
      ]
     },
     "execution_count": 155,
     "metadata": {},
     "output_type": "execute_result"
    }
   ],
   "source": [
    "# 함수생성 : 종목이름을 넣으면 code return\n",
    "# 네이버금융에서 데이터를 가저오도록함\n",
    "\n",
    "def get_url(item_name, code_df):\n",
    "    # \n",
    "    # code_df[code_df[name] == '회사명'].code.tostring\n",
    "    code = code_df.query(\"name=='{}'\".format(item_name))['code'].to_string(index=False)\n",
    "    code = code.strip()\n",
    "    url = 'https://finance.naver.com/item/sise_day.nhn?code={code}'.format(code=code)\n",
    "    print('{}'.format(url))\n",
    "    return url\n",
    "\n",
    "# 신라젠의 일자데이터 url가져오기\n",
    "item_name= input('회사명: ')\n",
    "url = get_url(item_name,code_df)\n",
    "url\n",
    "\n",
    "# 1~20 페이지까지의 데이터를 가저옴\n",
    "df = pd.DataFrame()\n",
    "for page in range(1,21):\n",
    "    pg_url = '{url}&page={page}'.format(url=url, page=page)\n",
    "    # print(pg_url)\n",
    "    df = df.append(pd.read_html(pg_url, header=0)[0], ignore_index=True)\n",
    "    \n",
    "# 결측값 행 제거\n",
    "df = df.dropna() # 기본값 how='any'\n",
    "df.tail()"
   ]
  },
  {
   "cell_type": "code",
   "execution_count": 58,
   "metadata": {},
   "outputs": [
    {
     "data": {
      "text/html": [
       "<div>\n",
       "<style scoped>\n",
       "    .dataframe tbody tr th:only-of-type {\n",
       "        vertical-align: middle;\n",
       "    }\n",
       "\n",
       "    .dataframe tbody tr th {\n",
       "        vertical-align: top;\n",
       "    }\n",
       "\n",
       "    .dataframe thead th {\n",
       "        text-align: right;\n",
       "    }\n",
       "</style>\n",
       "<table border=\"1\" class=\"dataframe\">\n",
       "  <thead>\n",
       "    <tr style=\"text-align: right;\">\n",
       "      <th></th>\n",
       "      <th>date</th>\n",
       "      <th>close</th>\n",
       "      <th>diff</th>\n",
       "      <th>open</th>\n",
       "      <th>high</th>\n",
       "      <th>low</th>\n",
       "      <th>volumn</th>\n",
       "    </tr>\n",
       "  </thead>\n",
       "  <tbody>\n",
       "    <tr>\n",
       "      <th>298</th>\n",
       "      <td>2019-06-14</td>\n",
       "      <td>56800.0</td>\n",
       "      <td>900.0</td>\n",
       "      <td>56100.0</td>\n",
       "      <td>59400.0</td>\n",
       "      <td>55800.0</td>\n",
       "      <td>985343.0</td>\n",
       "    </tr>\n",
       "    <tr>\n",
       "      <th>297</th>\n",
       "      <td>2019-06-17</td>\n",
       "      <td>56700.0</td>\n",
       "      <td>100.0</td>\n",
       "      <td>57500.0</td>\n",
       "      <td>58500.0</td>\n",
       "      <td>56600.0</td>\n",
       "      <td>421203.0</td>\n",
       "    </tr>\n",
       "    <tr>\n",
       "      <th>296</th>\n",
       "      <td>2019-06-18</td>\n",
       "      <td>55400.0</td>\n",
       "      <td>1300.0</td>\n",
       "      <td>57000.0</td>\n",
       "      <td>57400.0</td>\n",
       "      <td>55000.0</td>\n",
       "      <td>495082.0</td>\n",
       "    </tr>\n",
       "    <tr>\n",
       "      <th>295</th>\n",
       "      <td>2019-06-19</td>\n",
       "      <td>56000.0</td>\n",
       "      <td>600.0</td>\n",
       "      <td>55900.0</td>\n",
       "      <td>56400.0</td>\n",
       "      <td>55200.0</td>\n",
       "      <td>331231.0</td>\n",
       "    </tr>\n",
       "    <tr>\n",
       "      <th>294</th>\n",
       "      <td>2019-06-20</td>\n",
       "      <td>57700.0</td>\n",
       "      <td>1700.0</td>\n",
       "      <td>56100.0</td>\n",
       "      <td>57900.0</td>\n",
       "      <td>56100.0</td>\n",
       "      <td>487092.0</td>\n",
       "    </tr>\n",
       "    <tr>\n",
       "      <th>...</th>\n",
       "      <td>...</td>\n",
       "      <td>...</td>\n",
       "      <td>...</td>\n",
       "      <td>...</td>\n",
       "      <td>...</td>\n",
       "      <td>...</td>\n",
       "      <td>...</td>\n",
       "    </tr>\n",
       "    <tr>\n",
       "      <th>5</th>\n",
       "      <td>2020-03-27</td>\n",
       "      <td>12500.0</td>\n",
       "      <td>100.0</td>\n",
       "      <td>13100.0</td>\n",
       "      <td>15100.0</td>\n",
       "      <td>10950.0</td>\n",
       "      <td>31430784.0</td>\n",
       "    </tr>\n",
       "    <tr>\n",
       "      <th>4</th>\n",
       "      <td>2020-03-30</td>\n",
       "      <td>13600.0</td>\n",
       "      <td>1100.0</td>\n",
       "      <td>13400.0</td>\n",
       "      <td>14150.0</td>\n",
       "      <td>12550.0</td>\n",
       "      <td>12933017.0</td>\n",
       "    </tr>\n",
       "    <tr>\n",
       "      <th>3</th>\n",
       "      <td>2020-03-31</td>\n",
       "      <td>13250.0</td>\n",
       "      <td>350.0</td>\n",
       "      <td>14100.0</td>\n",
       "      <td>14150.0</td>\n",
       "      <td>12800.0</td>\n",
       "      <td>7033730.0</td>\n",
       "    </tr>\n",
       "    <tr>\n",
       "      <th>2</th>\n",
       "      <td>2020-04-01</td>\n",
       "      <td>13100.0</td>\n",
       "      <td>150.0</td>\n",
       "      <td>13300.0</td>\n",
       "      <td>15050.0</td>\n",
       "      <td>12800.0</td>\n",
       "      <td>15100838.0</td>\n",
       "    </tr>\n",
       "    <tr>\n",
       "      <th>1</th>\n",
       "      <td>2020-04-02</td>\n",
       "      <td>13300.0</td>\n",
       "      <td>200.0</td>\n",
       "      <td>13100.0</td>\n",
       "      <td>13550.0</td>\n",
       "      <td>12050.0</td>\n",
       "      <td>4757301.0</td>\n",
       "    </tr>\n",
       "  </tbody>\n",
       "</table>\n",
       "<p>200 rows × 7 columns</p>\n",
       "</div>"
      ],
      "text/plain": [
       "          date    close    diff     open     high      low      volumn\n",
       "298 2019-06-14  56800.0   900.0  56100.0  59400.0  55800.0    985343.0\n",
       "297 2019-06-17  56700.0   100.0  57500.0  58500.0  56600.0    421203.0\n",
       "296 2019-06-18  55400.0  1300.0  57000.0  57400.0  55000.0    495082.0\n",
       "295 2019-06-19  56000.0   600.0  55900.0  56400.0  55200.0    331231.0\n",
       "294 2019-06-20  57700.0  1700.0  56100.0  57900.0  56100.0    487092.0\n",
       "..         ...      ...     ...      ...      ...      ...         ...\n",
       "5   2020-03-27  12500.0   100.0  13100.0  15100.0  10950.0  31430784.0\n",
       "4   2020-03-30  13600.0  1100.0  13400.0  14150.0  12550.0  12933017.0\n",
       "3   2020-03-31  13250.0   350.0  14100.0  14150.0  12800.0   7033730.0\n",
       "2   2020-04-01  13100.0   150.0  13300.0  15050.0  12800.0  15100838.0\n",
       "1   2020-04-02  13300.0   200.0  13100.0  13550.0  12050.0   4757301.0\n",
       "\n",
       "[200 rows x 7 columns]"
      ]
     },
     "execution_count": 58,
     "metadata": {},
     "output_type": "execute_result"
    }
   ],
   "source": [
    "# 한글을 영문으로 변환\n",
    "df = df.rename(columns={'날짜':'date', '종가':'close', '전일비': 'diff',\n",
    "                        '시가':'open','고가':'high','저가':'low','거래량':'volumn'})\n",
    "df.head()\n",
    "# 'date'의 타입을 data형으로 변환\n",
    "df['date'] = pd.to_datetime(df['date'])\n",
    "\n",
    "df = df.sort_values(by=['date'], ascending= True)\n",
    "df"
   ]
  },
  {
   "cell_type": "code",
   "execution_count": null,
   "metadata": {},
   "outputs": [],
   "source": [
    "# 시각화\n",
    "# https://dailyheumsi.tistory.com/118\n",
    "\n",
    "import plotly.offline as offline\n",
    "import plotly.graph_objs as go"
   ]
  },
  {
   "cell_type": "code",
   "execution_count": null,
   "metadata": {},
   "outputs": [],
   "source": [
    "offline.init_notebook_mode(connected=True)\n",
    "trace = go.Scatter(x=df.date, y=df.close,name = item_name)\n",
    "data = [trace]"
   ]
  },
  {
   "cell_type": "code",
   "execution_count": 65,
   "metadata": {},
   "outputs": [],
   "source": [
    "layout = dict(\n",
    "            title='{}의 종가(close) Time Series'.format(item_name),\n",
    "            xaxis=dict(\n",
    "                rangeselector=dict(\n",
    "                    buttons=list([\n",
    "                        dict(count=1,\n",
    "                             label='1m',\n",
    "                             step='month',\n",
    "                             stepmode='backward'),\n",
    "                        dict(count=3,\n",
    "                             label='3m',\n",
    "                             step='month',\n",
    "                             stepmode='backward'),\n",
    "                        dict(count=6,\n",
    "                             label='6m',\n",
    "                             step='month',\n",
    "                             stepmode='backward'),\n",
    "                        dict(step='all')\n",
    "                    ])\n",
    "                ),\n",
    "                rangeslider=dict(),\n",
    "                type='date'\n",
    "            )\n",
    "        )"
   ]
  },
  {
   "cell_type": "code",
   "execution_count": null,
   "metadata": {},
   "outputs": [],
   "source": [
    "fig = go.Figure(data=data, layout=layout)\n",
    "offline.iplot(fig)"
   ]
  },
  {
   "cell_type": "code",
   "execution_count": 66,
   "metadata": {},
   "outputs": [
    {
     "data": {
      "application/vnd.plotly.v1+json": {
       "config": {
        "linkText": "Export to plot.ly",
        "plotlyServerURL": "https://plot.ly",
        "showLink": false
       },
       "data": [
        {
         "name": "신라젠",
         "type": "scatter",
         "x": [
          "2019-06-14T00:00:00",
          "2019-06-17T00:00:00",
          "2019-06-18T00:00:00",
          "2019-06-19T00:00:00",
          "2019-06-20T00:00:00",
          "2019-06-21T00:00:00",
          "2019-06-24T00:00:00",
          "2019-06-25T00:00:00",
          "2019-06-26T00:00:00",
          "2019-06-27T00:00:00",
          "2019-06-28T00:00:00",
          "2019-07-01T00:00:00",
          "2019-07-02T00:00:00",
          "2019-07-03T00:00:00",
          "2019-07-04T00:00:00",
          "2019-07-05T00:00:00",
          "2019-07-08T00:00:00",
          "2019-07-09T00:00:00",
          "2019-07-10T00:00:00",
          "2019-07-11T00:00:00",
          "2019-07-12T00:00:00",
          "2019-07-15T00:00:00",
          "2019-07-16T00:00:00",
          "2019-07-17T00:00:00",
          "2019-07-18T00:00:00",
          "2019-07-19T00:00:00",
          "2019-07-22T00:00:00",
          "2019-07-23T00:00:00",
          "2019-07-24T00:00:00",
          "2019-07-25T00:00:00",
          "2019-07-26T00:00:00",
          "2019-07-29T00:00:00",
          "2019-07-30T00:00:00",
          "2019-07-31T00:00:00",
          "2019-08-01T00:00:00",
          "2019-08-02T00:00:00",
          "2019-08-05T00:00:00",
          "2019-08-06T00:00:00",
          "2019-08-07T00:00:00",
          "2019-08-08T00:00:00",
          "2019-08-09T00:00:00",
          "2019-08-12T00:00:00",
          "2019-08-13T00:00:00",
          "2019-08-14T00:00:00",
          "2019-08-16T00:00:00",
          "2019-08-19T00:00:00",
          "2019-08-20T00:00:00",
          "2019-08-21T00:00:00",
          "2019-08-22T00:00:00",
          "2019-08-23T00:00:00",
          "2019-08-26T00:00:00",
          "2019-08-27T00:00:00",
          "2019-08-28T00:00:00",
          "2019-08-29T00:00:00",
          "2019-08-30T00:00:00",
          "2019-09-02T00:00:00",
          "2019-09-03T00:00:00",
          "2019-09-04T00:00:00",
          "2019-09-05T00:00:00",
          "2019-09-06T00:00:00",
          "2019-09-09T00:00:00",
          "2019-09-10T00:00:00",
          "2019-09-11T00:00:00",
          "2019-09-16T00:00:00",
          "2019-09-17T00:00:00",
          "2019-09-18T00:00:00",
          "2019-09-19T00:00:00",
          "2019-09-20T00:00:00",
          "2019-09-23T00:00:00",
          "2019-09-24T00:00:00",
          "2019-09-25T00:00:00",
          "2019-09-26T00:00:00",
          "2019-09-27T00:00:00",
          "2019-09-30T00:00:00",
          "2019-10-01T00:00:00",
          "2019-10-02T00:00:00",
          "2019-10-04T00:00:00",
          "2019-10-07T00:00:00",
          "2019-10-08T00:00:00",
          "2019-10-10T00:00:00",
          "2019-10-11T00:00:00",
          "2019-10-14T00:00:00",
          "2019-10-15T00:00:00",
          "2019-10-16T00:00:00",
          "2019-10-17T00:00:00",
          "2019-10-18T00:00:00",
          "2019-10-21T00:00:00",
          "2019-10-22T00:00:00",
          "2019-10-23T00:00:00",
          "2019-10-24T00:00:00",
          "2019-10-25T00:00:00",
          "2019-10-28T00:00:00",
          "2019-10-29T00:00:00",
          "2019-10-30T00:00:00",
          "2019-10-31T00:00:00",
          "2019-11-01T00:00:00",
          "2019-11-04T00:00:00",
          "2019-11-05T00:00:00",
          "2019-11-06T00:00:00",
          "2019-11-07T00:00:00",
          "2019-11-08T00:00:00",
          "2019-11-11T00:00:00",
          "2019-11-12T00:00:00",
          "2019-11-13T00:00:00",
          "2019-11-14T00:00:00",
          "2019-11-15T00:00:00",
          "2019-11-18T00:00:00",
          "2019-11-19T00:00:00",
          "2019-11-20T00:00:00",
          "2019-11-21T00:00:00",
          "2019-11-22T00:00:00",
          "2019-11-25T00:00:00",
          "2019-11-26T00:00:00",
          "2019-11-27T00:00:00",
          "2019-11-28T00:00:00",
          "2019-11-29T00:00:00",
          "2019-12-02T00:00:00",
          "2019-12-03T00:00:00",
          "2019-12-04T00:00:00",
          "2019-12-05T00:00:00",
          "2019-12-06T00:00:00",
          "2019-12-09T00:00:00",
          "2019-12-10T00:00:00",
          "2019-12-11T00:00:00",
          "2019-12-12T00:00:00",
          "2019-12-13T00:00:00",
          "2019-12-16T00:00:00",
          "2019-12-17T00:00:00",
          "2019-12-18T00:00:00",
          "2019-12-19T00:00:00",
          "2019-12-20T00:00:00",
          "2019-12-23T00:00:00",
          "2019-12-24T00:00:00",
          "2019-12-26T00:00:00",
          "2019-12-27T00:00:00",
          "2019-12-30T00:00:00",
          "2020-01-02T00:00:00",
          "2020-01-03T00:00:00",
          "2020-01-06T00:00:00",
          "2020-01-07T00:00:00",
          "2020-01-08T00:00:00",
          "2020-01-09T00:00:00",
          "2020-01-10T00:00:00",
          "2020-01-13T00:00:00",
          "2020-01-14T00:00:00",
          "2020-01-15T00:00:00",
          "2020-01-16T00:00:00",
          "2020-01-17T00:00:00",
          "2020-01-20T00:00:00",
          "2020-01-21T00:00:00",
          "2020-01-22T00:00:00",
          "2020-01-23T00:00:00",
          "2020-01-28T00:00:00",
          "2020-01-29T00:00:00",
          "2020-01-30T00:00:00",
          "2020-01-31T00:00:00",
          "2020-02-03T00:00:00",
          "2020-02-04T00:00:00",
          "2020-02-05T00:00:00",
          "2020-02-06T00:00:00",
          "2020-02-07T00:00:00",
          "2020-02-10T00:00:00",
          "2020-02-11T00:00:00",
          "2020-02-12T00:00:00",
          "2020-02-13T00:00:00",
          "2020-02-14T00:00:00",
          "2020-02-17T00:00:00",
          "2020-02-18T00:00:00",
          "2020-02-19T00:00:00",
          "2020-02-20T00:00:00",
          "2020-02-21T00:00:00",
          "2020-02-24T00:00:00",
          "2020-02-25T00:00:00",
          "2020-02-26T00:00:00",
          "2020-02-27T00:00:00",
          "2020-02-28T00:00:00",
          "2020-03-02T00:00:00",
          "2020-03-03T00:00:00",
          "2020-03-04T00:00:00",
          "2020-03-05T00:00:00",
          "2020-03-06T00:00:00",
          "2020-03-09T00:00:00",
          "2020-03-10T00:00:00",
          "2020-03-11T00:00:00",
          "2020-03-12T00:00:00",
          "2020-03-13T00:00:00",
          "2020-03-16T00:00:00",
          "2020-03-17T00:00:00",
          "2020-03-18T00:00:00",
          "2020-03-19T00:00:00",
          "2020-03-20T00:00:00",
          "2020-03-23T00:00:00",
          "2020-03-24T00:00:00",
          "2020-03-25T00:00:00",
          "2020-03-26T00:00:00",
          "2020-03-27T00:00:00",
          "2020-03-30T00:00:00",
          "2020-03-31T00:00:00",
          "2020-04-01T00:00:00",
          "2020-04-02T00:00:00"
         ],
         "y": [
          56800,
          56700,
          55400,
          56000,
          57700,
          56800,
          56600,
          57300,
          57000,
          52300,
          49400,
          50900,
          49000,
          48900,
          46600,
          49500,
          47300,
          42000,
          44800,
          44800,
          45150,
          43800,
          45500,
          46450,
          46400,
          49000,
          49550,
          48800,
          48450,
          48250,
          47000,
          45700,
          44000,
          44250,
          44550,
          31200,
          21850,
          15300,
          14200,
          14650,
          13950,
          14900,
          14450,
          13600,
          13600,
          13500,
          13650,
          13800,
          14600,
          15000,
          13700,
          12850,
          10350,
          10200,
          10500,
          12050,
          11750,
          12400,
          12250,
          11800,
          11350,
          11700,
          11500,
          11700,
          11750,
          11550,
          10950,
          10300,
          9910,
          10050,
          9250,
          9250,
          8900,
          8140,
          10550,
          9520,
          10950,
          14200,
          16350,
          15100,
          13450,
          13700,
          13800,
          13600,
          13150,
          12750,
          14300,
          14850,
          19300,
          20700,
          18800,
          19700,
          20150,
          19600,
          19250,
          18050,
          18350,
          19350,
          18450,
          17600,
          17550,
          17950,
          17450,
          17050,
          16400,
          18500,
          18650,
          18850,
          18150,
          17600,
          17050,
          17400,
          16600,
          15150,
          15150,
          14500,
          14400,
          13650,
          13750,
          13200,
          13750,
          14050,
          14350,
          13850,
          14400,
          14250,
          13850,
          14250,
          13950,
          14050,
          14000,
          14300,
          13650,
          13900,
          14050,
          14550,
          14400,
          13900,
          12900,
          16750,
          16850,
          17300,
          17100,
          17200,
          17100,
          16950,
          15850,
          15650,
          15600,
          16350,
          15950,
          15650,
          15000,
          14600,
          13800,
          13000,
          13150,
          13650,
          12450,
          12650,
          13050,
          13200,
          13100,
          13150,
          12850,
          12400,
          12400,
          12550,
          12600,
          12200,
          11900,
          10850,
          11650,
          11850,
          11400,
          11100,
          11500,
          11500,
          11700,
          12050,
          11800,
          11150,
          11450,
          10950,
          10150,
          9550,
          9550,
          9850,
          9270,
          8560,
          9240,
          8560,
          9200,
          9560,
          12400,
          12500,
          13600,
          13250,
          13100,
          13300
         ]
        }
       ],
       "layout": {
        "template": {
         "data": {
          "bar": [
           {
            "error_x": {
             "color": "#2a3f5f"
            },
            "error_y": {
             "color": "#2a3f5f"
            },
            "marker": {
             "line": {
              "color": "#E5ECF6",
              "width": 0.5
             }
            },
            "type": "bar"
           }
          ],
          "barpolar": [
           {
            "marker": {
             "line": {
              "color": "#E5ECF6",
              "width": 0.5
             }
            },
            "type": "barpolar"
           }
          ],
          "carpet": [
           {
            "aaxis": {
             "endlinecolor": "#2a3f5f",
             "gridcolor": "white",
             "linecolor": "white",
             "minorgridcolor": "white",
             "startlinecolor": "#2a3f5f"
            },
            "baxis": {
             "endlinecolor": "#2a3f5f",
             "gridcolor": "white",
             "linecolor": "white",
             "minorgridcolor": "white",
             "startlinecolor": "#2a3f5f"
            },
            "type": "carpet"
           }
          ],
          "choropleth": [
           {
            "colorbar": {
             "outlinewidth": 0,
             "ticks": ""
            },
            "type": "choropleth"
           }
          ],
          "contour": [
           {
            "colorbar": {
             "outlinewidth": 0,
             "ticks": ""
            },
            "colorscale": [
             [
              0,
              "#0d0887"
             ],
             [
              0.1111111111111111,
              "#46039f"
             ],
             [
              0.2222222222222222,
              "#7201a8"
             ],
             [
              0.3333333333333333,
              "#9c179e"
             ],
             [
              0.4444444444444444,
              "#bd3786"
             ],
             [
              0.5555555555555556,
              "#d8576b"
             ],
             [
              0.6666666666666666,
              "#ed7953"
             ],
             [
              0.7777777777777778,
              "#fb9f3a"
             ],
             [
              0.8888888888888888,
              "#fdca26"
             ],
             [
              1,
              "#f0f921"
             ]
            ],
            "type": "contour"
           }
          ],
          "contourcarpet": [
           {
            "colorbar": {
             "outlinewidth": 0,
             "ticks": ""
            },
            "type": "contourcarpet"
           }
          ],
          "heatmap": [
           {
            "colorbar": {
             "outlinewidth": 0,
             "ticks": ""
            },
            "colorscale": [
             [
              0,
              "#0d0887"
             ],
             [
              0.1111111111111111,
              "#46039f"
             ],
             [
              0.2222222222222222,
              "#7201a8"
             ],
             [
              0.3333333333333333,
              "#9c179e"
             ],
             [
              0.4444444444444444,
              "#bd3786"
             ],
             [
              0.5555555555555556,
              "#d8576b"
             ],
             [
              0.6666666666666666,
              "#ed7953"
             ],
             [
              0.7777777777777778,
              "#fb9f3a"
             ],
             [
              0.8888888888888888,
              "#fdca26"
             ],
             [
              1,
              "#f0f921"
             ]
            ],
            "type": "heatmap"
           }
          ],
          "heatmapgl": [
           {
            "colorbar": {
             "outlinewidth": 0,
             "ticks": ""
            },
            "colorscale": [
             [
              0,
              "#0d0887"
             ],
             [
              0.1111111111111111,
              "#46039f"
             ],
             [
              0.2222222222222222,
              "#7201a8"
             ],
             [
              0.3333333333333333,
              "#9c179e"
             ],
             [
              0.4444444444444444,
              "#bd3786"
             ],
             [
              0.5555555555555556,
              "#d8576b"
             ],
             [
              0.6666666666666666,
              "#ed7953"
             ],
             [
              0.7777777777777778,
              "#fb9f3a"
             ],
             [
              0.8888888888888888,
              "#fdca26"
             ],
             [
              1,
              "#f0f921"
             ]
            ],
            "type": "heatmapgl"
           }
          ],
          "histogram": [
           {
            "marker": {
             "colorbar": {
              "outlinewidth": 0,
              "ticks": ""
             }
            },
            "type": "histogram"
           }
          ],
          "histogram2d": [
           {
            "colorbar": {
             "outlinewidth": 0,
             "ticks": ""
            },
            "colorscale": [
             [
              0,
              "#0d0887"
             ],
             [
              0.1111111111111111,
              "#46039f"
             ],
             [
              0.2222222222222222,
              "#7201a8"
             ],
             [
              0.3333333333333333,
              "#9c179e"
             ],
             [
              0.4444444444444444,
              "#bd3786"
             ],
             [
              0.5555555555555556,
              "#d8576b"
             ],
             [
              0.6666666666666666,
              "#ed7953"
             ],
             [
              0.7777777777777778,
              "#fb9f3a"
             ],
             [
              0.8888888888888888,
              "#fdca26"
             ],
             [
              1,
              "#f0f921"
             ]
            ],
            "type": "histogram2d"
           }
          ],
          "histogram2dcontour": [
           {
            "colorbar": {
             "outlinewidth": 0,
             "ticks": ""
            },
            "colorscale": [
             [
              0,
              "#0d0887"
             ],
             [
              0.1111111111111111,
              "#46039f"
             ],
             [
              0.2222222222222222,
              "#7201a8"
             ],
             [
              0.3333333333333333,
              "#9c179e"
             ],
             [
              0.4444444444444444,
              "#bd3786"
             ],
             [
              0.5555555555555556,
              "#d8576b"
             ],
             [
              0.6666666666666666,
              "#ed7953"
             ],
             [
              0.7777777777777778,
              "#fb9f3a"
             ],
             [
              0.8888888888888888,
              "#fdca26"
             ],
             [
              1,
              "#f0f921"
             ]
            ],
            "type": "histogram2dcontour"
           }
          ],
          "mesh3d": [
           {
            "colorbar": {
             "outlinewidth": 0,
             "ticks": ""
            },
            "type": "mesh3d"
           }
          ],
          "parcoords": [
           {
            "line": {
             "colorbar": {
              "outlinewidth": 0,
              "ticks": ""
             }
            },
            "type": "parcoords"
           }
          ],
          "pie": [
           {
            "automargin": true,
            "type": "pie"
           }
          ],
          "scatter": [
           {
            "marker": {
             "colorbar": {
              "outlinewidth": 0,
              "ticks": ""
             }
            },
            "type": "scatter"
           }
          ],
          "scatter3d": [
           {
            "line": {
             "colorbar": {
              "outlinewidth": 0,
              "ticks": ""
             }
            },
            "marker": {
             "colorbar": {
              "outlinewidth": 0,
              "ticks": ""
             }
            },
            "type": "scatter3d"
           }
          ],
          "scattercarpet": [
           {
            "marker": {
             "colorbar": {
              "outlinewidth": 0,
              "ticks": ""
             }
            },
            "type": "scattercarpet"
           }
          ],
          "scattergeo": [
           {
            "marker": {
             "colorbar": {
              "outlinewidth": 0,
              "ticks": ""
             }
            },
            "type": "scattergeo"
           }
          ],
          "scattergl": [
           {
            "marker": {
             "colorbar": {
              "outlinewidth": 0,
              "ticks": ""
             }
            },
            "type": "scattergl"
           }
          ],
          "scattermapbox": [
           {
            "marker": {
             "colorbar": {
              "outlinewidth": 0,
              "ticks": ""
             }
            },
            "type": "scattermapbox"
           }
          ],
          "scatterpolar": [
           {
            "marker": {
             "colorbar": {
              "outlinewidth": 0,
              "ticks": ""
             }
            },
            "type": "scatterpolar"
           }
          ],
          "scatterpolargl": [
           {
            "marker": {
             "colorbar": {
              "outlinewidth": 0,
              "ticks": ""
             }
            },
            "type": "scatterpolargl"
           }
          ],
          "scatterternary": [
           {
            "marker": {
             "colorbar": {
              "outlinewidth": 0,
              "ticks": ""
             }
            },
            "type": "scatterternary"
           }
          ],
          "surface": [
           {
            "colorbar": {
             "outlinewidth": 0,
             "ticks": ""
            },
            "colorscale": [
             [
              0,
              "#0d0887"
             ],
             [
              0.1111111111111111,
              "#46039f"
             ],
             [
              0.2222222222222222,
              "#7201a8"
             ],
             [
              0.3333333333333333,
              "#9c179e"
             ],
             [
              0.4444444444444444,
              "#bd3786"
             ],
             [
              0.5555555555555556,
              "#d8576b"
             ],
             [
              0.6666666666666666,
              "#ed7953"
             ],
             [
              0.7777777777777778,
              "#fb9f3a"
             ],
             [
              0.8888888888888888,
              "#fdca26"
             ],
             [
              1,
              "#f0f921"
             ]
            ],
            "type": "surface"
           }
          ],
          "table": [
           {
            "cells": {
             "fill": {
              "color": "#EBF0F8"
             },
             "line": {
              "color": "white"
             }
            },
            "header": {
             "fill": {
              "color": "#C8D4E3"
             },
             "line": {
              "color": "white"
             }
            },
            "type": "table"
           }
          ]
         },
         "layout": {
          "annotationdefaults": {
           "arrowcolor": "#2a3f5f",
           "arrowhead": 0,
           "arrowwidth": 1
          },
          "coloraxis": {
           "colorbar": {
            "outlinewidth": 0,
            "ticks": ""
           }
          },
          "colorscale": {
           "diverging": [
            [
             0,
             "#8e0152"
            ],
            [
             0.1,
             "#c51b7d"
            ],
            [
             0.2,
             "#de77ae"
            ],
            [
             0.3,
             "#f1b6da"
            ],
            [
             0.4,
             "#fde0ef"
            ],
            [
             0.5,
             "#f7f7f7"
            ],
            [
             0.6,
             "#e6f5d0"
            ],
            [
             0.7,
             "#b8e186"
            ],
            [
             0.8,
             "#7fbc41"
            ],
            [
             0.9,
             "#4d9221"
            ],
            [
             1,
             "#276419"
            ]
           ],
           "sequential": [
            [
             0,
             "#0d0887"
            ],
            [
             0.1111111111111111,
             "#46039f"
            ],
            [
             0.2222222222222222,
             "#7201a8"
            ],
            [
             0.3333333333333333,
             "#9c179e"
            ],
            [
             0.4444444444444444,
             "#bd3786"
            ],
            [
             0.5555555555555556,
             "#d8576b"
            ],
            [
             0.6666666666666666,
             "#ed7953"
            ],
            [
             0.7777777777777778,
             "#fb9f3a"
            ],
            [
             0.8888888888888888,
             "#fdca26"
            ],
            [
             1,
             "#f0f921"
            ]
           ],
           "sequentialminus": [
            [
             0,
             "#0d0887"
            ],
            [
             0.1111111111111111,
             "#46039f"
            ],
            [
             0.2222222222222222,
             "#7201a8"
            ],
            [
             0.3333333333333333,
             "#9c179e"
            ],
            [
             0.4444444444444444,
             "#bd3786"
            ],
            [
             0.5555555555555556,
             "#d8576b"
            ],
            [
             0.6666666666666666,
             "#ed7953"
            ],
            [
             0.7777777777777778,
             "#fb9f3a"
            ],
            [
             0.8888888888888888,
             "#fdca26"
            ],
            [
             1,
             "#f0f921"
            ]
           ]
          },
          "colorway": [
           "#636efa",
           "#EF553B",
           "#00cc96",
           "#ab63fa",
           "#FFA15A",
           "#19d3f3",
           "#FF6692",
           "#B6E880",
           "#FF97FF",
           "#FECB52"
          ],
          "font": {
           "color": "#2a3f5f"
          },
          "geo": {
           "bgcolor": "white",
           "lakecolor": "white",
           "landcolor": "#E5ECF6",
           "showlakes": true,
           "showland": true,
           "subunitcolor": "white"
          },
          "hoverlabel": {
           "align": "left"
          },
          "hovermode": "closest",
          "mapbox": {
           "style": "light"
          },
          "paper_bgcolor": "white",
          "plot_bgcolor": "#E5ECF6",
          "polar": {
           "angularaxis": {
            "gridcolor": "white",
            "linecolor": "white",
            "ticks": ""
           },
           "bgcolor": "#E5ECF6",
           "radialaxis": {
            "gridcolor": "white",
            "linecolor": "white",
            "ticks": ""
           }
          },
          "scene": {
           "xaxis": {
            "backgroundcolor": "#E5ECF6",
            "gridcolor": "white",
            "gridwidth": 2,
            "linecolor": "white",
            "showbackground": true,
            "ticks": "",
            "zerolinecolor": "white"
           },
           "yaxis": {
            "backgroundcolor": "#E5ECF6",
            "gridcolor": "white",
            "gridwidth": 2,
            "linecolor": "white",
            "showbackground": true,
            "ticks": "",
            "zerolinecolor": "white"
           },
           "zaxis": {
            "backgroundcolor": "#E5ECF6",
            "gridcolor": "white",
            "gridwidth": 2,
            "linecolor": "white",
            "showbackground": true,
            "ticks": "",
            "zerolinecolor": "white"
           }
          },
          "shapedefaults": {
           "line": {
            "color": "#2a3f5f"
           }
          },
          "ternary": {
           "aaxis": {
            "gridcolor": "white",
            "linecolor": "white",
            "ticks": ""
           },
           "baxis": {
            "gridcolor": "white",
            "linecolor": "white",
            "ticks": ""
           },
           "bgcolor": "#E5ECF6",
           "caxis": {
            "gridcolor": "white",
            "linecolor": "white",
            "ticks": ""
           }
          },
          "title": {
           "x": 0.05
          },
          "xaxis": {
           "automargin": true,
           "gridcolor": "white",
           "linecolor": "white",
           "ticks": "",
           "title": {
            "standoff": 15
           },
           "zerolinecolor": "white",
           "zerolinewidth": 2
          },
          "yaxis": {
           "automargin": true,
           "gridcolor": "white",
           "linecolor": "white",
           "ticks": "",
           "title": {
            "standoff": 15
           },
           "zerolinecolor": "white",
           "zerolinewidth": 2
          }
         }
        },
        "title": {
         "text": "신라젠의 종가(close) Time Series"
        },
        "xaxis": {
         "rangeselector": {
          "buttons": [
           {
            "count": 1,
            "label": "1m",
            "step": "month",
            "stepmode": "backward"
           },
           {
            "count": 3,
            "label": "3m",
            "step": "month",
            "stepmode": "backward"
           },
           {
            "count": 6,
            "label": "6m",
            "step": "month",
            "stepmode": "backward"
           },
           {
            "step": "all"
           }
          ]
         },
         "type": "date"
        }
       }
      },
      "text/html": [
       "<div>\n",
       "        \n",
       "        \n",
       "            <div id=\"9ae42d88-228f-475f-b0b1-ee632e3ec392\" class=\"plotly-graph-div\" style=\"height:525px; width:100%;\"></div>\n",
       "            <script type=\"text/javascript\">\n",
       "                require([\"plotly\"], function(Plotly) {\n",
       "                    window.PLOTLYENV=window.PLOTLYENV || {};\n",
       "                    \n",
       "                if (document.getElementById(\"9ae42d88-228f-475f-b0b1-ee632e3ec392\")) {\n",
       "                    Plotly.newPlot(\n",
       "                        '9ae42d88-228f-475f-b0b1-ee632e3ec392',\n",
       "                        [{\"name\": \"\\uc2e0\\ub77c\\uc820\", \"type\": \"scatter\", \"x\": [\"2019-06-14T00:00:00\", \"2019-06-17T00:00:00\", \"2019-06-18T00:00:00\", \"2019-06-19T00:00:00\", \"2019-06-20T00:00:00\", \"2019-06-21T00:00:00\", \"2019-06-24T00:00:00\", \"2019-06-25T00:00:00\", \"2019-06-26T00:00:00\", \"2019-06-27T00:00:00\", \"2019-06-28T00:00:00\", \"2019-07-01T00:00:00\", \"2019-07-02T00:00:00\", \"2019-07-03T00:00:00\", \"2019-07-04T00:00:00\", \"2019-07-05T00:00:00\", \"2019-07-08T00:00:00\", \"2019-07-09T00:00:00\", \"2019-07-10T00:00:00\", \"2019-07-11T00:00:00\", \"2019-07-12T00:00:00\", \"2019-07-15T00:00:00\", \"2019-07-16T00:00:00\", \"2019-07-17T00:00:00\", \"2019-07-18T00:00:00\", \"2019-07-19T00:00:00\", \"2019-07-22T00:00:00\", \"2019-07-23T00:00:00\", \"2019-07-24T00:00:00\", \"2019-07-25T00:00:00\", \"2019-07-26T00:00:00\", \"2019-07-29T00:00:00\", \"2019-07-30T00:00:00\", \"2019-07-31T00:00:00\", \"2019-08-01T00:00:00\", \"2019-08-02T00:00:00\", \"2019-08-05T00:00:00\", \"2019-08-06T00:00:00\", \"2019-08-07T00:00:00\", \"2019-08-08T00:00:00\", \"2019-08-09T00:00:00\", \"2019-08-12T00:00:00\", \"2019-08-13T00:00:00\", \"2019-08-14T00:00:00\", \"2019-08-16T00:00:00\", \"2019-08-19T00:00:00\", \"2019-08-20T00:00:00\", \"2019-08-21T00:00:00\", \"2019-08-22T00:00:00\", \"2019-08-23T00:00:00\", \"2019-08-26T00:00:00\", \"2019-08-27T00:00:00\", \"2019-08-28T00:00:00\", \"2019-08-29T00:00:00\", \"2019-08-30T00:00:00\", \"2019-09-02T00:00:00\", \"2019-09-03T00:00:00\", \"2019-09-04T00:00:00\", \"2019-09-05T00:00:00\", \"2019-09-06T00:00:00\", \"2019-09-09T00:00:00\", \"2019-09-10T00:00:00\", \"2019-09-11T00:00:00\", \"2019-09-16T00:00:00\", \"2019-09-17T00:00:00\", \"2019-09-18T00:00:00\", \"2019-09-19T00:00:00\", \"2019-09-20T00:00:00\", \"2019-09-23T00:00:00\", \"2019-09-24T00:00:00\", \"2019-09-25T00:00:00\", \"2019-09-26T00:00:00\", \"2019-09-27T00:00:00\", \"2019-09-30T00:00:00\", \"2019-10-01T00:00:00\", \"2019-10-02T00:00:00\", \"2019-10-04T00:00:00\", \"2019-10-07T00:00:00\", \"2019-10-08T00:00:00\", \"2019-10-10T00:00:00\", \"2019-10-11T00:00:00\", \"2019-10-14T00:00:00\", \"2019-10-15T00:00:00\", \"2019-10-16T00:00:00\", \"2019-10-17T00:00:00\", \"2019-10-18T00:00:00\", \"2019-10-21T00:00:00\", \"2019-10-22T00:00:00\", \"2019-10-23T00:00:00\", \"2019-10-24T00:00:00\", \"2019-10-25T00:00:00\", \"2019-10-28T00:00:00\", \"2019-10-29T00:00:00\", \"2019-10-30T00:00:00\", \"2019-10-31T00:00:00\", \"2019-11-01T00:00:00\", \"2019-11-04T00:00:00\", \"2019-11-05T00:00:00\", \"2019-11-06T00:00:00\", \"2019-11-07T00:00:00\", \"2019-11-08T00:00:00\", \"2019-11-11T00:00:00\", \"2019-11-12T00:00:00\", \"2019-11-13T00:00:00\", \"2019-11-14T00:00:00\", \"2019-11-15T00:00:00\", \"2019-11-18T00:00:00\", \"2019-11-19T00:00:00\", \"2019-11-20T00:00:00\", \"2019-11-21T00:00:00\", \"2019-11-22T00:00:00\", \"2019-11-25T00:00:00\", \"2019-11-26T00:00:00\", \"2019-11-27T00:00:00\", \"2019-11-28T00:00:00\", \"2019-11-29T00:00:00\", \"2019-12-02T00:00:00\", \"2019-12-03T00:00:00\", \"2019-12-04T00:00:00\", \"2019-12-05T00:00:00\", \"2019-12-06T00:00:00\", \"2019-12-09T00:00:00\", \"2019-12-10T00:00:00\", \"2019-12-11T00:00:00\", \"2019-12-12T00:00:00\", \"2019-12-13T00:00:00\", \"2019-12-16T00:00:00\", \"2019-12-17T00:00:00\", \"2019-12-18T00:00:00\", \"2019-12-19T00:00:00\", \"2019-12-20T00:00:00\", \"2019-12-23T00:00:00\", \"2019-12-24T00:00:00\", \"2019-12-26T00:00:00\", \"2019-12-27T00:00:00\", \"2019-12-30T00:00:00\", \"2020-01-02T00:00:00\", \"2020-01-03T00:00:00\", \"2020-01-06T00:00:00\", \"2020-01-07T00:00:00\", \"2020-01-08T00:00:00\", \"2020-01-09T00:00:00\", \"2020-01-10T00:00:00\", \"2020-01-13T00:00:00\", \"2020-01-14T00:00:00\", \"2020-01-15T00:00:00\", \"2020-01-16T00:00:00\", \"2020-01-17T00:00:00\", \"2020-01-20T00:00:00\", \"2020-01-21T00:00:00\", \"2020-01-22T00:00:00\", \"2020-01-23T00:00:00\", \"2020-01-28T00:00:00\", \"2020-01-29T00:00:00\", \"2020-01-30T00:00:00\", \"2020-01-31T00:00:00\", \"2020-02-03T00:00:00\", \"2020-02-04T00:00:00\", \"2020-02-05T00:00:00\", \"2020-02-06T00:00:00\", \"2020-02-07T00:00:00\", \"2020-02-10T00:00:00\", \"2020-02-11T00:00:00\", \"2020-02-12T00:00:00\", \"2020-02-13T00:00:00\", \"2020-02-14T00:00:00\", \"2020-02-17T00:00:00\", \"2020-02-18T00:00:00\", \"2020-02-19T00:00:00\", \"2020-02-20T00:00:00\", \"2020-02-21T00:00:00\", \"2020-02-24T00:00:00\", \"2020-02-25T00:00:00\", \"2020-02-26T00:00:00\", \"2020-02-27T00:00:00\", \"2020-02-28T00:00:00\", \"2020-03-02T00:00:00\", \"2020-03-03T00:00:00\", \"2020-03-04T00:00:00\", \"2020-03-05T00:00:00\", \"2020-03-06T00:00:00\", \"2020-03-09T00:00:00\", \"2020-03-10T00:00:00\", \"2020-03-11T00:00:00\", \"2020-03-12T00:00:00\", \"2020-03-13T00:00:00\", \"2020-03-16T00:00:00\", \"2020-03-17T00:00:00\", \"2020-03-18T00:00:00\", \"2020-03-19T00:00:00\", \"2020-03-20T00:00:00\", \"2020-03-23T00:00:00\", \"2020-03-24T00:00:00\", \"2020-03-25T00:00:00\", \"2020-03-26T00:00:00\", \"2020-03-27T00:00:00\", \"2020-03-30T00:00:00\", \"2020-03-31T00:00:00\", \"2020-04-01T00:00:00\", \"2020-04-02T00:00:00\"], \"y\": [56800.0, 56700.0, 55400.0, 56000.0, 57700.0, 56800.0, 56600.0, 57300.0, 57000.0, 52300.0, 49400.0, 50900.0, 49000.0, 48900.0, 46600.0, 49500.0, 47300.0, 42000.0, 44800.0, 44800.0, 45150.0, 43800.0, 45500.0, 46450.0, 46400.0, 49000.0, 49550.0, 48800.0, 48450.0, 48250.0, 47000.0, 45700.0, 44000.0, 44250.0, 44550.0, 31200.0, 21850.0, 15300.0, 14200.0, 14650.0, 13950.0, 14900.0, 14450.0, 13600.0, 13600.0, 13500.0, 13650.0, 13800.0, 14600.0, 15000.0, 13700.0, 12850.0, 10350.0, 10200.0, 10500.0, 12050.0, 11750.0, 12400.0, 12250.0, 11800.0, 11350.0, 11700.0, 11500.0, 11700.0, 11750.0, 11550.0, 10950.0, 10300.0, 9910.0, 10050.0, 9250.0, 9250.0, 8900.0, 8140.0, 10550.0, 9520.0, 10950.0, 14200.0, 16350.0, 15100.0, 13450.0, 13700.0, 13800.0, 13600.0, 13150.0, 12750.0, 14300.0, 14850.0, 19300.0, 20700.0, 18800.0, 19700.0, 20150.0, 19600.0, 19250.0, 18050.0, 18350.0, 19350.0, 18450.0, 17600.0, 17550.0, 17950.0, 17450.0, 17050.0, 16400.0, 18500.0, 18650.0, 18850.0, 18150.0, 17600.0, 17050.0, 17400.0, 16600.0, 15150.0, 15150.0, 14500.0, 14400.0, 13650.0, 13750.0, 13200.0, 13750.0, 14050.0, 14350.0, 13850.0, 14400.0, 14250.0, 13850.0, 14250.0, 13950.0, 14050.0, 14000.0, 14300.0, 13650.0, 13900.0, 14050.0, 14550.0, 14400.0, 13900.0, 12900.0, 16750.0, 16850.0, 17300.0, 17100.0, 17200.0, 17100.0, 16950.0, 15850.0, 15650.0, 15600.0, 16350.0, 15950.0, 15650.0, 15000.0, 14600.0, 13800.0, 13000.0, 13150.0, 13650.0, 12450.0, 12650.0, 13050.0, 13200.0, 13100.0, 13150.0, 12850.0, 12400.0, 12400.0, 12550.0, 12600.0, 12200.0, 11900.0, 10850.0, 11650.0, 11850.0, 11400.0, 11100.0, 11500.0, 11500.0, 11700.0, 12050.0, 11800.0, 11150.0, 11450.0, 10950.0, 10150.0, 9550.0, 9550.0, 9850.0, 9270.0, 8560.0, 9240.0, 8560.0, 9200.0, 9560.0, 12400.0, 12500.0, 13600.0, 13250.0, 13100.0, 13300.0]}],\n",
       "                        {\"template\": {\"data\": {\"bar\": [{\"error_x\": {\"color\": \"#2a3f5f\"}, \"error_y\": {\"color\": \"#2a3f5f\"}, \"marker\": {\"line\": {\"color\": \"#E5ECF6\", \"width\": 0.5}}, \"type\": \"bar\"}], \"barpolar\": [{\"marker\": {\"line\": {\"color\": \"#E5ECF6\", \"width\": 0.5}}, \"type\": \"barpolar\"}], \"carpet\": [{\"aaxis\": {\"endlinecolor\": \"#2a3f5f\", \"gridcolor\": \"white\", \"linecolor\": \"white\", \"minorgridcolor\": \"white\", \"startlinecolor\": \"#2a3f5f\"}, \"baxis\": {\"endlinecolor\": \"#2a3f5f\", \"gridcolor\": \"white\", \"linecolor\": \"white\", \"minorgridcolor\": \"white\", \"startlinecolor\": \"#2a3f5f\"}, \"type\": \"carpet\"}], \"choropleth\": [{\"colorbar\": {\"outlinewidth\": 0, \"ticks\": \"\"}, \"type\": \"choropleth\"}], \"contour\": [{\"colorbar\": {\"outlinewidth\": 0, \"ticks\": \"\"}, \"colorscale\": [[0.0, \"#0d0887\"], [0.1111111111111111, \"#46039f\"], [0.2222222222222222, \"#7201a8\"], [0.3333333333333333, \"#9c179e\"], [0.4444444444444444, \"#bd3786\"], [0.5555555555555556, \"#d8576b\"], [0.6666666666666666, \"#ed7953\"], [0.7777777777777778, \"#fb9f3a\"], [0.8888888888888888, \"#fdca26\"], [1.0, \"#f0f921\"]], \"type\": \"contour\"}], \"contourcarpet\": [{\"colorbar\": {\"outlinewidth\": 0, \"ticks\": \"\"}, \"type\": \"contourcarpet\"}], \"heatmap\": [{\"colorbar\": {\"outlinewidth\": 0, \"ticks\": \"\"}, \"colorscale\": [[0.0, \"#0d0887\"], [0.1111111111111111, \"#46039f\"], [0.2222222222222222, \"#7201a8\"], [0.3333333333333333, \"#9c179e\"], [0.4444444444444444, \"#bd3786\"], [0.5555555555555556, \"#d8576b\"], [0.6666666666666666, \"#ed7953\"], [0.7777777777777778, \"#fb9f3a\"], [0.8888888888888888, \"#fdca26\"], [1.0, \"#f0f921\"]], \"type\": \"heatmap\"}], \"heatmapgl\": [{\"colorbar\": {\"outlinewidth\": 0, \"ticks\": \"\"}, \"colorscale\": [[0.0, \"#0d0887\"], [0.1111111111111111, \"#46039f\"], [0.2222222222222222, \"#7201a8\"], [0.3333333333333333, \"#9c179e\"], [0.4444444444444444, \"#bd3786\"], [0.5555555555555556, \"#d8576b\"], [0.6666666666666666, \"#ed7953\"], [0.7777777777777778, \"#fb9f3a\"], [0.8888888888888888, \"#fdca26\"], [1.0, \"#f0f921\"]], \"type\": \"heatmapgl\"}], \"histogram\": [{\"marker\": {\"colorbar\": {\"outlinewidth\": 0, \"ticks\": \"\"}}, \"type\": \"histogram\"}], \"histogram2d\": [{\"colorbar\": {\"outlinewidth\": 0, \"ticks\": \"\"}, \"colorscale\": [[0.0, \"#0d0887\"], [0.1111111111111111, \"#46039f\"], [0.2222222222222222, \"#7201a8\"], [0.3333333333333333, \"#9c179e\"], [0.4444444444444444, \"#bd3786\"], [0.5555555555555556, \"#d8576b\"], [0.6666666666666666, \"#ed7953\"], [0.7777777777777778, \"#fb9f3a\"], [0.8888888888888888, \"#fdca26\"], [1.0, \"#f0f921\"]], \"type\": \"histogram2d\"}], \"histogram2dcontour\": [{\"colorbar\": {\"outlinewidth\": 0, \"ticks\": \"\"}, \"colorscale\": [[0.0, \"#0d0887\"], [0.1111111111111111, \"#46039f\"], [0.2222222222222222, \"#7201a8\"], [0.3333333333333333, \"#9c179e\"], [0.4444444444444444, \"#bd3786\"], [0.5555555555555556, \"#d8576b\"], [0.6666666666666666, \"#ed7953\"], [0.7777777777777778, \"#fb9f3a\"], [0.8888888888888888, \"#fdca26\"], [1.0, \"#f0f921\"]], \"type\": \"histogram2dcontour\"}], \"mesh3d\": [{\"colorbar\": {\"outlinewidth\": 0, \"ticks\": \"\"}, \"type\": \"mesh3d\"}], \"parcoords\": [{\"line\": {\"colorbar\": {\"outlinewidth\": 0, \"ticks\": \"\"}}, \"type\": \"parcoords\"}], \"pie\": [{\"automargin\": true, \"type\": \"pie\"}], \"scatter\": [{\"marker\": {\"colorbar\": {\"outlinewidth\": 0, \"ticks\": \"\"}}, \"type\": \"scatter\"}], \"scatter3d\": [{\"line\": {\"colorbar\": {\"outlinewidth\": 0, \"ticks\": \"\"}}, \"marker\": {\"colorbar\": {\"outlinewidth\": 0, \"ticks\": \"\"}}, \"type\": \"scatter3d\"}], \"scattercarpet\": [{\"marker\": {\"colorbar\": {\"outlinewidth\": 0, \"ticks\": \"\"}}, \"type\": \"scattercarpet\"}], \"scattergeo\": [{\"marker\": {\"colorbar\": {\"outlinewidth\": 0, \"ticks\": \"\"}}, \"type\": \"scattergeo\"}], \"scattergl\": [{\"marker\": {\"colorbar\": {\"outlinewidth\": 0, \"ticks\": \"\"}}, \"type\": \"scattergl\"}], \"scattermapbox\": [{\"marker\": {\"colorbar\": {\"outlinewidth\": 0, \"ticks\": \"\"}}, \"type\": \"scattermapbox\"}], \"scatterpolar\": [{\"marker\": {\"colorbar\": {\"outlinewidth\": 0, \"ticks\": \"\"}}, \"type\": \"scatterpolar\"}], \"scatterpolargl\": [{\"marker\": {\"colorbar\": {\"outlinewidth\": 0, \"ticks\": \"\"}}, \"type\": \"scatterpolargl\"}], \"scatterternary\": [{\"marker\": {\"colorbar\": {\"outlinewidth\": 0, \"ticks\": \"\"}}, \"type\": \"scatterternary\"}], \"surface\": [{\"colorbar\": {\"outlinewidth\": 0, \"ticks\": \"\"}, \"colorscale\": [[0.0, \"#0d0887\"], [0.1111111111111111, \"#46039f\"], [0.2222222222222222, \"#7201a8\"], [0.3333333333333333, \"#9c179e\"], [0.4444444444444444, \"#bd3786\"], [0.5555555555555556, \"#d8576b\"], [0.6666666666666666, \"#ed7953\"], [0.7777777777777778, \"#fb9f3a\"], [0.8888888888888888, \"#fdca26\"], [1.0, \"#f0f921\"]], \"type\": \"surface\"}], \"table\": [{\"cells\": {\"fill\": {\"color\": \"#EBF0F8\"}, \"line\": {\"color\": \"white\"}}, \"header\": {\"fill\": {\"color\": \"#C8D4E3\"}, \"line\": {\"color\": \"white\"}}, \"type\": \"table\"}]}, \"layout\": {\"annotationdefaults\": {\"arrowcolor\": \"#2a3f5f\", \"arrowhead\": 0, \"arrowwidth\": 1}, \"coloraxis\": {\"colorbar\": {\"outlinewidth\": 0, \"ticks\": \"\"}}, \"colorscale\": {\"diverging\": [[0, \"#8e0152\"], [0.1, \"#c51b7d\"], [0.2, \"#de77ae\"], [0.3, \"#f1b6da\"], [0.4, \"#fde0ef\"], [0.5, \"#f7f7f7\"], [0.6, \"#e6f5d0\"], [0.7, \"#b8e186\"], [0.8, \"#7fbc41\"], [0.9, \"#4d9221\"], [1, \"#276419\"]], \"sequential\": [[0.0, \"#0d0887\"], [0.1111111111111111, \"#46039f\"], [0.2222222222222222, \"#7201a8\"], [0.3333333333333333, \"#9c179e\"], [0.4444444444444444, \"#bd3786\"], [0.5555555555555556, \"#d8576b\"], [0.6666666666666666, \"#ed7953\"], [0.7777777777777778, \"#fb9f3a\"], [0.8888888888888888, \"#fdca26\"], [1.0, \"#f0f921\"]], \"sequentialminus\": [[0.0, \"#0d0887\"], [0.1111111111111111, \"#46039f\"], [0.2222222222222222, \"#7201a8\"], [0.3333333333333333, \"#9c179e\"], [0.4444444444444444, \"#bd3786\"], [0.5555555555555556, \"#d8576b\"], [0.6666666666666666, \"#ed7953\"], [0.7777777777777778, \"#fb9f3a\"], [0.8888888888888888, \"#fdca26\"], [1.0, \"#f0f921\"]]}, \"colorway\": [\"#636efa\", \"#EF553B\", \"#00cc96\", \"#ab63fa\", \"#FFA15A\", \"#19d3f3\", \"#FF6692\", \"#B6E880\", \"#FF97FF\", \"#FECB52\"], \"font\": {\"color\": \"#2a3f5f\"}, \"geo\": {\"bgcolor\": \"white\", \"lakecolor\": \"white\", \"landcolor\": \"#E5ECF6\", \"showlakes\": true, \"showland\": true, \"subunitcolor\": \"white\"}, \"hoverlabel\": {\"align\": \"left\"}, \"hovermode\": \"closest\", \"mapbox\": {\"style\": \"light\"}, \"paper_bgcolor\": \"white\", \"plot_bgcolor\": \"#E5ECF6\", \"polar\": {\"angularaxis\": {\"gridcolor\": \"white\", \"linecolor\": \"white\", \"ticks\": \"\"}, \"bgcolor\": \"#E5ECF6\", \"radialaxis\": {\"gridcolor\": \"white\", \"linecolor\": \"white\", \"ticks\": \"\"}}, \"scene\": {\"xaxis\": {\"backgroundcolor\": \"#E5ECF6\", \"gridcolor\": \"white\", \"gridwidth\": 2, \"linecolor\": \"white\", \"showbackground\": true, \"ticks\": \"\", \"zerolinecolor\": \"white\"}, \"yaxis\": {\"backgroundcolor\": \"#E5ECF6\", \"gridcolor\": \"white\", \"gridwidth\": 2, \"linecolor\": \"white\", \"showbackground\": true, \"ticks\": \"\", \"zerolinecolor\": \"white\"}, \"zaxis\": {\"backgroundcolor\": \"#E5ECF6\", \"gridcolor\": \"white\", \"gridwidth\": 2, \"linecolor\": \"white\", \"showbackground\": true, \"ticks\": \"\", \"zerolinecolor\": \"white\"}}, \"shapedefaults\": {\"line\": {\"color\": \"#2a3f5f\"}}, \"ternary\": {\"aaxis\": {\"gridcolor\": \"white\", \"linecolor\": \"white\", \"ticks\": \"\"}, \"baxis\": {\"gridcolor\": \"white\", \"linecolor\": \"white\", \"ticks\": \"\"}, \"bgcolor\": \"#E5ECF6\", \"caxis\": {\"gridcolor\": \"white\", \"linecolor\": \"white\", \"ticks\": \"\"}}, \"title\": {\"x\": 0.05}, \"xaxis\": {\"automargin\": true, \"gridcolor\": \"white\", \"linecolor\": \"white\", \"ticks\": \"\", \"title\": {\"standoff\": 15}, \"zerolinecolor\": \"white\", \"zerolinewidth\": 2}, \"yaxis\": {\"automargin\": true, \"gridcolor\": \"white\", \"linecolor\": \"white\", \"ticks\": \"\", \"title\": {\"standoff\": 15}, \"zerolinecolor\": \"white\", \"zerolinewidth\": 2}}}, \"title\": {\"text\": \"\\uc2e0\\ub77c\\uc820\\uc758 \\uc885\\uac00(close) Time Series\"}, \"xaxis\": {\"rangeselector\": {\"buttons\": [{\"count\": 1, \"label\": \"1m\", \"step\": \"month\", \"stepmode\": \"backward\"}, {\"count\": 3, \"label\": \"3m\", \"step\": \"month\", \"stepmode\": \"backward\"}, {\"count\": 6, \"label\": \"6m\", \"step\": \"month\", \"stepmode\": \"backward\"}, {\"step\": \"all\"}]}, \"type\": \"date\"}},\n",
       "                        {\"responsive\": true}\n",
       "                    ).then(function(){\n",
       "                            \n",
       "var gd = document.getElementById('9ae42d88-228f-475f-b0b1-ee632e3ec392');\n",
       "var x = new MutationObserver(function (mutations, observer) {{\n",
       "        var display = window.getComputedStyle(gd).display;\n",
       "        if (!display || display === 'none') {{\n",
       "            console.log([gd, 'removed!']);\n",
       "            Plotly.purge(gd);\n",
       "            observer.disconnect();\n",
       "        }}\n",
       "}});\n",
       "\n",
       "// Listen for the removal of the full notebook cells\n",
       "var notebookContainer = gd.closest('#notebook-container');\n",
       "if (notebookContainer) {{\n",
       "    x.observe(notebookContainer, {childList: true});\n",
       "}}\n",
       "\n",
       "// Listen for the clearing of the current output cell\n",
       "var outputEl = gd.closest('.output');\n",
       "if (outputEl) {{\n",
       "    x.observe(outputEl, {childList: true});\n",
       "}}\n",
       "\n",
       "                        })\n",
       "                };\n",
       "                });\n",
       "            </script>\n",
       "        </div>"
      ]
     },
     "metadata": {},
     "output_type": "display_data"
    }
   ],
   "source": []
  },
  {
   "cell_type": "code",
   "execution_count": null,
   "metadata": {},
   "outputs": [],
   "source": []
  }
 ],
 "metadata": {
  "kernelspec": {
   "display_name": "Python 3",
   "language": "python",
   "name": "python3"
  },
  "language_info": {
   "codemirror_mode": {
    "name": "ipython",
    "version": 3
   },
   "file_extension": ".py",
   "mimetype": "text/x-python",
   "name": "python",
   "nbconvert_exporter": "python",
   "pygments_lexer": "ipython3",
   "version": "3.7.6"
  }
 },
 "nbformat": 4,
 "nbformat_minor": 4
}
