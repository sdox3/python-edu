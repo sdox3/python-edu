{
 "cells": [
  {
   "cell_type": "markdown",
   "metadata": {},
   "source": [
    "### 튜플(Tuple)자료형\n",
    "\n",
    "1. 튜플은 불변한 순서가 있는 객체의 집합이다.\n",
    "2. 리스트자료형과 비슷하지만 한 번 생성이 되면 값을 변경할 수 없다.\n",
    "   즉, 리스트는 수정, 삭제, 추가가 가능하지만 튜플은 수정, 삭제가 불가능하다.\n",
    "3. list는 <code>[]</code>로 정의하지만 튜플은 <code>()</code>로 정의한다.\n",
    "4. list와 동일하게 다양한 자료형을 포함할 수 있다.\n",
    "5. 순서가 있기 떄문에 인덱스로 접근이 가능하다.\n",
    "6. tuple도 <code>+, *</code>연산이 가능하다.\n",
    "7. tuple은 하나의 원소만 존재하는 경우에 tuple이 되지 않지만 한개의 원소뒤에 <code>,</code>를 붙여주면 tuple로 선언된다.\n",
    "8. 함수에서 값을 리턴할 때 tuple을 이용하여 변수를 한꺼번에 할당할 수 있다."
   ]
  },
  {
   "cell_type": "code",
   "execution_count": 8,
   "metadata": {},
   "outputs": [
    {
     "name": "stdout",
     "output_type": "stream",
     "text": [
      "<class 'tuple'>\n",
      "<class 'int'>\n",
      "<class 'tuple'>\n",
      "(6,)\n",
      "<class 'tuple'>\n",
      "(6,)\n",
      "<class 'tuple'>\n",
      "(1, 2, 3, [1, 2, 3], <built-in function print>)\n"
     ]
    }
   ],
   "source": [
    "# 1. 튜플 선언하는 방법\n",
    "t = () #튜플 초기화, 빈 튜플 객체를 선언\n",
    "\n",
    "print(type(t))\n",
    "t = (6) # 원소가 하나일 경우 튜플이 아니라 원소의 데이터 타입으로 선언\n",
    "print(type(t)) \n",
    "t = (6,) # 원소 뒤에 ,가 붙으면 튜플로 선언\n",
    "print(type(t))\n",
    "print(t)\n",
    "t = 6,\n",
    "print(type(t))\n",
    "print(t)\n",
    "\n",
    "t =(1,2,3,4,5,6)\n",
    "print(type(t))\n",
    "t =(1,2,3,[1,2,3],print)\n",
    "print(t)"
   ]
  },
  {
   "cell_type": "code",
   "execution_count": null,
   "metadata": {},
   "outputs": [],
   "source": [
    "# 2. tuple자료형 수정하기\n",
    "\n",
    "# 2-1) 삭제오류\n",
    "t = (1,2,'a','b')\n",
    "# del t[0] 'tuple' object doesn't support item deletion\n",
    "\n",
    "# 2-2) 수정오류\n",
    "# t[0] = 'x' 'tuple' object does not support item assignment"
   ]
  },
  {
   "cell_type": "code",
   "execution_count": 14,
   "metadata": {},
   "outputs": [
    {
     "name": "stdout",
     "output_type": "stream",
     "text": [
      "1 2 a b\n"
     ]
    }
   ],
   "source": [
    "# 1. indexing\n",
    "t = (1,2,'a','b')\n",
    "print(t[0],t[1],t[2],t[3],)"
   ]
  },
  {
   "cell_type": "code",
   "execution_count": 15,
   "metadata": {},
   "outputs": [
    {
     "name": "stdout",
     "output_type": "stream",
     "text": [
      "(2, 'a')\n"
     ]
    }
   ],
   "source": [
    "# 2. slicing\n",
    "t = (1,2,'a','b')\n",
    "print(t[1:3])"
   ]
  },
  {
   "cell_type": "code",
   "execution_count": 28,
   "metadata": {},
   "outputs": [
    {
     "name": "stdout",
     "output_type": "stream",
     "text": [
      "(1, 2, 'a', 'b', 3, 4, 'c', 'd')\n"
     ]
    }
   ],
   "source": [
    "# 3. tuple의 연산\n",
    "# 3-1) tuple더하기(+, 합치기)\n",
    "t1 = (1,2,'a','b')\n",
    "t2 = (3,4,'c','d')\n",
    "t = t1+t2\n",
    "print(t)"
   ]
  },
  {
   "cell_type": "code",
   "execution_count": null,
   "metadata": {},
   "outputs": [],
   "source": [
    "# 3-2) tuple곱하기\n",
    "print(t1*3)"
   ]
  },
  {
   "cell_type": "code",
   "execution_count": 27,
   "metadata": {},
   "outputs": [
    {
     "name": "stdout",
     "output_type": "stream",
     "text": [
      "1 10\n",
      "4 2 1 5\n",
      "고구마 감자\n"
     ]
    }
   ],
   "source": [
    "\n",
    "# 3-3) tuple을 이용한 일괄로 변수에 값을 할당하기\n",
    "def minmax(t):\n",
    "    return min(t), max(t)\n",
    "\n",
    "# a. 복수의 리턴결과로 할당\n",
    "lower, upper = minmax((4,5,1,3,6,7,8,9,10))\n",
    "print(lower, upper)\n",
    "\n",
    "# b. tuple속에 tuple을 이용한 할당\n",
    "(a,(b,(c,d))) = (4,(2,(1,5)))\n",
    "print(a,b,c,d)\n",
    "\n",
    "# c. 변수의 선언순서를 이용한 할당\n",
    "x = '감자'\n",
    "y = '고구마'\n",
    "\n",
    "x, y = y,x\n",
    "print(x,y)\n",
    "\n"
   ]
  }
 ],
 "metadata": {
  "kernelspec": {
   "display_name": "Python 3",
   "language": "python",
   "name": "python3"
  },
  "language_info": {
   "codemirror_mode": {
    "name": "ipython",
    "version": 3
   },
   "file_extension": ".py",
   "mimetype": "text/x-python",
   "name": "python",
   "nbconvert_exporter": "python",
   "pygments_lexer": "ipython3",
   "version": "3.7.4"
  }
 },
 "nbformat": 4,
 "nbformat_minor": 2
}
