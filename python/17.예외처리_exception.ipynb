{
 "cells": [
  {
   "cell_type": "markdown",
   "metadata": {},
   "source": [
    "### 예외처리(Exception)\n",
    "\n",
    "#### 1. 에러와 예외\n",
    "\n",
    "1. 에러(Syntax Error) : 문법에러, 파이썬 상대적으로 문법이 간단하기 때문에 구문자체 에러 즉, 문법에러의 발생비율은 적다.\n",
    "2. 예외(Exception) : 예외는 실행중에 발생하는 에러로서 문법에러는 없으나 프로그램이 실행중에 더이상 실행을 진행할 수가 없는 상태를 말한다. 예외가 발생이 되면 프로그램은 바로 중단이 된다. 이런 중단이 되는 상황을 방지하기 위해서는 예외처리를 해야 한다.\n",
    "\n",
    "#### 2. 예외처리방법\n",
    "\n",
    ">try:<br>\n",
    "   예외가 발생할 가능성이 있는 실행문장 (c = b / 0)<br>\n",
    " except Exception:<br>\n",
    "   예외가 발행했을 경우 실행할 문장 (print('0으로 나눌 수 없습니다/'))<br>\n",
    " else:<br>\n",
    "   정상적으로 처리할 경우의 실행할 문장<br>\n",
    "\n",
    "#### 3. 파이썬 내장예외의 종류\n",
    "* http://docs.python.org/library/exceptions.html\n",
    "\n",
    "#### 4. 예외발생과 except\n",
    "<img src=\"./images/17.예외처리_exception_01.png\" width=\"500\" height=\"350\">\n",
    "\n",
    "#### 5. 파이썬예외계층도\n",
    "<img src=\"./images/17.예외처리_exception_02.png\" width=\"500\" height=\"350\">"
   ]
  },
  {
   "cell_type": "markdown",
   "metadata": {},
   "source": [
    "##### 1. 예외처리"
   ]
  },
  {
   "cell_type": "code",
   "execution_count": 1,
   "metadata": {},
   "outputs": [
    {
     "name": "stdout",
     "output_type": "stream",
     "text": [
      "0으로 나눌 수가 없습니다\n"
     ]
    }
   ],
   "source": [
    "# 1. 예외처리\n",
    "a = 0\n",
    "b = 10\n",
    "\n",
    "if a == 0:\n",
    "    print('0으로 나눌 수가 없습니다')\n",
    "else:\n",
    "    c = b / a"
   ]
  },
  {
   "cell_type": "code",
   "execution_count": 3,
   "metadata": {},
   "outputs": [
    {
     "name": "stdout",
     "output_type": "stream",
     "text": [
      "5.0\n"
     ]
    }
   ],
   "source": [
    "# try ~ except ~\n",
    "a = 2\n",
    "b = 10\n",
    "\n",
    "try:\n",
    "    c = b / a\n",
    "except Exception:\n",
    "    print('0으로 나눌 수가 없습니다')\n",
    "else:\n",
    "    print(c)"
   ]
  },
  {
   "cell_type": "code",
   "execution_count": 6,
   "metadata": {},
   "outputs": [
    {
     "name": "stdout",
     "output_type": "stream",
     "text": [
      "division by zero\n"
     ]
    }
   ],
   "source": [
    "# 2. 특정예외처리\n",
    "# 1) ZeroDivisionError\n",
    "try:\n",
    "    4 / 0\n",
    "except ZeroDivisionError as e:\n",
    "    print(e)\n",
    "    \n",
    "# division by zero 처리방법\n",
    "print('종료하려면 q를 입력하세요!')\n",
    "while True:\n",
    "    num1 = input('\\n분자')\n",
    "    if num1 == 'q': break\n",
    "    num2 = input('\\n분모')\n",
    "    try:\n",
    "        result = int(num1) / int(num2)\n",
    "    except ZeroDivisionError:\n",
    "        print('분모에 0이 올 수가 없습니다1')\n",
    "    else:\n",
    "        print(result)\n",
    "print('프로그램 종료...')        "
   ]
  },
  {
   "cell_type": "code",
   "execution_count": 10,
   "metadata": {},
   "outputs": [
    {
     "name": "stdout",
     "output_type": "stream",
     "text": [
      "인덱스와 나눌 숫자를 입력하세요 :10 1\n",
      "잘못된 인덱스입니다.\n"
     ]
    }
   ],
   "source": [
    "# 2) IndexError & 다중예외처리\n",
    "y = [10,20,30]\n",
    "try:\n",
    "    # 입력방법 : 숫자 나눌숫자\n",
    "    index, x = map(int, input('인덱스와 나눌 숫자를 입력하세요 :').split())\n",
    "    print(y[index] / x)\n",
    "except ZeroDivisionError as e:\n",
    "    print('0으로 나눌 수가 없습니다')    \n",
    "except IndexError:  # 범위를 벗어난 인덱스에 접근할 경우에 발생되는 에러\n",
    "    print('잘못된 인덱스입니다.')   "
   ]
  },
  {
   "cell_type": "code",
   "execution_count": 11,
   "metadata": {},
   "outputs": [
    {
     "name": "stdout",
     "output_type": "stream",
     "text": [
      "start....\n",
      "unsupported operand type(s) for +: 'int' and 'str'\n",
      "TypeError : unsupported operand type(s) for +: 'int' and 'str'\n",
      "end...\n"
     ]
    }
   ],
   "source": [
    "# 3) TypeError\n",
    "def exception_test():\n",
    "    print('start....')\n",
    "    try:\n",
    "        print( 2 + '2')\n",
    "    except TypeError as e:\n",
    "        print(e)  # 간단하게 익셉션내용을 출력\n",
    "        print('TypeError : {0}'.format(e)) # 좀더 상세하게 익셉션내용을 출력\n",
    "    print('end...')\n",
    "    \n",
    "exception_test()    "
   ]
  },
  {
   "cell_type": "code",
   "execution_count": 12,
   "metadata": {},
   "outputs": [
    {
     "name": "stdout",
     "output_type": "stream",
     "text": [
      "[Errno 2] No such file or directory: '../data/notfoundfile.txt'\n"
     ]
    }
   ],
   "source": [
    "# 4) FileNotFoundError\n",
    "try:\n",
    "    f = open('../data/notfoundfile.txt', 'r', encoding='utf-8')\n",
    "except FileNotFoundError as e:\n",
    "    print(e)\n",
    "else: # 예외가 발생되지 않았을 경우\n",
    "    while True:\n",
    "        line = f.readline()\n",
    "        if not line: break\n",
    "        print(line, end=' ')\n",
    "    f.close()"
   ]
  },
  {
   "cell_type": "code",
   "execution_count": 13,
   "metadata": {},
   "outputs": [
    {
     "name": "stdout",
     "output_type": "stream",
     "text": [
      "파일을 찾지 못했습니다\n",
      "마지막 한번은 실행할 명령의 결과는  2\n"
     ]
    }
   ],
   "source": [
    "# try ~ except ~ else ~ finally\n",
    "# finally는 무조건 처리해야 될 로직이 있을 경우에 이 블럭안에 정의한다.\n",
    "try:\n",
    "    f = open('../data/notfoundfile.txt', 'r', encoding='utf-8')\n",
    "except Exception as e:\n",
    "    print('파일을 찾지 못했습니다')\n",
    "else:\n",
    "    print('파일을 찾았습니다.')\n",
    "finally:\n",
    "    print('마지막 한번은 실행할 명령의 결과는 ', 1+1)"
   ]
  },
  {
   "cell_type": "code",
   "execution_count": 14,
   "metadata": {},
   "outputs": [
    {
     "name": "stdout",
     "output_type": "stream",
     "text": [
      "start....\n",
      "end...\n"
     ]
    },
    {
     "name": "stderr",
     "output_type": "stream",
     "text": [
      "Traceback (most recent call last):\n",
      "  File \"<ipython-input-14-c781094061f1>\", line 8, in exception_test\n",
      "    print( 2 + '2')\n",
      "TypeError: unsupported operand type(s) for +: 'int' and 'str'\n"
     ]
    }
   ],
   "source": [
    "# 3. 예외의 에러메시지 받아오기\n",
    "# traceback 메시지 출력하기\n",
    "import traceback\n",
    "\n",
    "def exception_test():\n",
    "    print('start....')\n",
    "    try:\n",
    "        print( 2 + '2')\n",
    "    except TypeError as e:\n",
    "        traceback.print_exc() # traceback메시지 출력\n",
    "    print('end...')\n",
    "    \n",
    "exception_test() "
   ]
  },
  {
   "cell_type": "markdown",
   "metadata": {},
   "source": [
    "##### 예외처리 실습\n",
    "\n",
    "* Alice in Wonderland 단어의 갯수를 분석하는 데이터분석\n",
    "* 구글링해서 다운로드 : https://gist.github.com/phillipj/4944029"
   ]
  },
  {
   "cell_type": "code",
   "execution_count": 19,
   "metadata": {},
   "outputs": [
    {
     "name": "stdout",
     "output_type": "stream",
     "text": [
      "<class 'list'>\n",
      "파일이름: ../data/wordcount/alice_in_wonderland.txt, 총 단어갯수는 26470개 입니다.\n"
     ]
    }
   ],
   "source": [
    "filename = '../data/wordcount/alice_in_wonderland.txt'\n",
    "try:\n",
    "    with open(filename, encoding='utf-8') as f:\n",
    "        contens = f.read()\n",
    "except FileNotFoundError as e:\n",
    "    print(e)\n",
    "    msg = '파일을 찾지 못했습니다!'\n",
    "    print(msg)\n",
    "else:\n",
    "    # 공백을 기준으로 단어를 분할\n",
    "    words = contens.split()\n",
    "    print(type(words))\n",
    "    num = len(words)\n",
    "    # print(words, num)\n",
    "    print('파일이름: ' + filename + ', 총 단어갯수는 ' + str(num) + '개 입니다.')"
   ]
  },
  {
   "cell_type": "code",
   "execution_count": 22,
   "metadata": {},
   "outputs": [
    {
     "name": "stdout",
     "output_type": "stream",
     "text": [
      "파일이름: alice_in_wonderland.txt, 총 단어갯수는 26470개 입니다.\n",
      "파일이름: moby_dick.txt, 총 단어갯수는 215136개 입니다.\n",
      "파일이름: little_women.txt, 총 단어갯수는 189079개 입니다.\n"
     ]
    }
   ],
   "source": [
    "# 여러파일을 다루기\n",
    "# 결과\n",
    "# 파일이름: ../data/wordcount/alice_in_wonderland.txt, 총 단어갯수는 26470개 입니다\n",
    "def count_words(filename):\n",
    "    try:\n",
    "        with open('../data/wordcount/' + filename, encoding='utf-8') as f:\n",
    "            contents = f.read()\n",
    "    except FileNotFoundError:\n",
    "        pass\n",
    "    else:\n",
    "        words = contents.split()\n",
    "        num = len(words)\n",
    "        print('파일이름: ' + filename + ', 총 단어갯수는 ' + str(num) + '개 입니다.')\n",
    "\n",
    "filenames = ['alice_in_wonderland.txt', 'moby_dick.txt', 'little_women.txt']\n",
    "#count_words()호출\n",
    "for filename in filenames:\n",
    "    count_words(filename)"
   ]
  },
  {
   "cell_type": "markdown",
   "metadata": {},
   "source": [
    "##### 2. 예외발생시키기\n",
    "\n",
    "예외를 발생시킬 때는 raise에 예외를 지정하고 에러메시지를 설정한다.(에러메시지는 생략할 수 있다.)\n",
    ">`raise 예외('에러메시지')`"
   ]
  },
  {
   "cell_type": "code",
   "execution_count": 25,
   "metadata": {},
   "outputs": [
    {
     "name": "stdout",
     "output_type": "stream",
     "text": [
      "3의 배수를 입력하세요 =>10\n",
      "예외가 발생했습니다! 입력한 수는 3의 배수가 아닙니다!\n"
     ]
    }
   ],
   "source": [
    "# 1. 3의 배수가 아닐 경우 예외발생시키기\n",
    "try:\n",
    "    x = int(input('3의 배수를 입력하세요 =>'))\n",
    "    if x % 3 != 0:\n",
    "        raise Exception('입력한 수는 3의 배수가 아닙니다!')\n",
    "    print(x)\n",
    "except Exception as e:\n",
    "    print('예외가 발생했습니다!', e)\n",
    "    \n",
    "# 사용자가 발생시키 예외는 except의 e변수에 전달된다.  \n",
    "# raise 예외를 발생시키면 raise아래는 실행되지 않고 바로 except로 넘어간다."
   ]
  },
  {
   "cell_type": "code",
   "execution_count": 29,
   "metadata": {},
   "outputs": [
    {
     "name": "stdout",
     "output_type": "stream",
     "text": [
      "3의 배수를 입력하세요 =>10\n",
      "three_multiple()에서 예외가 발생했습니다! 입력한 수는 3의 배수가 아닙니다!\n",
      "함수를 호출한 결과로 예외가 발생했습니다.\n"
     ]
    }
   ],
   "source": [
    "# 2. 현재예외를 다시 발생시키기\n",
    "# 하위에서 발생된 예외를 상위에서도 예외처리하기\n",
    "def three_multiple():\n",
    "    try:\n",
    "        x = int(input('3의 배수를 입력하세요 =>'))\n",
    "        if x % 3 != 0:\n",
    "            raise Exception('입력한 수는 3의 배수가 아닙니다!')\n",
    "        print(x)\n",
    "    except Exception as e:\n",
    "        print('three_multiple()에서 예외가 발생했습니다!', e)\n",
    "        raise\n",
    "        \n",
    "# 1. 일반적으로 함수를 호출\n",
    "# three_multiple() \n",
    "\n",
    "# 2. 함수호출후 익셉션처리\n",
    "try:\n",
    "    three_multiple() \n",
    "    print('테스트')\n",
    "except Exception as e:\n",
    "    print('함수를 호출한 결과로 예외가 발생했습니다.')\n",
    "    "
   ]
  },
  {
   "cell_type": "code",
   "execution_count": 31,
   "metadata": {},
   "outputs": [
    {
     "ename": "AssertionError",
     "evalue": "3의 배수가 아닙니다!",
     "output_type": "error",
     "traceback": [
      "\u001b[1;31m---------------------------------------------------------------------------\u001b[0m",
      "\u001b[1;31mAssertionError\u001b[0m                            Traceback (most recent call last)",
      "\u001b[1;32m<ipython-input-31-520e2ece5e58>\u001b[0m in \u001b[0;36m<module>\u001b[1;34m\u001b[0m\n\u001b[0;32m      6\u001b[0m \u001b[1;33m\u001b[0m\u001b[0m\n\u001b[0;32m      7\u001b[0m \u001b[0ma\u001b[0m \u001b[1;33m=\u001b[0m \u001b[1;36m10\u001b[0m\u001b[1;33m\u001b[0m\u001b[1;33m\u001b[0m\u001b[0m\n\u001b[1;32m----> 8\u001b[1;33m \u001b[1;32massert\u001b[0m \u001b[0ma\u001b[0m \u001b[1;33m%\u001b[0m \u001b[1;36m3\u001b[0m \u001b[1;33m==\u001b[0m \u001b[1;36m0\u001b[0m\u001b[1;33m,\u001b[0m \u001b[1;34m\"3의 배수가 아닙니다!\"\u001b[0m\u001b[1;33m\u001b[0m\u001b[1;33m\u001b[0m\u001b[0m\n\u001b[0m\u001b[0;32m      9\u001b[0m \u001b[0mprint\u001b[0m\u001b[1;33m(\u001b[0m\u001b[0ma\u001b[0m\u001b[1;33m)\u001b[0m\u001b[1;33m\u001b[0m\u001b[1;33m\u001b[0m\u001b[0m\n",
      "\u001b[1;31mAssertionError\u001b[0m: 3의 배수가 아닙니다!"
     ]
    }
   ],
   "source": [
    "# 3. assert로 예외발생시키기\n",
    "# 예외를 발생시키는 방법중에는 assert를 사용하는 방법도 있다. assert는 지정된 조건식이\n",
    "# 거짓일 경우에 AssertionError예외를 발생시킨다. 조건식 참이면 그냥 넘어간다.\n",
    "# 보통 assert는 나와서는 안되는 조건을 검사할 때 사용한다.\n",
    "# 문법 : \"assert 조건식\", \"assert 조건식, 에러메시지\"\n",
    "\n",
    "a = 10\n",
    "assert a % 3 == 0, \"3의 배수가 아닙니다!\"\n",
    "print(a)\n",
    "\n",
    "# assert는 보통 디버깅모드에서 실행한다. \n",
    "# 파이썬에서는 기본적으로 디버깅모드(__debug__의 값이 0)로 되어 있다.\n",
    "# assert가 실행되지 않게 하려면 python에 -O(대문자 O) 옵션을 붙여서 실행한다.\n",
    "# \"python.exe -O 스크립트파일.py\""
   ]
  },
  {
   "cell_type": "markdown",
   "metadata": {},
   "source": [
    "##### 3. 예외만들기\n",
    "\n",
    "예외에는 파이썬에 내장된 예외가 있고 사용자가 직접 만든 예외를 사용자예외라고 한다.\n",
    "예외를 만드는 방법은 간단하다. 그냥 Exception을 상속받아서 새로운 클래스를 만들면 된다. 그리고 `__init__`메서드에서 부모클래스의 메서드를 다음과 같이`super().__init__('에러메시지...')` 호출하면서 에러메시지를 전달하면 된다.\n",
    "\n",
    ">class 예외이름(Exception):<br>\n",
    "    def \\__init__(self): <br>\n",
    "        super().\\__init__('에러메시지')"
   ]
  },
  {
   "cell_type": "code",
   "execution_count": 40,
   "metadata": {},
   "outputs": [
    {
     "name": "stdout",
     "output_type": "stream",
     "text": [
      "3의 배수의 숫자를 입력하세요! =>10\n",
      "예외발생 : 3의 배수가 아닙니다!\n"
     ]
    }
   ],
   "source": [
    "# 1. super().__init__를 호출하는 경우\n",
    "\n",
    "class ExceptionThreeMultipleError(Exception):  # Exception을 상속\n",
    "    def __init__(self):\n",
    "        super().__init__('3의 배수가 아닙니다!')\n",
    "        \n",
    "def three_multiple():\n",
    "    try:\n",
    "        x = int(input(\"3의 배수의 숫자를 입력하세요! =>\"))\n",
    "        if x % 3 != 0:\n",
    "            raise ExceptionThreeMultipleError\n",
    "        print(x)\n",
    "    except Exception as e:\n",
    "        print('예외발생 :', e)\n",
    "        \n",
    "three_multiple()       "
   ]
  },
  {
   "cell_type": "code",
   "execution_count": 42,
   "metadata": {},
   "outputs": [
    {
     "name": "stdout",
     "output_type": "stream",
     "text": [
      "3의 배수의 숫자를 입력하세요! =>10\n",
      "예외발생 : 3의배수가 아닙니다!\n"
     ]
    }
   ],
   "source": [
    "# 2. 상속만 받는 경우 \n",
    "class ExceptionThreeMultipleError1(Exception):\n",
    "    pass\n",
    "\n",
    "def three_multiple():\n",
    "    try:\n",
    "        x = int(input(\"3의 배수의 숫자를 입력하세요! =>\"))\n",
    "        if x % 3 != 0:\n",
    "            raise ExceptionThreeMultipleError1('3의배수가 아닙니다!')\n",
    "        print(x)\n",
    "    except Exception as e:\n",
    "        print('예외발생 :', e)\n",
    "        \n",
    "three_multiple()  "
   ]
  }
 ],
 "metadata": {
  "kernelspec": {
   "display_name": "Python 3",
   "language": "python",
   "name": "python3"
  },
  "language_info": {
   "codemirror_mode": {
    "name": "ipython",
    "version": 3
   },
   "file_extension": ".py",
   "mimetype": "text/x-python",
   "name": "python",
   "nbconvert_exporter": "python",
   "pygments_lexer": "ipython3",
   "version": "3.7.6"
  }
 },
 "nbformat": 4,
 "nbformat_minor": 4
}
