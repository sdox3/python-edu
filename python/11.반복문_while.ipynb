{
 "cells": [
  {
   "cell_type": "markdown",
   "metadata": {},
   "source": [
    "### 반복문 while\n",
    "\n",
    "while반복문은 조건식으로만 동작하고 반복할 코드안에는 조건신에 영향을 주는 변화식을 정의한다.\n",
    "\n",
    ">while 조건문 : <br>\n",
    "        실행문 <br>\n",
    "        실행문n<br>\n",
    "#### 1. while 반복문의 동작과정\n",
    "<img src = './images/11.반복문_while_01.png' height =400 width = 400>\n",
    "#### 2. while 반복문의 기본형태\n",
    "<img src = './images/11.반복문_while_02.png' height =400 width = 400>"
   ]
  },
  {
   "cell_type": "code",
   "execution_count": 4,
   "metadata": {},
   "outputs": [
    {
     "name": "stdout",
     "output_type": "stream",
     "text": [
      "55\n",
      "55\n"
     ]
    }
   ],
   "source": [
    "# 1~100 까지 출력\n",
    "\n",
    "sum = 0\n",
    "for i in range(1,11,1) :\n",
    "    sum += i\n",
    "\n",
    "print(sum)\n",
    "# while문\n",
    "\n",
    "i = 0\n",
    "sum = 0\n",
    "while (i <= 10):\n",
    "    sum += i\n",
    "    i += 1\n",
    "\n",
    "print(sum)\n"
   ]
  },
  {
   "cell_type": "code",
   "execution_count": 6,
   "metadata": {},
   "outputs": [
    {
     "name": "stdout",
     "output_type": "stream",
     "text": [
      "1\n",
      "3\n",
      "5\n",
      "7\n",
      "9\n",
      "\n",
      "1\n",
      "3\n",
      "5\n",
      "7\n",
      "9\n",
      "\n",
      "1\n"
     ]
    }
   ],
   "source": [
    "i = 0\n",
    "while (i<10):\n",
    "    i+=1\n",
    "    if i%2 != 0:\n",
    "        print(i)\n",
    "    else :\n",
    "        pass\n",
    "print()\n",
    "\n",
    "i = 0\n",
    "while (i<10):\n",
    "    i+=1\n",
    "    if i%2 == 0:\n",
    "        continue\n",
    "    else :\n",
    "        print(i)\n",
    "print()\n",
    "        \n",
    "i = 0\n",
    "while (True):\n",
    "    i+=1\n",
    "    if i%2 == 0:\n",
    "        break\n",
    "    else :\n",
    "        print(i)\n",
    "\n"
   ]
  },
  {
   "cell_type": "code",
   "execution_count": 8,
   "metadata": {},
   "outputs": [
    {
     "name": "stdout",
     "output_type": "stream",
     "text": [
      "커피캔을 제공합니다\n",
      "현재 커피 재고는 9 입니다.\n",
      "커피캔을 제공합니다\n",
      "현재 커피 재고는 8 입니다.\n",
      "커피캔을 제공합니다\n",
      "현재 커피 재고는 7 입니다.\n",
      "커피캔을 제공합니다\n",
      "현재 커피 재고는 6 입니다.\n",
      "커피캔을 제공합니다\n",
      "현재 커피 재고는 5 입니다.\n",
      "커피캔을 제공합니다\n",
      "현재 커피 재고는 4 입니다.\n",
      "커피캔을 제공합니다\n",
      "현재 커피 재고는 3 입니다.\n",
      "커피캔을 제공합니다\n",
      "현재 커피 재고는 2 입니다.\n",
      "커피캔을 제공합니다\n",
      "현재 커피 재고는 1 입니다.\n",
      "커피캔을 제공합니다\n",
      "현재 커피 재고는 0 입니다.\n",
      "현재 커피의 재고가 없습니다.\n"
     ]
    }
   ],
   "source": [
    "# 자판기와 유사한 로직 구현\n",
    "coffee = 10\n",
    "coin =500\n",
    "while coin == 500 :\n",
    "    print('커피캔을 제공합니다')\n",
    "    coffee -= 1\n",
    "    print('현재 커피 재고는 %d 입니다.'%coffee)\n",
    "    if not coffee :\n",
    "        print('현재 커피의 재고가 없습니다.')\n",
    "        break"
   ]
  },
  {
   "cell_type": "markdown",
   "metadata": {},
   "source": [
    "### 연습문제\n"
   ]
  },
  {
   "cell_type": "code",
   "execution_count": 61,
   "metadata": {},
   "outputs": [
    {
     "name": "stdout",
     "output_type": "stream",
     "text": [
      "166833\n"
     ]
    }
   ],
   "source": [
    "sum = 0\n",
    "i = 0\n",
    "while i <=1000 :\n",
    "    sum += i\n",
    "    i+=3\n",
    "print(sum)"
   ]
  },
  {
   "cell_type": "code",
   "execution_count": 16,
   "metadata": {},
   "outputs": [
    {
     "name": "stdout",
     "output_type": "stream",
     "text": [
      "482\n"
     ]
    }
   ],
   "source": [
    "# 2. list l에서 60점이상의 총합을 구하시오\n",
    "l = [50,65, 55, 70, 40, 80, 59, 85, 90, 92]\n",
    "i =0\n",
    "sum = 0\n",
    "while i<len(l) :\n",
    "    if l[i]>=60 :\n",
    "        sum += l[i]\n",
    "    i+=1\n",
    "\n",
    "print(sum)"
   ]
  },
  {
   "cell_type": "code",
   "execution_count": 21,
   "metadata": {},
   "outputs": [
    {
     "name": "stdout",
     "output_type": "stream",
     "text": [
      "*\n",
      "**\n",
      "***\n",
      "****\n",
      "*****\n"
     ]
    }
   ],
   "source": [
    "# 3. 별표출력하기(1)\n",
    "# *\n",
    "# **\n",
    "# ***\n",
    "# ****\n",
    "# *****\n",
    "\n",
    "i = 1\n",
    "a = '*'\n",
    "while i < 6 :\n",
    "    print(a*i)\n",
    "    i += 1"
   ]
  },
  {
   "cell_type": "code",
   "execution_count": 26,
   "metadata": {},
   "outputs": [
    {
     "name": "stdout",
     "output_type": "stream",
     "text": [
      "    *\n",
      "   ***\n",
      "  *****\n",
      " *******\n",
      "*********\n"
     ]
    }
   ],
   "source": [
    "# 4. 별표출력하기(2)\n",
    "#     *\n",
    "#    ***\n",
    "#   *****\n",
    "#  *******\n",
    "# *********\n",
    "\n",
    "i = 1\n",
    "a = '*'\n",
    "b = ' '\n",
    "while i < 6 :\n",
    "    print(b*(5-i), end ='')\n",
    "    print(a*(2*i-1))\n",
    "    i += 1"
   ]
  },
  {
   "cell_type": "markdown",
   "metadata": {},
   "source": [
    "###### 5. 별표출력하기\n",
    "<img src=\"./images/11.반복문_while_ex01_마름모별.PNG\" width=\"500\" height=\"400\"/>"
   ]
  },
  {
   "cell_type": "code",
   "execution_count": 65,
   "metadata": {},
   "outputs": [
    {
     "name": "stdout",
     "output_type": "stream",
     "text": [
      "          \n",
      "        ★\n",
      "      ★★★\n",
      "    ★★★★★\n",
      "  ★★★★★★★\n",
      "★★★★★★★★★\n",
      "  ★★★★★★★\n",
      "    ★★★★★\n",
      "      ★★★\n",
      "        ★\n",
      "         ★\n",
      "       ★★★\n",
      "     ★★★★★\n",
      "   ★★★★★★★\n",
      " ★★★★★★★★★\n"
     ]
    }
   ],
   "source": [
    "# 유니코드의 별문자 : ★\\n\"\n",
    "star = '\\u2605'\n",
    "\n",
    "i = 0\n",
    "a ='  '\n",
    "while i <10:\n",
    "    if i<6 :\n",
    "        print(a*(5-i), end ='')\n",
    "        print(star*(2*i-1))\n",
    "        \n",
    "    else :\n",
    "        print(a*(i-5), end ='')\n",
    "        print(star*(2*(10-i)-1))\n",
    "    i += 1\n",
    "\n",
    "i = 1\n",
    "a = ' '\n",
    "space = 10\n",
    "while i <= space :\n",
    "    if i<space:\n",
    "        print(a*(space-i)+star*i)\n",
    "    i +=2\n",
    "i = space\n",
    "\n",
    "while i <= space :\n",
    "    if i<space:\n",
    "        print(a*(space-i)+star*i)\n",
    "    i +=2\n"
   ]
  },
  {
   "cell_type": "code",
   "execution_count": null,
   "metadata": {},
   "outputs": [],
   "source": []
  }
 ],
 "metadata": {
  "kernelspec": {
   "display_name": "Python 3",
   "language": "python",
   "name": "python3"
  },
  "language_info": {
   "codemirror_mode": {
    "name": "ipython",
    "version": 3
   },
   "file_extension": ".py",
   "mimetype": "text/x-python",
   "name": "python",
   "nbconvert_exporter": "python",
   "pygments_lexer": "ipython3",
   "version": "3.7.4"
  }
 },
 "nbformat": 4,
 "nbformat_minor": 2
}
