{
 "cells": [
  {
   "cell_type": "markdown",
   "metadata": {},
   "source": [
    "### 클래스(class)\n",
    "#### 1. 모듈vs클래스vs인스턴스\n",
    "\n",
    "1. module : 확장자가 <code>py</code>로 끝나는 파일(클래스, 속성, 메서드 등이 포함된 파일)\n",
    "2. class : 새로운 객체(자료형)를 만드는 방법(설계도) \n",
    "3. instance : 클래스로 부터 생성된 객체를 인스턴스라고 한다.\n",
    "<img src = './images/14.클래스_class_01.png' width = 400 height = 300>\n",
    "\n",
    "#### 2. 클래스 내부의 메서드(함수) 선언\n",
    "\n",
    "메서드는 일반함수 'def 함수명 ()' 와 동일하게 정의하지만 다른 점은 반드시 첫번째로 ㅋ<code>self</code>로 정의해야 한다. 즉, <code>def 함수명(self,매개변수1...,매개변수n)</code>\n",
    "의 형태로 저으이해야 한다. 이 self 예약어는 java에서 this처럼 자신을 가리키는 것으로 인스턴스 자기자신을 의미하며 정확히는 자신의 참조주소를 가리킨다.\n",
    "\n",
    "#### 3. 클래스메서드(@classmethod)\n",
    "\n",
    "클래스메서드는 특정 객체에 대한 작업처리를 하는 것이 아니라 클래스 전체에 공유되는 메서드로서 첫번째 인수에 <code>cls</code>로 전달되는 메서드를 이야기 한다. 즉 <code>def 메서드명 (cls)</code> 형태로 정의되는 메서드이다.\n",
    "\n",
    "클래스 메서드는 인스턴스(객체)와 무관하게 클래스이름공간(class namespace)에 존재하는 메서드이다. 클래스메서드에 접근하기 위해서는 <code>클래스명.메서드()</code>형태로 접근한다. 첫번째 인수인 <code>cls</code>은 클래스인스턴스를 자동으로 전달받는 인자값으로 전달받아서 인스턴스를 자동으로 받는 메서드가 클래스 메서드이다..\n",
    "\n",
    "\n",
    "#### 4. 생성자(\\__init__)\n",
    "\n",
    "파이썬에서는 객체(인스턴스)가 생성될 떄 자동으로 실행되는 특수한 메서드를 생성자 메서드라고 한다. 생성자 메서드는 객체가 생성될 때 맨 처음으로 실행되는 메서드이다. 파이썬에서는 Java와 다르게 생성자메서드는 오직 한개만 정의할 수 있다.\n",
    "\n",
    "#### 5. 소멸자(\\__del__)\n",
    "\n",
    "파이썬에는 메모리나 기타 자원들을 자동으로 관리해 주는데 객체(인스턴스)가 소멸될 때 자동으로 실행되는 메서드가 소멸메서드이다. 만약 객체가 소멸될 때 수행할 로직이 있을 경우에는 소멸자메서드에 해당 로직을 코딩해주면 된다. 없을 경우에 특별히 정의하지 않아도 된다.\n",
    "\n",
    "#### 6. 상속\n",
    "\n",
    "1. 파이썬에서는 <code>다중상속</code>이 가능하다.\n",
    "2. 상속의 이점은 코드의 재사용이다.\n",
    "3. 자식클래스는 상속을 해준 부모클래스의 모든 기능을 사용할 수 있다. 자식클래스에서는 필요한 기능을 정의(추가)하거나 부모의 기능을 재정의해서 사용할 수 있다.\n",
    "\n",
    "#### 7. 오버라이드(Override)\n",
    "\n",
    "자식(sub)클래스에서 부모(super)클래스에 정의된 메서드들을 자식클래스의 기능에 맞게 재정의하는 것을 오버라이드라고 한다.\n",
    "\n",
    "#### 8. 다형성(Polymorphism)\n"
   ]
  },
  {
   "cell_type": "markdown",
   "metadata": {},
   "source": [
    "#### 1. 클래스와 메소드를 정의\n",
    "<img src = './images/14.클래스_class_02.png' width = 500 height = 400>\n"
   ]
  },
  {
   "cell_type": "markdown",
   "metadata": {},
   "source": [
    "\"\"\"\n",
    "자바의 경우\n",
    "person 클래스\n",
    "\n",
    "String a ;\n",
    "\n",
    "public Person() {\n",
    "   a = '안녕하세요';\n",
    "}\n",
    "\n",
    "public void greeting(){\n",
    "    printf(a);\n",
    "}\n",
    "메인 클래스\n",
    "\n",
    "Person person = new Person();\n",
    "\n",
    "person.greeting();\n",
    "\n",
    "\"\"\"\n",
    "\n",
    "class person :\n",
    "    def \\__init__(self):\n",
    "        self.hello = '안녕하세요'\n",
    "    def greeting(self):\n",
    "        print(self.hello)\n",
    "\n",
    "a = person()\n",
    "a.greeting()"
   ]
  },
  {
   "cell_type": "code",
   "execution_count": null,
   "metadata": {},
   "outputs": [],
   "source": [
    "# 1. 클래스를 정의하는 방법\n",
    "\n",
    "class Person :\n",
    "    # 속성(properties)정의 : 변수, 맴버변수, 인스턴스 변수\n",
    "    name = '홍길동'\n",
    "    nation = '대한민국'\n",
    "    \n",
    "    def __init__(self) :\n",
    "        self.hello = '안녕'\n",
    "\n",
    "print(person.name, person.nation)\n",
    "\n",
    "print(dir(person))\n",
    "print(dir(object))"
   ]
  },
  {
   "cell_type": "code",
   "execution_count": null,
   "metadata": {},
   "outputs": [],
   "source": [
    "# 2. 객체를 만드는 방법\n",
    "# 클래스를 가지고 객체를 생성\n",
    "# 문법 : 변수명 = 클래스명() -> 변수는 (객체변수, 참조변수)\n",
    "\n",
    "\n",
    "\n",
    "# person(): 생성자라고 하는데 실제로는 생성자 메서드 __init()__를 호출\n",
    "# 자바와 마찬같이로 생성자를 선언하지 않으면 자동으로 기본생성자를 생성한다.\n",
    "person = Person()\n",
    "person1 = Person()\n",
    "print(dir(person))\n",
    "print(type(person))\n",
    "\n",
    "# 참조변수이기 떄문에 주소를 가지고 있다\n",
    "print(id(person))"
   ]
  },
  {
   "cell_type": "code",
   "execution_count": null,
   "metadata": {},
   "outputs": [],
   "source": [
    "# 3. 객체의 속성(변수, 맴버변수, 인스턴스변수)\n",
    "print(person.name)\n",
    "print(person.nation)"
   ]
  },
  {
   "cell_type": "code",
   "execution_count": null,
   "metadata": {},
   "outputs": [],
   "source": [
    "class Person2():\n",
    "    name = '홍길동'\n",
    "    nation = '대한민국'\n",
    "    "
   ]
  },
  {
   "cell_type": "code",
   "execution_count": null,
   "metadata": {},
   "outputs": [],
   "source": [
    "class Person3():\n",
    "    name = ''\n",
    "    nation = '대한민국'\n",
    "p3 = Person3()\n",
    "print(p3.name)\n",
    "print(p3.nation)\n",
    "\n",
    "p3.name = '박지성'\n",
    "print(p3.name)"
   ]
  },
  {
   "cell_type": "code",
   "execution_count": null,
   "metadata": {},
   "outputs": [],
   "source": [
    "# 4. 객체의 속성을 외부에서 정의하는 방법\n",
    "\n",
    "class Korean() :\n",
    "    nation = '대한민국'\n",
    "    name = str()\n",
    "    age = int()\n",
    "    height = float()\n",
    "    weight = float()\n",
    "print(type(Korean.height))\n",
    "\n",
    "hong = Korean()\n",
    "son = Korean()\n",
    "print(hong.nation, son.nation)\n",
    "\n",
    "hong.name = '홍길동'\n",
    "son.name = '손흥민'\n",
    "\n",
    "print(id(hong))\n",
    "print(id(son))"
   ]
  },
  {
   "cell_type": "markdown",
   "metadata": {},
   "source": [
    "#### 2. 생성자를 정의"
   ]
  },
  {
   "cell_type": "code",
   "execution_count": null,
   "metadata": {},
   "outputs": [],
   "source": [
    "class Korean() :\n",
    "    def __init__(self):\n",
    "        print('생성자 호출')\n",
    "        self.hello = '안녕하세요'\n",
    "    def greeting(self):\n",
    "        print('함수 호출')\n",
    "        print(self.hello)\n",
    "kor2 = Korean()\n",
    "kor2.greeting()"
   ]
  },
  {
   "cell_type": "code",
   "execution_count": null,
   "metadata": {},
   "outputs": [],
   "source": [
    "# 메서드\n",
    "class Person() :\n",
    "    nation = '대한민국'\n",
    "    name = str()\n",
    "    age = int()\n",
    "    height = float()\n",
    "    weight = float()\n",
    "    \n",
    "    def __init__(self):\n",
    "        pass\n",
    "    def display(self):\n",
    "        print('국적 = ', self.nation, end = ', ')\n",
    "        print('이름 = ', self.name, end = ', ')\n",
    "        print('나이 = ', self.age, end = ', ')\n",
    "        print('키 = ', self.height, end = ', ')\n",
    "        print('몸무게 = ', self.weight)\n",
    "\n",
    "    "
   ]
  },
  {
   "cell_type": "code",
   "execution_count": null,
   "metadata": {},
   "outputs": [],
   "source": [
    "person =Person()\n",
    "person.__str__()\n",
    "person.display()\n",
    "person.name = '홍길동'\n",
    "person.age =30\n",
    "person.height = 181.1\n",
    "person.weight = 70\n",
    "person.display()\n",
    "print(type(person.weight))\n",
    "\n",
    "# 파이썬은 캡슐화가 완벽하지 않아서 처음에 정의한 데이터 타입과 다른 타입이 들어오면\n",
    "# 해당 데이터 타입으로 변환되어 저장된다."
   ]
  },
  {
   "cell_type": "markdown",
   "metadata": {},
   "source": [
    "#### 3.  생성자와 소멸자\n",
    "<img src = './images/14.클래스_class_03.png' width = 500 height = 400>\n",
    "\n",
    "##### 1) 생성자\n",
    "\n",
    "생성자 <code>\\__init__</code>는 개발자가 직접적으로 정의하지 않아도 기본적으로 컴파일과정에서 자동으로 생성된다. 이 메서드를 생성자 메서드라 한다.\n",
    "\n",
    "파이썬에서 생성자 메서드는 모든 객체가 생성될 때 자동적으로 호출된다. 파이썬에서는 생성자의 중복을 허용하지 않는다. 즉, 생성자는 클래스 내에서 하나만 존재하며 설령 중복정의 할지라도 에러가 발생하지 않고 맨 마지막에 정의한 생성자가 활성화된다.\n",
    "\n",
    "##### 2) 소멸자\n",
    "\n",
    "객체가 생성될 때 호출되는 생성자가 ㅇㅆ다면, 반대로 객체가 소멸될 때 호출되는 소멸자가 있다.\n",
    "생성자와 마찬가지로 소멸자메서드가 <code>\\__del__</code>라는 이름으로 정의되어 있으며 이 소멸자는 리소스의 해제등의 종료작업을 하기 위해서 사용된다\n"
   ]
  },
  {
   "cell_type": "code",
   "execution_count": null,
   "metadata": {},
   "outputs": [],
   "source": [
    "# 1. 생성자 : 중복 생성자 테스트\n",
    "\n",
    "class Human() :\n",
    "    def __init__(self) : pass\n",
    "    def __init__(self, name, gender,age,height, weight) :\n",
    "        self.name = name\n",
    "        self.gender = gender\n",
    "        self.age = age\n",
    "        self.height = height\n",
    "        self.weight = weight\n",
    "    def pa(self) :\n",
    "        print('이름 = ', self.name)\n",
    "        print('성별 = ', self.gender)\n",
    "        print('나이 = ', self.age)\n",
    "        print('키 = ', self.height)\n",
    "        print('무게 = ', self.weight)\n",
    "\n",
    "a = Human('홍길동','남성',20,170,81)\n",
    "a.pa()\n",
    "\n",
    "    "
   ]
  },
  {
   "cell_type": "code",
   "execution_count": null,
   "metadata": {},
   "outputs": [],
   "source": [
    "# 2) 초기값을 가진 생성자\n",
    "\n",
    "class Korean() :\n",
    "    def __init__(self, name, age, nation = '대한민국'): \n",
    "        self.name = name\n",
    "        self.age = age\n",
    "        self.nation = nation\n",
    "    def display(self): \n",
    "        print('이름 = ', self.name)\n",
    "        print('국적 = ', self.nation)\n",
    "        print('나이 = ', self.age)\n",
    "\n",
    "a = Korean('소향',31)\n",
    "a.display()\n",
    "b = Korean('스티브',83,'미국')\n",
    "b.display()"
   ]
  },
  {
   "cell_type": "code",
   "execution_count": null,
   "metadata": {},
   "outputs": [],
   "source": [
    "# 2. 소멸자\n",
    "\n",
    "class Calculator() :\n",
    "    def setData(self,a,b):\n",
    "        self.a = a\n",
    "        self.b = b\n",
    "    def add(self):\n",
    "        return self.a+self.b\n",
    "    def sub(self): return self.a+self.b\n",
    "    def mul(self): return self.a+self.b\n",
    "    def div(self): return self.a+self.b\n",
    "    def __del__(self) :\n",
    "        print('소멸자 호출')\n"
   ]
  },
  {
   "cell_type": "code",
   "execution_count": null,
   "metadata": {},
   "outputs": [],
   "source": [
    "cal = Calculator()\n",
    "cal.setData(20,10)\n",
    "print(cal.add())\n",
    "print(cal.sub())\n",
    "print(cal.mul())\n",
    "print(cal.div())\n",
    "\n",
    "# 소멸자는 자동으로 생성되지 않음\n",
    "# 소멸자를 호출해도 객체는 남아 있음, __del__을 오버라이드할 때 del설정 안함\n",
    "# cal.__del__()\n",
    "del cal"
   ]
  },
  {
   "cell_type": "markdown",
   "metadata": {},
   "source": [
    "#### 4. static \n",
    "\n",
    "객체의 멤버(변수, 메서드)에 접근하려면 객체(인스턴스)가 생성된 후에 비로소 접근할 수 있다\n",
    "하지만 인스턴스(객체)를 생성하지 않고도 클래스에서 직접 호출할 수 있도록 할 수가 있는 <code>static</code>과 <code>class</code>가 있다.\n",
    "\n",
    "파이썬에서는 기본적으로 모든 변수와 메서드에 접근할 수 있다. 하지만 캡슐화(은닉화)를 통해서 특정변수와 메서드에 접근할 수 있도록 제한할 수 있지만 Java에서 처럼 완벽한 캡슐화하기는 어렵다.\n",
    "\n",
    "#### 1) static method\n",
    "\n",
    "정적메서드는 메서드 바로위에 @staticmethod라는 메타정보를 붙인다. 이때 주의할 점은 매개변수에 self를 정의하지 않는 것이다. \n",
    "> class 클래스이름:<br> \n",
    "    @staticmethod<br>\n",
    "    def 매서드명(매개변수1,... 매개변수 n):<br>\n",
    "        실행문\n",
    "\n",
    "정적 메서드는 self값을 받지 않는다. 때문에 instance에 접근할 수 있는 방법이 없다. 그래서 보통 정적 메서드는 인스턴스의 속성과 메소드가 필요없을 경우에 사용한다.\n",
    "\n",
    "#### 2) class method\n",
    "\n",
    "정적메서드와 비슷하지만 클래스 메서드는 @classmethod라고 메타정보가 붙고 클래스메소드의 첫번째 인자값은 <code>cls</code>를 지정해야 한다.\n",
    "> class 클래스이름:<br> \n",
    "    @classmethod<br>\n",
    "    def 매서드명(cls):<br>\n",
    "        실행문\n",
    "        \n",
    "        \n",
    "#### 3) 데코레이터(@)\n",
    "\n",
    "파이썬은 데코레이터(decorator)라는 기능을 제공한다. @staticmetho와 같이 @로 시작하는 것들이 데코레이터 즉, 함수(메서드)를 장식한다고 해서 이런 이름이 붙었다."
   ]
  },
  {
   "cell_type": "code",
   "execution_count": null,
   "metadata": {},
   "outputs": [],
   "source": [
    "# 1. static method\n",
    "class Cals :\n",
    "    @staticmethod\n",
    "    def add(a,b):\n",
    "        print('더하기 메서드의 결과 = ',a+b)\n",
    "\n",
    "    @staticmethod\n",
    "    def mul(a,b):\n",
    "        print('곱하기 메서드의 결과 = ',a*b)\n",
    "    \n",
    "# 객체를 생성하지 않고 클래스명을 통해서 호출이 가능하다.\n",
    "# 객체를 생성한 뒤 static을 호출해도 호출이 가능한데\n",
    "# 이를 위해서는 @staticmethod를 선언해줘야 한다. 그리고 self를 선언하지 않는다.\n",
    "Cals.add(2,3)\n",
    "Cals.mul(2,3)\n",
    "a = Cals()\n",
    "a.mul(2,3)\n",
    "\n",
    "# 2) static변수 \n",
    "class Person :\n",
    "    # 스태틱 변수 - 클래서 멤버이다.\n",
    "    nation = '대한민국'\n",
    "    def __init__(self, name=None, age=None, addr=None):\n",
    "        self.name = name\n",
    "        self.age = age\n",
    "        self.addr = addr\n",
    "        print('생성자 호출')\n",
    "    def display(self):\n",
    "        print(self.name, self.age, self.addr, self.nation)\n",
    "    @staticmethod\n",
    "    def toString():\n",
    "        print('static method')\n",
    "        \n",
    "        \n",
    "a = Person('소향')\n",
    "a.nation\n",
    "a.display()\n",
    "\n",
    "# static 메소드는 클래스보다 먼저 메모리에 올라가기 때문에\n",
    "# 자기 자신을 지칭하는 self를 사용할 수 없다.\n",
    "# a.toString\n",
    "Person.toString()\n",
    "print(Person.nation)\n",
    "\n",
    "# 일반 변수이기 때문에 접근불가\n",
    "# print(Person.name)\n"
   ]
  },
  {
   "cell_type": "code",
   "execution_count": 3,
   "metadata": {},
   "outputs": [
    {
     "name": "stdout",
     "output_type": "stream",
     "text": [
      "2개의 person객체가 생성되었습니다\n"
     ]
    }
   ],
   "source": [
    "# 2. class method\n",
    "# 클래스 person을 만들고 인스턴스가 몇개 만들어 졌는지를 출력하는 메소드\n",
    "class Person1 :\n",
    "    count = 0 # 클래스 멤버\n",
    "    \n",
    "    def __init__(self):\n",
    "        Person1.count += 1 # 인스턴스가 만들어질 시 스테틱변수인 count 1증가\n",
    "    @classmethod\n",
    "    def print_count(cls):\n",
    "        print(\"{0}개의 person객체가 생성되었습니다\".format(cls.count))\n",
    "\n",
    "per = Person1()\n",
    "per2 = Person1()\n",
    "Person1.print_count()\n",
    "\n",
    "# 클래스메서드는 정적메서드처럼 인스턴스 생성없이 호출할 수 있다는 점이 같지만 클래스메서드는\n",
    "# 메서드 안에서 클래스의 속성, 메소드에 접근할 수 있다.\n",
    "# 특히 cls라는 키워드를 사용하면 메소드 안에서 현재 클래스의 인스턴스를 접근한 수 있다.\n",
    "\n",
    "class person2 :\n",
    "    \n",
    "    @classmethod\n",
    "    def create(cls):\n",
    "        p = cls() # cls()함수로 인스턴스를 생성, cls()는 __init__()와 동일하다\n",
    "        return p\n",
    "per = person2.create()\n"
   ]
  },
  {
   "cell_type": "markdown",
   "metadata": {},
   "source": [
    "#### 5. 클래스 상속(inheritence)\n",
    "\n",
    "파이썬에서 상속이란 특정 클래스를 만들 떄 해당 클래스의 속성(변수)과 기능(메소드)을 물려 받을 수 있도록 하는 기능이다. 부모클래스를 상속할 경우에는 부모의 생성자도 상속이 된다. 파이썬에서는 Java와는 다르게 다중상속이 가능이다.\n",
    "\n",
    "#### 클래스의 상속방법\n",
    "><code>class 클래스명(부모클래스1,...부모클래스n)</code>\n",
    "\n",
    "#### object\n",
    "\n",
    "파이썬에서 최상의 부모클래스는 Object클래스이다. 파이썬에서 생성되는 객체는 예외없이 모두 object클래스를 부모클래스로 상속을 받기 떄문에 별다른 정의가 없어도 기본적으로 상속받은 상태이다."
   ]
  },
  {
   "cell_type": "code",
   "execution_count": 2,
   "metadata": {},
   "outputs": [
    {
     "name": "stdout",
     "output_type": "stream",
     "text": [
      "7\n",
      "-1\n",
      "12\n",
      "0.75\n"
     ]
    }
   ],
   "source": [
    "class Calculator:\n",
    "    def __init__(self, first=None, seconde =None): \n",
    "        self.first = 0 if first is None else first\n",
    "        self.seconde = 0 if seconde is None else seconde\n",
    "    def sum(self):\n",
    "        result = self.first + self.seconde\n",
    "        return result\n",
    "    def sub(self):\n",
    "        result = self.first - self.seconde\n",
    "        return result\n",
    "    def mul(self):\n",
    "        result = self.first * self.seconde\n",
    "        return result\n",
    "    def div(self):\n",
    "        result = self.first / self.seconde\n",
    "        return result\n",
    "    \n",
    "cal = Calculator(3,4)\n",
    "print(cal.sum())\n",
    "print(cal.sub())\n",
    "print(cal.mul())\n",
    "print(cal.div())"
   ]
  },
  {
   "cell_type": "code",
   "execution_count": 8,
   "metadata": {},
   "outputs": [
    {
     "name": "stdout",
     "output_type": "stream",
     "text": [
      "7\n",
      "-1\n",
      "12\n",
      "0.75\n",
      "81\n"
     ]
    }
   ],
   "source": [
    "# 제곱근을 계산하는 계산기\n",
    "\n",
    "class Calculator1(Calculator) :\n",
    "    def pow(self) :\n",
    "        result = self.first**self.seconde\n",
    "        return result\n",
    "cal1 = Calculator1(3,4)\n",
    "print(cal1.sum())\n",
    "print(cal1.sub())\n",
    "print(cal1.mul())\n",
    "print(cal1.div())\n",
    "print(cal1.pow())"
   ]
  },
  {
   "cell_type": "code",
   "execution_count": 16,
   "metadata": {},
   "outputs": [
    {
     "name": "stdout",
     "output_type": "stream",
     "text": [
      "분모는 0이 올 수 없습니다.\n",
      "0\n"
     ]
    }
   ],
   "source": [
    "# 2. 상속 : 부모메서드를 재정의\n",
    "class Calculator2(Calculator) :\n",
    "    # 분모가 0일 경우를 방지하는 기능을 추가한 메서드\n",
    "    def div(self):\n",
    "        if self.seconde == 0 :\n",
    "            print('분모는 0이 올 수 없습니다.')\n",
    "            return 0\n",
    "        else :\n",
    "            result = self.first/self.seconde\n",
    "            return result\n",
    "        \n",
    "cal2 = Calculator2(3)\n",
    "print(cal2.div())\n"
   ]
  },
  {
   "cell_type": "code",
   "execution_count": 17,
   "metadata": {},
   "outputs": [
    {
     "name": "stdout",
     "output_type": "stream",
     "text": [
      "7\n",
      "-1\n",
      "12\n",
      "0.75\n",
      "81\n"
     ]
    }
   ],
   "source": [
    "# 3. 상속 : 다중 상속\n",
    "# 오버라이딩은 되지만 매개변수를 추가하는 오버로딩은 불가능하다.\n",
    "class Calculator3(Calculator1,Calculator2): pass\n",
    "\n",
    "cal3 = Calculator3(4)\n",
    "print(cal1.sum())\n",
    "print(cal1.sub())\n",
    "print(cal1.mul())\n",
    "print(cal1.div())\n",
    "print(cal1.pow())\n",
    "\n",
    "\"\"\"\n",
    "MRO에러\n",
    "\n",
    "최상부모 -> 부모1\n",
    "최상부모 -> 부모2\n",
    "부모1, 부모2 -> 자식\n",
    "이 경우 자식(최상부모, 부모1, 부모2)를 상속받을 시 에러가 발생\n",
    "부모1,2 의 상위부모와 같이 상속을 받으려 하니 부모을 부모 1,2 어디에서 상속받을지 인지 못함\n",
    "따라서 최상부모를 생략하고 부모1, 부모2만 상속을 받아야함\n",
    "\n",
    "\"\"\""
   ]
  },
  {
   "cell_type": "code",
   "execution_count": null,
   "metadata": {},
   "outputs": [],
   "source": [
    "# 4. 상속관계와 포함관계\n",
    "\n",
    "\n",
    "# 1) 상속관계\n",
    "class Person:\n",
    "    def greeting(self):\n",
    "        print('안녕하세요')\n",
    "        \n",
    "class Student(Person):\n",
    "    def study(self):\n",
    "        print('공부를 합시다.')\n",
    "\n",
    "# 학생 Student는 사람 Person이기 때문에 같은 종류이다.\n",
    "# 이와 같이 상속은 명확하게 같은 종류이며 동등한 관계일 때 사용한다.\n",
    "# 즉. 학생은 사람이다라고 했을 경우에 동등한 관계이다.\n",
    "# 그래서 상속관계를 영어로 'is-a관계라고 한다.'\n",
    "\n"
   ]
  },
  {
   "cell_type": "code",
   "execution_count": null,
   "metadata": {},
   "outputs": [],
   "source": [
    "# 2) 포함관계\n",
    "# 하지만, 학생클래스가 아니라 사람목록을 관리하는 클래스를 만들 경우에는\n",
    "# 별도의 변수에 Person 인스턴스를 관리하면 된다.\n",
    "\n",
    "class PersinList:\n",
    "    def __init__(self):\n",
    "        self.person_lisf = [] # 이 리스트 속성에 Person인스턴스를 저장해서 관리\n",
    "    def append_person(self, person): # 리스트 속성에 Person인스턴스를 저장하는 함수\n",
    "        self.person_list.append()\n",
    "        \n",
    "# 포함관계는 상속을 사용하지 않고 속성에 인스턴스를 넣어서 관리하기 때문에\n",
    "# PersonList가 Person를 포함하고 있기 때문에 PersonList와 Person은 동등관계가 아니라\n",
    "# 포함관계이다. PersonList has a Person\n",
    "\n",
    "# 같은 종류의 동등한 관계일 경우 상속을 사용하고 그 이외에는 인스턴스를 통한 포함방식을\n",
    "# 사용하면 된다."
   ]
  },
  {
   "cell_type": "code",
   "execution_count": null,
   "metadata": {},
   "outputs": [],
   "source": [
    "# 5. 부모클래스의 속성사용\n",
    "# 1) 부모클래스의 인스턴스 속성 사용\n",
    "\n",
    "class Person:\n",
    "    def __init__(self):\n",
    "        print('Person 생성자 호출')\n",
    "        self.hello = '안녕하세요'\n",
    "class Student(Person):\n",
    "    def __init__(self):\n",
    "        print('Student 생성자 호출')\n",
    "        self.name = '홍길동'\n",
    "\n",
    "person =Person()\n",
    "student = Student()\n",
    "print(student.name)\n",
    "\n",
    "# print(student.hello)  'Student' object has no attribute 'hello'\n",
    "# hello는 인스턴스 변수이기 때문에 Person을 생성하고 Person을 통해서만 호출이 가능하다.\n",
    "# 부모클래스인 Person의 생성자가 호출이 되지 않고 Student의 생성자만 호출되었기 때문이다."
   ]
  },
  {
   "cell_type": "code",
   "execution_count": null,
   "metadata": {},
   "outputs": [],
   "source": [
    "# 2) super()메서드로 부모클래스 초기화\n",
    "\n",
    "class Person:\n",
    "    def __init__(self):\n",
    "        print('Person 생성자 호출')\n",
    "        self.hello = '안녕하세요'\n",
    "class Student(Person):\n",
    "    def __init__(self):\n",
    "        print('Student 생성자 호출')\n",
    "        super().__init__() # super()메서드로 부모 메서드를 호출\n",
    "        self.name = '홍길동'\n",
    "\n",
    "\n",
    "student = Student()\n",
    "print(student.name)\n",
    "print(student.hello)\n",
    "\n",
    "# 이를 해결하기 위해서 Student의 생성자에 super().__init__를 통해 \n",
    "# Person의 생성자를 호출한다."
   ]
  },
  {
   "cell_type": "markdown",
   "metadata": {},
   "source": [
    "<center><b>부모클래스의 속성을 찾는 과정 </b></center>\n",
    "<img src = './images/14.클래스_class_07.png' width = 400 height = 300>"
   ]
  },
  {
   "cell_type": "code",
   "execution_count": 22,
   "metadata": {},
   "outputs": [
    {
     "name": "stdout",
     "output_type": "stream",
     "text": [
      "Person 생성자 호출\n",
      "안녕하세요\n"
     ]
    }
   ],
   "source": [
    "# 3) 부모클래스를 초기화하지 않아도 되는 경우\n",
    "# 만약에 자식클래스에서 __init__() 메서드가 정의되지 않은 경우에는 자동으로 \n",
    "# 부모클래스의 __init__()를 호출할 수 있다.\n",
    "\n",
    "class Person:\n",
    "    def __init__(self):\n",
    "        print('Person 생성자 호출')\n",
    "        self.hello = '안녕하세요'\n",
    "class Student(Person): pass\n",
    "\n",
    "\n",
    "\n",
    "student = Student()\n",
    "\n",
    "print(student.hello)"
   ]
  },
  {
   "cell_type": "code",
   "execution_count": 24,
   "metadata": {},
   "outputs": [
    {
     "name": "stdout",
     "output_type": "stream",
     "text": [
      "Student생성자 호출\n",
      "Person 생성자 호출\n",
      "안녕하세요\n",
      "홍길동\n"
     ]
    }
   ],
   "source": [
    "# 4) 명확하게 super() 사용하기\n",
    "# super(자식클래스, self)와 같이 super는 자식클래스와 self를 전달해서 현재 클래스가\n",
    "# 어떤 클래스인지를 명확하게 표시하는 방법도 있다.\n",
    "\n",
    "class Person:\n",
    "    def __init__(self):\n",
    "        print('Person 생성자 호출')\n",
    "        self.hello = '안녕하세요'\n",
    "        \n",
    "class Student(Person): \n",
    "    def __init__(self):\n",
    "        print('Student생성자 호출')\n",
    "        super(Student, self).__init__() # 부모클래스의 생성자 호출\n",
    "        self.name = '홍길동'\n",
    "\n",
    "\n",
    "student = Student()\n",
    "\n",
    "print(student.hello)\n",
    "print(student.name)"
   ]
  },
  {
   "cell_type": "markdown",
   "metadata": {},
   "source": [
    "#### 6) 다중상속\n",
    "<center><b>다중상속</b></center>\n",
    "<img src = './images/14.클래스_class_08.png' width = 400 height = 300>\n",
    "<center><b>다이아몬드 상속</b></center>\n",
    "<img src = './images/14.클래스_class_09.png' width = 400 height = 300>"
   ]
  },
  {
   "cell_type": "code",
   "execution_count": 25,
   "metadata": {},
   "outputs": [
    {
     "name": "stdout",
     "output_type": "stream",
     "text": [
      "통화기능\n",
      "촬영가능\n",
      "영상통화\n"
     ]
    }
   ],
   "source": [
    "# 다중상속 : 핸드폰\n",
    "# 통화 > 카메라 > 영상통화\n",
    "\n",
    "class Phone :\n",
    "    def call(self) :\n",
    "        print('통화기능')\n",
    "class Camera :\n",
    "    def photo (self):\n",
    "        print('촬영가능')\n",
    "class CameraPhone(Phone, Camera) :\n",
    "    def photo_call(self) :\n",
    "        print('영상통화')\n",
    "    \n",
    "phone = CameraPhone()\n",
    "phone.call()\n",
    "phone.photo()\n",
    "phone.photo_call()"
   ]
  },
  {
   "cell_type": "code",
   "execution_count": 27,
   "metadata": {},
   "outputs": [],
   "source": [
    "# 다이아몬드 상속 \n",
    "class A :\n",
    "    def greeting(self):\n",
    "        print('안녕하세요, A입니다.')\n",
    "class B(A) :\n",
    "    def greeting(self):\n",
    "        print('안녕하세요, B입니다.')\n",
    "class C(A) :\n",
    "    def greeting(self):\n",
    "        print('안녕하세요, C입니다.')\n",
    "class D(B, C) : pass\n",
    "        \n",
    "# 상기와 같이 클래스간에 다이아몬드처럼 생겨서 객체지향프로그램에서는 \n",
    "# 다이아몬드 상속이라 한다.\n",
    "# D에서는 B, C에서 상속받은 A를 상속받을 때 C의 A인지 , B의 A인지 명확하지 않다.\n",
    "# 프로그램에서 이를 해결하기 위해 메서드탐색순서를 정의하고 있다."
   ]
  },
  {
   "cell_type": "code",
   "execution_count": 28,
   "metadata": {},
   "outputs": [
    {
     "data": {
      "text/plain": [
       "[__main__.D, __main__.B, __main__.C, __main__.A, object]"
      ]
     },
     "execution_count": 28,
     "metadata": {},
     "output_type": "execute_result"
    }
   ],
   "source": [
    "# 다이아몬드 메소드 탐색순서\n",
    "# MRO(메소드 탐색 순서)를 확인 : 클래스명.mro()\n",
    "\n",
    "D.mro()"
   ]
  },
  {
   "cell_type": "markdown",
   "metadata": {},
   "source": [
    "##### 7) 추상클래스\n",
    "\n",
    "파이썬에서는 추상클래스라는 기능을 제공한다. 추상클래슨느 메서드의 목록만 가진 즉, 실행문이 없는 매서드의 이름만 가진 클래스이며, 상속받는 클래스에서 메서드의 구현을 강제화하기 위해 사용한다.\n",
    "\n",
    "먼저 추상클래스를 만드려면 <code>import abc</code>를 통해 <code>abc(Abstract Base Class)</code> 모듈을 가져와야 한다. 그리고 클래스의 소괄호()안에  <code>metaClass=ABCMeta</code>\n",
    "를 지정하고 메서드 위에<code>@AbstractMethod</code>를 붙여서 추상메서드를 지정한다.\n",
    "\n",
    "> from abc import *<br>\n",
    "class 추상클래스명(metaclass=ABCMeta) :<br> \n",
    "    @abstractmethod <br>\n",
    "    def 메서드이름(self) : <br>\n",
    "        실행코드\n"
   ]
  },
  {
   "cell_type": "code",
   "execution_count": 39,
   "metadata": {},
   "outputs": [
    {
     "name": "stdout",
     "output_type": "stream",
     "text": [
      "공부\n",
      "학교\n"
     ]
    }
   ],
   "source": [
    "# 1. 추상클래스 만들기\n",
    "from abc import *\n",
    "\n",
    "# ABCMeta?\n",
    "\n",
    "class StudentAbstract(metaclass=ABCMeta):\n",
    "    @abstractmethod\n",
    "    def study(self):pass\n",
    "    @abstractmethod\n",
    "    def goto_school(self):pass\n",
    "    \n",
    "class Student(StudentAbstract) : #pass\n",
    "    \n",
    "    def study(self) :\n",
    "        print('공부')\n",
    "    def goto_school(self) :\n",
    "        print('학교')\n",
    "\n",
    "student = Student()\n",
    "student.study()\n",
    "student.goto_school()\n",
    "\n",
    "# @abstractmethod를 선언했기 때문에 Student에서 정의하지 않으면 에러가 발생한다."
   ]
  },
  {
   "cell_type": "code",
   "execution_count": null,
   "metadata": {},
   "outputs": [],
   "source": [
    "# 2. 추상메서드를 빈메서드로 만드는 이유\n",
    "# 추상클래스는 객체를 만들 수 없다."
   ]
  },
  {
   "cell_type": "markdown",
   "metadata": {},
   "source": [
    "#### 6. 클래스 변수\n",
    "\n",
    "파이썬에서 클래스 변수는 클래스에 의해 생성된 모든 인스턴스(객체)에서 공유된다는 특징이 있다.\n",
    "\n"
   ]
  },
  {
   "cell_type": "code",
   "execution_count": 44,
   "metadata": {},
   "outputs": [
    {
     "name": "stdout",
     "output_type": "stream",
     "text": [
      "홍\n",
      "홍\n",
      "정\n",
      "정\n"
     ]
    }
   ],
   "source": [
    "class Family :\n",
    "    last_name = '홍'\n",
    "    first_name = ''\n",
    "\n",
    "f1 = Family()\n",
    "f2 = Family()\n",
    "print(f1.last_name)\n",
    "print(f2.last_name)\n",
    "Family.last_name = '정'\n",
    "print(f1.last_name)\n",
    "print(f2.last_name)"
   ]
  },
  {
   "cell_type": "code",
   "execution_count": 45,
   "metadata": {},
   "outputs": [
    {
     "name": "stdout",
     "output_type": "stream",
     "text": [
      "2241534011392\n",
      "2241534011392\n",
      "2241534011392\n"
     ]
    }
   ],
   "source": [
    "# id() : 개당 객체의 주소값을 반환해주는 내장함수\n",
    "print(id(Family.last_name))\n",
    "print(id(f1.last_name))\n",
    "print(id(f2.last_name))"
   ]
  },
  {
   "cell_type": "code",
   "execution_count": 48,
   "metadata": {},
   "outputs": [
    {
     "name": "stdout",
     "output_type": "stream",
     "text": [
      "정\n",
      "영\n",
      "2241534011392\n",
      "2241534011392\n",
      "2241533924016\n"
     ]
    }
   ],
   "source": [
    "f2.last_name = '영'\n",
    "print(f1.last_name)\n",
    "print(f2.last_name)\n",
    "\n",
    "print(id(Family.last_name))\n",
    "print(id(f1.last_name))\n",
    "print(id(f2.last_name))\n",
    "\n",
    "# 클래스 변수에 들어간 값은 리터럴값이기 때문에 변경이 불가능하다\n",
    "# 따라서 클래스 변수의 값을 바꾸는 것은 새로운 주소에 값을 넣고 연결하는 것이다.\n",
    "# 동일 값을 가진다면 주소값이 전부 같겠지만 한개의 값을 바꾼다면 새로운 주소에 저장하기 \n",
    "# 때문에 한개의 값만 다른 주소값을 가지게 된다."
   ]
  },
  {
   "cell_type": "markdown",
   "metadata": {},
   "source": [
    "##### 클래스 속성(변수)\n",
    "\n",
    "클래스의 속성에는 클래스속성, 인스턴스속성 두가지가 있다. 생성자에 정의된 속성은 인스턴스 속성이고 class에서 정의된 것이 클래스 속성이다.\n",
    "\n",
    "<img src = './images/14.클래스_class_10.png' width = 400 height = 300>\n"
   ]
  },
  {
   "cell_type": "code",
   "execution_count": null,
   "metadata": {},
   "outputs": [],
   "source": [
    "# 1. 클래스속성 사용하기\n",
    "\n",
    "class Person :\n",
    "    bag = []\n",
    "    \n",
    "    def put (self, item):\n",
    "        self.bag.append(item)\n",
    "\n",
    "person = Person()\n",
    "person.put('book')\n",
    "person.put('money')\n",
    "adam = Person()\n",
    "adam.put('key')\n",
    "print(adam.bag)\n",
    "print(person.bag)\n",
    "person.bag = ['key']\n",
    "\n",
    "print(adam.bag)\n",
    "print(person.bag)\n",
    "\n",
    "# 결과\n",
    "# 클래스변수는 모든 인스턴스에서 공유되기 때문에 하나의 bag에 값이 들어간다."
   ]
  },
  {
   "cell_type": "code",
   "execution_count": null,
   "metadata": {},
   "outputs": [],
   "source": [
    "class Person :\n",
    "    bag = []\n",
    "    \n",
    "    def put (self, item, name):\n",
    "        Person.bag.append(item)\n",
    "        self.name = name\n",
    "        \n",
    "person = Person()\n",
    "person.put('book','a')\n",
    "adam = Person()\n",
    "adam.put('key','adam')\n",
    "print(adam.bag, adam.name)\n",
    "print(person.bag, person.name)\n",
    "\n",
    "# 속성과 메서드 이름을 찾는 순서\n",
    "# 파이썬에서는 속성, 메서드를 찾을 때 인스턴스, 클래스순으로 찾는다.\n",
    "# adam.bag, eve.bag도 문제 없이 작동한다.\n",
    "# 일단 보기에는 인스턴스속성을 찾는 거 같지만 실제로는 클래스 속성을 찾는다."
   ]
  },
  {
   "cell_type": "code",
   "execution_count": null,
   "metadata": {},
   "outputs": [],
   "source": [
    "# __dict_: 인스턴스 속성인지 클래스 속성인지 dictionary형태로 출력하는 함수\n",
    "# 클래스.__dict__ or 인스턴스.__dict__\n",
    "print(adam.__dict__)\n",
    "print(Person.__dict__)"
   ]
  },
  {
   "cell_type": "markdown",
   "metadata": {},
   "source": [
    "##### 클래스속성을 찾는 순서\n",
    "<img src = './images/14.클래스_class_11.png' width = 400 height = 300>"
   ]
  },
  {
   "cell_type": "code",
   "execution_count": 63,
   "metadata": {},
   "outputs": [
    {
     "name": "stdout",
     "output_type": "stream",
     "text": [
      "['key'] maria\n",
      "['book'] james\n"
     ]
    }
   ],
   "source": [
    "# 2. 인스턴스속성 사용하기\n",
    "# bag 속성을 여러사람이 공유하지 않으려면 클래스 속성이 아니라 인스턴스 속성으로 정의해야 함\n",
    "class Person:\n",
    "    def __init__(self):\n",
    "        self.bag = []\n",
    "    def put (self, item, name):\n",
    "        self.bag.append(item)\n",
    "        self.name = name\n",
    "james = Person()\n",
    "james.put('book', 'james')\n",
    "maria = Person()\n",
    "maria.put('key', 'maria')\n",
    "print(maria.bag, maria.name)\n",
    "print(james.bag, james.name)"
   ]
  },
  {
   "cell_type": "code",
   "execution_count": 76,
   "metadata": {},
   "outputs": [
    {
     "name": "stdout",
     "output_type": "stream",
     "text": [
      "대한민국\n",
      "Korea\n",
      "Republic of Korea\n",
      "bd\n",
      "['_Korean__country', '__class__', '__country__', '__delattr__', '__dict__', '__dir__', '__doc__', '__eq__', '__format__', '__ge__', '__getattribute__', '__gt__', '__hash__', '__init__', '__init_subclass__', '__le__', '__lt__', '__module__', '__ne__', '__new__', '__reduce__', '__reduce_ex__', '__repr__', '__setattr__', '__sizeof__', '__str__', '__subclasshook__', '__weakref__', 'country', 'getKorean', 'setKorean']\n",
      "asd\n",
      "asd\n"
     ]
    }
   ],
   "source": [
    "# 3. 비공개 클래스속성 사용하기(캡슐화)\n",
    "# 클래스속성도 인스턴스속성처럼 비공개속성으로 만들 수 있다. 클래스속성을 만들 때 \n",
    "# '__속성명'과 같이 __로 시작하면 비공개 속성이 된다. 따라서 이 비공개 속성은 클래스 안에서만\n",
    "# 접근할 수 있고 클래스 밖에서는 접근할 수 없다.\n",
    "\n",
    "\n",
    "# 파이썬에서는 자바와 같이 완벽한 캡슐화가 불가능하다. 캡슐화는 '__속성__' 처럼 언더바 2개로\n",
    "# 시작하고 끝나는 변수는 캡슐화와 상관이 없다. 즉 '__속성' 은 비공개 속성이고 \n",
    "# __속성__ 은 공개속성이다.\n",
    "\n",
    "class Korean :\n",
    "    country = '대한민국'\n",
    "    __country = 'Republic of Korea'\n",
    "    __country__ = 'Korea'\n",
    "    \n",
    "    def getKorean(self) :\n",
    "        return self.__country\n",
    "    def setKorean(self, a):\n",
    "        self.__country = a\n",
    "\n",
    "kor = Korean()\n",
    "print(kor.country)\n",
    "print(kor.__country__)\n",
    "# print(kor.__country) 'Korean' object has no attribute '__country'\n",
    "#kor.__country = 'dd' # 수정도 안됨, __country를 새로 만들어서 저장하는데 이게 어디인가\n",
    "print(kor.getKorean())\n",
    "kor.setKorean('bd')\n",
    "print(kor.getKorean())\n",
    "print(dir(Korean))\n",
    "## __country는 내부적으도 _Korean__country로 저장되어 있다.\n",
    "# get, set을 하지 않아도 _Korean__country로 접근이 가능하다.\n",
    "kor._Korean__country = 'asd'\n",
    "print(kor.getKorean())\n",
    "print(kor._Korean__country)"
   ]
  },
  {
   "cell_type": "code",
   "execution_count": 77,
   "metadata": {},
   "outputs": [
    {
     "name": "stdout",
     "output_type": "stream",
     "text": [
      "dd\n"
     ]
    }
   ],
   "source": [
    "# 완벽한 캡슐화가 불가능하다는 의미는 비공개속성변수'_클래스명__속성명'으로 접근이 가능하다.\n",
    "## __country는 내부적으도 _Korean__country로 저장되어 있다.\n",
    "# get, set을 하지 않아도 _Korean__country로 접근이 가능하다.\n",
    "\n",
    "kor._Korean__country = 'asd'\n",
    "print(kor.getKorean())\n",
    "print(kor._Korean__country)"
   ]
  },
  {
   "cell_type": "markdown",
   "metadata": {},
   "source": [
    "## 7. 다형성\n",
    "부모클래스로부터 상속받은 메서드들을 자식 클래스에서 재정의하는 것을 말한다."
   ]
  },
  {
   "cell_type": "code",
   "execution_count": 82,
   "metadata": {},
   "outputs": [
    {
     "name": "stdout",
     "output_type": "stream",
     "text": [
      "통화가능\n",
      "폴더:통화 가능\n",
      "카메라+통화 가능\n"
     ]
    }
   ],
   "source": [
    "class Phone:\n",
    "    def call(self):\n",
    "        print('통화가능')\n",
    "class FolderPhone(Phone):\n",
    "    def call(self):\n",
    "        print('폴더:통화 가능')\n",
    "class CameraPhone(Phone):\n",
    "    def call(self):\n",
    "        print('카메라+통화 가능')\n",
    "phone = Phone()\n",
    "phone.call()\n",
    "phone1 = FolderPhone()\n",
    "phone1.call()\n",
    "phone2 = CameraPhone()\n",
    "phone2.call()"
   ]
  },
  {
   "cell_type": "code",
   "execution_count": 83,
   "metadata": {},
   "outputs": [
    {
     "data": {
      "text/plain": [
       "['__class__',\n",
       " '__delattr__',\n",
       " '__dir__',\n",
       " '__doc__',\n",
       " '__eq__',\n",
       " '__format__',\n",
       " '__ge__',\n",
       " '__getattribute__',\n",
       " '__gt__',\n",
       " '__hash__',\n",
       " '__init__',\n",
       " '__init_subclass__',\n",
       " '__le__',\n",
       " '__lt__',\n",
       " '__ne__',\n",
       " '__new__',\n",
       " '__reduce__',\n",
       " '__reduce_ex__',\n",
       " '__repr__',\n",
       " '__setattr__',\n",
       " '__sizeof__',\n",
       " '__str__',\n",
       " '__subclasshook__']"
      ]
     },
     "execution_count": 83,
     "metadata": {},
     "output_type": "execute_result"
    }
   ],
   "source": [
    "dir(object)\n",
    "\"\"\"\n",
    "'__메소드명__' -> 매직메소드\n",
    "\n",
    "객체생성시 실행 순서  = __new__ -> __init__\n",
    "\n",
    "\n",
    "\"\"\""
   ]
  },
  {
   "cell_type": "code",
   "execution_count": 88,
   "metadata": {},
   "outputs": [
    {
     "ename": "TypeError",
     "evalue": "expected 0 arguments, got 1",
     "output_type": "error",
     "traceback": [
      "\u001b[1;31m---------------------------------------------------------------------------\u001b[0m",
      "\u001b[1;31mTypeError\u001b[0m                                 Traceback (most recent call last)",
      "\u001b[1;32m<ipython-input-88-556501400eee>\u001b[0m in \u001b[0;36m<module>\u001b[1;34m\u001b[0m\n\u001b[1;32m----> 1\u001b[1;33m \u001b[0mprint\u001b[0m\u001b[1;33m(\u001b[0m\u001b[0mphone\u001b[0m\u001b[1;33m.\u001b[0m\u001b[0m__repr__\u001b[0m\u001b[1;33m(\u001b[0m\u001b[1;34m'a'\u001b[0m\u001b[1;33m)\u001b[0m\u001b[1;33m)\u001b[0m\u001b[1;33m\u001b[0m\u001b[1;33m\u001b[0m\u001b[0m\n\u001b[0m",
      "\u001b[1;31mTypeError\u001b[0m: expected 0 arguments, got 1"
     ]
    }
   ],
   "source": [
    "pr"
   ]
  },
  {
   "cell_type": "code",
   "execution_count": null,
   "metadata": {},
   "outputs": [],
   "source": []
  }
 ],
 "metadata": {
  "kernelspec": {
   "display_name": "Python 3",
   "language": "python",
   "name": "python3"
  },
  "language_info": {
   "codemirror_mode": {
    "name": "ipython",
    "version": 3
   },
   "file_extension": ".py",
   "mimetype": "text/x-python",
   "name": "python",
   "nbconvert_exporter": "python",
   "pygments_lexer": "ipython3",
   "version": "3.7.6"
  }
 },
 "nbformat": 4,
 "nbformat_minor": 4
}
