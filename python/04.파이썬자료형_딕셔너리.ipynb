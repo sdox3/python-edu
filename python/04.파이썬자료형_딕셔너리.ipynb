{
 "cells": [
  {
   "cell_type": "markdown",
   "metadata": {},
   "source": [
    "### 딕셔너리(Dictionary)\n",
    "\n",
    "파이썬에서의 딕셔너리자료형이란 Key와 Value로 대용관계를 나타낼 수 있는 자료형을 말한다. Java에서의 Map과 유사한 자료형으로서 이러한 대용관계를 나타내는 것을 연관배열()Association array) 또는 해시(Hash)라고 한다.\n",
    "\n",
    "파이썬에서는 이러한 자료형을 Dictionanary라고 하는데 딕셔너리는 리스트나 튜플처럼 순차적(Sequential)으로 해당 요소값을 처리하지 않고 Key를 통해 값을 처리한다.\n",
    "\n",
    "1. 딕셔너리의 선언은 빈 <code>{}</code>로 선언한다.\n",
    "    ex) a = {key1:value1, key2:value2}\n",
    "2. 딕셔너리는 immutable한 Key와 mutable한 value로 맵핑되어 있는 순서가 없는 집합이다.\n",
    "3. Key값으로는 immutable한 값은 사용할 수 있지만 mutable한 객체는 사용할 수 없다.\n",
    "4. value는 중복이 가능하지만 Key는 중복될 수 없다. 만약 중복이 된다면 마지막 value가 key에 설정된다.\n",
    "5. 순서가 없기 때문에 인덱스로 접근할 수 없고 key로 전급할 수 있다.\n",
    "6. mutable한 객체이므로 key에 접근할 수 있으면 수정이 가능하다.\n",
    "7. 리스트안에 리스트나 튜플, 튜플안에 리스트나 튜플의 값을 key와 value로 정의하면 dictionarny로 변형할 수 있다.\n"
   ]
  },
  {
   "cell_type": "markdown",
   "metadata": {},
   "source": [
    "#### 1. 딕셔너리 선언\n",
    " "
   ]
  },
  {
   "cell_type": "code",
   "execution_count": 14,
   "metadata": {},
   "outputs": [
    {
     "name": "stdout",
     "output_type": "stream",
     "text": [
      "<class 'dict'>\n",
      "<class 'dict'>\n",
      "{1: 5, 2: 4}\n",
      "{(1, 5): 5, (3, 3): 'a', (1, 2): [1, 2, 4]}\n",
      "{True: 5, False: 6}\n"
     ]
    }
   ],
   "source": [
    "# 1. {} 선언\n",
    "a = {}\n",
    "print(type(a))\n",
    "\n",
    "# 2. 함수를 통한 선언\n",
    "d = dict()\n",
    "print(type(d))\n",
    "\n",
    "# 3. 요소를 가진 딕셔너리 선언\n",
    "\n",
    "d = {1:5, 2:4}\n",
    "print(d)\n",
    "\n",
    "# 4. 튜플 선언\n",
    "c = {(1,5):5,(3,3):'a',(1,2):[1,2,4]}\n",
    "\n",
    "print(c)\n",
    "\n",
    "# 5. float 선언\n",
    "f = {3.6:5, 'abc':100}\n",
    "\n",
    "# 6. boolean선언\n",
    "\n",
    "g = {True : 5 , False : 6}\n",
    "print(g)"
   ]
  },
  {
   "cell_type": "code",
   "execution_count": null,
   "metadata": {},
   "outputs": [],
   "source": [
    "# B. mutable\n",
    "\n",
    "# a = {{1,3}:'a',{5,6}:'b'} unhashable type: 'set'\n",
    "\n",
    "# {} 로 선언하는 것은 딕셔너리와 set이 있다.\n",
    "# set의 경우는 1,2,3,4 와 같이 값만을 가진다. set은 key로 못쓰는 듯\n",
    "# b = {[1,3]:'a',[5,6]:'b'} TypeError: unhashable type: 'list'\n",
    "\n",
    "# c = {{'key':'value'}:'a', {'key':'values'}:'b'} TypeError: unhashable type: 'dict'\n",
    "\n",
    "# 각각 내부의 항목을 수정할 수 있기 때문에 key값으로는 부적절하다\n",
    "# 반대로 문자열과 튜플은 수정이 불가능하기 때문에 키값으로 사용된다."
   ]
  },
  {
   "cell_type": "code",
   "execution_count": null,
   "metadata": {},
   "outputs": [],
   "source": [
    "# key가 중복될 경우 마지막에 선언된 키의 값이 호출된다.\n",
    "a = {'key':1000,'key':2000}\n",
    "print(a)"
   ]
  },
  {
   "cell_type": "code",
   "execution_count": 22,
   "metadata": {
    "scrolled": true
   },
   "outputs": [
    {
     "name": "stdout",
     "output_type": "stream",
     "text": [
      "89\n"
     ]
    }
   ],
   "source": [
    "# 딕셔너리 접근하기\n",
    "a = {1:90,'b':88,3:91,4:100}\n",
    "\n",
    "# 딕셔너리는 순서가 없기 때문에 위치에 따른 인덱스를 사용할 수 없다.\n",
    "# 딕셔너리에 접근하려면 key값을 통해 접근해야 한다.\n",
    "a['b']\n",
    "b = {'name':'소향',\"국어\":90,'영어':93,\"수학\":89}\n",
    "print(b['수학'])"
   ]
  },
  {
   "cell_type": "markdown",
   "metadata": {},
   "source": [
    "#### 2. 딕셔너리 추가/삭제/수정"
   ]
  },
  {
   "cell_type": "code",
   "execution_count": 26,
   "metadata": {},
   "outputs": [
    {
     "name": "stdout",
     "output_type": "stream",
     "text": [
      "{1: 'a', 2: 'b'}\n",
      "{1: 'a', 2: 'b', 'name': '소향', 3: [1, 2, 3, ['x', 'y', 'z']], 'address': {'더조은', '종로구', '아카데미', '서울'}}\n"
     ]
    }
   ],
   "source": [
    "# 1. 딕셔너리 추가\n",
    "\n",
    "a = {1:'a'}\n",
    "a[2] = 'b'\n",
    "a['name'] ='소향'\n",
    "\n",
    "\n",
    "a[3] = [1,2,3,['x','y','z']]\n",
    "\n",
    "a['address'] = {'서울','종로구','더조은','아카데미'}\n",
    "\n",
    "print(a)\n"
   ]
  },
  {
   "cell_type": "code",
   "execution_count": 28,
   "metadata": {
    "scrolled": true
   },
   "outputs": [
    {
     "name": "stdout",
     "output_type": "stream",
     "text": [
      "{1: 'a', 2: 'b', 'name': '소향', 3: [1, 2, 3, ['x', 'y', 'z']]}\n"
     ]
    }
   ],
   "source": [
    "# 2. 딕셔너리 삭제\n",
    "# del a[10] KeyError 키가 없을 경우 에러 발생\n",
    "del a['address']\n",
    "print(a)"
   ]
  },
  {
   "cell_type": "code",
   "execution_count": 29,
   "metadata": {},
   "outputs": [
    {
     "name": "stdout",
     "output_type": "stream",
     "text": [
      "{1: 'c', 2: 'b', 'name': '소향', 3: [1, 2, 3, ['x', 'y', 'z']]}\n"
     ]
    }
   ],
   "source": [
    "# 3. 딕셔너리 수정\n",
    "a[1] ='c'\n",
    "print(a)"
   ]
  },
  {
   "cell_type": "markdown",
   "metadata": {},
   "source": [
    "#### 3. 딕셔너리 사용하기"
   ]
  },
  {
   "cell_type": "code",
   "execution_count": 32,
   "metadata": {},
   "outputs": [
    {
     "name": "stdout",
     "output_type": "stream",
     "text": [
      "{'홍길동': 90, '손흥민': 70, '홍길순': 95}\n",
      "70\n"
     ]
    }
   ],
   "source": [
    "# key를 통해서 value얻기\n",
    "\n",
    "grade = {'홍길동':90,'손흥민':80,'손흥민':70,'홍길순':95}\n",
    "print(grade)\n",
    "\n",
    "print(grade['손흥민'])\n",
    "\n",
    "\"\"\"\n",
    "리스트나 튜플, 문자열은 요소값을 구할 때 인덱싱이나 슬라이싱을 이용하지만 \n",
    "딕셔너리는 key값을 이용해서 값을 구하는 방법밖에 없다.\n",
    "\n",
    "딕셔너리를 만들 때 주의사항\n",
    "1. key는 고유한 값이야 하지만 중복오류는 발생하지 않는다. 하지만 key로\n",
    "    값을 구할 경우에는 맨 뒤에 정의한 값만 가져올 수 있다.\n",
    "2. key에는 list는 mutable객체는 사용할 수 없으나 table 같은 immutable객체는\n",
    "   사용할 수 있다.\n",
    "\"\"\"\n",
    "\n"
   ]
  },
  {
   "cell_type": "markdown",
   "metadata": {},
   "source": [
    "#### 4. 딕셔너리 관련함수\n",
    "\n",
    "* keys() : key의 목록을 반환\n",
    "* values() : Value의 목록을 반환\n",
    "* items() : key의 Value를 동시에 반환\n",
    "* get() : Key로 Value를 가져오기 a.get(key, default=None, /)\n",
    "* clear() : 딕셔너리 클리어\n",
    "* update() : 여러개의 값을 일괄로 수정하기\n",
    "* copy() : 딕셔너리를 복사\n",
    "\n",
    "* in() : 해당 key의 유무를 반환하기 "
   ]
  },
  {
   "cell_type": "code",
   "execution_count": null,
   "metadata": {},
   "outputs": [],
   "source": [
    "d = {'홍길동':90,'홍길순':95,'손흥민':80}\n",
    "\n",
    "# 딕셔너리 객체는 리스트로 구성되지만 리스트에서 사용되는 함수를 사용할 수 없다.\n",
    "# a = d.values() , a[0]을 할시 리스트 형식이지만 리스트가 아니여서 에러가 남\n",
    "print(d.keys())\n",
    "print(d.values())\n",
    "print(d.items())\n",
    "\n",
    "# d['홍길동']과 차이점은 키값으로 호출할 시 키값이 없으면 err가 뜨지만\n",
    "# get함수를 써서 호출하면 default값(None)이 호출된다.\n",
    "print(d.get('홍길동d','키 값을 찾지 못함'))"
   ]
  },
  {
   "cell_type": "code",
   "execution_count": null,
   "metadata": {},
   "outputs": [],
   "source": [
    "# in, not in() : 해당 키 값이 딕셔너리에 있는지 여부\n",
    "print('소향' not in d)\n",
    "print('소향' in d)"
   ]
  },
  {
   "cell_type": "code",
   "execution_count": null,
   "metadata": {},
   "outputs": [],
   "source": [
    "# dir() : 이 함수는 특정 객체를 인자로 넣어 주면 해당 객체가 \n",
    "#         어떤 변수와 어떤 메서드를 가지고 있는지 리턴\n",
    "\n",
    "# print(dir({}),'\\n')\n",
    "# help({})"
   ]
  },
  {
   "cell_type": "code",
   "execution_count": null,
   "metadata": {},
   "outputs": [],
   "source": [
    "# update : 여러개의 값을 동시에 일괄 수정\n",
    "# 다른 딕셔너리를 통해 추가, 수정할 떄 사용하자\n",
    "# print(dir({}))\n",
    "\n",
    "d = {'홍길동':90,'홍길순':95,'손흥민':80}\n",
    "d['홍길동'] = 99\n",
    "print(d)\n",
    "\n",
    "d.update({'홍길동':100,'손흥민':100,'소향':50})\n",
    "print(d)"
   ]
  },
  {
   "cell_type": "code",
   "execution_count": null,
   "metadata": {},
   "outputs": [],
   "source": [
    "# copy()\n",
    "# 1) shallow copy - 주소를 복사하여 참조하기 때문에 하나를 수정하면 다른쪽도 변경됨\n",
    "d = {'홍길동':[1,2,3],'홍길순':95,'손흥민':80}\n",
    "d1 = d.copy()\n",
    "print(d1,'\\n' ,d)\n",
    "\n",
    "print(type(d1['홍길동']))\n",
    "d1['홍길동'].append(4)\n",
    "print(d1,'\\n' ,d)\n",
    "print(id(d['홍길동']))\n",
    "print(id(d1['홍길동']))"
   ]
  },
  {
   "cell_type": "code",
   "execution_count": null,
   "metadata": {},
   "outputs": [],
   "source": [
    "# 2) deepcopy\n",
    "import copy\n",
    "\"\"\"\n",
    "copy?\n",
    "\n",
    "Type:        module\n",
    "대충 ananconda3 에 있다는 내용\n",
    "Docstring:  \n",
    "Generic (shallow and deep) copying operations.\n",
    "\n",
    "Interface summary:\n",
    "\n",
    "        import copy\n",
    "\n",
    "        x = copy.copy(y)        # make a shallow copy of y\n",
    "        x = copy.deepcopy(y)    # make a deep copy of y\n",
    "\"\"\"\n",
    "\n",
    "d = {'홍길동':[1,2,3],'홍길순':95,'손흥민':80}\n",
    "d1 = copy.deepcopy(d)\n",
    "\n",
    "d1['홍길동'].append('aaa')\n",
    "print(d)\n",
    "print(d1)\n",
    "\n",
    "print(id(d['홍길동']))\n",
    "print(id(d1['홍길동']))"
   ]
  },
  {
   "cell_type": "code",
   "execution_count": null,
   "metadata": {},
   "outputs": [],
   "source": [
    "# pprint : dictionary를 읽기 쉽게 출력해주는 모듈\n",
    "from pprint import pprint as pp\n",
    "\n",
    "a = {1:'a'}\n",
    "a[2] = 'b'\n",
    "a['name'] ='소향'\n",
    "\n",
    "\n",
    "a[3] = [1,2,3,['x','y','z']]\n",
    "\n",
    "a['address'] = {'서울','종로구','더조은','아카데미'}\n",
    "\n",
    "pp(a)"
   ]
  },
  {
   "cell_type": "code",
   "execution_count": 117,
   "metadata": {},
   "outputs": [
    {
     "name": "stdout",
     "output_type": "stream",
     "text": [
      "[['홍길동', '서울'], ['홍길순', '부산']]\n",
      "<class 'dict'>\n",
      "{'홍길동': '서울', '홍길순': '부산'}\n",
      "[('홍길동', '서울'), ('홍길순', '부산')]\n",
      "<class 'dict'>\n",
      "{'홍길동': '서울', '홍길순': '부산'}\n"
     ]
    }
   ],
   "source": [
    "# dict(x) : 매개값으로 주어진 x를 딕셔너리자료형으로 변환, 키:벨류 형식으로 구성되어야함\n",
    "name_addr = [['홍길동','서울'],['홍길순','부산']] # 2차원배열을 가진 리스트\n",
    "print(name_addr)\n",
    "a = dict(name_addr)\n",
    "print(type(a))\n",
    "print(a)\n",
    "name_addr = [('홍길동','서울'),('홍길순','부산')] \n",
    "print(name_addr)\n",
    "a = dict(name_addr)\n",
    "print(type(a))\n",
    "print(a)"
   ]
  },
  {
   "cell_type": "markdown",
   "metadata": {},
   "source": [
    "#### 5. 연습문제"
   ]
  },
  {
   "cell_type": "code",
   "execution_count": 73,
   "metadata": {},
   "outputs": [
    {
     "name": "stdout",
     "output_type": "stream",
     "text": [
      "{'A': 90, 'C': 70} 80\n"
     ]
    }
   ],
   "source": [
    "# 1. 딕셔너리 a에서 B에 해당되는 값을 추출하고 삭제\n",
    "a = {'A':90,'B':80,'C':70}\n",
    "b = a.pop('B')\n",
    "print(a,b)"
   ]
  },
  {
   "cell_type": "code",
   "execution_count": 78,
   "metadata": {},
   "outputs": [
    {
     "name": "stdout",
     "output_type": "stream",
     "text": [
      "70 90\n"
     ]
    }
   ],
   "source": [
    "# 2. 딕셔너리 a의 value중에서 최소/최대 값을 출력\n",
    "print(max(a), min(a))\n",
    "print(a[max(a)], a[min(a)])"
   ]
  },
  {
   "cell_type": "code",
   "execution_count": 121,
   "metadata": {},
   "outputs": [
    {
     "name": "stdout",
     "output_type": "stream",
     "text": [
      "[('A', 90), ('B', 80), ('C', 70)]\n",
      "{'A': 90, 'B': 80, 'C': 70}\n",
      "[('A', 90), ('B', 80), ('C', 70)]\n"
     ]
    }
   ],
   "source": [
    "# 3. 딕셔너리 a를 다음과 같은 리스트로 변환 list(), list로 변환된 변수를 dic으로 변환\n",
    "a = {'A':90,'B':80,'C':70}\n",
    "b = list(zip(a.keys(),a.values()))\n",
    "print(b)\n",
    "c = dict(b)\n",
    "print(c)\n",
    "b = list(a.items())\n",
    "print(b)\n",
    "\n"
   ]
  },
  {
   "cell_type": "code",
   "execution_count": null,
   "metadata": {},
   "outputs": [],
   "source": []
  }
 ],
 "metadata": {
  "kernelspec": {
   "display_name": "Python 3",
   "language": "python",
   "name": "python3"
  },
  "language_info": {
   "codemirror_mode": {
    "name": "ipython",
    "version": 3
   },
   "file_extension": ".py",
   "mimetype": "text/x-python",
   "name": "python",
   "nbconvert_exporter": "python",
   "pygments_lexer": "ipython3",
   "version": "3.7.4"
  }
 },
 "nbformat": 4,
 "nbformat_minor": 2
}
