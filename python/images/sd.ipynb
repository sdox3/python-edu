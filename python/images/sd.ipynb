{
 "cells": [
  {
   "cell_type": "markdown",
   "metadata": {},
   "source": [
    "### 함수(Function)\n",
    "\n",
    "함수란? 프로그램을 작성하다 보면 동일한 내용을 반복해서 작성하는 경우가 있는데 이런 반복적인 코드들을 함수로 선언하고 필요할 때 마다 재사용할 수 있도록 하기 위해서 사용한다.\n",
    "\n",
    "파이썬은 함수(function)라는 기능을 제공하는 데 특정용도의 코드를 한 곳에 모아 놓은 것을 의미하는 데 \n",
    "print(), input()등이 파이썬에서 내장되어 있는 내장함수이고 사용자가 정의한 사용자함수가 있다.\n",
    "\n",
    "#### 1. 함수사용의 이점\n",
    "1. 코드의 사용목적에 따라 구분할 수 있다.\n",
    "2. 코드의 재사용을 할 수 있다.\n",
    "3. 코딩의 실수를 줄일 수 있게 된다.\n",
    "\n",
    "#### 2.  함수의 선언방법\n",
    "\n",
    "><code>def 예약어</code>를 사용한다.<br>\n",
    "def 함수명(arg1...argn):<br>\n",
    "    실행할 문장1<br>\n",
    "    실행할 문장n\n",
    "\n",
    ">* <code>def</code>라는 키워드는 함수를 정의하는데 사용되는 예약어\n",
    "* 함수명은 임의로 사용자가 부여한다.\n",
    "* 함수의 호출은 <code>def()</code> 또는 <code>def(arg1...)</code>의 형식으로 호출한다.\n",
    "* 매개변수와 인수 : 매개변수(prameter)와 인자(인수, argument)라는 단어는 혼용해서 사용되는 데 매개변수는 함수에 입력으로 전달되는 값을 받는 변수이고 인수는 함수를 호출할 떄 전달하는 값을 말한다. \n",
    "\n",
    "\n",
    "#### 3. 함수의 호출방법 및 전달방법\n",
    ">함수의 호출은 <code>함수명()</code>의 형태로 호출한다.\n",
    "<img src=\"./images/12.함수_function_01.png\" width=\"500\" height=\"300\">\n",
    "<img src=\"./images/12.함수_function_02.png\" width=\"500\" height=\"300\">\n",
    "\n",
    "#### 4. 반환값이 있는 함수(return)\n",
    ">* 함수는 반환값이 있는 함수와 없는 함수가 있다.\n",
    ">* 반환값이 있는 경우는 반드시 값을 반환해 주는 명령어인 <code>return</code>예약어를 사용해야 한다.\n",
    "<img src=\"./images/12.함수_function_02_01.png\" width=\"500\" height=\"300\">"
   ]
  },
  {
   "cell_type": "code",
   "execution_count": 9,
   "metadata": {},
   "outputs": [
    {
     "name": "stdout",
     "output_type": "stream",
     "text": [
      "<class 'function'>\n",
      "<class 'builtin_function_or_method'>\n",
      "Hello, Python!!!\n"
     ]
    }
   ],
   "source": [
    "# 1. 함수정의하기 : \"Hello, Python!!\"이라는 문자열을 출력 \n",
    "def hello():\n",
    "    print(\"Hello, Python!!!\")\n",
    "    \n",
    "print(type(hello)); print(type(print))\n",
    "\n",
    "# 2. 함수호출하기\n",
    "hello()"
   ]
  },
  {
   "cell_type": "code",
   "execution_count": 15,
   "metadata": {},
   "outputs": [
    {
     "name": "stdout",
     "output_type": "stream",
     "text": [
      "7\n",
      "None\n",
      "7\n",
      "Hello?\n",
      "30\n"
     ]
    }
   ],
   "source": [
    "# 3. 함수의 기본사용\n",
    "# 1) 반환값이 없는 함수\n",
    "\n",
    "def add(a, b):\n",
    "    print(a+b)\n",
    "\n",
    "val = add(3,4)    \n",
    "print(val)    \n",
    "    \n",
    "# 2) 반환값이 있는 함수\n",
    "def add_return(a, b):\n",
    "    return a + b\n",
    "\n",
    "val = add_return(3, 4)\n",
    "print(val)\n",
    "\n",
    "# 3) 입력값이 없는 함수\n",
    "def say():\n",
    "    print('Hello?')\n",
    "    \n",
    "say()\n",
    "\n",
    "# 4) 입력값이 있는 함수\n",
    "def sum(x, y):\n",
    "    return x + y\n",
    "\n",
    "print(sum(10, 20))"
   ]
  },
  {
   "cell_type": "code",
   "execution_count": 22,
   "metadata": {},
   "outputs": [
    {
     "name": "stdout",
     "output_type": "stream",
     "text": [
      "5\n",
      "-5\n",
      "\n",
      "5\n",
      "5\n"
     ]
    }
   ],
   "source": [
    "# 4. 매개변수를 지정해서 함수 호출하기\n",
    "# 장점: 매개변수의 순서와 상관없이 자유롭게 호출이 가능\n",
    "def minus(a, b):\n",
    "    return a - b\n",
    "\n",
    "print(minus(10, 5))\n",
    "print(minus(5, 10))\n",
    "print()\n",
    "\n",
    "print(minus(a=10, b=5))\n",
    "print(minus(b=5, a=10))\n",
    "\n",
    "# print(minus(x=10, y=5)) # TypeError : unexpected keyword argument 'x'\n",
    "# 매개변수이름을 지정할 때 반드시 함수의 매개변수이름과 동일해야 한다."
   ]
  },
  {
   "cell_type": "markdown",
   "metadata": {},
   "source": [
    "##### 5. 함수의 DocString\n",
    "\n",
    "파이썬에서는 함수의 콜론(:) 바로 다음 줄에 <code>큰 따옴표 3개 \"\"\"</code>로 문자열을 입력하면 함수에 설명을 정의할 수 있다. 이런 방식의 문자여을 <code>DocStrings, Documentation Strings, 문서화 문자열</code>일고 한다. 주의할 점은 DocStrings의 위에 다른 코드가 오면 않된다.\n",
    "    \n",
    "DocStrings은 작은 따옴표, 큰 따옴표 또는 작은 따옴표 3개로 만들어 되지만 파이썬코딩스타일가이드(PEP8)에서는 큰 따옴표 3개를 권장한다.\n",
    "    \n",
    "DocStrings은 함수의 사용방법만 기록할 뿐이고 함수를 호출해도 출력되지 않는다. DocStrings를 출력하려면 print(함수.__doc__)와 같이 __doc__함수를 호출하면 된다. 또는 help(함수)함수를 사용하면 도움말 형태로 출력해 준다.    "
   ]
  },
  {
   "cell_type": "code",
   "execution_count": 49,
   "metadata": {},
   "outputs": [
    {
     "name": "stdout",
     "output_type": "stream",
     "text": [
      "30\n",
      "\n",
      "        이 함수는 두개의 변수를 전달받아서 \n",
      "        결과를 반환해 주는 함수 입니다.\n",
      "    \n",
      "Help on function add in module __main__:\n",
      "\n",
      "add(a, b)\n",
      "    이 함수는 두개의 변수를 전달받아서 \n",
      "    결과를 반환해 주는 함수 입니다.\n",
      "\n"
     ]
    }
   ],
   "source": [
    "def add(a, b):\n",
    "    \"\"\"\n",
    "        이 함수는 두개의 변수를 전달받아서 \n",
    "        결과를 반환해 주는 함수 입니다.\n",
    "    \"\"\"\n",
    "    return a + b\n",
    "\n",
    "value = add(10, 20)\n",
    "print(value)\n",
    "\n",
    "# 함수의 docstring을 출력해 주는 함수(__doc__)\n",
    "print(add.__doc__)\n",
    "help(add)"
   ]
  },
  {
   "cell_type": "code",
   "execution_count": 46,
   "metadata": {},
   "outputs": [
    {
     "name": "stdout",
     "output_type": "stream",
     "text": [
      "Help on function add in module __main__:\n",
      "\n",
      "add(a, b)\n",
      "    이 함수는 두개의 변수를 전달받아서 \n",
      "    결과를 반환해 주는 함수 입니다.\n",
      "\n"
     ]
    }
   ],
   "source": [
    "help(add)"
   ]
  },
  {
   "cell_type": "markdown",
   "metadata": {},
   "source": [
    "##### 6. 여러개의 값을 반환하는 방법\n",
    "<img src=\"./images/12.함수_function_03.png\" width=\"500\" height=\"300\">"
   ]
  },
  {
   "cell_type": "code",
   "execution_count": 54,
   "metadata": {},
   "outputs": [
    {
     "name": "stdout",
     "output_type": "stream",
     "text": [
      "(30, -10, 200, 0.5)\n",
      "<class 'tuple'>\n",
      "30 -10 30 0.5\n"
     ]
    },
    {
     "ename": "ValueError",
     "evalue": "not enough values to unpack (expected 5, got 4)",
     "output_type": "error",
     "traceback": [
      "\u001b[1;31m---------------------------------------------------------------------------\u001b[0m",
      "\u001b[1;31mValueError\u001b[0m                                Traceback (most recent call last)",
      "\u001b[1;32m<ipython-input-54-80b59969811b>\u001b[0m in \u001b[0;36m<module>\u001b[1;34m\u001b[0m\n\u001b[0;32m      9\u001b[0m \u001b[0mprint\u001b[0m\u001b[1;33m(\u001b[0m\u001b[0mx\u001b[0m\u001b[1;33m,\u001b[0m \u001b[0my\u001b[0m\u001b[1;33m,\u001b[0m \u001b[0mx\u001b[0m\u001b[1;33m,\u001b[0m \u001b[0ma\u001b[0m\u001b[1;33m)\u001b[0m\u001b[1;33m\u001b[0m\u001b[1;33m\u001b[0m\u001b[0m\n\u001b[0;32m     10\u001b[0m \u001b[1;33m\u001b[0m\u001b[0m\n\u001b[1;32m---> 11\u001b[1;33m \u001b[0mx\u001b[0m\u001b[1;33m,\u001b[0m\u001b[0my\u001b[0m\u001b[1;33m,\u001b[0m\u001b[0mz\u001b[0m\u001b[1;33m,\u001b[0m\u001b[0ma\u001b[0m\u001b[1;33m,\u001b[0m\u001b[0mb\u001b[0m \u001b[1;33m=\u001b[0m \u001b[0mmultiReturn\u001b[0m\u001b[1;33m(\u001b[0m\u001b[1;36m10\u001b[0m\u001b[1;33m,\u001b[0m\u001b[1;36m20\u001b[0m\u001b[1;33m)\u001b[0m\u001b[1;33m\u001b[0m\u001b[1;33m\u001b[0m\u001b[0m\n\u001b[0m",
      "\u001b[1;31mValueError\u001b[0m: not enough values to unpack (expected 5, got 4)"
     ]
    }
   ],
   "source": [
    "# 함수에서 여러개의 값을 반환하기\n",
    "def multiReturn(a, b):\n",
    "    return a+b, a-b, a*b, a/b\n",
    "\n",
    "print(multiReturn(10,20)) # 결과는 튜플형으로 리턴 된다.\n",
    "print(type(multiReturn(10,20)))\n",
    "\n",
    "x,y,z,a = multiReturn(10,20)\n",
    "print(x, y, x, a)\n",
    "\n",
    "# x,y,z,a,b = multiReturn(10,20)\n",
    "# 리턴되는 갯수와 리턴받는 변수의 갯수는 동수이어야 한다. 다를 경우에는 에러가 발생된다."
   ]
  },
  {
   "cell_type": "markdown",
   "metadata": {},
   "source": [
    "##### 7. 입력되는 매개변수가 몇개인지 모를 경우\n",
    "\n",
    ">def 함수명(<code>*args</code>): 실행문장...\n",
    "\n",
    ">def 함수명(<code><**kwargs/code>): 실행문장..."
   ]
  },
  {
   "cell_type": "code",
   "execution_count": 61,
   "metadata": {},
   "outputs": [
    {
     "name": "stdout",
     "output_type": "stream",
     "text": [
      "<class 'tuple'>\n",
      "2\n",
      "3\n",
      "<class 'tuple'>\n",
      "10\n",
      "55\n"
     ]
    }
   ],
   "source": [
    "# 1. *args : 입력되는 값이 여러개 일 경우 정의하는 매개변수이다.\n",
    "# 1~100까지 합계 또는 1000, 10000개 처럼 가변적일 때\n",
    "# args는 예약어가 아닌 변수로 처리되기 때문에 \"\"*임의의 변수명\"형태로 정의하면 된다.\n",
    "def manySum(*args):\n",
    "    print(type(args))\n",
    "    print(len(args))   \n",
    "    sum = 0\n",
    "    for i in args:\n",
    "        sum += i\n",
    "    return sum\n",
    "\n",
    "print(manySum(1,2))\n",
    "print(manySum(1,2,3,4,5,6,7,8,9,10))"
   ]
  },
  {
   "cell_type": "code",
   "execution_count": 6,
   "metadata": {},
   "outputs": [
    {
     "name": "stdout",
     "output_type": "stream",
     "text": [
      "55\n",
      "-10\n",
      "6\n",
      "0.0\n"
     ]
    }
   ],
   "source": [
    "# 실습 : 유동적으로 작동되는 계산기 함수 만들기\n",
    "# 사칙연산을 하는 계산기함수를 만들기\n",
    "def calculator(operator, *args):\n",
    "    \n",
    "    result = 0\n",
    "    \n",
    "    if (operator == '+') : \n",
    "        for i in args:\n",
    "            result += i  \n",
    "        \n",
    "    if (operator == '-') :\n",
    "        for i in args:\n",
    "            result -= i\n",
    "            \n",
    "    if (operator == '*') :\n",
    "        result = 1\n",
    "        for i in args:\n",
    "            result *= i\n",
    "        \n",
    "    if (operator == '/') :\n",
    "        resutlt = 1\n",
    "        for i in args:\n",
    "            result /= i\n",
    "           \n",
    "    return result     \n",
    "\n",
    "print(calculator('+', 1,2,3,4,5,6,7,8,9,10))\n",
    "print(calculator('-', 1,2,3,4))\n",
    "print(calculator('*', 1,2,3))\n",
    "print(calculator('/', 1,2))"
   ]
  },
  {
   "cell_type": "code",
   "execution_count": 10,
   "metadata": {},
   "outputs": [
    {
     "name": "stdout",
     "output_type": "stream",
     "text": [
      "{'a': 1}\n",
      "{'name': '소향', 'age': 41, 'address': '인천'}\n"
     ]
    },
    {
     "ename": "TypeError",
     "evalue": "kwfunc() takes 0 positional arguments but 1 was given",
     "output_type": "error",
     "traceback": [
      "\u001b[1;31m---------------------------------------------------------------------------\u001b[0m",
      "\u001b[1;31mTypeError\u001b[0m                                 Traceback (most recent call last)",
      "\u001b[1;32m<ipython-input-10-ae94cb4b2818>\u001b[0m in \u001b[0;36m<module>\u001b[1;34m\u001b[0m\n\u001b[0;32m     11\u001b[0m \u001b[0mkwfunc\u001b[0m\u001b[1;33m(\u001b[0m\u001b[0ma\u001b[0m\u001b[1;33m=\u001b[0m\u001b[1;36m1\u001b[0m\u001b[1;33m)\u001b[0m\u001b[1;33m\u001b[0m\u001b[1;33m\u001b[0m\u001b[0m\n\u001b[0;32m     12\u001b[0m \u001b[0mkwfunc\u001b[0m\u001b[1;33m(\u001b[0m\u001b[0mname\u001b[0m\u001b[1;33m=\u001b[0m\u001b[1;34m'소향'\u001b[0m\u001b[1;33m,\u001b[0m \u001b[0mage\u001b[0m\u001b[1;33m=\u001b[0m\u001b[1;36m41\u001b[0m\u001b[1;33m,\u001b[0m \u001b[0maddress\u001b[0m\u001b[1;33m=\u001b[0m\u001b[1;34m'인천'\u001b[0m\u001b[1;33m)\u001b[0m\u001b[1;33m\u001b[0m\u001b[1;33m\u001b[0m\u001b[0m\n\u001b[1;32m---> 13\u001b[1;33m \u001b[0mkwfunc\u001b[0m\u001b[1;33m(\u001b[0m\u001b[1;36m1\u001b[0m\u001b[1;33m)\u001b[0m\u001b[1;33m\u001b[0m\u001b[1;33m\u001b[0m\u001b[0m\n\u001b[0m",
      "\u001b[1;31mTypeError\u001b[0m: kwfunc() takes 0 positional arguments but 1 was given"
     ]
    }
   ],
   "source": [
    "# 2. *kwargs \n",
    "# **(kwargs)은 keyword arguments의 약어다 **kwargs는 *args와는 다르게\n",
    "# 별표(*)가 2개가 사용된다. 이 의미는 함수인수로서 **kwargs로 주어졌다면\n",
    "# key와 value한쌍으로 입력값이 전달 되면서 이 인수의 자료형은 dictionary형\n",
    "# 으로 변환되어 전달된다.\n",
    "\n",
    "def kwfunc(**kwargs):\n",
    "    print(kwargs)\n",
    "    # print(type(kwargs))\n",
    "    \n",
    "kwfunc(a=1)    \n",
    "kwfunc(name='소향', age=41, address='인천') \n",
    "\n",
    "# 에러발생 즉, **kwargs는 key와 value가 한쌍으로 전달되어야 한다.\n",
    "# kwfunc(1) # TypeError: kwfunc() takes 0 positional arguments but 1 was given"
   ]
  },
  {
   "cell_type": "code",
   "execution_count": 17,
   "metadata": {},
   "outputs": [
    {
     "name": "stdout",
     "output_type": "stream",
     "text": [
      "(1,) {'name': '소향'}\n",
      "(1, 2, 3) {'name': '소향', 'age': 41, 'address': '인천'}\n",
      "(1, 2, 3, 5, 6, 7) {'name': '소향', 'age': 41, 'address': '인천', 'blood': 'AB'}\n"
     ]
    }
   ],
   "source": [
    "# 3. *args과 **kwargs을 동시에 사용했을 때\n",
    "# 값만 있는 경우와 key=value전달 할 경우에는 정의된 순서에 맞게 전달해야 한다.\n",
    "\n",
    "def mixfunc(*args, **kwargs):\n",
    "    print(args, kwargs)\n",
    "    \n",
    "mixfunc(1, name='소향')   \n",
    "mixfunc(1,2,3, name='소향', age=41, address='인천')\n",
    "mixfunc(1,2,3,5,6,7, name='소향', age=41, address='인천', blood='AB')\n",
    "# *args와 **kwargs에 순서에 맞추어 전달되지 않았기 때문에 에러가 발생\n",
    "# SyntaxError: positional argument follows keyword argument\n",
    "# mixfunc(name='소향', age=41, address='인천', 1,2,3)"
   ]
  },
  {
   "cell_type": "markdown",
   "metadata": {},
   "source": [
    "###### 8. 전달되는 인자를 이름으로 정의하기"
   ]
  },
  {
   "cell_type": "code",
   "execution_count": 24,
   "metadata": {},
   "outputs": [
    {
     "name": "stdout",
     "output_type": "stream",
     "text": [
      "이름 = 소향\n",
      "나이 = 41\n",
      "주소 = 인천\n",
      "이름 = 41\n",
      "나이 = 소향\n",
      "주소 = 인천\n",
      "이름 = 소향\n",
      "나이 = 40\n",
      "주소 = 인천\n"
     ]
    }
   ],
   "source": [
    "# 개인정보를 출력하는 예제\n",
    "def personal_info(name, age, addr):\n",
    "    print('이름 =', name)\n",
    "    print('나이 =', age)\n",
    "    print('주소 =', addr)\n",
    "    \n",
    "personal_info('소향', 41, '인천')\n",
    "personal_info(41, '소향', '인천') # 에러는 아니지만 정보가 불일치한 로직에러가 발생\n",
    "personal_info(age=40, name='소향', addr='인천')\n",
    "# personal_info(age=40, name='소향', '인천') # 에러 **kwargs로 인식하기 때문에 에러 발생\n",
    "# personal_info(age=40, address='인천', name='소향') # 에러 **kwargs로 인식 "
   ]
  },
  {
   "cell_type": "markdown",
   "metadata": {},
   "source": [
    "###### 9. dictionary unpacking\n",
    "<img src=\"./images/12.함수_function_04.png\" width=\"500\" height=\"300\">"
   ]
  },
  {
   "cell_type": "code",
   "execution_count": 28,
   "metadata": {},
   "outputs": [
    {
     "name": "stdout",
     "output_type": "stream",
     "text": [
      "이름 = 소향\n",
      "나이 = 40\n",
      "주소 = 인천\n",
      "\n",
      "이름 = 소향\n",
      "나이 = 40\n",
      "주소 = 인천\n",
      "\n",
      "이름 = name\n",
      "나이 = age\n",
      "주소 = addr\n"
     ]
    }
   ],
   "source": [
    "x = {'name':'소향', 'age':40, 'addr':'인천'}\n",
    "\n",
    "personal_info(**x) # key와 value를 쌍으로 갖는 가변인자(**kwargs)\n",
    "# 상기호출은 personal_info(name='소향', age=40, addr='인천') 또는\n",
    "# personal_info('소향', 41, '인천')과 동일하다.\n",
    "print()\n",
    "\n",
    "y = {'age':40, 'name':'소향', 'addr':'인천'}\n",
    "personal_info(**y) \n",
    "print()\n",
    "\n",
    "personal_info(*x) # key만 출력\n",
    "\n",
    "# 딕셔너리언패킹\n",
    "# 별표(*)를 두번 사용하는 이유는 딕셔너리처럼 key와 value로 한쌍으로 저장되어 있기 때문이고\n",
    "# 첫번째 별표는 key, 두번째 별표는 value를 가져오라는 의미이다.\n",
    "# 별표(*)가 하나만 있을 경우에는 key를 가자오라는 의미이다."
   ]
  },
  {
   "cell_type": "code",
   "execution_count": 31,
   "metadata": {},
   "outputs": [
    {
     "name": "stdout",
     "output_type": "stream",
     "text": [
      "(15, 50, 5, 2.0)\n",
      "<class 'tuple'>\n",
      "15\n",
      "<class 'int'>\n"
     ]
    }
   ],
   "source": [
    "# 함수의 반환값은 여러개를 반환되도록 정의한다 하더래도 반환값은 한개의 값으로\n",
    "# 반환이 된다. 이 반환된 자료형은 튜플형으로 반환된다.\n",
    "def calculator1(a, b):\n",
    "    return a+b, a*b, a-b, a/b\n",
    "\n",
    "result = calculator1(a=10, b=5) # 하나의 값 즉, 한개의 튜플자료형으로 리턴된다.\n",
    "print(result)\n",
    "print(type(result))\n",
    "\n",
    "def calculator2(a, b):\n",
    "    return a+b\n",
    "    return a*b\n",
    "    return a-b\n",
    "    return a/b\n",
    "\n",
    "result = calculator2(10, 5)\n",
    "print(result)\n",
    "print(type(result))"
   ]
  },
  {
   "cell_type": "markdown",
   "metadata": {},
   "source": [
    "###### 10. 매개변수에 초기값을 사전에 설정해서 전달"
   ]
  },
  {
   "cell_type": "code",
   "execution_count": 36,
   "metadata": {},
   "outputs": [
    {
     "name": "stdout",
     "output_type": "stream",
     "text": [
      "내 이름은 소향입니다, 나이는 41살 입니다. 나는 남자입니다!\n",
      "내 이름은 소향입니다, 나이는 41살 입니다. 나는 여자입니다\n",
      "내 이름은 홍길동입니다, 나이는 1000살 입니다. 나는 남자입니다!\n",
      "내 이름은 홍길동입니다, 나이는 1000살 입니다. 나는 남자입니다!\n"
     ]
    }
   ],
   "source": [
    "# 매개변수에 초기값 설정\n",
    "def selfIntroduction(name, age, gender=True):\n",
    "    print(\"내 이름은 %s입니다, 나이는 %d살 입니다.\" % (name, age), end=' ')\n",
    "    \n",
    "    if gender:\n",
    "        print('나는 남자입니다!')\n",
    "    else:\n",
    "        print('나는 여자입니다')\n",
    "\n",
    "selfIntroduction('소향', 41)    \n",
    "selfIntroduction('소향', 41, False)    \n",
    "\n",
    "selfIntroduction('홍길동', 1000)    \n",
    "selfIntroduction('홍길동', 1000, True)  "
   ]
  },
  {
   "cell_type": "code",
   "execution_count": 39,
   "metadata": {},
   "outputs": [
    {
     "ename": "SyntaxError",
     "evalue": "non-default argument follows default argument (<ipython-input-39-8d02dc9f1f05>, line 3)",
     "output_type": "error",
     "traceback": [
      "\u001b[1;36m  File \u001b[1;32m\"<ipython-input-39-8d02dc9f1f05>\"\u001b[1;36m, line \u001b[1;32m3\u001b[0m\n\u001b[1;33m    def selfIntroduction(name, gender=True, age):\u001b[0m\n\u001b[1;37m                        ^\u001b[0m\n\u001b[1;31mSyntaxError\u001b[0m\u001b[1;31m:\u001b[0m non-default argument follows default argument\n"
     ]
    }
   ],
   "source": [
    "# 매개변수 초기값을 설정할 때 주의사항\n",
    "# 초기화시킬 매개변수는 항상 맨 뒤에 위치시켜야 한다.\n",
    "def selfIntroduction(name, gender=True, age):\n",
    "    print(\"내 이름은 %s입니다, 나이는 %d살 입니다.\" % (name, age), end=' ')\n",
    "    \n",
    "    if gender:\n",
    "        print('나는 남자입니다!')\n",
    "    else:\n",
    "        print('나는 여자입니다')\n",
    "        \n",
    "# selfIntroduction('소향', 41) (x)\n",
    "# selfIntroduction('소향', 41, False) (x)     \n",
    "# selfIntroduction('소향', False, 41) (x)   "
   ]
  },
  {
   "cell_type": "markdown",
   "metadata": {},
   "source": [
    "###### 11. Lamda함수\n",
    "\n",
    "파이썬에서 <code>lambda함수</code>란 런타임시에 생성해서 사용할 수 있는 <code>익명함수</code>이다. lambda는 함수를 생성할 때 사용하는 예약어로 def와 동일하지만 def로 생성한 함수는 임의의 이름을 가져야 하지만 lambda로 생성되는 함수는 이름이 없다. 함수이름이 없기 때문에 익명함수라 한다.\n",
    "\n",
    "<code>lambda함수</code>를 사용하는 가장 큰 이유는 수행할 명령이 하나만 있는 함수와 같이 1) def로 생성\n",
    "할 정도로 복잡하지 않거나 2) def를 사용할 수 없는 곳에서 사용한다.\n",
    "\n",
    ">lambda의 사용법\n",
    "* lambda 매개변수1...매개변수n: 매개변수를 이용한 한개의 실행문"
   ]
  },
  {
   "cell_type": "code",
   "execution_count": 47,
   "metadata": {},
   "outputs": [
    {
     "name": "stdout",
     "output_type": "stream",
     "text": [
      "더하기 = 2\n",
      "<function add at 0x000001B6B5181DC8>\n",
      "<function <lambda> at 0x000001B6B5181558>\n",
      "<class 'function'>\n",
      "<class 'function'>\n",
      "일반함수 : 더하기 = 2\n",
      "람다함수 : 더하기 = 2\n"
     ]
    }
   ],
   "source": [
    "# 1.  def로 생성 할 정도로 복잡하지 않은 경우\n",
    "\n",
    "# 일반함수(이름이 있는 함수)\n",
    "def add(a,b):\n",
    "    return a+b\n",
    "print(\"더하기 =\", add(1,1))\n",
    "print(add)\n",
    "# lambda함수(이름 없는 함수)\n",
    "addlambdafunction = lambda a,b: a+b\n",
    "print(addlambdafunction)\n",
    "print(type(addlambdafunction))\n",
    "print(type(add))\n",
    "\n",
    "print(\"일반함수 : 더하기 =\", add(1,1))\n",
    "print(\"람다함수 : 더하기 =\", addlambdafunction(1,1))"
   ]
  },
  {
   "cell_type": "code",
   "execution_count": 60,
   "metadata": {},
   "outputs": [
    {
     "name": "stdout",
     "output_type": "stream",
     "text": [
      "[2, 0]\n",
      "<class 'list'>\n",
      "2\n",
      "0\n",
      "\n",
      "<class 'list'>\n",
      "2\n",
      "0\n",
      "\n",
      "<class 'list'>\n",
      "2\n",
      "None\n",
      "\n",
      "<class 'list'>\n",
      "2\n",
      "0\n",
      "\n"
     ]
    }
   ],
   "source": [
    "# 2. def를 사용할 수 없는 곳에서 사용할 경우\n",
    "# lambda식이 나오게 된 가장 큰 이유는 def보다 간결하게 사용할 수 있기 때문이기도 하지만\n",
    "# lambda는 def를 사용할 수 없는 곳에서도 사용할 수 있다.\n",
    "\n",
    "def sum(a,b): return a+b # 리턴값이 있음\n",
    "def sub(a,b): return a-b # 리턴값이 있음\n",
    "x = sum(1,1)\n",
    "y = sub(1,1)\n",
    "myList1 = [x, y]\n",
    "print(myList1)\n",
    "print(type(myList1))\n",
    "print(myList1[0])\n",
    "print(myList1[1])\n",
    "print()\n",
    "\n",
    "# myList = [def sum(a,b): return a+b, def sub(a,b): return a-b]\n",
    "# 상기문장은 에러가 발생하기 때문에 아래와 같이 정의할 수 있다.\n",
    "myList2 = [sum, sub]\n",
    "print(type(myList2))\n",
    "print(myList2[0](1,1))\n",
    "print(myList2[1](1,1))\n",
    "print()\n",
    "\n",
    "def sub1(a,b): a-b # 리턴값이 없음\n",
    "myList3 = [sum, sub1]\n",
    "print(type(myList3))\n",
    "print(myList3[0](1,1))\n",
    "print(myList3[1](1,1))\n",
    "print()\n",
    "\n",
    "# lambda로 list정의\n",
    "myList4 = [lambda a, b: a+b, lambda a,b:a-b]\n",
    "print(type(myList4))\n",
    "print(myList4[0](1,1))\n",
    "print(myList4[1](1,1))\n",
    "print()"
   ]
  },
  {
   "cell_type": "markdown",
   "metadata": {},
   "source": [
    "### 연습문제"
   ]
  },
  {
   "cell_type": "code",
   "execution_count": null,
   "metadata": {},
   "outputs": [],
   "source": [
    "# 1. 홀수, 짝수를 구변하는 is_odd()함수를 작성\n",
    "# 주어진 숫자가 홀수인지 짝수인지를 구별해서\n",
    "# '짝수입니다' or '홀수입니다'를 출력하세요\n",
    "# is_odd(number)\n",
    "def isodd(number): pass\n",
    "\n",
    "\n",
    "# lambda식\n",
    "isOddLambda = lambda ???????????\n",
    "\n",
    "\n",
    "print(isodd(?))       # 짝수입니다\n",
    "print(isOddLambda(?)) # 짝수입니다\n",
    "print(isodd(?))       # 홀수입니다\n",
    "print(isOddLambda(?)) # 홀수입니다"
   ]
  },
  {
   "cell_type": "code",
   "execution_count": null,
   "metadata": {},
   "outputs": [],
   "source": [
    "# 2. 입력된 모든 수의 평균을 계산하는 funcAvg()함수를 작성\n",
    "# 단, 입력매개변수의 갯수는 정해져 있지 않다.\n",
    "# funcAvg()"
   ]
  },
  {
   "cell_type": "code",
   "execution_count": 62,
   "metadata": {},
   "outputs": [
    {
     "name": "stdout",
     "output_type": "stream",
     "text": [
      "9 * 1 =  9\n",
      "9 * 2 = 18\n",
      "9 * 3 = 27\n",
      "9 * 4 = 36\n",
      "9 * 5 = 45\n",
      "9 * 6 = 54\n",
      "9 * 7 = 63\n",
      "9 * 8 = 72\n",
      "9 * 9 = 81\n"
     ]
    }
   ],
   "source": [
    "# 3. 구구단을 출력하는 함수 gugudan()함수를 작성\n",
    "# 입력값은 2~9단까지 한개의 임의의 단을 입력\n",
    "# gugudan(9)\n",
    "def gugudan(x):\n",
    "    for i in range(1, 10):\n",
    "        print('%d * %d = %2d' %(x, i, x*i))\n",
    "        \n",
    "gugudan(9)"
   ]
  },
  {
   "cell_type": "code",
   "execution_count": null,
   "metadata": {},
   "outputs": [],
   "source": [
    "# 4. 리스트 [2,3,4,5,6,7,8]에서 5보다 큰 수만 리턴하는 \n",
    "# 1) funcReturn()함수작성\n",
    "# 2) lambda식으로 작성, 이름은 funcReturnLambda"
   ]
  },
  {
   "cell_type": "markdown",
   "metadata": {},
   "source": [
    "#### Closer(클러저)"
   ]
  },
  {
   "cell_type": "code",
   "execution_count": null,
   "metadata": {},
   "outputs": [],
   "source": []
  },
  {
   "cell_type": "code",
   "execution_count": null,
   "metadata": {},
   "outputs": [],
   "source": []
  },
  {
   "cell_type": "code",
   "execution_count": null,
   "metadata": {},
   "outputs": [],
   "source": []
  },
  {
   "cell_type": "code",
   "execution_count": null,
   "metadata": {},
   "outputs": [],
   "source": []
  },
  {
   "cell_type": "code",
   "execution_count": null,
   "metadata": {},
   "outputs": [],
   "source": []
  },
  {
   "cell_type": "code",
   "execution_count": null,
   "metadata": {},
   "outputs": [],
   "source": []
  }
 ],
 "metadata": {
  "kernelspec": {
   "display_name": "Python 3",
   "language": "python",
   "name": "python3"
  },
  "language_info": {
   "codemirror_mode": {
    "name": "ipython",
    "version": 3
   },
   "file_extension": ".py",
   "mimetype": "text/x-python",
   "name": "python",
   "nbconvert_exporter": "python",
   "pygments_lexer": "ipython3",
   "version": "3.7.6"
  }
 },
 "nbformat": 4,
 "nbformat_minor": 4
}
