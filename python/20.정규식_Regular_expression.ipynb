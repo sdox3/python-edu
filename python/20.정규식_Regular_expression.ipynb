{
 "cells": [
  {
   "cell_type": "markdown",
   "metadata": {},
   "source": [
    "### 정규표현식(Regular Expression)?\n",
    "\n",
    "정규식은 정규표현식의 약칭이다. 정규식은 문자열을 처리할 때 사용하는 데 파이썬 만의 고유문법이 아니라 문자열을 처리하는 모든 곳에서 사용된다.\n",
    "\n",
    "정규식이 필요한 이유는 특별히 프로그램작성없이 특정 패턴을 정의해서 그 패턴과 일치하는 문자열을 추출하는 것에 있다. 예를 들어 주민번호의 뒤 7자리를 블라이딩처리하기 위해서 별도로 변경할 경우에는 뒤 일곱자리를 추출해서 별표분자로 변환하는 경우, 또한 비밀번호 검증, 이메일에 대한 검증등을 프로그램 작성없이 바로 정규식으로 처리할 수 있다.\n",
    "\n",
    "파이썬에서는 이런 정규식을 처리하기 위해서 내장모듈을 불러와 사용해야 하는데 파이썬에서 지원하는 정규식 모듈은 `re`이다"
   ]
  },
  {
   "cell_type": "code",
   "execution_count": 1,
   "metadata": {},
   "outputs": [
    {
     "name": "stdout",
     "output_type": "stream",
     "text": [
      "['A', 'ASCII', 'DEBUG', 'DOTALL', 'I', 'IGNORECASE', 'L', 'LOCALE', 'M', 'MULTILINE', 'Match', 'Pattern', 'RegexFlag', 'S', 'Scanner', 'T', 'TEMPLATE', 'U', 'UNICODE', 'VERBOSE', 'X', '_MAXCACHE', '__all__', '__builtins__', '__cached__', '__doc__', '__file__', '__loader__', '__name__', '__package__', '__spec__', '__version__', '_cache', '_compile', '_compile_repl', '_expand', '_locale', '_pickle', '_special_chars_map', '_subx', 'compile', 'copyreg', 'enum', 'error', 'escape', 'findall', 'finditer', 'fullmatch', 'functools', 'match', 'purge', 'search', 'split', 'sre_compile', 'sre_parse', 'sub', 'subn', 'template']\n"
     ]
    }
   ],
   "source": [
    "import re\n",
    "print(dir(re))"
   ]
  },
  {
   "cell_type": "code",
   "execution_count": 8,
   "metadata": {},
   "outputs": [
    {
     "name": "stdout",
     "output_type": "stream",
     "text": [
      "<class 'list'>\n",
      "['o', 'o', 'o']\n",
      "['too']\n"
     ]
    }
   ],
   "source": [
    "# 1. findall(패턴, string) : 문자열에서 특정 단어패턴을 추출해서 리스트로 변환\n",
    "str = 'Lifs is too short!'\n",
    "# re.findall?\n",
    "a = re.findall('o',str)\n",
    "print(type(a))\n",
    "print(a)\n",
    "b = re.findall('too',str)\n",
    "print(b)"
   ]
  },
  {
   "cell_type": "code",
   "execution_count": 16,
   "metadata": {},
   "outputs": [
    {
     "name": "stdout",
     "output_type": "stream",
     "text": [
      "['y', 'i', 'd', 'u', 'm', 'b', 'e', 'r', 'i', 's', 'i', 'm']\n",
      "['y', 'i', 'd', 'u', 'm', 'b', 'e', 'r', 'i', 's', 'i', 'm']\n"
     ]
    }
   ],
   "source": [
    "# 특정문자열에서 소문자를 모두 찾기\n",
    "str = 'My id Number is Kim0902_$'\n",
    "result = []\n",
    "for i in str :\n",
    "\n",
    "    if i >= 'a' and i <='z' :\n",
    "        result.append(i)\n",
    "print(result)\n",
    "\n",
    "# [] : 소문자를 한개의 문자단위를 기준으로 검색\n",
    "# 정규식에서 '' 안의 문자열에 []가 있을 시 이는 리스트를 뜻하는게 아니라 각 단어를 하나씩 \n",
    "# 반환함을 알린다.\n",
    "a = re.findall('[abcdefghijklmnopqrstuvwxyz]',str)\n",
    "print(a)"
   ]
  },
  {
   "cell_type": "code",
   "execution_count": 22,
   "metadata": {},
   "outputs": [
    {
     "name": "stdout",
     "output_type": "stream",
     "text": [
      "['y', 'id', 'umber', 'is', 'im']\n",
      "['M', 'N', 'K']\n",
      "['M', 'N', 'K']\n",
      "['0', '9', '0', '2']\n",
      "['0902']\n"
     ]
    }
   ],
   "source": [
    "# []+ :소문자를 한개의 단어 단위를 기준으로 검색\n",
    "a = re.findall('[a-z]+',str)\n",
    "print(a)\n",
    "\n",
    "# [] : 대문자를 한개의 문자 단위를 기준으로 검색\n",
    "a = re.findall('[A-Z]',str)\n",
    "print(a)\n",
    "\n",
    "# [] : 대문자를 한개의 단어 단위를 기준으로 검색\n",
    "a = re.findall('[A-Z]+',str)\n",
    "print(a)\n",
    "\n",
    "# [] : 대문자를 한개의 숫자 단위를 기준으로 검색\n",
    "a = re.findall('[0-9]',str)\n",
    "print(a)\n",
    "\n",
    "# []+ : 대문자를 한개의 문자 단위를 기준으로 검색\n",
    "a = re.findall('[0-9]+',str)\n",
    "print(a)"
   ]
  },
  {
   "cell_type": "code",
   "execution_count": 33,
   "metadata": {},
   "outputs": [
    {
     "name": "stdout",
     "output_type": "stream",
     "text": [
      "['M', 'y', 'i', 'd', 'N', 'u', 'm', 'b', 'e', 'r', 'i', 's', 'K', 'i', 'm', '0', '9', '0', '2']\n",
      "['My', 'id', 'Number', 'is', 'Kim0902']\n",
      "['_', '$']\n",
      "[' ', ' ', ' ', ' ', '_', '$']\n",
      "[' ', ' ', ' ', ' ', '_$']\n",
      "['My', 'id', 'Number', 'is', 'Kim0902_']\n",
      "[' ', ' ', ' ', ' ', '$']\n",
      "[' ', ' ', ' ', ' ', '$']\n"
     ]
    }
   ],
   "source": [
    "# 숫자, 소문자, 대문자를 한개의 문자단위로 검색\n",
    "a = re.findall('[0-9a-zA-Z]',str)\n",
    "print(a)\n",
    "\n",
    "# 숫자, 소문자, 대문자를 한개의 단어단위로 검색\n",
    "a = re.findall('[0-9a-zA-Z]+',str)\n",
    "print(a)\n",
    "\n",
    "# 특수문자만 추출 : not(^)의미의 패턴문자\n",
    "a = re.findall('[_$]', str)\n",
    "print(a)\n",
    "\n",
    "a = re.findall('[^0-9a-zA-Z]', str)\n",
    "print(a)\n",
    "a = re.findall('[^0-9a-zA-Z]+', str)\n",
    "print(a)\n",
    "\n",
    "# 영문자, 숫자, _만을 추출 : \\w의 의미는 whitespace문자의미의 패턴문자\n",
    "a = re.findall('[\\w]+',str)\n",
    "print(a)\n",
    "\n",
    "# 영문자, 숫자, _만가 아닌 문자 추출 : \\w의 의미는 whitespace문자의미의 패턴문자\n",
    "a = re.findall('[\\W]+',str)\n",
    "print(a)\n",
    "a = re.findall('[^\\w]+',str)\n",
    "print(a)"
   ]
  },
  {
   "cell_type": "code",
   "execution_count": 65,
   "metadata": {},
   "outputs": [
    {
     "name": "stdout",
     "output_type": "stream",
     "text": [
      "910915-*******\n",
      "951118-*******\n",
      "\n",
      "park 800905-*******\n",
      "kim  700905-*******\n",
      "\n",
      "\n",
      "hong 910915-*******\n",
      "park 951118-*******\n",
      "\n"
     ]
    }
   ],
   "source": [
    "# 실습(1)\\n\",\n",
    "    # 주민번호 뒷자리 7자리를 *로 블라인딩처리. 단, 정규식을 사용하지 말 것\\n\",\n",
    "\n",
    "\n",
    "hong = '910915-1234567'\n",
    "park ='951118-1234567'\n",
    "data =[]\n",
    "\n",
    "data = list(hong)\n",
    "\n",
    "\n",
    "for i in range(7,14) :\n",
    "    data[i] = '*'\n",
    "\n",
    "hong = ''.join(data)\n",
    "print(hong)\n",
    "\n",
    "data = list(park)\n",
    "\n",
    "\n",
    "for i in range(7,14) :\n",
    "    data[i] = '*'\n",
    "\n",
    "park = ''.join(data)\n",
    "print(park)\n",
    "\n",
    "data = \"\"\"\n",
    "park 800905-1049118\n",
    "kim  700905-1059119\n",
    "\"\"\"\n",
    "\n",
    "result = []\n",
    "for line in data.split(\"\\n\"):\n",
    "    word_result = []\n",
    "    for word in line.split(\" \"):\n",
    "        if len(word) == 14 and word[:6].isdigit() and word[7:].isdigit():\n",
    "            word = word[:6] +  \"-*******\"\n",
    "        word_result.append(word)\n",
    "    result.append(\" \".join(word_result))\n",
    "print(\"\\n\".join(result))\n",
    "\n",
    "# word.isdigit?\n",
    "# 문자열이 digit String인지 반환 digit string은 숫자로 구성된 문자열을 의미한다.\n",
    "\n",
    "\n",
    "# 실습(2)\n",
    "# 주민번호 뒷자리를 *로 블라인딩처리, 정규식 사용\n",
    "data = \"\"\"\n",
    "hong 910915-1234567\n",
    "park 951118-1234567\n",
    "\"\"\"\n",
    "pat = re.compile(\"(\\d{6})[-]\\d{7}\")\n",
    "print(pat.sub(\"\\g<1>-*******\", data))"
   ]
  },
  {
   "cell_type": "code",
   "execution_count": 91,
   "metadata": {},
   "outputs": [
    {
     "name": "stdout",
     "output_type": "stream",
     "text": [
      "\n",
      "park 800905-*******\n",
      "kim  700905-*******\n",
      "\n",
      "<class 're.Pattern'>\n",
      "\n",
      "park 800905-*******\n",
      "kim  700905-*******\n",
      "\n"
     ]
    }
   ],
   "source": [
    "data = \"\"\"\n",
    "park 800905-1049118\n",
    "kim  700905-1059119\n",
    "\"\"\"\n",
    "result = []\n",
    "for line in data.split('\\n'):\n",
    "    word_list = []\n",
    "    for word in line.split(' '):\n",
    "        if len(word) == 14 and word[:6].isdigit() and word[7:].isdigit():\n",
    "            word = word[:6] + '-*******'\n",
    "        word_list.append(word)\n",
    "    result.append(\" \".join(word_list))\n",
    "print('\\n'.join(result))      \n",
    "\n",
    "a = re.compile(\"(\\d{6})[-](\\d{7})\")\n",
    "print(type(a))\n",
    "# \\g<1> = 1번 그룹을 가져옴 \n",
    "print(a.sub('\\g<1>-*******',data))\n",
    "\n",
    "re.compile?"
   ]
  },
  {
   "cell_type": "markdown",
   "metadata": {},
   "source": [
    "### 정규표현식\n",
    "\n",
    "#### 1. 메타문자(정규식의 기초\n",
    " > `공란 dot(.) ^ $ * + ? { } \\ : ()`\n",
    " \n",
    " \n",
    "#### 2. 메타문자의 의미\n",
    "\n",
    "1) `[]` : [a-z]와 같이 문자 클래스로 만들어진 정규식, 대괄호 사이의 문자들과 일치함을 의미\n",
    "    * `\\d` : 숫자와 매치여부, [0~9]와 동일한 의미\n",
    "    * `\\D` : 숫자가 아닌것과 매치여부 , [^0~9]\n",
    "    * `\\s` : whitespace문자와 매치, [(공란)\\t\\n\\r\\f\\v] 와 동일\n",
    "    * `\\S` : whitesapce이외의 문자와 매치 [^(공란)\\t\\n\\r\\f\\v]\n",
    "    * `\\w` : 문자, 숫자와 매치 여부[0-9a-zA-Z]와 동일\n",
    "    * `\\W` : 문자, 숫자와 매치 여부[^0-9a-zA-Z]와 동일\n",
    "\n",
    "2) `dot(.)` : 줄바뀜(\\n)를 제외한 모든 한개의 문자와 매치하는지 여부를 확인\n",
    "\n",
    "    예) a.b : a와 b사이의 모든문자가 들어오는 문자열과 매치 여부\n",
    "           -> axb, a*b, a1b (o) , a\\nb(x)\n",
    "3) `반복(*)` : : * 바로 앞에 있는 문자가 무한대로 반복되는 문자열과 매치 여부\n",
    "    예) 'ca*t' : cat(o), caaaaaaat(o), ct(o), cbt(x)\n",
    "\n",
    "4) `반복(+)` : 반복(*)과 동일한 반복매치이지만 반복이 최소한 1번이상 되어야 한다.\n",
    "    예) 'ca+t' : cat(o), caaaaaaat(o), ct(x), cbt(x)\n",
    "\n",
    "5) `반복({m,n}, ?)` : 반복횟수를 제한하고 싶을 경우에 사용 `()`메타문자를 이용한 반복횟수를 구정할 수 있다. `{m,n}` 반복횟수가 m부터 n까지의 문자열과 매치여부 , m,n은 생략이 가능\n",
    "    예) `{3,}` : 반복횟수가 3번이상인 문자열과 매치여부 `{,3}` 반복횟수가 3이하인 경우\n",
    "    {1,} == 반복(+), {0,} == 반복(*)\n",
    "    \n",
    "    * `{m}` : ca{2}t = a가 2번 반복하는 문자열과 매치 : cat(x) caat(o)\n",
    "    # `{m,n}` : ca{2,5}t = a가 2번이상 5이하로 반복 : caat(o), caaaaat(o), cat(x)\n",
    "    * `?` : 반복은 아니지만 없어도 매치가 되고 있어도 매치가됨 : ab?c : abc(o), ac(o)\n",
    "    \n",
    "6) `그룹(소괄호)` : 문자열을 하나의 그룹으로 묶음\n",
    "    \\g<n> : n번째 그룹을 호출\n",
    "    \n",
    "#### 3. 정규식 관련함수\n",
    "\n",
    "1. findall() : 정규식과 매치되는 모든 문자열 리스트로 리턴\n",
    "2. match() : 문자열의 처음부터 정규식패턴과 매치여부를 확인 후 객체를 리턴\n",
    "3. search() : 문자열 전체를 검색한 후에 정규식패턴과 매치여부를 확인 후 객체를 리턴\n",
    "4. finditer : 정규식패턴과 매치되는 모든 문자열을 iternal 객체로 리턴"
   ]
  },
  {
   "cell_type": "code",
   "execution_count": 115,
   "metadata": {},
   "outputs": [
    {
     "name": "stdout",
     "output_type": "stream",
     "text": [
      "<re.Match object; span=(0, 6), match='python'>\n",
      "None\n",
      "<re.Match object; span=(0, 6), match='python'>\n",
      "<re.Match object; span=(1, 6), match='ython'>\n",
      "[('910915', '1234576'), ('910915', '1234567')]\n",
      "<callable_iterator object at 0x0000022161EC85C8>\n",
      "<re.Match object; span=(1, 4), match='ife'>\n",
      "<re.Match object; span=(5, 7), match='is'>\n",
      "<re.Match object; span=(8, 12), match='sdsd'>\n"
     ]
    }
   ],
   "source": [
    "import re \n",
    "\n",
    "# 1. match\n",
    "p = re.compile('[a-z]+')\n",
    "\n",
    "m = p.match('python')\n",
    "print(m)\n",
    "\n",
    "\n",
    "m = p.match('3 python') # 처음에 매치가 없으면 non\n",
    "print(m)\n",
    "\n",
    "\n",
    "m = p.match('python 3') # 처음 매치가 되면 다음에 매치가 안되도 됨\n",
    "print(m)\n",
    "\n",
    "# 2. search\n",
    "\n",
    "m = p.search('Python') # 처음 매치가 되는 것만 출력\n",
    "print(m)\n",
    "\n",
    "# 3. findall\n",
    "\n",
    "p = re.compile('(\\d{6})[-](\\d{7})')\n",
    "result = p.findall('910915-1234576910915-1234567')\n",
    "print(result)\n",
    "\n",
    "# 4. finditer\n",
    "p = re.compile('[a-z]+')\n",
    "result = p.finditer('Life is sdsd')\n",
    "print(result)\n",
    "for i in result :\n",
    "    print(i)"
   ]
  },
  {
   "cell_type": "markdown",
   "metadata": {},
   "source": [
    "### 정규식 컴파일 옵션\n",
    "\n",
    "1. DOTALL(or s) : dot(.)이 줄바꿈 문자를 포함한 모든 문자와 매치할 수 있도록 한다.\n",
    "2. IGNORECASE(or I) : 대소문자와 관계없이 매치할 수 있도록 함\n",
    "3. MULTILINE(or W) : 여러줄과 매치할 수 있도록 한다.(시작(^),끝($) 메타문자와 관련있는 옵션)\n",
    "4. VERBOSE(or X) : verbose모드 사용여부(정규식을 보기 편하게 또는 주석처리를 사용할 수 있도록 하는 옵션)"
   ]
  },
  {
   "cell_type": "code",
   "execution_count": 2,
   "metadata": {},
   "outputs": [
    {
     "name": "stdout",
     "output_type": "stream",
     "text": [
      "<re.Match object; span=(0, 3), match='aab'>\n",
      "None\n",
      "<re.Match object; span=(0, 3), match='a\\nb'>\n"
     ]
    }
   ],
   "source": [
    "# 1. DOTALL = S : re.DOTALL or re.S\n",
    "import re\n",
    "\n",
    "p = re.compile('a.b',re.DOTALL)\n",
    "m = p.match('aab')\n",
    "print(m)\n",
    "m = p.match('a\\nb',re.S)\n",
    "print(m)\n",
    "m = p.match('a\\nb')\n",
    "print(m)"
   ]
  },
  {
   "cell_type": "code",
   "execution_count": null,
   "metadata": {},
   "outputs": [],
   "source": [
    "# 2. IGNORECASE = I : re.IGNORECASE, re.I\n",
    "p = re.compile('[a-z]',re.I)\n",
    "m = p.match('python')\n",
    "print(m)\n",
    "m = p.match('Python')\n",
    "print(m)"
   ]
  },
  {
   "cell_type": "code",
   "execution_count": 137,
   "metadata": {},
   "outputs": [
    {
     "name": "stdout",
     "output_type": "stream",
     "text": [
      "['python one', 'python two', 'python three']\n"
     ]
    }
   ],
   "source": [
    "# 3. MULTULINE = M : re.MULTILINE, re.M\n",
    "\n",
    "# ^python\\s\\w+ :\n",
    "# 1) ^python : python으로 시작해야 하고\n",
    "# 2) \\s : 뒤에 whitespace 문자가 와야하고\n",
    "# 3) \\w : 뒤에 문자와 숫자가 와야함\n",
    "# 4) + : 단어단위로 받음\n",
    "\n",
    "p = re.compile('^python\\s\\w+', re.M)\n",
    "data ='''python one\n",
    "Lift is too short\n",
    "python two\n",
    "you need python\n",
    "python three\n",
    "\n",
    "'''\n",
    "\n",
    "result = p.findall(data)\n",
    "print(result)"
   ]
  },
  {
   "cell_type": "code",
   "execution_count": 139,
   "metadata": {},
   "outputs": [
    {
     "name": "stdout",
     "output_type": "stream",
     "text": [
      "re.compile('&[#](o[0-7]+|[0-9]+|x[0-9a-fA-F]+);')\n",
      "re.compile('\\n&[#]                 # 숫자로 시작해야된다.\\n(\\n     o[0-7]+         #  8진수\\n   |  [0-9]+         # 10진수\\n   | x[0-9a-zA-Z]+   # 16진수\\n)\\n;                    # 마지막이 세미콜론(;)으로 끝나야 한다. \\n', re.VERBOSE)\n",
      "[]\n"
     ]
    }
   ],
   "source": [
    "# 4. VERBOSE = X\n",
    "# 정규식을 이해하기 위해 하나씩 분석을 해야하는데 복잡한 정규식은 분석에 한계가 있다.\n",
    "# 정규식의 이해를 위해 주석, 라인단위로 구한하게 지원해주는 것이 VERBOSE\n",
    "r = re.compile(r'&[#](o[0-7]+|[0-9]+|x[0-9a-fA-F]+);')\n",
    "ref = re.compile(r'''\n",
    "&[#]                 # 숫자로 시작해야된다.\n",
    "(\n",
    "     o[0-7]+         #  8진수\n",
    "   |  [0-9]+         # 10진수\n",
    "   | x[0-9a-zA-Z]+   # 16진수\n",
    ")\n",
    ";                    # 마지막이 세미콜론(;)으로 끝나야 한다. \n",
    "''', re.VERBOSE)\n",
    "print(r)\n",
    "print(ref)\n",
    "\n",
    "m = r.findall('1;')# 1. 비밀번호정합성\n",
    "# 1) 비밀번호의 길이 : 6~12\n",
    "# 2) 숫자와 영문자로 구성\n",
    "# 3) 소문자와 대문자로 구성\n",
    "# 4) 특수문자 사용불가\n",
    "def pwd_check(pwd):\n",
    "    pass\n",
    "\n",
    "\n",
    "pwd_check('12abc')   # NG\n",
    "pwd_check('123abc')  # NG\n",
    "pwd_check('123abc%') # NG\n",
    "pwd_check('123ABc')  # OK\n",
    "\n",
    "# 2. 이메일정합성\n",
    "def email_check(email):\n",
    "    pass\n",
    "\n",
    "email_check('kim@gmail')     #NG\n",
    "email_check('kim_gmail.com') #NG\n",
    "email_check('kim')           #NG\n",
    "email_check('kim@gmail.com') #OK\n",
    "print(m)"
   ]
  },
  {
   "cell_type": "markdown",
   "metadata": {},
   "source": [
    "### 정규식을 사용할 때 백슬레쉬 문제\n",
    "\n",
    "정규식을 표현할 떄 백슬래쉬를 사용하게 되면 혼란을 주게 된다. `\\section`이 정규식은 \\s문자가 whitespace로 인식하게 된다. 즉, `[공란\\t\\n\\r\\f\\v]`와 동일한 의미가 된다. 이런 경우에는 `\\\\section`처럼 2개의 `\\\\`로 정의해서 문자열로 인식하게 해야 한다."
   ]
  },
  {
   "cell_type": "markdown",
   "metadata": {},
   "source": [
    "실습"
   ]
  },
  {
   "cell_type": "code",
   "execution_count": 153,
   "metadata": {},
   "outputs": [
    {
     "name": "stdout",
     "output_type": "stream",
     "text": [
      "None\n",
      "<re.Match object; span=(0, 5), match='Servo'>\n"
     ]
    }
   ],
   "source": [
    "# 1. or(|)는 A|B 즉 a이거나 b를 의미\n",
    "p = re.compile('Crow|Servo')\n",
    "m = p.match('CrowHello')\n",
    "print(m)\n",
    "m = p.match('Servoooooooooooooooooo')\n",
    "print(m)"
   ]
  },
  {
   "cell_type": "code",
   "execution_count": 147,
   "metadata": {},
   "outputs": [
    {
     "name": "stdout",
     "output_type": "stream",
     "text": [
      "<re.Match object; span=(0, 4), match='Life'>\n",
      "<re.Match object; span=(3, 7), match='Life'>\n",
      "<re.Match object; span=(0, 7), match='My Life'>\n"
     ]
    }
   ],
   "source": [
    "# 2. ^ : 문자열의 맨처음부터 시작해서 일치여부\n",
    "print(re.search('^Life','Life is too short'))\n",
    "print(re.search('Life','My Life is too short'))\n",
    "print(re.search('^My Life','My Life is too short'))\n"
   ]
  },
  {
   "cell_type": "code",
   "execution_count": 151,
   "metadata": {},
   "outputs": [
    {
     "name": "stdout",
     "output_type": "stream",
     "text": [
      "<re.Match object; span=(12, 17), match='short'>\n",
      "None\n",
      "<re.Match object; span=(12, 17), match='short'>\n"
     ]
    }
   ],
   "source": [
    "# 3. $ : 맨 뒤의 문자가 일치여부\n",
    "print(re.search('short$','Life is too short'))\n",
    "print(re.search('short$','Life is too short  ....'))\n",
    "print(re.search('short','Life is too short!'))\n"
   ]
  },
  {
   "cell_type": "code",
   "execution_count": null,
   "metadata": {},
   "outputs": [],
   "source": [
    "# 1. 비밀번호정합성\n",
    "# 1) 비밀번호의 길이 : 6~12\n",
    "# 2) 숫자와 영문자로 구성\n",
    "# 3) 소문자와 대문자로 구성\n",
    "# 4) 특수문자 사용불가\n",
    "import re\n",
    "\n",
    "def pwd_check(pwd):\n",
    "    p = re.compile('^(?=.*[a-z])(?=.*\\d)(?=.*[A-Z])[a-zA-Z\\d]%^{4,12}')\n",
    "    if p.match(pwd) != None :\n",
    "        print('Ok')\n",
    "    else :\n",
    "        print('NG')\n",
    "        \n",
    "\n",
    "def pwd_check(pwd):\n",
    "    if len(pwd) < 6 or len(pwd) >12:\n",
    "        print('패스워드의 길이는 6~12사이여야 함')\n",
    "        return False\n",
    "    if re.findall('[0-9a-zA-Z]+',pwd)[0]!=pwd:\n",
    "        print(pwd,'비밀번호에 영문, 숫자로 이루어줘야함')\n",
    "        return False\n",
    "    if len(re.findall('[a-z]',pwd))==0 or len(re.findall('[A-Z]',pwd)) == 0:\n",
    "        print(pwd, ': 비밀번호는 대소문자로 구분')\n",
    "        return False\n",
    "    print(pwd, '정상')"
   ]
  },
  {
   "cell_type": "code",
   "execution_count": 46,
   "metadata": {},
   "outputs": [
    {
     "name": "stdout",
     "output_type": "stream",
     "text": [
      "NG\n",
      "NG\n",
      "NG\n",
      "Ok\n"
     ]
    }
   ],
   "source": [
    "# 1. 비밀번호정합성\n",
    "# 1) 비밀번호의 길이 : 6~12\n",
    "# 2) 숫자와 영문자로 구성\n",
    "# 3) 소문자와 대문자로 구성\n",
    "# 4) 특수문자 사용불가\n",
    "import re\n",
    "\n",
    "def pwd_check(pwd):\n",
    "    p = re.compile('^(?=.*[a-z])(?=.*\\d)(?=.*[A-Z])[\\w]{4,12}')\n",
    "    if p.match(pwd) != None :\n",
    "        print('Ok')\n",
    "    else :\n",
    "        print('NG')\n",
    "        \n",
    "'''\n",
    "def pwd_check(pwd):\n",
    "    if len(pwd) < 6 or len(pwd) >12:\n",
    "        print('패스워드의 길이는 6~12사이여야 함')\n",
    "        return False\n",
    "    if re.findall('[0-9a-zA-Z]+',pwd)[0]!=pwd:\n",
    "        print(pwd,'비밀번호에 영문, 숫자로 이루어줘야함')\n",
    "        return False\n",
    "    if len(re.findall('[a-z]',pwd))==0 or len(re.findall('[A-Z]',pwd)) == 0:\n",
    "        print(pwd, ': 비밀번호는 대소문자로 구분')\n",
    "        return False\n",
    "    print(pwd, '정상')\n",
    "'''\n",
    "pwd_check('12abc')   # NG\n",
    "pwd_check('123abc')  # NG\n",
    "pwd_check('123abc%') # NG\n",
    "pwd_check('123ABc')  # OK\n"
   ]
  },
  {
   "cell_type": "code",
   "execution_count": 253,
   "metadata": {},
   "outputs": [
    {
     "name": "stdout",
     "output_type": "stream",
     "text": [
      "NG\n",
      "NG\n",
      "NG\n",
      "OK\n"
     ]
    }
   ],
   "source": [
    "# 2. 이메일정합성\n",
    "def email_check(email):\n",
    "    p = re.compile('^[a-zA-Z0-9]+@[a-zA-Z0-9]+\\.[a-zA-Z0-9]')\n",
    "    if p.match(email) != None :\n",
    "        print('OK')\n",
    "    else : \n",
    "        print('NG')\n",
    "\n",
    "email_check('kim@gmail')     #NG\n",
    "email_check('kim_gmail.com') #NG\n",
    "email_check('kim')           #NG\n",
    "email_check('kim@gmail.com') #OK\n",
    "\n"
   ]
  },
  {
   "cell_type": "code",
   "execution_count": 294,
   "metadata": {},
   "outputs": [
    {
     "name": "stdout",
     "output_type": "stream",
     "text": [
      "<re.Match object; span=(0, 5), match='b12Ar'>\n"
     ]
    }
   ],
   "source": [
    "p = re.compile('^(?=.*[a-z])(?=.*\\d)(?=.*[A-Z])[a-zA-Z\\d]{4,12}')\n",
    "print(p.match('b12Ar'))"
   ]
  },
  {
   "cell_type": "code",
   "execution_count": null,
   "metadata": {},
   "outputs": [],
   "source": []
  }
 ],
 "metadata": {
  "kernelspec": {
   "display_name": "Python 3",
   "language": "python",
   "name": "python3"
  },
  "language_info": {
   "codemirror_mode": {
    "name": "ipython",
    "version": 3
   },
   "file_extension": ".py",
   "mimetype": "text/x-python",
   "name": "python",
   "nbconvert_exporter": "python",
   "pygments_lexer": "ipython3",
   "version": "3.7.6"
  }
 },
 "nbformat": 4,
 "nbformat_minor": 4
}
