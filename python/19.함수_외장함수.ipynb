{
 "cells": [
  {
   "cell_type": "markdown",
   "metadata": {},
   "source": [
    "### 외장함수 <modul(built-in)>\n",
    "\n",
    "내장함수와 달리 `import`명령을 사용하여 외부에 있는 패키지 또는 모듈, 함수를 로딩한 다음에 사용할 수 있는 함수를 이야기한다"
   ]
  },
  {
   "cell_type": "code",
   "execution_count": 14,
   "metadata": {},
   "outputs": [
    {
     "name": "stdout",
     "output_type": "stream",
     "text": [
      "['__breakpointhook__', '__displayhook__', '__doc__', '__excepthook__', '__interactivehook__', '__loader__', '__name__', '__package__', '__spec__', '__stderr__', '__stdin__', '__stdout__', '_base_executable', '_clear_type_cache', '_current_frames', '_debugmallocstats', '_enablelegacywindowsfsencoding', '_framework', '_getframe', '_git', '_home', '_xoptions', 'api_version', 'argv', 'base_exec_prefix', 'base_prefix', 'breakpointhook', 'builtin_module_names', 'byteorder', 'call_tracing', 'callstats', 'copyright', 'displayhook', 'dllhandle', 'dont_write_bytecode', 'exc_info', 'excepthook', 'exec_prefix', 'executable', 'exit', 'flags', 'float_info', 'float_repr_style', 'get_asyncgen_hooks', 'get_coroutine_origin_tracking_depth', 'get_coroutine_wrapper', 'getallocatedblocks', 'getcheckinterval', 'getdefaultencoding', 'getfilesystemencodeerrors', 'getfilesystemencoding', 'getprofile', 'getrecursionlimit', 'getrefcount', 'getsizeof', 'getswitchinterval', 'gettrace', 'getwindowsversion', 'hash_info', 'hexversion', 'implementation', 'int_info', 'intern', 'is_finalizing', 'last_traceback', 'last_type', 'last_value', 'maxsize', 'maxunicode', 'meta_path', 'modules', 'path', 'path_hooks', 'path_importer_cache', 'platform', 'prefix', 'ps1', 'ps2', 'ps3', 'set_asyncgen_hooks', 'set_coroutine_origin_tracking_depth', 'set_coroutine_wrapper', 'setcheckinterval', 'setprofile', 'setrecursionlimit', 'setswitchinterval', 'settrace', 'stderr', 'stdin', 'stdout', 'thread_info', 'version', 'version_info', 'warnoptions', 'winver']\n"
     ]
    }
   ],
   "source": [
    "# 1. sys : 파이썬 인터프리터가 제공하는 변수, 함수를 직접 제어할 수 있도록 구현하는 함수\n",
    "import sys\n",
    "\n",
    "# ?sys\n",
    "print(dir(sys))\n",
    "\n",
    "# 1) path : 목록 출력, 추가, 삭제\n",
    "# sys.path는 list자료형으로 리턴하기 때문에 list자료형이 사용하는 함수를 사용할 수 있다.\n",
    "# append, remove.. 등\n",
    "sys.path\n",
    "# sys.path.append('dded')\n",
    "# sys.path.remove('dded')\n",
    "\n",
    "# 2) argv : 명령행에서 인수를 전달할 때 사용\n",
    "\n",
    "sys.argv?\n",
    "\n",
    "# 3) exit() 강제로 파이썬(스크립트) 종료\n",
    "# sys.exit()"
   ]
  },
  {
   "cell_type": "code",
   "execution_count": null,
   "metadata": {},
   "outputs": [],
   "source": [
    "# 2. os\n",
    "# 이 모듈은 환경변수나 디렉토리, 파일등 os자원들을 제어할 수 있도록 해주는 함수\n",
    "import os\n",
    "# os?\n",
    "\n",
    "# 2-1) os.environ() : 시스템의 환경변수를 출력\n",
    "# os.environ\n",
    "\n",
    "os.environ['PATH']\n",
    "os.environ['COMPUTERNAME']"
   ]
  },
  {
   "cell_type": "code",
   "execution_count": null,
   "metadata": {},
   "outputs": [],
   "source": [
    "# 2-2) os.chdir() : 디렉토리위치를 변경\n",
    "%pwd\n",
    "os.chdir('c:\\windows')\n",
    "%pwd\n",
    "os.chdir('D:\\kim_seunghyek\\python')"
   ]
  },
  {
   "cell_type": "code",
   "execution_count": null,
   "metadata": {},
   "outputs": [],
   "source": [
    "# 2-3) os.getcwd() : 현재 디렉토리 리턴\n",
    "os.getcwd() # %pwd"
   ]
  },
  {
   "cell_type": "code",
   "execution_count": 40,
   "metadata": {},
   "outputs": [
    {
     "data": {
      "text/plain": [
       "1"
      ]
     },
     "execution_count": 40,
     "metadata": {},
     "output_type": "execute_result"
    }
   ],
   "source": [
    "# 2-4) os.system(명령어) : 현재 os의 시스템 명령어를 호출\n",
    "\n",
    "os.system('dir')\n",
    "os.system('mkdir testdir')"
   ]
  },
  {
   "cell_type": "markdown",
   "metadata": {},
   "source": [
    "##### 기타 유용한 os의 함수들\n",
    "\n",
    "* os.mkdir(디렉토리명) : 디렉토리 생성\n",
    "* os.rmdir : 디렉토리 삭제\n",
    "* os.unlink(파일명) : 파일삭제 \n",
    "* os.rename(src,dst) : 파일 이름 변경"
   ]
  },
  {
   "cell_type": "code",
   "execution_count": 45,
   "metadata": {},
   "outputs": [
    {
     "data": {
      "text/plain": [
       "1"
      ]
     },
     "execution_count": 45,
     "metadata": {},
     "output_type": "execute_result"
    }
   ],
   "source": [
    "# 3. shutil\n",
    "# 파일을 복사해주는 파이썬 모듈\n",
    "import shutil\n",
    "\n",
    "# shutil.copy?\n",
    "# shutil.copy('./test.txt','./test_copy.text')\n",
    "\n",
    "os.system('dir') "
   ]
  },
  {
   "cell_type": "code",
   "execution_count": 51,
   "metadata": {},
   "outputs": [
    {
     "name": "stdout",
     "output_type": "stream",
     "text": [
      "00.파이썬설치 및 설정.ipynb\n",
      "01.python 자료형_기본형.ipynb\n",
      "02.파이썬자료형_리스트.ipynb\n",
      "03.파이썬자료형_튜플.ipynb\n",
      "04.파이썬자료형_딕셔너리.ipynb\n",
      "05.파이썬자료형_집합형.ipynb\n",
      "07.파이썬자료형_boolean형.ipynb\n",
      "08.파이썬자료형_변수.ipynb\n",
      "09.제어문_if.ipynb\n",
      "10.반복문_for.ipynb\n",
      "11.반복문_while.ipynb\n",
      "12.함수_function.ipynb\n",
      "13.파일입출력_fileIO.ipynb\n",
      "14.클래스_class.ipynb\n",
      "15.모듈.ipynb\n",
      "16.패키지_Package.ipynb\n",
      "17.예외처리_exception.ipynb\n",
      "18.함수_내장함수.ipynb\n",
      "19.함수_외장함수.ipynb\n",
      "a.txt\n",
      "images<DIR>\n",
      "python 설치.txt\n",
      "source<DIR>\n",
      "testdir<DIR>\n",
      "test_copy.text\n",
      "나혼자 놀기.ipynb\n",
      "혼자하는 회귀분석.ipynb\n"
     ]
    }
   ],
   "source": [
    "# 4. glob\n",
    "# 디렉토리에 있는 파일목록 조회\n",
    "import glob\n",
    "# 파일을 조회하기 위해서는 정확한 파일명을넣어줘야 한다.\n",
    "# 그래서 전체를 의미하는 '*'을 넣어주어 모든 파일, 모든 형식을 출력하게 한다.\n",
    "# 특정파일 형태를 보고 싶으면 뒤의 *를 파일형식으로 변환하면 된다.\n",
    "glob.glob('*.*')\n",
    "files =  glob.glob('*')\n",
    "\n",
    "# os.path.isdir : 파일이 디렉토리이면 true 반환\n",
    "for file in files :\n",
    "    if os.path.isdir(file):\n",
    "        print('%s<DIR>'%file)\n",
    "    else :\n",
    "        print(file)\n",
    "        "
   ]
  },
  {
   "cell_type": "code",
   "execution_count": 53,
   "metadata": {},
   "outputs": [],
   "source": [
    "# 5. tempfile\n",
    "# 파일을 임시로 만들어서 사용할 때 유용\n",
    "import tempfile\n",
    "\n",
    "filename = tempfile.mktemp()\n",
    "f = tempfile.TemporaryFile() # 임시적인 저장공간으로 사용될 파일 객체를 리턴\n",
    "tempfile.TemporaryFile?"
   ]
  },
  {
   "cell_type": "code",
   "execution_count": null,
   "metadata": {},
   "outputs": [],
   "source": [
    "# 6. time관련함수\n",
    "# 시간을 표현하는 모듈, 1970.1.1.0.0.0초를 기준으로 경과한 시간을 초단위로 리턴\n",
    "# 시간대 UTC(Universal Time Cordinated, 협정세계시)를 사용\n",
    "import time\n",
    "time.time() # 1970.1.1.0.0. ~ 현재까지"
   ]
  },
  {
   "cell_type": "code",
   "execution_count": 67,
   "metadata": {},
   "outputs": [
    {
     "data": {
      "text/plain": [
       "time.struct_time(tm_year=2020, tm_mon=3, tm_mday=27, tm_hour=10, tm_min=45, tm_sec=57, tm_wday=4, tm_yday=87, tm_isdst=0)"
      ]
     },
     "execution_count": 67,
     "metadata": {},
     "output_type": "execute_result"
    }
   ],
   "source": [
    "# 6-1)  날짜와 시간형태로 변환하기\n",
    "\n",
    "# time.localtime() : time에서 리턴된 값을 날짜와 시간형탤로 변환\n",
    "# localtime이라는 것은 현재 지경의 시간대를 사용한다.\n",
    "# 우리나라에서 사용하면 UTC+ 9 를 더한 KST를 사용한다.\n",
    "time.localtime(time.time())\n",
    "\n",
    "# tm_wday는 요일(0~6)\n",
    "# tm_yday는 현재 년도 1월 1일에서 경과한 일수\n",
    "# tm_isdst는 서머타임의 여부"
   ]
  },
  {
   "cell_type": "code",
   "execution_count": null,
   "metadata": {},
   "outputs": [],
   "source": [
    "# 6-2) 날짜/시간포멧에 맞춰서 출력하기\n",
    "# time.localtime으로 만든 객체는 time.strftime함수를 사용해서 원한 날짜/시간 포맷으로 출력\n",
    "# time.strftime('포맷', 시간객체)\n",
    "# time.struct_time(tm_year=2020, tm_mon=3, tm_mday=27, tm_hour=10, tm_min=45, tm_sec=57, tm_wday=4, tm_yday=87, tm_isdst=0)\n",
    "# 형태에서 원하는 변수만 출력하는 형식\n",
    "time.strftime('%T.%m%d', time.localtime(time.time()))\n",
    "time.strftime('%c', time.localtime(time.time()))\n",
    "time.asctime(time.localtime(time.time()))\n",
    "\n",
    "# 시간포캣 : time.strftime('포맷문자', 시간객체)\n",
    "\"\"\"\n",
    "포맷모드 설명\n",
    "================================\n",
    "\n",
    "%a : 요일줄임말   Mon\n",
    "%A : 요일         Monday\n",
    "%b : 월줄임말     \n",
    "%B : 월\n",
    "%c : 날짜와 시간  요일 월 일 시간\n",
    "%d : 일(day)      0~31\n",
    "%H : 시간(24시간) 0~23\n",
    "%I : 시간(12시간) 0~12\n",
    "%j : 1.1 부터 경과일수 : 001. 366\n",
    "%m : 월            1~12\n",
    "%M : 분          01~59\n",
    "%p : AM or PM \n",
    "%S : 초            00~60\n",
    "%x : 현재설정된 로케일날짜 20/01/01\n",
    "%X : 현재설정된 로케일 시간\n",
    "%Y : 년도\n",
    "\n",
    "\"\"\"\n",
    "print(time.strftime('%X', time.localtime(time.time())))\n"
   ]
  },
  {
   "cell_type": "code",
   "execution_count": null,
   "metadata": {},
   "outputs": [],
   "source": [
    "# 6-3) datetime\n",
    "# datetime.datetime으로 현재날짜와 시간을 구할 때 today()메서드(ksr기준)\n",
    "import datetime\n",
    "import pytz\n",
    "datetime.datetime.today()\n",
    "datetime.datetime.now()\n",
    "\n",
    "# UTC기준으로 now메서드에 pytz모듈로 시간대를 지정\n",
    "# !pip install pytz - 이미 설치되어 있네\n",
    "\n",
    "print(datetime.datetime.now(pytz.timezone('UTC')))"
   ]
  },
  {
   "cell_type": "code",
   "execution_count": null,
   "metadata": {},
   "outputs": [],
   "source": [
    "# 6-4) 특정날짜와 시간으로 객체를 만들기\n",
    "# datetime.datetime에 연,월,일,시,분,초,ms를 넣어서 객체생성\n",
    "# datetime.datetime(year, month, day, hour=0,minut=0,second=0, microsecond=0)\n",
    "d = datetime.datetime(2020,5,19)\n",
    "print(d)\n",
    "\n",
    "# str 생성\n",
    "d =  datetime.datetime.strptime('2020-05-19','%Y-%m-%d')\n",
    "\n",
    "# 문자열포멧으로 생성 \n",
    "d = d.strftime('%Y-%m-%d')\n",
    "print(d)"
   ]
  },
  {
   "cell_type": "code",
   "execution_count": null,
   "metadata": {},
   "outputs": [],
   "source": [
    "# 6-4) 날짜와 시간차이 계산하기\n",
    "# datatime.timedelta는 두 날짜와 시간 사이의 차이를 계산할 때 사용한다.\n",
    "d = datetime.datetime(2020,3,27)\n",
    "from datetime import timedelta\n",
    "# 20일 전의 날짜를 리턴\n",
    "d - timedelta(days=20)\n",
    "datetime.datetime(2020,3,27) - datetime.datetime(2020,3,27)"
   ]
  },
  {
   "cell_type": "code",
   "execution_count": 97,
   "metadata": {},
   "outputs": [
    {
     "name": "stdout",
     "output_type": "stream",
     "text": [
      "0\n",
      "1\n",
      "2\n",
      "3\n",
      "4\n",
      "5\n",
      "6\n",
      "7\n",
      "8\n",
      "9\n"
     ]
    }
   ],
   "source": [
    "# 6-5) time.sleep : 일정한 시간동안 정지\n",
    "for i in range(10) :\n",
    "    print(i)\n",
    "    time.sleep(1.0) # 0.5초"
   ]
  },
  {
   "cell_type": "code",
   "execution_count": 105,
   "metadata": {},
   "outputs": [
    {
     "name": "stdout",
     "output_type": "stream",
     "text": [
      "     March 2020\n",
      "Mo Tu We Th Fr Sa Su\n",
      "                   1\n",
      " 2  3  4  5  6  7  8\n",
      " 9 10 11 12 13 14 15\n",
      "16 17 18 19 20 21 22\n",
      "23 24 25 26 27 28 29\n",
      "30 31\n",
      "None\n",
      "4\n",
      "(6, 31)\n"
     ]
    }
   ],
   "source": [
    "# 7. calendar\n",
    "# 파이썬에서 달력을 볼 수 있게 해주는 기능\n",
    "import calendar\n",
    "\n",
    "# print(calendar.calendar(2020)) # 1년치 달력\n",
    "# print(calendar.prcal(2020))\n",
    "print(calendar.prmonth(2020,3))# 월 지정\n",
    "print(calendar.weekday(2020,3,27))# 현재요일을 숫자로 리턴 0~6\n",
    "print(calendar.monthrange(2020,3)) # 첫 시작요일, 마지막 날짜 출력"
   ]
  },
  {
   "cell_type": "code",
   "execution_count": 145,
   "metadata": {},
   "outputs": [
    {
     "name": "stdout",
     "output_type": "stream",
     "text": [
      "0.4801029346048926\n",
      "0.7088681636482387\n",
      "10\n",
      "58\n",
      "x\n",
      "[1, 7, 3, 5, 6, 2, 4]\n"
     ]
    }
   ],
   "source": [
    "# 8. random\n",
    "# 난수를 발생해 주는 것만 아니라 다양한 랜덤함수를 제공\n",
    "import random\n",
    "# help(random)\n",
    "\n",
    "print(random.random()) # 0~1사이의 난수를 리턴\n",
    "print(random.uniform(0,1)) # 0~10사이의 실수 1개를 리턴 0<= x <= 1\n",
    "print(random.randint(0,10)) # 0~10사이의 정수 1개를 리턴 0<= x <= 1\n",
    "print(random.randrange(0,101,2)) # 0~100까지 2씩 증가한 숫자 1개를 리턴\n",
    "print(random.choice('abcdefghijklmnopqrstuvwxyz')) # iterable값 중 1개의 값을 리턴\n",
    "\n",
    "items = [1,2,3,4,5,6,7]\n",
    "random.shuffle(items) # return값이 없고 items리스트 자체를 수정함\n",
    "print(items)"
   ]
  },
  {
   "cell_type": "code",
   "execution_count": 149,
   "metadata": {},
   "outputs": [
    {
     "data": {
      "text/plain": [
       "True"
      ]
     },
     "execution_count": 149,
     "metadata": {},
     "output_type": "execute_result"
    }
   ],
   "source": [
    "# 9. webbrowser\n",
    "# 기본형브라우저를 자동으로 실행\n",
    "import webbrowser as wb\n",
    "wb.open('http://www.google.com')\n",
    "wb.open_new('http://www.naver.com')\n",
    "wb.open_new_tab('http://www.naver.com')"
   ]
  },
  {
   "cell_type": "code",
   "execution_count": 163,
   "metadata": {},
   "outputs": [
    {
     "name": "stdout",
     "output_type": "stream",
     "text": [
      "이름: 홍길동, 이름: 25, 이름: 프로그래머\n",
      "이름: 홍길순, 이름: 23, 이름: 관리자\n",
      "이름: 홍길자, 이름: 21, 이름: 디자이너\n",
      "<class 'tuple'>\n"
     ]
    }
   ],
   "source": [
    "# 10. namedtuple\n",
    "# 파이썬 자료형 중 하나이다. 튜플이지만 속성으로 값에 접근할 수 있도록 해주는 자료형이다.\n",
    "# 특징\n",
    "# a. 데이터 수정 불가\n",
    "# b. 일반 class(객체)형태보다 적은 메모리 사용\n",
    "# c. 다양한 접근법을 지원\n",
    "# d. 딕셔너리 키와 같이 사용이 가능하다.\n",
    "\n",
    "# 10-1) 일반적인 방법 : tuple은 index로 접근\n",
    "a = (\"홍길동\",25,\"프로그래머\")\n",
    "b = (\"홍길순\",23,\"관리자\")\n",
    "c = (\"홍길자\",21,\"디자이너\")\n",
    "\n",
    "# 현재 튜플의 구성이 어떻게 되어있는지 모름\n",
    "for person in [a,b,c] :\n",
    "    print('이름: %s'%person[0], end = ', ')\n",
    "    print('이름: %d'%person[1], end = ', ')\n",
    "    print('이름: %s'%person[2])\n",
    "    \n",
    "print(type(a))"
   ]
  },
  {
   "cell_type": "code",
   "execution_count": 158,
   "metadata": {},
   "outputs": [
    {
     "name": "stdout",
     "output_type": "stream",
     "text": [
      "이름: 홍길동, 나이: 25, 직업: 프로그래머\n",
      "이름: 홍길순, 나이: 26, 직업: 관리자\n",
      "이름: 홍길자, 나이: 22, 직업: 디자이너\n",
      "<class '__main__.Person'>\n"
     ]
    }
   ],
   "source": [
    "# 10-2) 객체로 속성을 접근\n",
    "class Person : \n",
    "    def __init__(self, name, age, job):\n",
    "        self.name = name\n",
    "        self.age = age\n",
    "        self.job = job\n",
    "        \n",
    "a = Person(name = '홍길동',age= 25,job= '프로그래머')\n",
    "b = Person(name = '홍길순',age= 26,job= '관리자')\n",
    "c = Person(name = '홍길자',age= 22,job= '디자이너')\n",
    "\n",
    "for person in [a,b,c] :\n",
    "    print('이름: %s'%person.name, end = ', ')\n",
    "    print('나이: %d'%person.age, end = ', ')\n",
    "    print('직업: %s'%person.job)\n",
    "    \n",
    "print(type(a))"
   ]
  },
  {
   "cell_type": "code",
   "execution_count": 162,
   "metadata": {},
   "outputs": [
    {
     "name": "stdout",
     "output_type": "stream",
     "text": [
      "이름: 홍길동, 나이: 25, 직업: 프로그래머\n",
      "이름: 홍길순, 나이: 26, 직업: 관리자\n",
      "이름: 홍길자, 나이: 22, 직업: 디자이너\n",
      "<class '__main__.namedPerson'>\n"
     ]
    }
   ],
   "source": [
    "# 10-2) namedtuple로 속성을 접근\n",
    "# 튜플이지만 인덱스가 아니라 속성으로 접근\n",
    "from collections import namedtuple\n",
    "# help(namedtuple)\n",
    "namedPerson = namedtuple('namedPerson',['name','age','job'])\n",
    "a = namedPerson(name = '홍길동',age= 25,job= '프로그래머')\n",
    "b = namedPerson(name = '홍길순',age= 26,job= '관리자')\n",
    "c = namedPerson(name = '홍길자',age= 22,job= '디자이너')\n",
    "\n",
    "for p in [a,b,c] :\n",
    "    print('이름: %s'%p.name, end = ', ')\n",
    "    print('나이: %d'%p.age, end = ', ')\n",
    "    print('직업: %s'%p.job)\n",
    "print(type(a))"
   ]
  },
  {
   "cell_type": "code",
   "execution_count": null,
   "metadata": {},
   "outputs": [],
   "source": [
    "# 11. pickle"
   ]
  }
 ],
 "metadata": {
  "kernelspec": {
   "display_name": "Python 3",
   "language": "python",
   "name": "python3"
  },
  "language_info": {
   "codemirror_mode": {
    "name": "ipython",
    "version": 3
   },
   "file_extension": ".py",
   "mimetype": "text/x-python",
   "name": "python",
   "nbconvert_exporter": "python",
   "pygments_lexer": "ipython3",
   "version": "3.7.6"
  }
 },
 "nbformat": 4,
 "nbformat_minor": 4
}
