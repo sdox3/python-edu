{
 "cells": [
  {
   "cell_type": "code",
   "execution_count": null,
   "metadata": {},
   "outputs": [],
   "source": [
    "# 한줄주석\n",
    "#\"\"\"여러줄 주석\"\"\"\n",
    "# 파이썬에서는 문자열은 작은 따옴표(''), 큰 따옴표(\"\") 구분하지 않는다."
   ]
  },
  {
   "cell_type": "markdown",
   "metadata": {},
   "source": [
    "## Jupyter NoteBook 단축키\n",
    "\n",
    "1. 셀나누기 : ctrl +  shifs + -\n",
    "2. 셀 실행하기 : ctrl + enter or shift + enter\n",
    "3. 셀무브 : help -> edit keyboardShortcut -> cell up, cell down을 수정\n"
   ]
  },
  {
   "cell_type": "markdown",
   "metadata": {},
   "source": [
    "### 1. 숫자형"
   ]
  },
  {
   "cell_type": "markdown",
   "metadata": {},
   "source": [
    "#### 1) int\n",
    "\n",
    "정수형(Integer)으로서 양의 정수, 음의 정수 그리고 0을 정의할 수 있다."
   ]
  },
  {
   "cell_type": "code",
   "execution_count": 18,
   "metadata": {
    "scrolled": true
   },
   "outputs": [
    {
     "name": "stdout",
     "output_type": "stream",
     "text": [
      "1 -123 3\n",
      "아아아 1, -123, 3\n",
      "<class 'int'>\n",
      "0\n",
      "1\n",
      "2\n",
      "3\n",
      "4\n",
      "5\n",
      "6\n",
      "7\n",
      "8\n",
      "9\n",
      "10\n",
      "11\n",
      "12\n",
      "13\n",
      "14\n",
      "15\n",
      "16\n",
      "17\n",
      "18\n",
      "19\n",
      "20\n",
      "21\n",
      "22\n",
      "23\n",
      "24\n",
      "25\n",
      "26\n",
      "27\n",
      "28\n",
      "29\n",
      "30\n",
      "31\n",
      "32\n",
      "33\n",
      "34\n",
      "35\n",
      "36\n",
      "37\n",
      "38\n",
      "39\n",
      "40\n",
      "41\n",
      "42\n",
      "43\n",
      "44\n",
      "45\n",
      "46\n",
      "47\n",
      "48\n",
      "49\n",
      "50\n",
      "51\n",
      "52\n",
      "53\n",
      "54\n",
      "55\n",
      "56\n",
      "57\n",
      "58\n",
      "59\n",
      "60\n",
      "61\n",
      "62\n",
      "63\n",
      "64\n",
      "65\n",
      "66\n",
      "67\n",
      "68\n",
      "69\n",
      "70\n",
      "71\n",
      "72\n",
      "73\n",
      "74\n",
      "75\n",
      "76\n",
      "77\n",
      "78\n",
      "79\n",
      "80\n",
      "81\n",
      "82\n",
      "83\n",
      "84\n",
      "85\n",
      "86\n",
      "87\n",
      "88\n",
      "89\n",
      "90\n",
      "91\n",
      "92\n",
      "93\n",
      "94\n",
      "95\n",
      "96\n",
      "97\n",
      "98\n",
      "99\n",
      "\f",
      "\n"
     ]
    }
   ],
   "source": [
    "a = 1\n",
    "b= -123\n",
    "c = 3 \n",
    "print(a,b,c)\n",
    "print(\"아아아 %d, %d, %d\"%(a,b,c))\n",
    "print(type(a))\n",
    "i =0\n",
    "for i in range(100) :\n",
    "    print(i)\n",
    "# 아래 명령은 에러는 나지 않지만 내장함수인 print가 int타입인 print변수로 재정의 되어서 print함수를 쓸 수 없게됨\n",
    "# print = 1 \n",
    "# print(a) -- print는 변수가 되어서 에러남\n"
   ]
  },
  {
   "cell_type": "markdown",
   "metadata": {},
   "source": [
    "#### 2) float\n",
    "\n",
    "실수형(float-point)으로서 소수점을 가지는 숫자를 정의할 수 있다."
   ]
  },
  {
   "cell_type": "code",
   "execution_count": 22,
   "metadata": {},
   "outputs": [
    {
     "name": "stdout",
     "output_type": "stream",
     "text": [
      "1.2 -3.14\n",
      "1 -123 3\n",
      "127 2303\n",
      "<class 'float'>\n"
     ]
    }
   ],
   "source": [
    "d = 1.2\n",
    "e = -3.14\n",
    "print(d,e)\n",
    "#d?\n",
    "print(a,b,c)\n",
    "\n",
    "# 8, 16 진수로 표현\n",
    "# 8진수 0o, 0O(앞은 숫자 뒤는 영어)\n",
    "# 16진수는 0x 또는 0X\n",
    "f = 0o177\n",
    "g = 0x8ff\n",
    "print(f,g)\n",
    "print(type(d))\n"
   ]
  },
  {
   "cell_type": "markdown",
   "metadata": {},
   "source": [
    "#### 3) complex\n",
    "\n",
    "복소수(complex) 복소수를 정의하는 데 2가지 방법으로 사용할 수 있다.\n",
    "복소수란 a+bi로 나타낼 수 있는 숫자로 a는 실수부, bi는 허수부를 나타낸다\n",
    "수학교과서 허수단위를 i로 썻지만 파이썬에서는 j 또는 J로 나타낸다."
   ]
  },
  {
   "cell_type": "code",
   "execution_count": null,
   "metadata": {},
   "outputs": [],
   "source": [
    "# complex 복소수를 정의하는 함수\n",
    "#complex?\n",
    "a = complex(1,3)\n",
    "a\n",
    "# 복소수 .real은 복소수의 실수부분을 반환, 복소수.imag는 허수부를 반환\n",
    "print(a.real)\n",
    "print(a.imag)"
   ]
  },
  {
   "cell_type": "markdown",
   "metadata": {},
   "source": [
    "#### 4) 숫자형을 활용하기 위한 연산자\n",
    "\n",
    "<code>+, -, *, /, **, %, //</code>연산자를 활용하여 숫자형자료의 연산을 수행한다.\n",
    "\n",
    "1. 사칙연산자 : +, -, /, *\n",
    "2. 제곱연산자 : **\n",
    "3. 나머지연산자 : %\n",
    "4. 나눗셈결과 나머지를 버리는 연산자 : //(주의할 점은 정수형과 실수형의 결과가 상이하다.)\n",
    "                                       // 실수의 경우 1.0 식으로 뒤에 .0이 붙는다."
   ]
  },
  {
   "cell_type": "code",
   "execution_count": null,
   "metadata": {},
   "outputs": [],
   "source": [
    "print('더하기 = ',1+1)\n",
    "print('빼기기 = ',1-1)\n",
    "print('곱하기 = ',2*2)\n",
    "print('나누기 = ',3/2)\n",
    "\n",
    "print(\"나머지 = \", 3%2)\n",
    "print('제곱 = ',3**2)\n",
    "print('버리기 정수 = ',3//2)\n",
    "print('버리기 실수 = ',3//2.0)\n",
    "\n",
    "x = 1\n",
    "print('부호연산자 : ',-x)\n",
    "print('부호연산자 : ',+x)"
   ]
  },
  {
   "cell_type": "markdown",
   "metadata": {},
   "source": [
    "#### 5) 숫자형관련함수\n",
    "\n",
    "* abs() : 절대값 변환\n",
    "* int() : 실수 혹은 복소수를 정수로 변환 \n",
    "* float() : 정수를 실수로 변환\n",
    "* divmod(x, y) : x//y와 x%y의 결과를 한쌍으로 반환\n",
    "* pow(x,y) : x**y값을 반환"
   ]
  },
  {
   "cell_type": "code",
   "execution_count": 37,
   "metadata": {},
   "outputs": [
    {
     "name": "stdout",
     "output_type": "stream",
     "text": [
      "1\n",
      "1\n",
      "1\n",
      "5.0\n",
      "(4, 3)\n",
      "81\n"
     ]
    }
   ],
   "source": [
    "print('절대값 : ', abs(-1))\n",
    "print('정수 : ', int(1.0))\n",
    "print('정수 : ', int(1.5))\n",
    "print('실수 : ', float(5))\n",
    "print('몫과 나머지 : ', divmod(19,4))\n",
    "print('제곱근 : ', pow(3,4))"
   ]
  },
  {
   "cell_type": "markdown",
   "metadata": {},
   "source": [
    "### 2. 문자열\n",
    "\n",
    "문자열(String)이란 문자의 집합을 의미한다.\n",
    "파이썬에서 문자열을 작은 따옴표 또는 큰 따옴표로 정의한다. 또한 큰 따옴표 3개로 연속해서 감싸서 정의하는 방법이 있다.\n",
    "\"\"\"\"\"\"이 아닌경우 문자열의 줄이 바뀌면 인식을 못함"
   ]
  },
  {
   "cell_type": "code",
   "execution_count": null,
   "metadata": {},
   "outputs": [],
   "source": [
    "# 1. 문자열의 정의방법\n",
    "\n",
    "a = '문자열 정의 방법(1) - 작은 따옴표'\n",
    "b = \"문자열 정의 방법(2) - 큰 따옴표\"\n",
    "c = \"\"\"문자열 정의 방법(3) - \n",
    "연속으로 3개의 큰 따옴표\"\"\"\n",
    "print(a)\n",
    "print(b)\n",
    "print(c)\n",
    "print(type(a),type(b),type(c))"
   ]
  },
  {
   "cell_type": "code",
   "execution_count": null,
   "metadata": {},
   "outputs": [],
   "source": [
    "# 2. 문자열에 작은/큰 따옴표가 혼합해서 정의하는 방법\n",
    "a = \"Python's a simple program language\"\n",
    "b = 'Python\"s a simple program language'\n",
    "c = 'Python\\'s a simple program language'\n",
    "d = \"Python\\\"s a simple program language\"\n",
    "print(a,b)\n",
    "print(c,d)"
   ]
  },
  {
   "cell_type": "code",
   "execution_count": null,
   "metadata": {},
   "outputs": [],
   "source": [
    "# 3. 문자열 연산하기\n",
    "# 파이썬에서 문자열을 연산할 때 자료형이 틀릴경우 에러발생\n",
    "\n",
    "# 1) 문자열연결하기\n",
    "# a = 1 + 'a' # java에서는 1a로 연결됨, 파이썬은 자료형이 달라서 에러\n",
    "a = 'a'+'1'\n",
    "print(a)\n",
    "\n",
    "head = 'Python'\n",
    "tail = ' is a simple program language'\n",
    "print(head + tail)\n",
    "\n",
    "# 2) 문자열 곱하기\n",
    "i = 0\n",
    "for i in range(100) : \n",
    "    a = '*'*i\n",
    "    print(a)"
   ]
  },
  {
   "cell_type": "code",
   "execution_count": null,
   "metadata": {},
   "outputs": [],
   "source": [
    "# 4. 문자열인덱싱과 슬라이싱\n",
    "# 인덱싱이란? 문자열의 특정위치의 문자를 가리키는 것이고\n",
    "# 슬라이싱이란? 문자열의 특정 위치의 문자를 자르는 것\n",
    "\n",
    "# 4-1) 문자열의 인덱싱\n",
    "# 인덱스가 양수인 경우는 처음부터 시작되고 음수인 경우는 끝에서 시작된다.\n",
    "a = '안녕하세요 파이썬?'\n",
    "print(a)\n",
    "print(a[-1])\n",
    "print(\"안녕하세요 파이썬?\"[0])"
   ]
  },
  {
   "cell_type": "code",
   "execution_count": null,
   "metadata": {},
   "outputs": [],
   "source": [
    "# 4-2) 문자열의 슬라이싱\n",
    "# 문자열에서 특정 문자열을 잘라내는 것을 의미한다. 즉 문자열을 추출하는 것\n",
    "print(a[0:3])\n",
    "b = '20200317파이썬'\n",
    "print(b[0]+b[1]+b[2]) # 이건 인덱싱 \n",
    "print(b[0:6]) # 슬라이싱 변수[start : end+1]의 형태로 수행한다. end의 미만으로 값을 가져옴\n",
    "            # start 나 end 가 빈칸인 경우 처음 또는 끝까지 출력하라는 뜻이다.\n",
    "    \n",
    "# 문자열의 길이를 리턴하는 함수 len()\n",
    "print(len(b))\n",
    "print(b[8:len(b)])"
   ]
  },
  {
   "cell_type": "code",
   "execution_count": null,
   "metadata": {},
   "outputs": [],
   "source": [
    "# 실습 1\n",
    "a = '20200317파이썬'\n",
    "\n",
    "date = a[:8]\n",
    "p = a[8:]# 파이썬만\n",
    "year =a[:4]\n",
    "day =a[4:8]\n",
    "\n",
    "print(date)\n",
    "print(p)\n",
    "print(year)\n",
    "print(day)"
   ]
  },
  {
   "cell_type": "code",
   "execution_count": 5,
   "metadata": {},
   "outputs": [
    {
     "name": "stdout",
     "output_type": "stream",
     "text": [
      "P y thon\n",
      "Python\n"
     ]
    }
   ],
   "source": [
    "# 5. 문자열바꾸기\n",
    "# 파이썬에서는 문자열과 튜플은 변경할 수 없는 자료형 중 하나이다.\n",
    "# 이런 자료형을 immutable 자료형이라고 한다.\n",
    "a = \"Pithon\"\n",
    "# a[1] = '5'  TypeError: 'str' object does not support item assignment\n",
    "## 문자열은 변경할 수 없기 때문에 에러가 발생한다.\n",
    "\n",
    "# 문자열수정\n",
    "b = a[:1]\n",
    "\n",
    "print(b[:1],'y',a[2:])\n",
    "a = b[:1]+'y'+a[2:]\n",
    "print(a)\n"
   ]
  },
  {
   "cell_type": "code",
   "execution_count": 16,
   "metadata": {},
   "outputs": [
    {
     "name": "stdout",
     "output_type": "stream",
     "text": [
      "오늘의 날씨는 -5도 입니다.\n",
      "오늘의 날씨는 영하5도 입니다.\n",
      "제 나이는 10살 입니다. 공부를 5일 동안 했습니다.\n"
     ]
    }
   ],
   "source": [
    "# 6. 문자열 포매팅\n",
    "# '오늘의 날씨는 -5도 입니다'\n",
    "\n",
    "a = -5\n",
    "print('오늘의 날씨는 %d도 입니다.'%a)\n",
    "\n",
    "# %d : 정수, %f : 실수 , %s : 문자열\n",
    "\n",
    "if a > 0 :\n",
    "    print('오늘의 날씨는 영상%d도 입니다.'%a)\n",
    "else :\n",
    "    print('오늘의 날씨는 영하%s도 입니다.'%-a)\n",
    "# 문자열을 숫자에 넣으면 에러가 걸림, 하지만 숫자를 문자열에 넣어도 문제 ㄴㄴ\n",
    "\n",
    "# 두개 이상의 값을 포매팅\n",
    "number = 10\n",
    "day = 5\n",
    "print(\"제 나이는 %d살 입니다. 공부를 %d일 동안 했습니다.\"%(number, day))\n",
    "\n",
    "# 문자열포맷코드\n",
    "# 코드 설명\n",
    "#=====================================\n",
    "# %s : 문자열 (String)\n",
    "# %c : 한개의 문자(charactor)\n",
    "# %d : 정수 (Integer)\n",
    "# %f : 실수 (Float)\n",
    "# %o : 8진수 \n",
    "# %x : 16진수\n",
    "# %% : 퍼센트"
   ]
  },
  {
   "cell_type": "code",
   "execution_count": 21,
   "metadata": {},
   "outputs": [
    {
     "name": "stdout",
     "output_type": "stream",
     "text": [
      "a :         Hi\n",
      "a : Hi         14\n",
      "3.1 3\n",
      "오늘의 현재온도는 18도 입니다.\n",
      "오늘의 현재온도는 18도 입니다.\n",
      "제 나이는 10살 입니다. 공부를 five일 동안 했습니다.\n",
      "제 나이는 10살 입니다. 공부를 five일 동안 했습니다.\n",
      "제 나이는 10살 입니다. 공부를 5일 동안 했습니다.\n",
      "Hi         10\n",
      "Hi         10\n",
      "        Hi 10\n",
      "    Hi     10\n",
      "\n",
      "Hi********\n",
      "********Hi\n",
      "****Hi****\n",
      "    3.1416\n",
      "{그리고}\n"
     ]
    }
   ],
   "source": [
    "# 7. 포켓코드와 숫자를 함께 사용하기\n",
    "# 7-1) 정렬과 공백\n",
    "# %10s : %s포맷에 고정된 길이를 설정\n",
    "# %10s로 정의된 경우 정의된 문자열의 길이가 10보다 작을경우 나머지는 공백으로 채워지고\n",
    "#오른쪽으로 정렬\n",
    "\n",
    "a = 'a : %10s'%'Hi'\n",
    "print(a)\n",
    "\n",
    "# %-10s일 정우 왼쪽으로 정렬\n",
    "\n",
    "a = 'a : %-10s'%'Hi'\n",
    "print(a, len(a))\n",
    "\n",
    "# 7-2) 소수점표현하기\n",
    "\n",
    "a = '%0.1f'%3.141592\n",
    "print(a, len(a))\n",
    "\n",
    "# 7-3) format() 함수 사용\n",
    "print('오늘의 현재온도는 {0}도 입니다.'.format(18))\n",
    "print('오늘의 현재온도는 {0}도 입니다.'.format('18'))\n",
    "\n",
    "# 7-4) 2개이상 format() 함수 사용\n",
    "age=10\n",
    "day =\"five\"\n",
    "print(\"제 나이는 {0}살 입니다. 공부를 {1}일 동안 했습니다.\".format(age, day))\n",
    "\n",
    "# 7-5) 이름으로 format() 함수 사용\n",
    "print(\"제 나이는 {a}살 입니다. 공부를 {b}일 동안 했습니다.\".format(a=age,b=day))\n",
    "print(\"제 나이는 {a}살 입니다. 공부를 {b}일 동안 했습니다.\".format(a=10,b=5))\n",
    "\n",
    "# 7-6) format()함수와 정렬하기\n",
    "# a. 왼쪽정렬\n",
    "b = '{0:10}'.format('Hi')\n",
    "print(b,len(b))\n",
    "b = '{0:<10}'.format('Hi')\n",
    "print(b,len(b))\n",
    "\n",
    "# b. 오른쪽 정렬\n",
    "b = '{0:>10}'.format('Hi')\n",
    "print(b,len(b))\n",
    "\n",
    "# c. 가운데 정렬\n",
    "b = '{0:^10}'.format('Hi')\n",
    "print(b,len(b))\n",
    "print()\n",
    "\n",
    "# 7-7) 공백채우기\n",
    "c = '{0:*<10}'.format('Hi')\n",
    "print(c)\n",
    "c = '{0:*>10}'.format('Hi')\n",
    "print(c)\n",
    "c = '{0:*^10}'.format('Hi')\n",
    "print(c)\n",
    "\n",
    "# 7-8) format()함수로 소수점 표현하기\n",
    "pi = 3.141592\n",
    "print('{0:10.4f}'.format(pi))\n",
    "\n",
    "# 7-9) 중괄호를 표현하기 : { 아아ㅏ}를 표현하려면 연속으로 중괄호를 사용{{}}\n",
    "\n",
    "f = '{{그리고}}'.format()\n",
    "print(f)"
   ]
  },
  {
   "cell_type": "code",
   "execution_count": 42,
   "metadata": {},
   "outputs": [
    {
     "name": "stdout",
     "output_type": "stream",
     "text": [
      "내 이름은 소향입니다. 나이는41입니다\n",
      "내 이름은 소향입니다. 나이는41입니다\n",
      "내 이름은 소향입니다. 나이는4.1입니다\n",
      "{'hi':<10}\n",
      "        hi\n",
      "hi        \n",
      "    hi    \n",
      "3.1416\n",
      "{그리고}\n",
      "내 이름은 소향입니다. 나이는41입니다\n"
     ]
    }
   ],
   "source": [
    "# 8. f문자열 포매팅\n",
    "# 파이썬2.x, 파이썬 3.6버전 미만에서는 사용할 수 없는 기능\n",
    "# 사용법 : 문자열앞에 f를 붙이면 됨 f'문자열'\n",
    "name = '소향'\n",
    "age = 41\n",
    "a = '내 이름은 {name}입니다. 나이는{age}입니다'.format(name=name,age=age)\n",
    "b = f'내 이름은 {name}입니다. 나이는{age}입니다'\n",
    "# f접두사를 사용하면 문자열 안에서 연산가능\n",
    "c = f'내 이름은 {name}입니다. 나이는{age/10}입니다' \n",
    "print(a)\n",
    "print(b)\n",
    "print(c)\n",
    "\n",
    "# 정렬\n",
    "print(\"{'hi':<10}\")\n",
    "print(f\"{'hi':>10}\")\n",
    "print(f\"{'hi':10}\")\n",
    "print(f\"{'hi':^10}\")\n",
    "print(f\"{pi:0.4f}\")\n",
    "print(f'{{그리고}}');\n",
    "      \n",
    "# f문자열과 딕셔너리\n",
    "d = {'name' :'소향','age':41} ## 키와 값이 한쌍으로 있는 자료형\n",
    "print(f'내 이름은 {d[\"name\"]}입니다. 나이는{d[\"age\"]}입니다')\n"
   ]
  },
  {
   "cell_type": "code",
   "execution_count": 22,
   "metadata": {},
   "outputs": [
    {
     "name": "stdout",
     "output_type": "stream",
     "text": [
      "Python 3.7.4\n"
     ]
    }
   ],
   "source": [
    "%who"
   ]
  },
  {
   "cell_type": "markdown",
   "metadata": {},
   "source": [
    "#### 3. 문자열 관련함수\n",
    "\n",
    "* count() : 문자열의 문자개수 리턴\n",
    "* find()  : 특정 문자의 위치를 리턴하는 함수, 찾는 문자가 없으면 -1를 리턴\n",
    "* index() : 특정 문자의 위치를 리턴, 찾는 문자가 없을 시 err\n",
    "* join()  : 문자열를 삽입\n",
    "* upper() : 대문자\n",
    "* lower() : 소문자\n",
    "* rtrip() : 오른쪽 공백 삭제\n",
    "* lstrip() : 왼쪽공백 삭제\n",
    "* strip() : 모든 공백 삭제\n",
    "* replace() : 특정문자를 변경\n",
    "* split() : 특정위치의 문자를 추출"
   ]
  },
  {
   "cell_type": "code",
   "execution_count": null,
   "metadata": {},
   "outputs": [],
   "source": [
    "# 1. count() : 문자열갯수리턴, 매개값으로 특정문자를 전달해야함\n",
    "#              문자열 안에 특정 문자가 몇개 있는지 리턴             \n",
    "a = 'Life is too short'\n",
    "b = 'life'\n",
    "print(a.count('o'))\n",
    "# 변수에 들어있는 문자열을 통해 카운트 가능하고 대소문자 구분함\n",
    "print(a.count(b))"
   ]
  },
  {
   "cell_type": "code",
   "execution_count": 64,
   "metadata": {},
   "outputs": [
    {
     "name": "stdout",
     "output_type": "stream",
     "text": [
      "P.y.t.h.o.n. .i.a. .a. .s.i.m.p.l.e. .p.r.o.g.r.a.m. .l.a.n.g.u.a.g.e\n",
      "문자 a의 위치는 8\n",
      "문자 l의 위치는 16\n",
      "문자 .의 위치는 -1\n"
     ]
    }
   ],
   "source": [
    "# 2. find() : 문자의 위치를 리턴 \n",
    "# 문자열에 특정문자가 중복된다면 맨 처음에 있는 문자위치를 리턴\n",
    "a = 'Python ia a simple program language'\n",
    "print('문자 a의 위치는', a.find('a'))\n",
    "print('문자 l의 위치는', a.find('l'))\n",
    "print('문자 .의 위치는', a.find('.')) # .이 없음으로 -1를 리턴"
   ]
  },
  {
   "cell_type": "code",
   "execution_count": null,
   "metadata": {},
   "outputs": [],
   "source": [
    "# 3. index() : 문자의 위치를 리턴, 찾는 문자가 없을 시 err\n",
    "print('문자 a의 위치는', a.index('a'))\n",
    "print('문자 .의 위치는', a.index('.'))"
   ]
  },
  {
   "cell_type": "code",
   "execution_count": null,
   "metadata": {},
   "outputs": [],
   "source": [
    "# 4. join() : 문자열을 연결\n",
    "#a.join?\n",
    "print('a','b','c','d')\n",
    "print('abcd')\n",
    "a = '.'.join('abcd')\n",
    "print(a)"
   ]
  },
  {
   "cell_type": "code",
   "execution_count": null,
   "metadata": {},
   "outputs": [],
   "source": [
    "# 5. upper(), lower()\n",
    "a = 'hi'\n",
    "print(a.upper())\n",
    "a = 'Hi'\n",
    "print(a.lower())"
   ]
  },
  {
   "cell_type": "code",
   "execution_count": null,
   "metadata": {},
   "outputs": [],
   "source": [
    "# 6. lstrip(), rstrip()\n",
    "a = '                hi'\n",
    "print(a.lstrip())\n",
    "b = 'hi                '\n",
    "print(b.rstrip())\n",
    "c = '    gi          '\n",
    "print(c.strip())"
   ]
  },
  {
   "cell_type": "code",
   "execution_count": 78,
   "metadata": {},
   "outputs": [
    {
     "name": "stdout",
     "output_type": "stream",
     "text": [
      "Python is a simple program language\n",
      "Python #s a s#mple program language\n",
      "java #s a s#mple program language\n"
     ]
    }
   ],
   "source": [
    "# 7. replace() : 문자열변경\n",
    "a = 'Pithon is a simple program language'\n",
    "# pithon -> python 변경\n",
    "a = a.replace('Pithon','Python') # 자바처럼 새로운 변수를 만들어서 저장하는 방식\n",
    "print(a)\n",
    "\n",
    "a = a.replace('i','#',-1) # count의 default 값은 -1이기 때문에 전부 변경됨\n",
    "print(a) \n",
    "a = a.replace('Python','java')\n",
    "print(a)"
   ]
  },
  {
   "cell_type": "code",
   "execution_count": null,
   "metadata": {},
   "outputs": [],
   "source": [
    "# 8. split(나누는기준, 리스트 길이) : 문자열 나누기\n",
    "# 공백 기준으로 나누기 list형식으로 리턴해줌\n",
    "# defualt값이 None(공백)\n",
    "print(a.split())\n",
    "print(a.split(None))\n",
    "print(a.split(None,2))\n",
    "\n",
    "# 컴마(,)기준으로 분리\n",
    "a = 'a,b,c,d'\n",
    "print(a.split(a))"
   ]
  },
  {
   "cell_type": "markdown",
   "metadata": {},
   "source": [
    "# 연습문제"
   ]
  },
  {
   "cell_type": "code",
   "execution_count": 97,
   "metadata": {},
   "outputs": [
    {
     "name": "stdout",
     "output_type": "stream",
     "text": [
      "1\n"
     ]
    }
   ],
   "source": [
    "# 1. 주민등록번호에서 성별을 나타내는 숫자 찾기\n",
    "a = '950221-140000'\n",
    "print(a[7])"
   ]
  },
  {
   "cell_type": "code",
   "execution_count": 82,
   "metadata": {},
   "outputs": [
    {
     "name": "stdout",
     "output_type": "stream",
     "text": [
      "12\n"
     ]
    }
   ],
   "source": [
    "# 2. 문자열찾기\n",
    "# 변수 a에서 short가 시작된 위치를 추력하기\n",
    "a = 'Life is too short, you need python'\n",
    "\n",
    "print(a.find('short'))\n"
   ]
  },
  {
   "cell_type": "code",
   "execution_count": 103,
   "metadata": {},
   "outputs": [
    {
     "name": "stdout",
     "output_type": "stream",
     "text": [
      "a#b#c#d\n",
      "a#b#c#d\n",
      "['a', 'b', 'c', 'd']\n",
      "a#b#c#d\n"
     ]
    }
   ],
   "source": [
    "# 3. 문자열 바꾸기\n",
    "# a:b:c:d -> a#b#c#d\n",
    "\n",
    "a = 'a:b:c:d'\n",
    "print(a.replace(':',\"#\"))\n",
    "\n",
    "# 선생님이 원하던 방식\n",
    "print('#'.join(a.split(':')))\n",
    "\n",
    "a = a.split(':')\n",
    "print(a)\n",
    "a = '#'.join(a)\n",
    "print(a)"
   ]
  },
  {
   "cell_type": "code",
   "execution_count": 104,
   "metadata": {},
   "outputs": [
    {
     "name": "stdout",
     "output_type": "stream",
     "text": [
      "239200000\n"
     ]
    }
   ],
   "source": [
    "# 4. 삼성주가 89000이고 lg주가 7510000원일 경우\n",
    "# 특정 사람이 삼성주식 1000주와 lg주식 20주를 가지고 있을 경우\n",
    "# 주식의 총액을 계산\n",
    "samsung = 89000\n",
    "lg =7510000\n",
    "total = samsung*1000 + lg*20\n",
    "print(total)\n"
   ]
  },
  {
   "cell_type": "code",
   "execution_count": 105,
   "metadata": {},
   "outputs": [
    {
     "name": "stdout",
     "output_type": "stream",
     "text": [
      "19470000.0\n"
     ]
    }
   ],
   "source": [
    "# 5. 4번에서 각 주식이 5%, 10% 하락한 경우 손실액\n",
    "samsung = samsung*0.05*1000\n",
    "lg =lg*0.1*20\n",
    "less = samsung+lg\n",
    "\n",
    "print(less)"
   ]
  },
  {
   "cell_type": "code",
   "execution_count": 113,
   "metadata": {},
   "outputs": [
    {
     "name": "stdout",
     "output_type": "stream",
     "text": [
      "python\n",
      "python\n",
      "python\n",
      "python\n",
      "python\n",
      "python\n",
      "python\n",
      "python\n",
      "python\n",
      "python\n",
      "\n"
     ]
    }
   ],
   "source": [
    "# 6. python 10번 출력 줄바꿔서\n",
    "a = 'python'\n",
    "print((a+'\\n')*10)\n"
   ]
  },
  {
   "cell_type": "code",
   "execution_count": 115,
   "metadata": {},
   "outputs": [
    {
     "name": "stdout",
     "output_type": "stream",
     "text": [
      "hi python\n",
      "Hi python\n"
     ]
    }
   ],
   "source": [
    "# 7. a라는 변수에 'hello python'일 경우 a 값을 hi python 변경\n",
    "a = 'hello python'\n",
    "a = a.replace('hello','hi')\n",
    "print(a)\n",
    "\n",
    "# 첫글자만 대문자\n",
    "print(a.capitalize())"
   ]
  },
  {
   "cell_type": "code",
   "execution_count": null,
   "metadata": {},
   "outputs": [],
   "source": [
    "# 8. x라는 변수에 'abcdef'일 경우 x의 값을 'bcdefa'로 변경\n",
    "x = 'abcdef'\n",
    "print(x[1:]+x[0])\n",
    "x= x.replace('a',\"\")\n",
    "x = x.replace('f',\"fa\")\n",
    "print(x)"
   ]
  },
  {
   "cell_type": "code",
   "execution_count": 114,
   "metadata": {},
   "outputs": [
    {
     "name": "stdout",
     "output_type": "stream",
     "text": [
      "bcdefa\n",
      "bcdefa\n"
     ]
    }
   ],
   "source": []
  }
 ],
 "metadata": {
  "kernelspec": {
   "display_name": "Python 3",
   "language": "python",
   "name": "python3"
  },
  "language_info": {
   "codemirror_mode": {
    "name": "ipython",
    "version": 3
   },
   "file_extension": ".py",
   "mimetype": "text/x-python",
   "name": "python",
   "nbconvert_exporter": "python",
   "pygments_lexer": "ipython3",
   "version": "3.7.4"
  }
 },
 "nbformat": 4,
 "nbformat_minor": 2
}
