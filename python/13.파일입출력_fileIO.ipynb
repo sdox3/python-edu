{
 "cells": [
  {
   "cell_type": "markdown",
   "metadata": {},
   "source": [
    "\n",
    "\n",
    "### File의 Input / Output\n",
    "\n",
    "프로그램에서 중요한 처리 중 하나인 파일에 대한 입출력이다. 파일에서 문자열을 읽고 쓰는 방법과 파이썬 객체를 파일에 읽고 쓰기 위해서는 내장된 함수를 이용하여 처리한다.\n",
    "\n",
    "1. 파일을 생성하기 위해서는 open()이라는 내장함수를 사용한다.\n",
    "2. 기본문법\n",
    ">변수(파일객체) = open(파일경로, 열기모드, 인코딩)\n",
    "\n",
    "##### 1. 열기모드\n",
    "\n",
    "모드 설명<br>\n",
    "---- ----------------------------------------------------------<br>\n",
    "* r 읽기모드, 파일읽기만 허용\n",
    "* w 쓰기모드, 파일을 쓰는것만 가능 기존 동일 이름 파일 삭제\n",
    "* a 추가모드 ,파일의 맨 마지막부터 데이터를 추가\n",
    "\n",
    "* t 텍스트모드, 텍스트파일로 처리(default)\n",
    "* b 이진모드, 이진파일로 처리\n",
    "\n",
    "* r+ 읽기/쓰기 모드\n",
    "* w+ 읽기/쓰기 모드(기존 파일을 삭제)\n",
    "* a+ 읽기/쓰기 모드 파일 끝에 추가\n",
    "\n",
    "* rb+ 이진파일로 일고 쓰기\n",
    "* wb+ 이진파일로 일고 쓰기(기존 파일을 삭제)\n",
    "* ab+ 이진파일로 일고 쓰기(맨 끝부터 추가)\n",
    "\n",
    "ex) rb -> 읽기전용 이진파일\n",
    "ex) w(t) -> 쓰기모드 텍스트파일\n",
    "\n",
    "(주의)\n",
    "파일을 쓰기모드로 열게 되면 기존파일의 전체내용이 삭제가 되고 없을 경우 새로운 파일이 생성\n",
    "<img src = './images/13.파일입출력_fileIO_01.png' width =500 height =500>\n",
    "\n",
    "##### 2. 파일 닫기\n",
    "\n",
    "1. 파일열기를 했다면 작업이 끝난 뒤 close()로 파일을 닫아서 작업에 들어가는 메모리 회수\n",
    "2. close()를 마지막에 호출하지 않으면 오픈된 파일객체가 다른 값으로 치환되거나 프로그램이 종료될 대 자동으로 close()가 호출된다.\n",
    "3. 하지만, 명시적으로 close() 하는 것이 좋다.\n",
    "\n",
    "\n",
    "##### 3. 파일접근방법 \n",
    "\n",
    "1. 순차접근(기본값) : 파일을 맨 처음부터 맨 끝까지 순자적으로 읽는 방법\n",
    "2. 임의접근 : 지정한 위치에서 파일을 쓰거나 읽는 방법\n",
    "    >임의접근을 하기 위해서는 file객체관련 포인터(pointer)관련 메서드 <br>\n",
    "    1) seek(n) : 파일의 가장 첫번째 위치에서 n byte로 포인터를 이동<br>\n",
    "    2) tell() : 파일내에 현재 포인터의 위치를 리턴\n",
    "    \n",
    "##### 4. 파일객체관리 메서드\n",
    "* open() : 파일열기\n",
    "* close() : 파일닫기\n",
    "* read(size) : 지정된 바이트크기(size)만큼 읽기, size지정 안하면 전체파일 읽음\n",
    "* realine() : 한 라인씩 flrrl\n",
    "* readlines() : 전체라인을 readline()를 이용해서 읽은 후 리스트 자료형으로 리턴\n",
    "* write(String) : 문자열을 파일에 쓰기\n",
    "* writeline(list) : 문자열리스트를 파일에 쓰기, 주의) 줄바꾸기가 자동으로 실행 x, \\n을 붙여야함\n",
    "* seek(offset, whense) :첫 위치에서 지정된 파이트로 포인트를 이동, whense 기본값 0\n",
    "                         1 =현재위치 2 = 파일의 끝\n",
    "* tell() : 파일 포인터의 현재 위치\n",
    "* flush() : 버퍼에 내용이 채워지지 않았어도 내부 버퍼 전체내용을 파일에 전달\n",
    "* fileno() : 파일객체의 파일기술자(File Descriptor, 정수값)을 리턴"
   ]
  },
  {
   "cell_type": "code",
   "execution_count": 24,
   "metadata": {},
   "outputs": [],
   "source": [
    "f = open('../data/newfile.txt','w')\n",
    "f.close()\n"
   ]
  },
  {
   "cell_type": "code",
   "execution_count": 47,
   "metadata": {},
   "outputs": [],
   "source": [
    "# 파일을 쓰기모드로 열고 텍스트를 쓰기\n",
    "f = open('../data/newfile1.txt','w',encoding = \"utf-8\")\n",
    "for i in range(1,11) :\n",
    "    data = 'UTF_8 %2d번째 라인 입니다....\\n'%i\n",
    "    f.write(data)\n",
    "f.close()"
   ]
  },
  {
   "cell_type": "markdown",
   "metadata": {},
   "source": [
    "#### 2. 파일읽기"
   ]
  },
  {
   "cell_type": "code",
   "execution_count": null,
   "metadata": {},
   "outputs": [],
   "source": [
    "# 1. 외부에서 저장된 파일 읽기(1) : readline()\n",
    "f = open('../data/newfile.txt','r+')\n",
    "a= f.readline()\n",
    "print(a)\n",
    "f.close()"
   ]
  },
  {
   "cell_type": "code",
   "execution_count": null,
   "metadata": {},
   "outputs": [],
   "source": [
    "# 2. 외부에서 저장된 파일 읽기(2) : readline() & while\n",
    "f = open('../data/newfile.txt','r+')\n",
    "while True :\n",
    "    line = f.readline()\n",
    "    print(line)\n",
    "    if not line: break\n",
    "f.close()"
   ]
  },
  {
   "cell_type": "code",
   "execution_count": 44,
   "metadata": {},
   "outputs": [
    {
     "name": "stdout",
     "output_type": "stream",
     "text": [
      "['UTF_8  1번째 라인 입니다....\\n', 'UTF_8  2번째 라인 입니다....\\n', 'UTF_8  3번째 라인 입니다....\\n', 'UTF_8  4번째 라인 입니다....\\n', 'UTF_8  5번째 라인 입니다....\\n', 'UTF_8  6번째 라인 입니다....\\n', 'UTF_8  7번째 라인 입니다....\\n', 'UTF_8  8번째 라인 입니다....\\n', 'UTF_8  9번째 라인 입니다....\\n', 'UTF_8 10번째 라인 입니다....\\n']\n"
     ]
    }
   ],
   "source": [
    "# 3. 외부에서 저장된 파일 읽기(3) : readlines()\n",
    "f = open('../data/newfile.txt','r+')\n",
    "a= f.readlines()\n",
    "f.close()\n",
    "print(a)\n",
    "\n"
   ]
  },
  {
   "cell_type": "code",
   "execution_count": 42,
   "metadata": {},
   "outputs": [
    {
     "name": "stdout",
     "output_type": "stream",
     "text": [
      "UTF_8  1번째 라인 입니다....\n",
      "UTF_8  2번째 라인 입니다....\n",
      "UTF_8  3번째 라인 입니다....\n",
      "UTF_8  4번째 라인 입니다....\n",
      "UTF_8  5번째 라인 입니다....\n",
      "UTF_8  6번째 라인 입니다....\n",
      "UTF_8  7번째 라인 입니다....\n",
      "UTF_8  8번째 라인 입니다....\n",
      "UTF_8  9번째 라인 입니다....\n",
      "UTF_8 10번째 라인 입니다....\n",
      "\n"
     ]
    }
   ],
   "source": [
    "# 4. 외부에서 저장된 파일 읽기(4) : read()\n",
    "# read()함수는 파일 내용전체를 문자열로 리턴하는 함수\n",
    "f = open('../data/newfile.txt','r+')\n",
    "data = f.read()\n",
    "f.close()\n",
    "print(data)\n"
   ]
  },
  {
   "cell_type": "markdown",
   "metadata": {},
   "source": [
    "#### 3. 파일 쓰기"
   ]
  },
  {
   "cell_type": "code",
   "execution_count": 48,
   "metadata": {},
   "outputs": [],
   "source": [
    "# 1. 추가보드(a) : 기존 파일에 새로운 내용을 추가, 파일이 없으면 파일을 생성함\n",
    "a = open('../data/newfile1.txt','a',encoding = \"utf-8\")\n",
    "for i in range(11,21):\n",
    "    data = \"%2d 번째 라인 입니다\\n\"%i\n",
    "    a.write(data)\n",
    "a.close()\n",
    "    "
   ]
  },
  {
   "cell_type": "code",
   "execution_count": 49,
   "metadata": {},
   "outputs": [],
   "source": [
    "# 2. with문 사용 : 오픈된 파일을 자동으로 close()하기\n",
    "# with문은 v2.5부터 지원\n",
    "# 파일을 오픈하면 항상 close해주는 것이 좋다. 하지만 매번 열고 닫는 것은 자동으로 처리할 \n",
    "# 수 있는데 파이썬의 with문이 이런 역활을 한다.\n",
    "\n",
    "filename = '../data/newfile2.txt'\n",
    "with open(filename,'w',encoding='utf-8') as f :\n",
    "    f.write('파이썬')"
   ]
  },
  {
   "cell_type": "markdown",
   "metadata": {},
   "source": [
    "#### 4. 파일객체 관련 함수"
   ]
  },
  {
   "cell_type": "code",
   "execution_count": 10,
   "metadata": {},
   "outputs": [
    {
     "name": "stdout",
     "output_type": "stream",
     "text": [
      "life is short\n",
      "----------------------------------------------------------------------\n",
      "13\n",
      "13\n",
      "is short\n",
      "13\n"
     ]
    }
   ],
   "source": [
    "# seek(), tell() : 임의접근 함수\n",
    "# f.seek(n) or f.seek(n,0) : 파일의 맨 처음 위치에서 n번째로 이동 후 파일 읽기\n",
    "# f.seek(n,1) : 현재 위치\n",
    "# f.seek(n,2) : 맨 마지막 위치\n",
    "# f.tell()\n",
    "\n",
    "a = open('../data/newfile.txt','r',encoding = \"utf-8\")\n",
    "for line in a :\n",
    "    print(line)\n",
    "print('-'*70)\n",
    "\n",
    "print(len(line))\n",
    "print(a.tell())\n",
    "\n",
    "a.seek(5,0)\n",
    "line = a.readline()\n",
    "print(line)\n",
    "print(a.tell())"
   ]
  },
  {
   "cell_type": "code",
   "execution_count": 12,
   "metadata": {},
   "outputs": [
    {
     "name": "stdout",
     "output_type": "stream",
     "text": [
      "첫번째3\n",
      "두번째6\n",
      "두 수의 합 : 9\n"
     ]
    }
   ],
   "source": []
  },
  {
   "cell_type": "markdown",
   "metadata": {},
   "source": [
    "#### 5. 파일저장하기"
   ]
  },
  {
   "cell_type": "code",
   "execution_count": null,
   "metadata": {},
   "outputs": [],
   "source": [
    "# 1. 파일의 내용을 리스트자료형으로 저장하기"
   ]
  },
  {
   "cell_type": "code",
   "execution_count": 6,
   "metadata": {},
   "outputs": [
    {
     "name": "stdout",
     "output_type": "stream",
     "text": [
      "<class '_io.TextIOWrapper'>\n",
      "<class 'list'>\n",
      "['life is short']\n"
     ]
    }
   ],
   "source": [
    "f = open('../data/newfile.txt','r',encoding = 'utf-8')\n",
    "print(type(f))\n",
    "\n",
    "# 자료변환함수: list() tuple() int()\n",
    "f_list = list(f)\n",
    "\n",
    "\n",
    "print(type(f_list))\n",
    "print(f_list)\n",
    "f.close()"
   ]
  },
  {
   "cell_type": "code",
   "execution_count": 8,
   "metadata": {},
   "outputs": [
    {
     "name": "stdout",
     "output_type": "stream",
     "text": [
      "10\n",
      "csv 파일 추가 완료\n"
     ]
    }
   ],
   "source": [
    "# 2. csv파일형식으로 저장하기\n",
    "\n",
    "# 실행할때 마다 텍스트파일에 내용을 추가\n",
    "\n",
    "nums = [0,1,2,3,4,5,6,7,8,9]\n",
    "count = len(nums)\n",
    "print(count)\n",
    "\n",
    "output_file = '../data/result.csv'\n",
    "f = open(output_file, 'a', encoding='utf-8')\n",
    "for i in range(count):\n",
    "    if i< (count -1) :\n",
    "        f.write(str(nums[i])+',')\n",
    "    else :\n",
    "        f.write(str(nums[i])+'\\n')\n",
    "f.close()\n",
    "print('csv 파일 추가 완료')"
   ]
  },
  {
   "cell_type": "markdown",
   "metadata": {},
   "source": [
    "#### 6. 파이썬객체를 파일에 저장하고 불러오기\n",
    "\n",
    "###### 1) bickle 모듈 사용하기\n",
    "* 일반 텍스트를 저장할 경우에는 파일을 이용해서 저장한다.\n",
    "* 하지만, 리스트, 클래스 같은 텍스트가 아닌 자료형은 일반적인 파일 입출력방법으로는 데이터를 저장하거나 불러올 수 없다.\n",
    "* 파이썬에서는 이와 같은 텍스트 이외의 자료형을 파일로 저장하기 위하여 <code>pickle</code>이라는 모듈을 사용함\n",
    "* pickle을 활용하여 데이터 입력 및 로드하기 위해서는 <code>import pickle</code>로 모듈을 import 시켜야 한다.\n",
    "* pickle을 이용하면 원하는 데이터를 자료형의 변경없이 파일로 저장하여 그래로 로드할 수 있다.\n",
    "* pickle로 데이터를 저장하거나 불러올 때는 파일을 <code>바이트 형식</code>으로 읽거나 저장 해야 한다. 즉 wb,rb모드로 오픈해야 한다.\n",
    "* <code>wb</code>로 데이터를 저장할 경우에는 관례적으로 확장자를 <code>bin</code>으로 사용한다.\n",
    "* 모든 파이썬의 데이터 객체를 저장하거나 불러올 수 있다.\n",
    "\n",
    "\n",
    "##### 2) pickle 모듈사용하기\n",
    "\n",
    "1. 쓰기 : <code>pickle.dump(data,file)</code>\n",
    "1. 읽기 : <code>pickle.load(file) or load()</code> 함수로 파일을 불러오는데 파일의 내용을 읽으려면 pickle.dump를 사용해서 생성한 파일이어야 한다.\n"
   ]
  },
  {
   "cell_type": "code",
   "execution_count": 17,
   "metadata": {},
   "outputs": [
    {
     "name": "stdout",
     "output_type": "stream",
     "text": [
      "<class 'bytes'>\n",
      "b'\\x01\\x02\\x03\\x04\\x05\\x06\\x07\\x08\\t\\n'\n",
      "1,2,3,4,5,6,7,8,9,10,"
     ]
    }
   ],
   "source": [
    "# 1. pickle사용없이 바이너리로 파일 쓰기\n",
    "\n",
    "# 1) 바이너리 파일 쓰기\n",
    "data = [1,2,3,4,5,6,7,8,9,10]\n",
    "with open('../data/test.bin','wb') as f :\n",
    "    f.write(bytes(data)) # bytes()함수는 특정자료형을 이진데이터로 변환해 주는 함수\n",
    "    \n",
    "# 2) 바이너리파일 읽기\n",
    "with open('../data/test.bin','rb') as f :\n",
    "    contents = f.read()\n",
    "    print(type(contents))\n",
    "    print(contents)\n",
    "    for content in contents :\n",
    "        print(content, end =',')\n",
    "\n",
    "# 3) 객체를 파일로 저장 : 에러발생\n",
    "\"\"\"\n",
    "문자열은 하나의 객체로 보기 때문에 에러가 걸린다.\n",
    "data = [1,2,3,4,5,6,7,8,9,10.'아','어']\n",
    "with open('../data/test.bin','wb') as f :\n",
    "    f.write(bytes(data)) # bytes()함수는 특정자료형을 이진데이터로 변환해 주는 함수\n",
    "\"\"\""
   ]
  },
  {
   "cell_type": "code",
   "execution_count": 25,
   "metadata": {},
   "outputs": [
    {
     "name": "stdout",
     "output_type": "stream",
     "text": [
      "<class 'str'>\n",
      "Hello Python?\n",
      "<class 'int'>\n",
      "12345\n",
      "<class 'float'>\n",
      "1.2345\n",
      "<class 'list'>\n",
      "[1, 2, 3, [1, 2, 3, 4]]\n",
      "<class 'tuple'>\n",
      "(1, 23, 4, 5)\n",
      "<class 'dict'>\n",
      "{'a': 1, 'b': 2}\n",
      "Hello Python?\n",
      "12345\n",
      "1.2345\n",
      "[1, 2, 3, [1, 2, 3, 4]]\n",
      "(1, 23, 4, 5)\n",
      "{'a': 1, 'b': 2}\n"
     ]
    }
   ],
   "source": [
    "# 2. pickle을 사용해서 파일객체를 저장\n",
    "# 1) pickle 모듈을 import\n",
    "import pickle\n",
    "\n",
    "# pickle?\n",
    "\n",
    "# 2) 객체를 파일로 저장하기\n",
    "with open('../data/pickle.bin','wb') as f :\n",
    "    pickle.dump('Hello Python?', f) # String객체를 파일에 저장(dump)\n",
    "    pickle.dump(12345,f) # 정수객체\n",
    "    pickle.dump(1.2345,f) # 실수객체\n",
    "    pickle.dump([1,2,3,[1,2,3,4]],f) # list\n",
    "    pickle.dump((1,23,4,5),f) # tuple\n",
    "    pickle.dump({'a': 1, 'b':2},f) # dictionary\n",
    "\n",
    "with open('../data/pickle.bin','rb') as f :\n",
    "    data = pickle.load(f)\n",
    "    print(type(data))\n",
    "    print(data)\n",
    "    data = pickle.load(f)\n",
    "    print(type(data))\n",
    "    print(data)\n",
    "    data = pickle.load(f)\n",
    "    print(type(data))\n",
    "    print(data)\n",
    "    data = pickle.load(f)\n",
    "    print(type(data))\n",
    "    print(data)\n",
    "    data = pickle.load(f)\n",
    "    print(type(data))\n",
    "    print(data)\n",
    "    data = pickle.load(f)\n",
    "    print(type(data))\n",
    "    print(data)\n",
    "    # 이 이상 로드를 하면 읽을 데이터가 없기 때문에 에러가 발생\n",
    "\n",
    "# 4) 파일로 저장된 객체를 읽기 (예외처리)\n",
    "with open('../data/pickle.bin','rb') as f :\n",
    "    while True :\n",
    "        try :\n",
    "            data = pickle.load(f)\n",
    "            print(data)\n",
    "        except : \n",
    "            break"
   ]
  },
  {
   "cell_type": "code",
   "execution_count": 28,
   "metadata": {},
   "outputs": [
    {
     "name": "stdout",
     "output_type": "stream",
     "text": [
      "소향, 41, 송도, {'국어': 95, '영어': 80, '수학': 92, '과학': 86}, 11\n"
     ]
    }
   ],
   "source": [
    "# 3. pickle을 사용해서 파일 객체를 저장(2)\n",
    "\n",
    "name = '소향'\n",
    "age =41\n",
    "addr = '송도'\n",
    "scores = {'국어':95,'영어':80,'수학':92,'과학':86}\n",
    "\n",
    "def add(a,b):\n",
    "    return a+b\n",
    "with open('../data/sohyang.bin','wb') as f :\n",
    "    pickle.dump(name,f)\n",
    "    pickle.dump(age,f)\n",
    "    pickle.dump(addr,f)\n",
    "    pickle.dump(scores,f)\n",
    "    pickle.dump(add(3,8),f)\n",
    "\n",
    "with open('../data/sohyang.bin','rb') as f :\n",
    "    name = pickle.load(f)\n",
    "    age = pickle.load(f)\n",
    "    addr = pickle.load(f)\n",
    "    scores = pickle.load(f)\n",
    "    add = pickle.load(f)\n",
    "    \n",
    "    print(name,end = ', ')\n",
    "    print(age,end = ', ')\n",
    "    print(addr,end = ', ')\n",
    "    print(scores,end = ', ')\n",
    "    print(add)\n"
   ]
  },
  {
   "cell_type": "code",
   "execution_count": 29,
   "metadata": {},
   "outputs": [
    {
     "name": "stdout",
     "output_type": "stream",
     "text": [
      "{'name': '소향', 'age': 41, 'addr': '송도', 'scores': {'국어': 95, '영어': 80, '수학': 92, '과학': 86}}\n"
     ]
    }
   ],
   "source": [
    "# gzip모듈을 이용하여 데이터를 압축하고 해제하기\n",
    "\n",
    "import pickle as p\n",
    "import gzip\n",
    "\n",
    "data = {\n",
    "    \n",
    "'name' : '소향',\n",
    "'age' : 41,\n",
    "'addr' : '송도',\n",
    "'scores' : {'국어':95,'영어':80,'수학':92,'과학':86}\n",
    "\n",
    "    \n",
    "}\n",
    "\n",
    "# 쓰기와 합축\n",
    "with gzip.open('../data/sohyang_zip.bin','wb') as f :\n",
    "    p.dump(data,f)\n",
    "\n",
    "\n",
    "# 읽기와 압축해제\n",
    "with gzip.open('../data/sohyang_zip.bin','rb') as f :\n",
    "    data = p.load(f)\n",
    "    print(data)"
   ]
  },
  {
   "cell_type": "code",
   "execution_count": null,
   "metadata": {},
   "outputs": [],
   "source": []
  }
 ],
 "metadata": {
  "kernelspec": {
   "display_name": "Python 3",
   "language": "python",
   "name": "python3"
  },
  "language_info": {
   "codemirror_mode": {
    "name": "ipython",
    "version": 3
   },
   "file_extension": ".py",
   "mimetype": "text/x-python",
   "name": "python",
   "nbconvert_exporter": "python",
   "pygments_lexer": "ipython3",
   "version": "3.7.6"
  }
 },
 "nbformat": 4,
 "nbformat_minor": 2
}
