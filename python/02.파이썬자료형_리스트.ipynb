{
 "cells": [
  {
   "cell_type": "markdown",
   "metadata": {},
   "source": [
    "### 변수형 명명규칙\n",
    "\n",
    "1. 첫 글자는 영문대소문자와 언더바('_')로 시작해야한다.\n",
    "2. 나머지 글자는 영문자, 숫자, 언더바로 구성될 수 있다.\n",
    "3. 대소문자를 구분한다.\n",
    "4. 변수명의 길이제한은 없다.\n",
    "5. 예약어는 변수명으로 사용할 수 없다."
   ]
  },
  {
   "cell_type": "code",
   "execution_count": null,
   "metadata": {},
   "outputs": [],
   "source": [
    "# 파이썬에서 사용하는 keyword리스트\n",
    "import keyword\n",
    "\n",
    "# %who 현재 세션에서 사용중인 변수, 모듈을 출력\n",
    "# (주의) 매직명령어 뒤에 주석을 추가하면 명령어가 실행되지 않는다.\n",
    "\n",
    "#%who 모듈의 위치가 나오니 가서 봄\n",
    "#keyword?\n",
    "# 파이썬에서 True False는 앞이 대문자\n",
    "print(len(keyword.kwlist))"
   ]
  },
  {
   "cell_type": "markdown",
   "metadata": {},
   "source": [
    "### 리스트자료형\n",
    "\n",
    "파이썬에서는 리스트자료형을 만들 떄 대괄호로 감싸주고 그 안에 요소들을 컴마로 구분해 준다. 파이썬에서 리스트 자료형은 String처럼 자주 사용된다.\n",
    "\n",
    ">리스트형 a = [args1, args2, args3....,args n]\n",
    "\n",
    "##### 리스트란?\n",
    "1. 순서가 있는 수정가능한 객체의 집합\n",
    "2. 수정, 삭제, 추가가 가능하다.\n",
    "3. list는 <code>[]</code>로 정의되고 내부원소는 <code>,</code>로 구분된다.\n",
    "4. list의 인덱스는 0부터 시작한다\n",
    "5. index의 범위를 벗어나면 에러가 발생\n",
    "6. list에는 list뿐만 아니라 여러가지의 자료형도 함께 정의할 수 있다.\n",
    "7. list는 마지막원소뒤에 , 가 있어도 에러가 발생하지 않는다. 보통은 생략함"
   ]
  },
  {
   "cell_type": "code",
   "execution_count": null,
   "metadata": {},
   "outputs": [],
   "source": [
    "# 빈 리스트 객체를 정의\n",
    "a =[]\n",
    "print(a) #Built-in mutable sequence. -> 수정이 가능\n",
    "\n",
    "\n",
    "# 변수의 자료형을 확인하는 방법\n",
    "# 1. 변수명? or ?변수명\n",
    "?a\n",
    "\n",
    "# 2. type()함수를 사용\n",
    "type(a)\n",
    "help(a)"
   ]
  },
  {
   "cell_type": "code",
   "execution_count": null,
   "metadata": {},
   "outputs": [],
   "source": [
    "# 현재 세션에서 사용되는 변수 또는 모듈등을 삭제하기\n",
    "# del명령은 변수나 객체를 삭제하는 명령\n",
    "# del a\n",
    "%who \n",
    "\n",
    "# 현재 세션에서 사용하고 있는 모든 변수나 모듈등을 한번에 삭제하는 방법\n",
    "# %reset -f -> 확인절차 없이 강제로 제거\n",
    "\n",
    "a = 1\n",
    "b = 'a'\n",
    "\n",
    "%who\n",
    "\n",
    "%reset"
   ]
  },
  {
   "cell_type": "code",
   "execution_count": null,
   "metadata": {},
   "outputs": [],
   "source": [
    "a = [] # 빈 리스트 선언\n",
    "b = [1,2,3] # 3개의 요소를 갖는 리스트\n",
    "c = ['Life', 'is', 'too', 'short'] # 4개의 문자열을 갖는 리스트\n",
    "d = [1,'a','1.2'] #파이썬은 자료형 구분 없이 리스트 선언 가능\n",
    "e = [1,2,[3,4,5]] #리스트 안에 리스트를 넣을 수 있다.\n",
    "print(e[2][0]) # 리스트 안의 리스트의 값을 호출하는 방식\n",
    "\n"
   ]
  },
  {
   "cell_type": "markdown",
   "metadata": {},
   "source": [
    "### 1. 리스트의 인덱싱과 슬라이싱\n"
   ]
  },
  {
   "cell_type": "code",
   "execution_count": null,
   "metadata": {},
   "outputs": [],
   "source": [
    "# 1. 인덱싱\n",
    "#... 파이썬에서는 음수 인덱스를 허용하고 음수의 경우 역으로 계산한다.\n",
    "a = [1,2,3,'a',[4,5]]\n",
    "print(a[3])\n",
    "\n",
    "print(type(a), type(a[0]), type(a[3]))\n",
    "print(a[0]+a[1])\n",
    "# 리스트 인덱스로 연산 시 같은 타입이 아니면 에러\n",
    "\n",
    "print(a[-1]) \n",
    "print('test',end='') # defualt end ='\\n'\n",
    "print(a[-1])\n",
    "\n",
    "a = [1,2,3,['a','b','c',['x','y','z']]]\n",
    "print(a)\n",
    "# print(a[-1][]) err -> 2차원 중 선택을 하지 않아서 에러\n",
    "print(a[3][3][1])"
   ]
  },
  {
   "cell_type": "code",
   "execution_count": null,
   "metadata": {},
   "outputs": [],
   "source": [
    "# 2. 슬라이싱\n",
    "# 문자열과 마찬가지로 리스트에서 슬라이싱기법을 적용할 수 있다.\n",
    "# .. 파이썬에서는 리스트를 자르는 문법이 슬라이싱이며\n",
    "# .. 사용법은 리스트변수(시작인덱스:종료인덱스 +1: step) \n",
    "# ... step은 default값이 1이고 step은 자료를 건너띄는 거리를 의미한다.\n",
    "print(a[0:2])\n",
    "a = [1,2,3,4,5]\n",
    "b = '12345'\n",
    "print(b[:2])\n",
    "\n",
    "b = a[:2]\n",
    "c = a[2:]\n",
    "print(b,c)\n",
    "\n",
    "# 3. 중첩된 리스트에서 슬라이싱\n",
    "a = [1,2,3,'a',[4,5]]\n",
    "print(a[4][0:2])"
   ]
  },
  {
   "cell_type": "markdown",
   "metadata": {},
   "source": [
    "### 2. 리스트연산자"
   ]
  },
  {
   "cell_type": "code",
   "execution_count": null,
   "metadata": {},
   "outputs": [],
   "source": [
    "# 1. 리스트 더하기(+) : 2개의 리스트를 연결\n",
    "\n",
    "a = [1,2,3,4,5]\n",
    "b = ['a','b','c','d','e']\n",
    "print(a+b)\n",
    "print(b+a)"
   ]
  },
  {
   "cell_type": "code",
   "execution_count": null,
   "metadata": {},
   "outputs": [],
   "source": [
    "# 2. 리스트곱하기(*) : 리스트를 반복\n",
    "print(a*3)"
   ]
  },
  {
   "cell_type": "markdown",
   "metadata": {},
   "source": [
    "### 3. 리스트수정"
   ]
  },
  {
   "cell_type": "code",
   "execution_count": null,
   "metadata": {},
   "outputs": [],
   "source": [
    "# 1. 리스트에서 하나의 값 수정하기\n",
    "a = [1,2,3]\n",
    "a[2] = 'x'\n",
    "print(a)"
   ]
  },
  {
   "cell_type": "code",
   "execution_count": null,
   "metadata": {},
   "outputs": [],
   "source": [
    "# 2. 리스트에서 연속된 범위의 값을 수정\n",
    "a[1:2] = ['a','b','c']\n",
    "print(a)\n",
    "\n",
    "a[1:4]\n",
    "a[1:4] =['x','y','z']\n",
    "print(a)"
   ]
  },
  {
   "cell_type": "code",
   "execution_count": null,
   "metadata": {},
   "outputs": [],
   "source": [
    "# 3. 리스트요소를 삭제\n",
    "a[1:3] = []\n",
    "print(a)"
   ]
  },
  {
   "cell_type": "code",
   "execution_count": null,
   "metadata": {},
   "outputs": [],
   "source": [
    "# 4. del를 통해서 요소를 삭제\n",
    "del a[0]\n",
    "print(a)\n"
   ]
  },
  {
   "cell_type": "markdown",
   "metadata": {},
   "source": [
    "### 4. 리스트관련함수\n",
    "\n",
    "* append() : 리스트에 요소를 추가\n",
    "* sort() : 리스트를 알파벳순서로 정렬\n",
    "* reverse() : 리스트를 현재상태에서 뒤집음\n",
    "* index() : 리스트 요소의 현재 위치\n",
    "* insert() : 리스트에 요소를 삽입\n",
    "* remove() : 리스트 요소를 삭제\n",
    "* pop() : 리스트 요소를 꺼내고 삭제\n",
    "* count() : 리스트 요소의 갯수 리턴\n",
    "* extend() : 리스트를 확장\n",
    "* copy() : 리스트 값을 복사\n",
    "* clear() : 리스트 전체 초기화"
   ]
  },
  {
   "cell_type": "code",
   "execution_count": null,
   "metadata": {},
   "outputs": [],
   "source": [
    "# 1. append()\n",
    "a = [1,2,3]\n",
    "a.append(4)\n",
    "b = [1,2,3]\n",
    "print(a)\n",
    "a.append(b)\n",
    "print(a)\n",
    "c = (1,2,3)\n",
    "a.append(c)\n",
    "print(a)\n",
    "a.append({'name':'소향', 'age':41})\n",
    "print(a)"
   ]
  },
  {
   "cell_type": "code",
   "execution_count": null,
   "metadata": {},
   "outputs": [],
   "source": [
    "# 2. sort()\n",
    "a = [1,4,3,2]\n",
    "a.sort()\n",
    "print(a)\n",
    "\n",
    "b = a.sort() # None 리턴값이 없어 정렬을 하기 때문에 None이 나옴\n",
    "b = a\n",
    "print(b)"
   ]
  },
  {
   "cell_type": "code",
   "execution_count": null,
   "metadata": {},
   "outputs": [],
   "source": [
    "# 3. reverse()\n",
    "# 리스트를 순서대로 정리하는게 아닌 현재 리스트에서 뒤집기만함\n",
    "# a.reverse? IN PLACE 현재 위치에서 행해지기 때문에 리턴값이 없음을 나타냄\n",
    "\n",
    "\n",
    "a.reverse()\n",
    "print(a)"
   ]
  },
  {
   "cell_type": "code",
   "execution_count": null,
   "metadata": {},
   "outputs": [],
   "source": [
    "# 4. index() : 지정된 값에 대응하는 요소의 위치를 리턴\n",
    "a = [1,2,'a',3,4,'a']\n",
    "print(a.index('a'))\n"
   ]
  },
  {
   "cell_type": "code",
   "execution_count": 2,
   "metadata": {},
   "outputs": [
    {
     "name": "stdout",
     "output_type": "stream",
     "text": [
      "[1, 'A', 2, 'a', 3, 4, 'a']\n"
     ]
    }
   ],
   "source": [
    "# 5. insert() 지정한 위치에 특정요소를 추가\n",
    "a = [1,2,'a',3,4,'a']\n",
    "a.insert(1,'A')\n",
    "print(a)"
   ]
  },
  {
   "cell_type": "code",
   "execution_count": 3,
   "metadata": {},
   "outputs": [
    {
     "name": "stdout",
     "output_type": "stream",
     "text": [
      "[1, 'A', 2, 3, 4, 'a']\n"
     ]
    }
   ],
   "source": [
    "# 6. remove() 지정한 요소를 제거, 중복된 값이 있을 경우 맨 앞의 요소를 제거\n",
    "# a.remove(삭제할값)\n",
    "# 삭제할 값이 없다면 ValueError\n",
    "a.remove('a')\n",
    "print(a)"
   ]
  },
  {
   "cell_type": "code",
   "execution_count": 6,
   "metadata": {},
   "outputs": [
    {
     "name": "stdout",
     "output_type": "stream",
     "text": [
      "[1, 'A', 2] 3\n",
      "3\n"
     ]
    }
   ],
   "source": [
    "# 7. pop() : 매개변수의 위치에 해당하는 라스트요소를 꺼낸 후 삭제\n",
    "# 위치를 지정하지 않을 경우 즉, 매개변수가 없을 경우는 맨 뒤의 요소를 \n",
    "# default = -1 , index범위를 초과한 경우 indexerrore가 발생함\n",
    "# \n",
    "b = a.pop()\n",
    "print(a,b)\n",
    "# b = a.pop('A') 특정값을 받을 수 없음 \n",
    "print(b)"
   ]
  },
  {
   "cell_type": "code",
   "execution_count": null,
   "metadata": {},
   "outputs": [],
   "source": [
    "# 8. count() : 특정 값이 얼마나 있는지 리턴\n",
    "a = [1,2,3,1,3,4]\n",
    "print('1의 갯수 : ',a.count(1))\n",
    "print('2의 갯수 : ',a.count(2))\n",
    "print('3의 갯수 : ',a.count(3))"
   ]
  },
  {
   "cell_type": "code",
   "execution_count": 11,
   "metadata": {},
   "outputs": [
    {
     "name": "stdout",
     "output_type": "stream",
     "text": [
      "[1, 2, 3, 4, 5, 6]\n",
      "[1, 2, 3, 4, 5, 6, 1, 2, 3]\n"
     ]
    }
   ],
   "source": [
    "# 9. extend() : 리스트 확장, 반복자만 정의 가능(리스트, 튜플)\n",
    "# append는 맨뒤의 공간에 리스트 1개를 추가하는 것이라면\n",
    "# extend는 맨뒤부터 리스트를 분해해서 요소 1개씩 추가함\n",
    "a = [1,2,3]\n",
    "b = [4,5,6]\n",
    "a.extend(b)\n",
    "print(a)\n",
    "a.extend((1,2,3))\n",
    "print(a)\n"
   ]
  },
  {
   "cell_type": "code",
   "execution_count": null,
   "metadata": {},
   "outputs": [],
   "source": [
    "# 10. clear()\n",
    "a.clear()\n",
    "print(a)"
   ]
  },
  {
   "cell_type": "markdown",
   "metadata": {},
   "source": [
    "##### 리스트의 요소를 삭제하는 방법\n",
    "\n",
    "1. remove() : 입력매개변수는 요소의 값을 전달\n",
    "2. pop() : 인덱스를 입력매개변수로 받는다.\n",
    "3. del 사용 : 입력매개변수는 요소의 인덱스값\n",
    "\n",
    "* 삭제되는 것은 동일하지만 삭제에 사용되는 입력값이 다르다."
   ]
  }
 ],
 "metadata": {
  "kernelspec": {
   "display_name": "Python 3",
   "language": "python",
   "name": "python3"
  },
  "language_info": {
   "codemirror_mode": {
    "name": "ipython",
    "version": 3
   },
   "file_extension": ".py",
   "mimetype": "text/x-python",
   "name": "python",
   "nbconvert_exporter": "python",
   "pygments_lexer": "ipython3",
   "version": "3.7.4"
  }
 },
 "nbformat": 4,
 "nbformat_minor": 2
}
